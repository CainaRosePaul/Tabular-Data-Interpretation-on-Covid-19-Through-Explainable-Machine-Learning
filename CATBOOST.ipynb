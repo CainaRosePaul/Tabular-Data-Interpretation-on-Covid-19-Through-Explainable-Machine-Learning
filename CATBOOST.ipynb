{
  "nbformat": 4,
  "nbformat_minor": 0,
  "metadata": {
    "colab": {
      "provenance": []
    },
    "kernelspec": {
      "name": "python3",
      "display_name": "Python 3"
    },
    "language_info": {
      "name": "python"
    },
    "widgets": {
      "application/vnd.jupyter.widget-state+json": {
        "a32ce191f4754d3c802298bbb92be19a": {
          "model_module": "catboost-widget",
          "model_name": "CatboostWidgetModel",
          "model_module_version": "^1.0.0",
          "state": {
            "_dom_classes": [],
            "_model_module": "catboost-widget",
            "_model_module_version": "^1.0.0",
            "_model_name": "CatboostWidgetModel",
            "_view_count": null,
            "_view_module": "catboost-widget",
            "_view_module_version": "^1.0.0",
            "_view_name": "CatboostWidgetView",
            "data": {
              "catboost_info": {
                "path": "catboost_info",
                "name": "catboost_info",
                "content": {
                  "passed_iterations": 999,
                  "total_iterations": 1000,
                  "data": {
                    "iterations": [
                      {
                        "learn": [
                          1.747656814
                        ],
                        "iteration": 0,
                        "passed_time": 0.05672775599,
                        "remaining_time": 56.67102824,
                        "test": [
                          1.760107817
                        ]
                      },
                      {
                        "learn": [
                          1.717791251
                        ],
                        "iteration": 1,
                        "passed_time": 0.06533615097,
                        "remaining_time": 32.60273933,
                        "test": [
                          1.738136278
                        ]
                      },
                      {
                        "learn": [
                          1.684606166
                        ],
                        "iteration": 2,
                        "passed_time": 0.07289893476,
                        "remaining_time": 24.22674598,
                        "test": [
                          1.718908544
                        ]
                      },
                      {
                        "learn": [
                          1.654426534
                        ],
                        "iteration": 3,
                        "passed_time": 0.08020934475,
                        "remaining_time": 19.97212684,
                        "test": [
                          1.702864151
                        ]
                      },
                      {
                        "learn": [
                          1.625675863
                        ],
                        "iteration": 4,
                        "passed_time": 0.08803996737,
                        "remaining_time": 17.51995351,
                        "test": [
                          1.677600535
                        ]
                      },
                      {
                        "learn": [
                          1.59847014
                        ],
                        "iteration": 5,
                        "passed_time": 0.09550522407,
                        "remaining_time": 15.82203212,
                        "test": [
                          1.667392459
                        ]
                      },
                      {
                        "learn": [
                          1.571099525
                        ],
                        "iteration": 6,
                        "passed_time": 0.1032733002,
                        "remaining_time": 14.65005531,
                        "test": [
                          1.656065441
                        ]
                      },
                      {
                        "learn": [
                          1.545585784
                        ],
                        "iteration": 7,
                        "passed_time": 0.1111181716,
                        "remaining_time": 13.77865328,
                        "test": [
                          1.634399649
                        ]
                      },
                      {
                        "learn": [
                          1.52434812
                        ],
                        "iteration": 8,
                        "passed_time": 0.118703439,
                        "remaining_time": 13.07056756,
                        "test": [
                          1.610033536
                        ]
                      },
                      {
                        "learn": [
                          1.500051127
                        ],
                        "iteration": 9,
                        "passed_time": 0.1260149961,
                        "remaining_time": 12.47548462,
                        "test": [
                          1.597180584
                        ]
                      },
                      {
                        "learn": [
                          1.482223642
                        ],
                        "iteration": 10,
                        "passed_time": 0.1335062706,
                        "remaining_time": 12.00342742,
                        "test": [
                          1.587481255
                        ]
                      },
                      {
                        "learn": [
                          1.457989072
                        ],
                        "iteration": 11,
                        "passed_time": 0.1415683652,
                        "remaining_time": 11.6557954,
                        "test": [
                          1.570762762
                        ]
                      },
                      {
                        "learn": [
                          1.440675865
                        ],
                        "iteration": 12,
                        "passed_time": 0.1489732207,
                        "remaining_time": 11.31050529,
                        "test": [
                          1.556419788
                        ]
                      },
                      {
                        "learn": [
                          1.422281499
                        ],
                        "iteration": 13,
                        "passed_time": 0.156245164,
                        "remaining_time": 11.00412369,
                        "test": [
                          1.545794739
                        ]
                      },
                      {
                        "learn": [
                          1.40712714
                        ],
                        "iteration": 14,
                        "passed_time": 0.1635731625,
                        "remaining_time": 10.74130433,
                        "test": [
                          1.536704401
                        ]
                      },
                      {
                        "learn": [
                          1.388254241
                        ],
                        "iteration": 15,
                        "passed_time": 0.1712084155,
                        "remaining_time": 10.52931755,
                        "test": [
                          1.525567468
                        ]
                      },
                      {
                        "learn": [
                          1.369660829
                        ],
                        "iteration": 16,
                        "passed_time": 0.1788775565,
                        "remaining_time": 10.34333165,
                        "test": [
                          1.513255753
                        ]
                      },
                      {
                        "learn": [
                          1.349592909
                        ],
                        "iteration": 17,
                        "passed_time": 0.1864079503,
                        "remaining_time": 10.16958929,
                        "test": [
                          1.503213746
                        ]
                      },
                      {
                        "learn": [
                          1.332659835
                        ],
                        "iteration": 18,
                        "passed_time": 0.1948744348,
                        "remaining_time": 10.06167476,
                        "test": [
                          1.499896584
                        ]
                      },
                      {
                        "learn": [
                          1.317822573
                        ],
                        "iteration": 19,
                        "passed_time": 0.2109152529,
                        "remaining_time": 10.33484739,
                        "test": [
                          1.494953345
                        ]
                      },
                      {
                        "learn": [
                          1.300692954
                        ],
                        "iteration": 20,
                        "passed_time": 0.2192356089,
                        "remaining_time": 10.22055529,
                        "test": [
                          1.486210994
                        ]
                      },
                      {
                        "learn": [
                          1.289739526
                        ],
                        "iteration": 21,
                        "passed_time": 0.2264987239,
                        "remaining_time": 10.06889782,
                        "test": [
                          1.481657533
                        ]
                      },
                      {
                        "learn": [
                          1.28112481
                        ],
                        "iteration": 22,
                        "passed_time": 0.2342666983,
                        "remaining_time": 9.951241922,
                        "test": [
                          1.478987846
                        ]
                      },
                      {
                        "learn": [
                          1.269191308
                        ],
                        "iteration": 23,
                        "passed_time": 0.2417901363,
                        "remaining_time": 9.832798878,
                        "test": [
                          1.473972664
                        ]
                      },
                      {
                        "learn": [
                          1.253468867
                        ],
                        "iteration": 24,
                        "passed_time": 0.2493374269,
                        "remaining_time": 9.724159649,
                        "test": [
                          1.473449224
                        ]
                      },
                      {
                        "learn": [
                          1.243511247
                        ],
                        "iteration": 25,
                        "passed_time": 0.256784057,
                        "remaining_time": 9.619525829,
                        "test": [
                          1.464189219
                        ]
                      },
                      {
                        "learn": [
                          1.23390299
                        ],
                        "iteration": 26,
                        "passed_time": 0.2640577511,
                        "remaining_time": 9.515858955,
                        "test": [
                          1.463600748
                        ]
                      },
                      {
                        "learn": [
                          1.221117808
                        ],
                        "iteration": 27,
                        "passed_time": 0.2721274886,
                        "remaining_time": 9.446711391,
                        "test": [
                          1.460700589
                        ]
                      },
                      {
                        "learn": [
                          1.208720276
                        ],
                        "iteration": 28,
                        "passed_time": 0.2798292796,
                        "remaining_time": 9.369456223,
                        "test": [
                          1.462305118
                        ]
                      },
                      {
                        "learn": [
                          1.198194187
                        ],
                        "iteration": 29,
                        "passed_time": 0.2873788736,
                        "remaining_time": 9.291916913,
                        "test": [
                          1.453303427
                        ]
                      },
                      {
                        "learn": [
                          1.188986783
                        ],
                        "iteration": 30,
                        "passed_time": 0.2947606293,
                        "remaining_time": 9.213646767,
                        "test": [
                          1.449092752
                        ]
                      },
                      {
                        "learn": [
                          1.182038288
                        ],
                        "iteration": 31,
                        "passed_time": 0.3020315072,
                        "remaining_time": 9.136453093,
                        "test": [
                          1.446871267
                        ]
                      },
                      {
                        "learn": [
                          1.170788725
                        ],
                        "iteration": 32,
                        "passed_time": 0.3099073632,
                        "remaining_time": 9.081224856,
                        "test": [
                          1.440951514
                        ]
                      },
                      {
                        "learn": [
                          1.160528228
                        ],
                        "iteration": 33,
                        "passed_time": 0.3173959616,
                        "remaining_time": 9.017779378,
                        "test": [
                          1.440627567
                        ]
                      },
                      {
                        "learn": [
                          1.15062545
                        ],
                        "iteration": 34,
                        "passed_time": 0.3253768595,
                        "remaining_time": 8.971104839,
                        "test": [
                          1.439213192
                        ]
                      },
                      {
                        "learn": [
                          1.139311791
                        ],
                        "iteration": 35,
                        "passed_time": 0.3330848217,
                        "remaining_time": 8.919271337,
                        "test": [
                          1.435319326
                        ]
                      },
                      {
                        "learn": [
                          1.124972863
                        ],
                        "iteration": 36,
                        "passed_time": 0.3407354061,
                        "remaining_time": 8.868329625,
                        "test": [
                          1.434170386
                        ]
                      },
                      {
                        "learn": [
                          1.115179379
                        ],
                        "iteration": 37,
                        "passed_time": 0.3480267723,
                        "remaining_time": 8.810572499,
                        "test": [
                          1.42925597
                        ]
                      },
                      {
                        "learn": [
                          1.103499162
                        ],
                        "iteration": 38,
                        "passed_time": 0.3555648019,
                        "remaining_time": 8.761481399,
                        "test": [
                          1.42213404
                        ]
                      },
                      {
                        "learn": [
                          1.092026856
                        ],
                        "iteration": 39,
                        "passed_time": 0.3630249499,
                        "remaining_time": 8.712598798,
                        "test": [
                          1.425399263
                        ]
                      },
                      {
                        "learn": [
                          1.08059076
                        ],
                        "iteration": 40,
                        "passed_time": 0.3706846236,
                        "remaining_time": 8.670403756,
                        "test": [
                          1.423174126
                        ]
                      },
                      {
                        "learn": [
                          1.070564533
                        ],
                        "iteration": 41,
                        "passed_time": 0.3780602716,
                        "remaining_time": 8.623374766,
                        "test": [
                          1.425639606
                        ]
                      },
                      {
                        "learn": [
                          1.060250095
                        ],
                        "iteration": 42,
                        "passed_time": 0.3856779988,
                        "remaining_time": 8.583577788,
                        "test": [
                          1.42801355
                        ]
                      },
                      {
                        "learn": [
                          1.048742437
                        ],
                        "iteration": 43,
                        "passed_time": 0.3964310252,
                        "remaining_time": 8.613365003,
                        "test": [
                          1.426564191
                        ]
                      },
                      {
                        "learn": [
                          1.037009236
                        ],
                        "iteration": 44,
                        "passed_time": 0.4034779797,
                        "remaining_time": 8.562699346,
                        "test": [
                          1.428224177
                        ]
                      },
                      {
                        "learn": [
                          1.02939667
                        ],
                        "iteration": 45,
                        "passed_time": 0.4106600243,
                        "remaining_time": 8.516731808,
                        "test": [
                          1.424528615
                        ]
                      },
                      {
                        "learn": [
                          1.021734864
                        ],
                        "iteration": 46,
                        "passed_time": 0.4177000593,
                        "remaining_time": 8.469535245,
                        "test": [
                          1.422512996
                        ]
                      },
                      {
                        "learn": [
                          1.011002423
                        ],
                        "iteration": 47,
                        "passed_time": 0.4254377444,
                        "remaining_time": 8.437848598,
                        "test": [
                          1.425738108
                        ]
                      },
                      {
                        "learn": [
                          1.002265725
                        ],
                        "iteration": 48,
                        "passed_time": 0.432922384,
                        "remaining_time": 8.40222831,
                        "test": [
                          1.420952993
                        ]
                      },
                      {
                        "learn": [
                          0.9954809616
                        ],
                        "iteration": 49,
                        "passed_time": 0.4423188087,
                        "remaining_time": 8.404057364,
                        "test": [
                          1.417339007
                        ]
                      },
                      {
                        "learn": [
                          0.9883057928
                        ],
                        "iteration": 50,
                        "passed_time": 0.453156296,
                        "remaining_time": 8.432261273,
                        "test": [
                          1.417955903
                        ]
                      },
                      {
                        "learn": [
                          0.9798391805
                        ],
                        "iteration": 51,
                        "passed_time": 0.4605293579,
                        "remaining_time": 8.395804448,
                        "test": [
                          1.418715738
                        ]
                      },
                      {
                        "learn": [
                          0.9748872259
                        ],
                        "iteration": 52,
                        "passed_time": 0.4677250404,
                        "remaining_time": 8.357275723,
                        "test": [
                          1.418789602
                        ]
                      },
                      {
                        "learn": [
                          0.9652673876
                        ],
                        "iteration": 53,
                        "passed_time": 0.4750025105,
                        "remaining_time": 8.321340277,
                        "test": [
                          1.421581554
                        ]
                      },
                      {
                        "learn": [
                          0.9589166632
                        ],
                        "iteration": 54,
                        "passed_time": 0.4825751553,
                        "remaining_time": 8.291518577,
                        "test": [
                          1.425353326
                        ]
                      },
                      {
                        "learn": [
                          0.9504647417
                        ],
                        "iteration": 55,
                        "passed_time": 0.4899547702,
                        "remaining_time": 8.259237556,
                        "test": [
                          1.430804624
                        ]
                      },
                      {
                        "learn": [
                          0.9444811171
                        ],
                        "iteration": 56,
                        "passed_time": 0.4972246555,
                        "remaining_time": 8.226014915,
                        "test": [
                          1.427611239
                        ]
                      },
                      {
                        "learn": [
                          0.9394189835
                        ],
                        "iteration": 57,
                        "passed_time": 0.5045620141,
                        "remaining_time": 8.194783057,
                        "test": [
                          1.425541447
                        ]
                      },
                      {
                        "learn": [
                          0.9317588668
                        ],
                        "iteration": 58,
                        "passed_time": 0.5123488305,
                        "remaining_time": 8.171529652,
                        "test": [
                          1.429956842
                        ]
                      },
                      {
                        "learn": [
                          0.9255470462
                        ],
                        "iteration": 59,
                        "passed_time": 0.5198000666,
                        "remaining_time": 8.143534376,
                        "test": [
                          1.431642487
                        ]
                      },
                      {
                        "learn": [
                          0.920118084
                        ],
                        "iteration": 60,
                        "passed_time": 0.5273416967,
                        "remaining_time": 8.117604151,
                        "test": [
                          1.431997107
                        ]
                      },
                      {
                        "learn": [
                          0.9138670786
                        ],
                        "iteration": 61,
                        "passed_time": 0.5348173707,
                        "remaining_time": 8.091269254,
                        "test": [
                          1.431166131
                        ]
                      },
                      {
                        "learn": [
                          0.9076964855
                        ],
                        "iteration": 62,
                        "passed_time": 0.5419464826,
                        "remaining_time": 8.060378638,
                        "test": [
                          1.430987867
                        ]
                      },
                      {
                        "learn": [
                          0.9001985828
                        ],
                        "iteration": 63,
                        "passed_time": 0.5552777023,
                        "remaining_time": 8.120936397,
                        "test": [
                          1.427363352
                        ]
                      },
                      {
                        "learn": [
                          0.8907659705
                        ],
                        "iteration": 64,
                        "passed_time": 0.5627594495,
                        "remaining_time": 8.095078234,
                        "test": [
                          1.427008111
                        ]
                      },
                      {
                        "learn": [
                          0.8830681651
                        ],
                        "iteration": 65,
                        "passed_time": 0.5705104325,
                        "remaining_time": 8.07358703,
                        "test": [
                          1.431344323
                        ]
                      },
                      {
                        "learn": [
                          0.8744404289
                        ],
                        "iteration": 66,
                        "passed_time": 0.577953703,
                        "remaining_time": 8.048220968,
                        "test": [
                          1.434616199
                        ]
                      },
                      {
                        "learn": [
                          0.8664370517
                        ],
                        "iteration": 67,
                        "passed_time": 0.5855419591,
                        "remaining_time": 8.025369204,
                        "test": [
                          1.436297411
                        ]
                      },
                      {
                        "learn": [
                          0.8602397211
                        ],
                        "iteration": 68,
                        "passed_time": 0.5972973022,
                        "remaining_time": 8.059185339,
                        "test": [
                          1.434266318
                        ]
                      },
                      {
                        "learn": [
                          0.855635127
                        ],
                        "iteration": 69,
                        "passed_time": 0.6053608621,
                        "remaining_time": 8.042651454,
                        "test": [
                          1.437911003
                        ]
                      },
                      {
                        "learn": [
                          0.8501918685
                        ],
                        "iteration": 70,
                        "passed_time": 0.6130069733,
                        "remaining_time": 8.020894059,
                        "test": [
                          1.438724934
                        ]
                      },
                      {
                        "learn": [
                          0.8411017347
                        ],
                        "iteration": 71,
                        "passed_time": 0.6203524112,
                        "remaining_time": 7.9956533,
                        "test": [
                          1.434762586
                        ]
                      },
                      {
                        "learn": [
                          0.8345764963
                        ],
                        "iteration": 72,
                        "passed_time": 0.628010755,
                        "remaining_time": 7.9748763,
                        "test": [
                          1.43500913
                        ]
                      },
                      {
                        "learn": [
                          0.8294509418
                        ],
                        "iteration": 73,
                        "passed_time": 0.6356946684,
                        "remaining_time": 7.954773823,
                        "test": [
                          1.434863852
                        ]
                      },
                      {
                        "learn": [
                          0.8227928368
                        ],
                        "iteration": 74,
                        "passed_time": 0.6430900402,
                        "remaining_time": 7.931443829,
                        "test": [
                          1.43516582
                        ]
                      },
                      {
                        "learn": [
                          0.8137576828
                        ],
                        "iteration": 75,
                        "passed_time": 0.6504095912,
                        "remaining_time": 7.907611345,
                        "test": [
                          1.430285733
                        ]
                      },
                      {
                        "learn": [
                          0.807316084
                        ],
                        "iteration": 76,
                        "passed_time": 0.6577537901,
                        "remaining_time": 7.884503224,
                        "test": [
                          1.430403407
                        ]
                      },
                      {
                        "learn": [
                          0.8023609976
                        ],
                        "iteration": 77,
                        "passed_time": 0.6653277993,
                        "remaining_time": 7.864515781,
                        "test": [
                          1.431152457
                        ]
                      },
                      {
                        "learn": [
                          0.7947003283
                        ],
                        "iteration": 78,
                        "passed_time": 0.6727743885,
                        "remaining_time": 7.843357111,
                        "test": [
                          1.434076011
                        ]
                      },
                      {
                        "learn": [
                          0.7877899786
                        ],
                        "iteration": 79,
                        "passed_time": 0.6802671419,
                        "remaining_time": 7.823072132,
                        "test": [
                          1.430437352
                        ]
                      },
                      {
                        "learn": [
                          0.780853715
                        ],
                        "iteration": 80,
                        "passed_time": 0.6876464278,
                        "remaining_time": 7.801815644,
                        "test": [
                          1.432514503
                        ]
                      },
                      {
                        "learn": [
                          0.7754043571
                        ],
                        "iteration": 81,
                        "passed_time": 0.6952808664,
                        "remaining_time": 7.783754089,
                        "test": [
                          1.431876066
                        ]
                      },
                      {
                        "learn": [
                          0.7703663247
                        ],
                        "iteration": 82,
                        "passed_time": 0.7024032834,
                        "remaining_time": 7.760286878,
                        "test": [
                          1.434312765
                        ]
                      },
                      {
                        "learn": [
                          0.7655695589
                        ],
                        "iteration": 83,
                        "passed_time": 0.7094830977,
                        "remaining_time": 7.736744256,
                        "test": [
                          1.434693939
                        ]
                      },
                      {
                        "learn": [
                          0.7583745923
                        ],
                        "iteration": 84,
                        "passed_time": 0.7209118134,
                        "remaining_time": 7.760403638,
                        "test": [
                          1.438785537
                        ]
                      },
                      {
                        "learn": [
                          0.7530382041
                        ],
                        "iteration": 85,
                        "passed_time": 0.7281924932,
                        "remaining_time": 7.739162079,
                        "test": [
                          1.441056151
                        ]
                      },
                      {
                        "learn": [
                          0.7478280603
                        ],
                        "iteration": 86,
                        "passed_time": 0.7354475952,
                        "remaining_time": 7.71797304,
                        "test": [
                          1.43989407
                        ]
                      },
                      {
                        "learn": [
                          0.7407490257
                        ],
                        "iteration": 87,
                        "passed_time": 0.7428769432,
                        "remaining_time": 7.698906502,
                        "test": [
                          1.438466861
                        ]
                      },
                      {
                        "learn": [
                          0.7339011538
                        ],
                        "iteration": 88,
                        "passed_time": 0.7501604173,
                        "remaining_time": 7.678608317,
                        "test": [
                          1.438793944
                        ]
                      },
                      {
                        "learn": [
                          0.7277278442
                        ],
                        "iteration": 89,
                        "passed_time": 0.7592986368,
                        "remaining_time": 7.677352883,
                        "test": [
                          1.44046779
                        ]
                      },
                      {
                        "learn": [
                          0.7219705527
                        ],
                        "iteration": 90,
                        "passed_time": 0.7666026219,
                        "remaining_time": 7.657602014,
                        "test": [
                          1.445840366
                        ]
                      },
                      {
                        "learn": [
                          0.7178871907
                        ],
                        "iteration": 91,
                        "passed_time": 0.7741125584,
                        "remaining_time": 7.640154381,
                        "test": [
                          1.446835059
                        ]
                      },
                      {
                        "learn": [
                          0.7115692978
                        ],
                        "iteration": 92,
                        "passed_time": 0.7815261977,
                        "remaining_time": 7.621981305,
                        "test": [
                          1.446605507
                        ]
                      },
                      {
                        "learn": [
                          0.7058662648
                        ],
                        "iteration": 93,
                        "passed_time": 0.7888126952,
                        "remaining_time": 7.602811722,
                        "test": [
                          1.448753031
                        ]
                      },
                      {
                        "learn": [
                          0.7021856186
                        ],
                        "iteration": 94,
                        "passed_time": 0.8003311341,
                        "remaining_time": 7.62420712,
                        "test": [
                          1.44958492
                        ]
                      },
                      {
                        "learn": [
                          0.6971191769
                        ],
                        "iteration": 95,
                        "passed_time": 0.8081148726,
                        "remaining_time": 7.609748384,
                        "test": [
                          1.450437313
                        ]
                      },
                      {
                        "learn": [
                          0.6908063515
                        ],
                        "iteration": 96,
                        "passed_time": 0.815280585,
                        "remaining_time": 7.5896739,
                        "test": [
                          1.451591176
                        ]
                      },
                      {
                        "learn": [
                          0.685123989
                        ],
                        "iteration": 97,
                        "passed_time": 0.8225912795,
                        "remaining_time": 7.571197287,
                        "test": [
                          1.452726062
                        ]
                      },
                      {
                        "learn": [
                          0.6807612017
                        ],
                        "iteration": 98,
                        "passed_time": 0.8301141149,
                        "remaining_time": 7.554876945,
                        "test": [
                          1.453409092
                        ]
                      },
                      {
                        "learn": [
                          0.6732828914
                        ],
                        "iteration": 99,
                        "passed_time": 0.8374551241,
                        "remaining_time": 7.537096117,
                        "test": [
                          1.451598063
                        ]
                      },
                      {
                        "learn": [
                          0.668177579
                        ],
                        "iteration": 100,
                        "passed_time": 0.8450833241,
                        "remaining_time": 7.5220783,
                        "test": [
                          1.453226796
                        ]
                      },
                      {
                        "learn": [
                          0.6621915085
                        ],
                        "iteration": 101,
                        "passed_time": 0.8525512169,
                        "remaining_time": 7.505794047,
                        "test": [
                          1.452663962
                        ]
                      },
                      {
                        "learn": [
                          0.6575080815
                        ],
                        "iteration": 102,
                        "passed_time": 0.8600800209,
                        "remaining_time": 7.490211444,
                        "test": [
                          1.453846373
                        ]
                      },
                      {
                        "learn": [
                          0.6517022011
                        ],
                        "iteration": 103,
                        "passed_time": 0.8698338167,
                        "remaining_time": 7.493952882,
                        "test": [
                          1.452233315
                        ]
                      },
                      {
                        "learn": [
                          0.6456935441
                        ],
                        "iteration": 104,
                        "passed_time": 0.8784911984,
                        "remaining_time": 7.488091643,
                        "test": [
                          1.450496912
                        ]
                      },
                      {
                        "learn": [
                          0.6404960312
                        ],
                        "iteration": 105,
                        "passed_time": 0.885675111,
                        "remaining_time": 7.469750465,
                        "test": [
                          1.446493351
                        ]
                      },
                      {
                        "learn": [
                          0.6348332376
                        ],
                        "iteration": 106,
                        "passed_time": 0.8930836535,
                        "remaining_time": 7.453492547,
                        "test": [
                          1.448356327
                        ]
                      },
                      {
                        "learn": [
                          0.6306756467
                        ],
                        "iteration": 107,
                        "passed_time": 0.9007036078,
                        "remaining_time": 7.439144613,
                        "test": [
                          1.452142807
                        ]
                      },
                      {
                        "learn": [
                          0.6250282076
                        ],
                        "iteration": 108,
                        "passed_time": 0.9082165759,
                        "remaining_time": 7.424045588,
                        "test": [
                          1.452739144
                        ]
                      },
                      {
                        "learn": [
                          0.620209315
                        ],
                        "iteration": 109,
                        "passed_time": 0.9156829443,
                        "remaining_time": 7.408707459,
                        "test": [
                          1.454027254
                        ]
                      },
                      {
                        "learn": [
                          0.6156107158
                        ],
                        "iteration": 110,
                        "passed_time": 0.9228987042,
                        "remaining_time": 7.391504037,
                        "test": [
                          1.451940543
                        ]
                      },
                      {
                        "learn": [
                          0.6116050225
                        ],
                        "iteration": 111,
                        "passed_time": 0.9300907335,
                        "remaining_time": 7.374290815,
                        "test": [
                          1.451019188
                        ]
                      },
                      {
                        "learn": [
                          0.6060034044
                        ],
                        "iteration": 112,
                        "passed_time": 0.9378123473,
                        "remaining_time": 7.361411965,
                        "test": [
                          1.450836884
                        ]
                      },
                      {
                        "learn": [
                          0.6017653813
                        ],
                        "iteration": 113,
                        "passed_time": 0.9451711504,
                        "remaining_time": 7.345803853,
                        "test": [
                          1.452476584
                        ]
                      },
                      {
                        "learn": [
                          0.5982573635
                        ],
                        "iteration": 114,
                        "passed_time": 0.9530094533,
                        "remaining_time": 7.334029271,
                        "test": [
                          1.450801881
                        ]
                      },
                      {
                        "learn": [
                          0.5936254592
                        ],
                        "iteration": 115,
                        "passed_time": 0.9602790195,
                        "remaining_time": 7.31798839,
                        "test": [
                          1.451995084
                        ]
                      },
                      {
                        "learn": [
                          0.5910872309
                        ],
                        "iteration": 116,
                        "passed_time": 0.9844408517,
                        "remaining_time": 7.429583522,
                        "test": [
                          1.453870188
                        ]
                      },
                      {
                        "learn": [
                          0.5883615409
                        ],
                        "iteration": 117,
                        "passed_time": 1.002673533,
                        "remaining_time": 7.494559795,
                        "test": [
                          1.45492956
                        ]
                      },
                      {
                        "learn": [
                          0.5848919952
                        ],
                        "iteration": 118,
                        "passed_time": 1.012747989,
                        "remaining_time": 7.497739314,
                        "test": [
                          1.454745746
                        ]
                      },
                      {
                        "learn": [
                          0.580253013
                        ],
                        "iteration": 119,
                        "passed_time": 1.020016852,
                        "remaining_time": 7.480123579,
                        "test": [
                          1.452413613
                        ]
                      },
                      {
                        "learn": [
                          0.5769235905
                        ],
                        "iteration": 120,
                        "passed_time": 1.028317048,
                        "remaining_time": 7.47017095,
                        "test": [
                          1.452996841
                        ]
                      },
                      {
                        "learn": [
                          0.5721809769
                        ],
                        "iteration": 121,
                        "passed_time": 1.035890655,
                        "remaining_time": 7.455016354,
                        "test": [
                          1.456760696
                        ]
                      },
                      {
                        "learn": [
                          0.5691113659
                        ],
                        "iteration": 122,
                        "passed_time": 1.043399685,
                        "remaining_time": 7.439524586,
                        "test": [
                          1.457331492
                        ]
                      },
                      {
                        "learn": [
                          0.5639112672
                        ],
                        "iteration": 123,
                        "passed_time": 1.050890631,
                        "remaining_time": 7.424033811,
                        "test": [
                          1.457676103
                        ]
                      },
                      {
                        "learn": [
                          0.5589440649
                        ],
                        "iteration": 124,
                        "passed_time": 1.058521775,
                        "remaining_time": 7.409652425,
                        "test": [
                          1.45604794
                        ]
                      },
                      {
                        "learn": [
                          0.5528625491
                        ],
                        "iteration": 125,
                        "passed_time": 1.066066504,
                        "remaining_time": 7.394778766,
                        "test": [
                          1.457303075
                        ]
                      },
                      {
                        "learn": [
                          0.5487679017
                        ],
                        "iteration": 126,
                        "passed_time": 1.073496543,
                        "remaining_time": 7.379232141,
                        "test": [
                          1.453651448
                        ]
                      },
                      {
                        "learn": [
                          0.5443884951
                        ],
                        "iteration": 127,
                        "passed_time": 1.085257602,
                        "remaining_time": 7.393317412,
                        "test": [
                          1.455697616
                        ]
                      },
                      {
                        "learn": [
                          0.5412149208
                        ],
                        "iteration": 128,
                        "passed_time": 1.092888064,
                        "remaining_time": 7.379112434,
                        "test": [
                          1.456502209
                        ]
                      },
                      {
                        "learn": [
                          0.5372509678
                        ],
                        "iteration": 129,
                        "passed_time": 1.100208202,
                        "remaining_time": 7.362931811,
                        "test": [
                          1.45411723
                        ]
                      },
                      {
                        "learn": [
                          0.5335540995
                        ],
                        "iteration": 130,
                        "passed_time": 1.107855489,
                        "remaining_time": 7.349056641,
                        "test": [
                          1.45489714
                        ]
                      },
                      {
                        "learn": [
                          0.5290620763
                        ],
                        "iteration": 131,
                        "passed_time": 1.115107605,
                        "remaining_time": 7.332677281,
                        "test": [
                          1.458384346
                        ]
                      },
                      {
                        "learn": [
                          0.5276115788
                        ],
                        "iteration": 132,
                        "passed_time": 1.122610493,
                        "remaining_time": 7.318069906,
                        "test": [
                          1.459246429
                        ]
                      },
                      {
                        "learn": [
                          0.5233480613
                        ],
                        "iteration": 133,
                        "passed_time": 1.130270124,
                        "remaining_time": 7.304581547,
                        "test": [
                          1.460242343
                        ]
                      },
                      {
                        "learn": [
                          0.5192617047
                        ],
                        "iteration": 134,
                        "passed_time": 1.137990315,
                        "remaining_time": 7.291567575,
                        "test": [
                          1.467186576
                        ]
                      },
                      {
                        "learn": [
                          0.5153546271
                        ],
                        "iteration": 135,
                        "passed_time": 1.145880504,
                        "remaining_time": 7.27971144,
                        "test": [
                          1.468257472
                        ]
                      },
                      {
                        "learn": [
                          0.5114987587
                        ],
                        "iteration": 136,
                        "passed_time": 1.153615064,
                        "remaining_time": 7.266932845,
                        "test": [
                          1.467971804
                        ]
                      },
                      {
                        "learn": [
                          0.5076652172
                        ],
                        "iteration": 137,
                        "passed_time": 1.161242091,
                        "remaining_time": 7.253555669,
                        "test": [
                          1.469398163
                        ]
                      },
                      {
                        "learn": [
                          0.5037435234
                        ],
                        "iteration": 138,
                        "passed_time": 1.17011964,
                        "remaining_time": 7.248007267,
                        "test": [
                          1.469624548
                        ]
                      },
                      {
                        "learn": [
                          0.5006512946
                        ],
                        "iteration": 139,
                        "passed_time": 1.177407283,
                        "remaining_time": 7.232644738,
                        "test": [
                          1.470168954
                        ]
                      },
                      {
                        "learn": [
                          0.4968128894
                        ],
                        "iteration": 140,
                        "passed_time": 1.184894287,
                        "remaining_time": 7.218611293,
                        "test": [
                          1.473638095
                        ]
                      },
                      {
                        "learn": [
                          0.4954310509
                        ],
                        "iteration": 141,
                        "passed_time": 1.192451727,
                        "remaining_time": 7.205095649,
                        "test": [
                          1.474934872
                        ]
                      },
                      {
                        "learn": [
                          0.4919742494
                        ],
                        "iteration": 142,
                        "passed_time": 1.205739344,
                        "remaining_time": 7.226004318,
                        "test": [
                          1.475756932
                        ]
                      },
                      {
                        "learn": [
                          0.4889601046
                        ],
                        "iteration": 143,
                        "passed_time": 1.21363635,
                        "remaining_time": 7.214393856,
                        "test": [
                          1.4744329
                        ]
                      },
                      {
                        "learn": [
                          0.4843256762
                        ],
                        "iteration": 144,
                        "passed_time": 1.221308099,
                        "remaining_time": 7.201506375,
                        "test": [
                          1.477297703
                        ]
                      },
                      {
                        "learn": [
                          0.4811649207
                        ],
                        "iteration": 145,
                        "passed_time": 1.228711383,
                        "remaining_time": 7.187120009,
                        "test": [
                          1.477587016
                        ]
                      },
                      {
                        "learn": [
                          0.4788352118
                        ],
                        "iteration": 146,
                        "passed_time": 1.235875293,
                        "remaining_time": 7.171439626,
                        "test": [
                          1.479664669
                        ]
                      },
                      {
                        "learn": [
                          0.4744851452
                        ],
                        "iteration": 147,
                        "passed_time": 1.243541174,
                        "remaining_time": 7.158764059,
                        "test": [
                          1.484045786
                        ]
                      },
                      {
                        "learn": [
                          0.4705209525
                        ],
                        "iteration": 148,
                        "passed_time": 1.251261897,
                        "remaining_time": 7.146468958,
                        "test": [
                          1.48486517
                        ]
                      },
                      {
                        "learn": [
                          0.4669052163
                        ],
                        "iteration": 149,
                        "passed_time": 1.258961459,
                        "remaining_time": 7.134114932,
                        "test": [
                          1.48773282
                        ]
                      },
                      {
                        "learn": [
                          0.4643657697
                        ],
                        "iteration": 150,
                        "passed_time": 1.266727607,
                        "remaining_time": 7.122196941,
                        "test": [
                          1.487786761
                        ]
                      },
                      {
                        "learn": [
                          0.4612220357
                        ],
                        "iteration": 151,
                        "passed_time": 1.27421499,
                        "remaining_time": 7.108778364,
                        "test": [
                          1.486497591
                        ]
                      },
                      {
                        "learn": [
                          0.4582019938
                        ],
                        "iteration": 152,
                        "passed_time": 1.281617786,
                        "remaining_time": 7.094969052,
                        "test": [
                          1.486617718
                        ]
                      },
                      {
                        "learn": [
                          0.4569585357
                        ],
                        "iteration": 153,
                        "passed_time": 1.288865227,
                        "remaining_time": 7.080389495,
                        "test": [
                          1.486490792
                        ]
                      },
                      {
                        "learn": [
                          0.4541962498
                        ],
                        "iteration": 154,
                        "passed_time": 1.29745619,
                        "remaining_time": 7.073228907,
                        "test": [
                          1.485894498
                        ]
                      },
                      {
                        "learn": [
                          0.4524521472
                        ],
                        "iteration": 155,
                        "passed_time": 1.307172579,
                        "remaining_time": 7.072138825,
                        "test": [
                          1.486618162
                        ]
                      },
                      {
                        "learn": [
                          0.4490269515
                        ],
                        "iteration": 156,
                        "passed_time": 1.317210388,
                        "remaining_time": 7.072664693,
                        "test": [
                          1.485175803
                        ]
                      },
                      {
                        "learn": [
                          0.4467036856
                        ],
                        "iteration": 157,
                        "passed_time": 1.325906155,
                        "remaining_time": 7.065904954,
                        "test": [
                          1.488241584
                        ]
                      },
                      {
                        "learn": [
                          0.4437393176
                        ],
                        "iteration": 158,
                        "passed_time": 1.333909257,
                        "remaining_time": 7.055457137,
                        "test": [
                          1.489009425
                        ]
                      },
                      {
                        "learn": [
                          0.4415429432
                        ],
                        "iteration": 159,
                        "passed_time": 1.342678615,
                        "remaining_time": 7.049062729,
                        "test": [
                          1.490612077
                        ]
                      },
                      {
                        "learn": [
                          0.4392545457
                        ],
                        "iteration": 160,
                        "passed_time": 1.349872044,
                        "remaining_time": 7.034426367,
                        "test": [
                          1.489784231
                        ]
                      },
                      {
                        "learn": [
                          0.4358643395
                        ],
                        "iteration": 161,
                        "passed_time": 1.357077071,
                        "remaining_time": 7.019941888,
                        "test": [
                          1.490909057
                        ]
                      },
                      {
                        "learn": [
                          0.4330229646
                        ],
                        "iteration": 162,
                        "passed_time": 1.364759584,
                        "remaining_time": 7.0079986,
                        "test": [
                          1.4970184
                        ]
                      },
                      {
                        "learn": [
                          0.4307945783
                        ],
                        "iteration": 163,
                        "passed_time": 1.371947974,
                        "remaining_time": 6.993588451,
                        "test": [
                          1.499976474
                        ]
                      },
                      {
                        "learn": [
                          0.427630189
                        ],
                        "iteration": 164,
                        "passed_time": 1.379260263,
                        "remaining_time": 6.979892848,
                        "test": [
                          1.498019852
                        ]
                      },
                      {
                        "learn": [
                          0.4246654026
                        ],
                        "iteration": 165,
                        "passed_time": 1.386962046,
                        "remaining_time": 6.968231003,
                        "test": [
                          1.498695837
                        ]
                      },
                      {
                        "learn": [
                          0.4229892484
                        ],
                        "iteration": 166,
                        "passed_time": 1.394595482,
                        "remaining_time": 6.956275668,
                        "test": [
                          1.500745298
                        ]
                      },
                      {
                        "learn": [
                          0.4203022341
                        ],
                        "iteration": 167,
                        "passed_time": 1.406537757,
                        "remaining_time": 6.965710798,
                        "test": [
                          1.501876872
                        ]
                      },
                      {
                        "learn": [
                          0.4174889986
                        ],
                        "iteration": 168,
                        "passed_time": 1.414933781,
                        "remaining_time": 6.957455453,
                        "test": [
                          1.505724475
                        ]
                      },
                      {
                        "learn": [
                          0.4153376449
                        ],
                        "iteration": 169,
                        "passed_time": 1.422502541,
                        "remaining_time": 6.945159465,
                        "test": [
                          1.505868935
                        ]
                      },
                      {
                        "learn": [
                          0.4127438194
                        ],
                        "iteration": 170,
                        "passed_time": 1.429864598,
                        "remaining_time": 6.931916679,
                        "test": [
                          1.507257766
                        ]
                      },
                      {
                        "learn": [
                          0.4110759179
                        ],
                        "iteration": 171,
                        "passed_time": 1.437528305,
                        "remaining_time": 6.9201944,
                        "test": [
                          1.507661552
                        ]
                      },
                      {
                        "learn": [
                          0.4097089136
                        ],
                        "iteration": 172,
                        "passed_time": 1.445022232,
                        "remaining_time": 6.907707434,
                        "test": [
                          1.508533335
                        ]
                      },
                      {
                        "learn": [
                          0.4073484166
                        ],
                        "iteration": 173,
                        "passed_time": 1.452359554,
                        "remaining_time": 6.894534433,
                        "test": [
                          1.508911715
                        ]
                      },
                      {
                        "learn": [
                          0.404383741
                        ],
                        "iteration": 174,
                        "passed_time": 1.460023429,
                        "remaining_time": 6.882967593,
                        "test": [
                          1.509884336
                        ]
                      },
                      {
                        "learn": [
                          0.4021829888
                        ],
                        "iteration": 175,
                        "passed_time": 1.467538874,
                        "remaining_time": 6.870750182,
                        "test": [
                          1.511541565
                        ]
                      },
                      {
                        "learn": [
                          0.4007467129
                        ],
                        "iteration": 176,
                        "passed_time": 1.474821814,
                        "remaining_time": 6.857504817,
                        "test": [
                          1.512319497
                        ]
                      },
                      {
                        "learn": [
                          0.398753845
                        ],
                        "iteration": 177,
                        "passed_time": 1.482062241,
                        "remaining_time": 6.844130126,
                        "test": [
                          1.512072014
                        ]
                      },
                      {
                        "learn": [
                          0.3972398244
                        ],
                        "iteration": 178,
                        "passed_time": 1.489586818,
                        "remaining_time": 6.832127251,
                        "test": [
                          1.514614913
                        ]
                      },
                      {
                        "learn": [
                          0.3947250443
                        ],
                        "iteration": 179,
                        "passed_time": 1.496950699,
                        "remaining_time": 6.819442074,
                        "test": [
                          1.513776035
                        ]
                      },
                      {
                        "learn": [
                          0.3923259275
                        ],
                        "iteration": 180,
                        "passed_time": 1.5046048,
                        "remaining_time": 6.808128901,
                        "test": [
                          1.515331952
                        ]
                      },
                      {
                        "learn": [
                          0.3902126251
                        ],
                        "iteration": 181,
                        "passed_time": 1.516359916,
                        "remaining_time": 6.815287972,
                        "test": [
                          1.513391778
                        ]
                      },
                      {
                        "learn": [
                          0.3885104181
                        ],
                        "iteration": 182,
                        "passed_time": 1.52527312,
                        "remaining_time": 6.809552672,
                        "test": [
                          1.512013287
                        ]
                      },
                      {
                        "learn": [
                          0.3855215367
                        ],
                        "iteration": 183,
                        "passed_time": 1.532636247,
                        "remaining_time": 6.796908574,
                        "test": [
                          1.51156017
                        ]
                      },
                      {
                        "learn": [
                          0.3838880381
                        ],
                        "iteration": 184,
                        "passed_time": 1.54013655,
                        "remaining_time": 6.784925882,
                        "test": [
                          1.510170454
                        ]
                      },
                      {
                        "learn": [
                          0.3815345211
                        ],
                        "iteration": 185,
                        "passed_time": 1.547720792,
                        "remaining_time": 6.773358735,
                        "test": [
                          1.513797134
                        ]
                      },
                      {
                        "learn": [
                          0.380168768
                        ],
                        "iteration": 186,
                        "passed_time": 1.555473948,
                        "remaining_time": 6.762568557,
                        "test": [
                          1.514300499
                        ]
                      },
                      {
                        "learn": [
                          0.3774414515
                        ],
                        "iteration": 187,
                        "passed_time": 1.56318185,
                        "remaining_time": 6.751615224,
                        "test": [
                          1.516345045
                        ]
                      },
                      {
                        "learn": [
                          0.3749373843
                        ],
                        "iteration": 188,
                        "passed_time": 1.571649961,
                        "remaining_time": 6.7439583,
                        "test": [
                          1.518739327
                        ]
                      },
                      {
                        "learn": [
                          0.3734648773
                        ],
                        "iteration": 189,
                        "passed_time": 1.579166956,
                        "remaining_time": 6.732238077,
                        "test": [
                          1.517823686
                        ]
                      },
                      {
                        "learn": [
                          0.3707273588
                        ],
                        "iteration": 190,
                        "passed_time": 1.586905281,
                        "remaining_time": 6.721499333,
                        "test": [
                          1.520020689
                        ]
                      },
                      {
                        "learn": [
                          0.3688591497
                        ],
                        "iteration": 191,
                        "passed_time": 1.594605326,
                        "remaining_time": 6.710630748,
                        "test": [
                          1.520339672
                        ]
                      },
                      {
                        "learn": [
                          0.3672232757
                        ],
                        "iteration": 192,
                        "passed_time": 1.604914762,
                        "remaining_time": 6.710705765,
                        "test": [
                          1.519194541
                        ]
                      },
                      {
                        "learn": [
                          0.3650832763
                        ],
                        "iteration": 193,
                        "passed_time": 1.612613209,
                        "remaining_time": 6.699826013,
                        "test": [
                          1.522237726
                        ]
                      },
                      {
                        "learn": [
                          0.3624705025
                        ],
                        "iteration": 194,
                        "passed_time": 1.620221497,
                        "remaining_time": 6.688606694,
                        "test": [
                          1.522060267
                        ]
                      },
                      {
                        "learn": [
                          0.3604428932
                        ],
                        "iteration": 195,
                        "passed_time": 1.628010803,
                        "remaining_time": 6.678166765,
                        "test": [
                          1.526071986
                        ]
                      },
                      {
                        "learn": [
                          0.3592187223
                        ],
                        "iteration": 196,
                        "passed_time": 1.635557753,
                        "remaining_time": 6.666765867,
                        "test": [
                          1.526454162
                        ]
                      },
                      {
                        "learn": [
                          0.357598414
                        ],
                        "iteration": 197,
                        "passed_time": 1.64319064,
                        "remaining_time": 6.655751986,
                        "test": [
                          1.525788055
                        ]
                      },
                      {
                        "learn": [
                          0.3557719376
                        ],
                        "iteration": 198,
                        "passed_time": 1.650995824,
                        "remaining_time": 6.645465602,
                        "test": [
                          1.526535751
                        ]
                      },
                      {
                        "learn": [
                          0.35442381
                        ],
                        "iteration": 199,
                        "passed_time": 1.658597331,
                        "remaining_time": 6.634389323,
                        "test": [
                          1.52703818
                        ]
                      },
                      {
                        "learn": [
                          0.3515782647
                        ],
                        "iteration": 200,
                        "passed_time": 1.666168006,
                        "remaining_time": 6.623225057,
                        "test": [
                          1.526308141
                        ]
                      },
                      {
                        "learn": [
                          0.3495192809
                        ],
                        "iteration": 201,
                        "passed_time": 1.673835614,
                        "remaining_time": 6.612479307,
                        "test": [
                          1.525712507
                        ]
                      },
                      {
                        "learn": [
                          0.3477003054
                        ],
                        "iteration": 202,
                        "passed_time": 1.681468372,
                        "remaining_time": 6.601627056,
                        "test": [
                          1.525700133
                        ]
                      },
                      {
                        "learn": [
                          0.3453269851
                        ],
                        "iteration": 203,
                        "passed_time": 1.689485129,
                        "remaining_time": 6.59230472,
                        "test": [
                          1.5274339
                        ]
                      },
                      {
                        "learn": [
                          0.3429668864
                        ],
                        "iteration": 204,
                        "passed_time": 1.697166648,
                        "remaining_time": 6.581695051,
                        "test": [
                          1.530311403
                        ]
                      },
                      {
                        "learn": [
                          0.3409199208
                        ],
                        "iteration": 205,
                        "passed_time": 1.704708199,
                        "remaining_time": 6.570574322,
                        "test": [
                          1.527949458
                        ]
                      },
                      {
                        "learn": [
                          0.3384030409
                        ],
                        "iteration": 206,
                        "passed_time": 1.712456066,
                        "remaining_time": 6.560278551,
                        "test": [
                          1.531687093
                        ]
                      },
                      {
                        "learn": [
                          0.3371349762
                        ],
                        "iteration": 207,
                        "passed_time": 1.720405952,
                        "remaining_time": 6.550776508,
                        "test": [
                          1.531229008
                        ]
                      },
                      {
                        "learn": [
                          0.3363096197
                        ],
                        "iteration": 208,
                        "passed_time": 1.727738493,
                        "remaining_time": 6.538952862,
                        "test": [
                          1.530892869
                        ]
                      },
                      {
                        "learn": [
                          0.3338288737
                        ],
                        "iteration": 209,
                        "passed_time": 1.735246137,
                        "remaining_time": 6.527830707,
                        "test": [
                          1.531396708
                        ]
                      },
                      {
                        "learn": [
                          0.3316556369
                        ],
                        "iteration": 210,
                        "passed_time": 1.748552486,
                        "remaining_time": 6.538426122,
                        "test": [
                          1.532583586
                        ]
                      },
                      {
                        "learn": [
                          0.3304850256
                        ],
                        "iteration": 211,
                        "passed_time": 1.756438528,
                        "remaining_time": 6.528648868,
                        "test": [
                          1.533427626
                        ]
                      },
                      {
                        "learn": [
                          0.3288063012
                        ],
                        "iteration": 212,
                        "passed_time": 1.763757472,
                        "remaining_time": 6.516794039,
                        "test": [
                          1.53365597
                        ]
                      },
                      {
                        "learn": [
                          0.3274423364
                        ],
                        "iteration": 213,
                        "passed_time": 1.771339705,
                        "remaining_time": 6.505948635,
                        "test": [
                          1.533299588
                        ]
                      },
                      {
                        "learn": [
                          0.3256725043
                        ],
                        "iteration": 214,
                        "passed_time": 1.778917,
                        "remaining_time": 6.495115558,
                        "test": [
                          1.532811587
                        ]
                      },
                      {
                        "learn": [
                          0.3236580799
                        ],
                        "iteration": 215,
                        "passed_time": 1.786839142,
                        "remaining_time": 6.485564293,
                        "test": [
                          1.532523856
                        ]
                      },
                      {
                        "learn": [
                          0.3217555864
                        ],
                        "iteration": 216,
                        "passed_time": 1.794530103,
                        "remaining_time": 6.475193874,
                        "test": [
                          1.534402873
                        ]
                      },
                      {
                        "learn": [
                          0.3198294577
                        ],
                        "iteration": 217,
                        "passed_time": 1.805524261,
                        "remaining_time": 6.476697118,
                        "test": [
                          1.536158017
                        ]
                      },
                      {
                        "learn": [
                          0.3186301588
                        ],
                        "iteration": 218,
                        "passed_time": 1.814605819,
                        "remaining_time": 6.471265502,
                        "test": [
                          1.535662214
                        ]
                      },
                      {
                        "learn": [
                          0.317846002
                        ],
                        "iteration": 219,
                        "passed_time": 1.822345841,
                        "remaining_time": 6.461044345,
                        "test": [
                          1.536512208
                        ]
                      },
                      {
                        "learn": [
                          0.3156785929
                        ],
                        "iteration": 220,
                        "passed_time": 1.829984812,
                        "remaining_time": 6.450489449,
                        "test": [
                          1.536827977
                        ]
                      },
                      {
                        "learn": [
                          0.3142809529
                        ],
                        "iteration": 221,
                        "passed_time": 1.837813698,
                        "remaining_time": 6.440626383,
                        "test": [
                          1.536587166
                        ]
                      },
                      {
                        "learn": [
                          0.3131724679
                        ],
                        "iteration": 222,
                        "passed_time": 1.845513107,
                        "remaining_time": 6.430330424,
                        "test": [
                          1.537837395
                        ]
                      },
                      {
                        "learn": [
                          0.3115744612
                        ],
                        "iteration": 223,
                        "passed_time": 1.853059299,
                        "remaining_time": 6.419526857,
                        "test": [
                          1.538118169
                        ]
                      },
                      {
                        "learn": [
                          0.310238495
                        ],
                        "iteration": 224,
                        "passed_time": 1.860560396,
                        "remaining_time": 6.40859692,
                        "test": [
                          1.537943481
                        ]
                      },
                      {
                        "learn": [
                          0.3085769428
                        ],
                        "iteration": 225,
                        "passed_time": 1.868315178,
                        "remaining_time": 6.398566141,
                        "test": [
                          1.542457284
                        ]
                      },
                      {
                        "learn": [
                          0.3068154032
                        ],
                        "iteration": 226,
                        "passed_time": 1.877613308,
                        "remaining_time": 6.393810955,
                        "test": [
                          1.541955577
                        ]
                      },
                      {
                        "learn": [
                          0.3056967928
                        ],
                        "iteration": 227,
                        "passed_time": 1.88471557,
                        "remaining_time": 6.381580789,
                        "test": [
                          1.541204708
                        ]
                      },
                      {
                        "learn": [
                          0.3040088763
                        ],
                        "iteration": 228,
                        "passed_time": 1.892007818,
                        "remaining_time": 6.370035055,
                        "test": [
                          1.541538523
                        ]
                      },
                      {
                        "learn": [
                          0.3031978423
                        ],
                        "iteration": 229,
                        "passed_time": 1.899548865,
                        "remaining_time": 6.359359245,
                        "test": [
                          1.541900846
                        ]
                      },
                      {
                        "learn": [
                          0.3020476037
                        ],
                        "iteration": 230,
                        "passed_time": 1.906765711,
                        "remaining_time": 6.347631305,
                        "test": [
                          1.540845578
                        ]
                      },
                      {
                        "learn": [
                          0.300329468
                        ],
                        "iteration": 231,
                        "passed_time": 1.914789842,
                        "remaining_time": 6.33861465,
                        "test": [
                          1.54103815
                        ]
                      },
                      {
                        "learn": [
                          0.2990488043
                        ],
                        "iteration": 232,
                        "passed_time": 1.922516805,
                        "remaining_time": 6.328628279,
                        "test": [
                          1.539752615
                        ]
                      },
                      {
                        "learn": [
                          0.2973045692
                        ],
                        "iteration": 233,
                        "passed_time": 1.930681769,
                        "remaining_time": 6.320095023,
                        "test": [
                          1.541117092
                        ]
                      },
                      {
                        "learn": [
                          0.295704089
                        ],
                        "iteration": 234,
                        "passed_time": 1.948085161,
                        "remaining_time": 6.34163893,
                        "test": [
                          1.542449744
                        ]
                      },
                      {
                        "learn": [
                          0.2947149089
                        ],
                        "iteration": 235,
                        "passed_time": 1.955429744,
                        "remaining_time": 6.33028951,
                        "test": [
                          1.542105971
                        ]
                      },
                      {
                        "learn": [
                          0.2934828653
                        ],
                        "iteration": 236,
                        "passed_time": 1.968649982,
                        "remaining_time": 6.337890027,
                        "test": [
                          1.541541301
                        ]
                      },
                      {
                        "learn": [
                          0.2924448213
                        ],
                        "iteration": 237,
                        "passed_time": 1.987896276,
                        "remaining_time": 6.364609086,
                        "test": [
                          1.54230689
                        ]
                      },
                      {
                        "learn": [
                          0.2905247939
                        ],
                        "iteration": 238,
                        "passed_time": 2.000004999,
                        "remaining_time": 6.368216754,
                        "test": [
                          1.545326082
                        ]
                      },
                      {
                        "learn": [
                          0.2888923916
                        ],
                        "iteration": 239,
                        "passed_time": 2.007040439,
                        "remaining_time": 6.355628057,
                        "test": [
                          1.546178905
                        ]
                      },
                      {
                        "learn": [
                          0.287732798
                        ],
                        "iteration": 240,
                        "passed_time": 2.013954841,
                        "remaining_time": 6.342704251,
                        "test": [
                          1.547231395
                        ]
                      },
                      {
                        "learn": [
                          0.28583539
                        ],
                        "iteration": 241,
                        "passed_time": 2.021519758,
                        "remaining_time": 6.331867673,
                        "test": [
                          1.547326502
                        ]
                      },
                      {
                        "learn": [
                          0.2843845415
                        ],
                        "iteration": 242,
                        "passed_time": 2.028883732,
                        "remaining_time": 6.320432038,
                        "test": [
                          1.546933084
                        ]
                      },
                      {
                        "learn": [
                          0.2833043442
                        ],
                        "iteration": 243,
                        "passed_time": 2.036461793,
                        "remaining_time": 6.309693095,
                        "test": [
                          1.547299147
                        ]
                      },
                      {
                        "learn": [
                          0.281854325
                        ],
                        "iteration": 244,
                        "passed_time": 2.044082971,
                        "remaining_time": 6.299112828,
                        "test": [
                          1.548423591
                        ]
                      },
                      {
                        "learn": [
                          0.2813441119
                        ],
                        "iteration": 245,
                        "passed_time": 2.051416532,
                        "remaining_time": 6.287675062,
                        "test": [
                          1.547340732
                        ]
                      },
                      {
                        "learn": [
                          0.2797827052
                        ],
                        "iteration": 246,
                        "passed_time": 2.059278671,
                        "remaining_time": 6.277881941,
                        "test": [
                          1.547582341
                        ]
                      },
                      {
                        "learn": [
                          0.279082149
                        ],
                        "iteration": 247,
                        "passed_time": 2.066987487,
                        "remaining_time": 6.267639477,
                        "test": [
                          1.548996145
                        ]
                      },
                      {
                        "learn": [
                          0.2777266486
                        ],
                        "iteration": 248,
                        "passed_time": 2.074362762,
                        "remaining_time": 6.256411384,
                        "test": [
                          1.550018543
                        ]
                      },
                      {
                        "learn": [
                          0.2766604721
                        ],
                        "iteration": 249,
                        "passed_time": 2.081827261,
                        "remaining_time": 6.245481783,
                        "test": [
                          1.547845667
                        ]
                      },
                      {
                        "learn": [
                          0.27531355
                        ],
                        "iteration": 250,
                        "passed_time": 2.089168822,
                        "remaining_time": 6.234212939,
                        "test": [
                          1.548448638
                        ]
                      },
                      {
                        "learn": [
                          0.2740879912
                        ],
                        "iteration": 251,
                        "passed_time": 2.096614085,
                        "remaining_time": 6.223283077,
                        "test": [
                          1.546811642
                        ]
                      },
                      {
                        "learn": [
                          0.272646246
                        ],
                        "iteration": 252,
                        "passed_time": 2.104409869,
                        "remaining_time": 6.213415699,
                        "test": [
                          1.548989819
                        ]
                      },
                      {
                        "learn": [
                          0.2708689365
                        ],
                        "iteration": 253,
                        "passed_time": 2.113055016,
                        "remaining_time": 6.20605922,
                        "test": [
                          1.549987336
                        ]
                      },
                      {
                        "learn": [
                          0.2691424211
                        ],
                        "iteration": 254,
                        "passed_time": 2.122055866,
                        "remaining_time": 6.199731845,
                        "test": [
                          1.548496856
                        ]
                      },
                      {
                        "learn": [
                          0.2683209748
                        ],
                        "iteration": 255,
                        "passed_time": 2.1259466,
                        "remaining_time": 6.178532305,
                        "test": [
                          1.549864828
                        ]
                      },
                      {
                        "learn": [
                          0.2676813731
                        ],
                        "iteration": 256,
                        "passed_time": 2.1332591,
                        "remaining_time": 6.167359965,
                        "test": [
                          1.550122554
                        ]
                      },
                      {
                        "learn": [
                          0.2669499952
                        ],
                        "iteration": 257,
                        "passed_time": 2.140996374,
                        "remaining_time": 6.157439184,
                        "test": [
                          1.5502606
                        ]
                      },
                      {
                        "learn": [
                          0.2656794213
                        ],
                        "iteration": 258,
                        "passed_time": 2.148562733,
                        "remaining_time": 6.147046274,
                        "test": [
                          1.552868588
                        ]
                      },
                      {
                        "learn": [
                          0.2642761169
                        ],
                        "iteration": 259,
                        "passed_time": 2.160894965,
                        "remaining_time": 6.150239517,
                        "test": [
                          1.552603212
                        ]
                      },
                      {
                        "learn": [
                          0.2630081712
                        ],
                        "iteration": 260,
                        "passed_time": 2.168080951,
                        "remaining_time": 6.138742615,
                        "test": [
                          1.553715653
                        ]
                      },
                      {
                        "learn": [
                          0.2619488788
                        ],
                        "iteration": 261,
                        "passed_time": 2.176086904,
                        "remaining_time": 6.129588301,
                        "test": [
                          1.551827584
                        ]
                      },
                      {
                        "learn": [
                          0.2608734095
                        ],
                        "iteration": 262,
                        "passed_time": 2.183694363,
                        "remaining_time": 6.119326028,
                        "test": [
                          1.551463408
                        ]
                      },
                      {
                        "learn": [
                          0.2597856697
                        ],
                        "iteration": 263,
                        "passed_time": 2.191090884,
                        "remaining_time": 6.108495799,
                        "test": [
                          1.550890048
                        ]
                      },
                      {
                        "learn": [
                          0.2584469207
                        ],
                        "iteration": 264,
                        "passed_time": 2.203246365,
                        "remaining_time": 6.110890861,
                        "test": [
                          1.551794645
                        ]
                      },
                      {
                        "learn": [
                          0.2574695974
                        ],
                        "iteration": 265,
                        "passed_time": 2.211327251,
                        "remaining_time": 6.10193309,
                        "test": [
                          1.551153898
                        ]
                      },
                      {
                        "learn": [
                          0.256769783
                        ],
                        "iteration": 266,
                        "passed_time": 2.218867736,
                        "remaining_time": 6.091498318,
                        "test": [
                          1.552386822
                        ]
                      },
                      {
                        "learn": [
                          0.2555169023
                        ],
                        "iteration": 267,
                        "passed_time": 2.226233295,
                        "remaining_time": 6.080607359,
                        "test": [
                          1.552899208
                        ]
                      },
                      {
                        "learn": [
                          0.2543046767
                        ],
                        "iteration": 268,
                        "passed_time": 2.233997343,
                        "remaining_time": 6.070825493,
                        "test": [
                          1.554714848
                        ]
                      },
                      {
                        "learn": [
                          0.2532863231
                        ],
                        "iteration": 269,
                        "passed_time": 2.242209146,
                        "remaining_time": 6.062269173,
                        "test": [
                          1.555781466
                        ]
                      },
                      {
                        "learn": [
                          0.2522356687
                        ],
                        "iteration": 270,
                        "passed_time": 2.249623597,
                        "remaining_time": 6.051570489,
                        "test": [
                          1.556133929
                        ]
                      },
                      {
                        "learn": [
                          0.2511713799
                        ],
                        "iteration": 271,
                        "passed_time": 2.257461521,
                        "remaining_time": 6.042029365,
                        "test": [
                          1.555187041
                        ]
                      },
                      {
                        "learn": [
                          0.2500555639
                        ],
                        "iteration": 272,
                        "passed_time": 2.265173162,
                        "remaining_time": 6.032164428,
                        "test": [
                          1.555421339
                        ]
                      },
                      {
                        "learn": [
                          0.2493684667
                        ],
                        "iteration": 273,
                        "passed_time": 2.273021304,
                        "remaining_time": 6.022676886,
                        "test": [
                          1.556664853
                        ]
                      },
                      {
                        "learn": [
                          0.2486682705
                        ],
                        "iteration": 274,
                        "passed_time": 2.28085201,
                        "remaining_time": 6.0131553,
                        "test": [
                          1.555520149
                        ]
                      },
                      {
                        "learn": [
                          0.2474577272
                        ],
                        "iteration": 275,
                        "passed_time": 2.288468617,
                        "remaining_time": 6.003084343,
                        "test": [
                          1.555031756
                        ]
                      },
                      {
                        "learn": [
                          0.2464817566
                        ],
                        "iteration": 276,
                        "passed_time": 2.296134615,
                        "remaining_time": 5.993160023,
                        "test": [
                          1.555506002
                        ]
                      },
                      {
                        "learn": [
                          0.2452391288
                        ],
                        "iteration": 277,
                        "passed_time": 2.303575152,
                        "remaining_time": 5.982666403,
                        "test": [
                          1.55618606
                        ]
                      },
                      {
                        "learn": [
                          0.2444076173
                        ],
                        "iteration": 278,
                        "passed_time": 2.310760555,
                        "remaining_time": 5.971535341,
                        "test": [
                          1.557653605
                        ]
                      },
                      {
                        "learn": [
                          0.2436354251
                        ],
                        "iteration": 279,
                        "passed_time": 2.318010588,
                        "remaining_time": 5.960598656,
                        "test": [
                          1.558282428
                        ]
                      },
                      {
                        "learn": [
                          0.2422863766
                        ],
                        "iteration": 280,
                        "passed_time": 2.325497108,
                        "remaining_time": 5.950293311,
                        "test": [
                          1.558437824
                        ]
                      },
                      {
                        "learn": [
                          0.2416992258
                        ],
                        "iteration": 281,
                        "passed_time": 2.33282069,
                        "remaining_time": 5.939593105,
                        "test": [
                          1.558402122
                        ]
                      },
                      {
                        "learn": [
                          0.2405512433
                        ],
                        "iteration": 282,
                        "passed_time": 2.340436724,
                        "remaining_time": 5.929657707,
                        "test": [
                          1.559841494
                        ]
                      },
                      {
                        "learn": [
                          0.2394505687
                        ],
                        "iteration": 283,
                        "passed_time": 2.347986249,
                        "remaining_time": 5.919570966,
                        "test": [
                          1.560199372
                        ]
                      },
                      {
                        "learn": [
                          0.2384156022
                        ],
                        "iteration": 284,
                        "passed_time": 2.355367386,
                        "remaining_time": 5.909079581,
                        "test": [
                          1.559261748
                        ]
                      },
                      {
                        "learn": [
                          0.2373667785
                        ],
                        "iteration": 285,
                        "passed_time": 2.362720536,
                        "remaining_time": 5.898540081,
                        "test": [
                          1.559742417
                        ]
                      },
                      {
                        "learn": [
                          0.2362901319
                        ],
                        "iteration": 286,
                        "passed_time": 2.369795803,
                        "remaining_time": 5.88733243,
                        "test": [
                          1.560032504
                        ]
                      },
                      {
                        "learn": [
                          0.2352129639
                        ],
                        "iteration": 287,
                        "passed_time": 2.377317836,
                        "remaining_time": 5.877257983,
                        "test": [
                          1.559987809
                        ]
                      },
                      {
                        "learn": [
                          0.2338734729
                        ],
                        "iteration": 288,
                        "passed_time": 2.384660244,
                        "remaining_time": 5.866759285,
                        "test": [
                          1.561279799
                        ]
                      },
                      {
                        "learn": [
                          0.2328185874
                        ],
                        "iteration": 289,
                        "passed_time": 2.392022998,
                        "remaining_time": 5.856332169,
                        "test": [
                          1.559121816
                        ]
                      },
                      {
                        "learn": [
                          0.2321357434
                        ],
                        "iteration": 290,
                        "passed_time": 2.402474413,
                        "remaining_time": 5.853451406,
                        "test": [
                          1.55986016
                        ]
                      },
                      {
                        "learn": [
                          0.2309972628
                        ],
                        "iteration": 291,
                        "passed_time": 2.410364661,
                        "remaining_time": 5.844308836,
                        "test": [
                          1.560042304
                        ]
                      },
                      {
                        "learn": [
                          0.2297724257
                        ],
                        "iteration": 292,
                        "passed_time": 2.417383771,
                        "remaining_time": 5.833072786,
                        "test": [
                          1.559513331
                        ]
                      },
                      {
                        "learn": [
                          0.229001463
                        ],
                        "iteration": 293,
                        "passed_time": 2.424421758,
                        "remaining_time": 5.821910753,
                        "test": [
                          1.559824192
                        ]
                      },
                      {
                        "learn": [
                          0.2284380845
                        ],
                        "iteration": 294,
                        "passed_time": 2.431606652,
                        "remaining_time": 5.811127761,
                        "test": [
                          1.560180028
                        ]
                      },
                      {
                        "learn": [
                          0.2276697939
                        ],
                        "iteration": 295,
                        "passed_time": 2.43900116,
                        "remaining_time": 5.800867624,
                        "test": [
                          1.559237741
                        ]
                      },
                      {
                        "learn": [
                          0.2265621365
                        ],
                        "iteration": 296,
                        "passed_time": 2.446919665,
                        "remaining_time": 5.791867086,
                        "test": [
                          1.559960686
                        ]
                      },
                      {
                        "learn": [
                          0.2258895887
                        ],
                        "iteration": 297,
                        "passed_time": 2.454212498,
                        "remaining_time": 5.781399911,
                        "test": [
                          1.559526955
                        ]
                      },
                      {
                        "learn": [
                          0.2253150003
                        ],
                        "iteration": 298,
                        "passed_time": 2.461799935,
                        "remaining_time": 5.771644663,
                        "test": [
                          1.562159054
                        ]
                      },
                      {
                        "learn": [
                          0.2243038804
                        ],
                        "iteration": 299,
                        "passed_time": 2.469128432,
                        "remaining_time": 5.761299675,
                        "test": [
                          1.559928862
                        ]
                      },
                      {
                        "learn": [
                          0.2234575661
                        ],
                        "iteration": 300,
                        "passed_time": 2.476865762,
                        "remaining_time": 5.751924145,
                        "test": [
                          1.558692222
                        ]
                      },
                      {
                        "learn": [
                          0.2225448131
                        ],
                        "iteration": 301,
                        "passed_time": 2.484639369,
                        "remaining_time": 5.742643309,
                        "test": [
                          1.559190107
                        ]
                      },
                      {
                        "learn": [
                          0.2216933136
                        ],
                        "iteration": 302,
                        "passed_time": 2.492443093,
                        "remaining_time": 5.733441702,
                        "test": [
                          1.562724364
                        ]
                      },
                      {
                        "learn": [
                          0.2206606081
                        ],
                        "iteration": 303,
                        "passed_time": 2.500146946,
                        "remaining_time": 5.72402064,
                        "test": [
                          1.563392314
                        ]
                      },
                      {
                        "learn": [
                          0.2195897095
                        ],
                        "iteration": 304,
                        "passed_time": 2.507826704,
                        "remaining_time": 5.714555933,
                        "test": [
                          1.564744811
                        ]
                      },
                      {
                        "learn": [
                          0.218461272
                        ],
                        "iteration": 305,
                        "passed_time": 2.51543592,
                        "remaining_time": 5.704942903,
                        "test": [
                          1.565412727
                        ]
                      },
                      {
                        "learn": [
                          0.2175111963
                        ],
                        "iteration": 306,
                        "passed_time": 2.522985847,
                        "remaining_time": 5.695209095,
                        "test": [
                          1.566143635
                        ]
                      },
                      {
                        "learn": [
                          0.2168117939
                        ],
                        "iteration": 307,
                        "passed_time": 2.530235237,
                        "remaining_time": 5.684814234,
                        "test": [
                          1.566038389
                        ]
                      },
                      {
                        "learn": [
                          0.215809851
                        ],
                        "iteration": 308,
                        "passed_time": 2.537763341,
                        "remaining_time": 5.675063006,
                        "test": [
                          1.570084074
                        ]
                      },
                      {
                        "learn": [
                          0.2150415033
                        ],
                        "iteration": 309,
                        "passed_time": 2.545791192,
                        "remaining_time": 5.66643846,
                        "test": [
                          1.570473834
                        ]
                      },
                      {
                        "learn": [
                          0.2144873849
                        ],
                        "iteration": 310,
                        "passed_time": 2.553553973,
                        "remaining_time": 5.657230507,
                        "test": [
                          1.57112367
                        ]
                      },
                      {
                        "learn": [
                          0.213796185
                        ],
                        "iteration": 311,
                        "passed_time": 2.561212483,
                        "remaining_time": 5.647801885,
                        "test": [
                          1.57207975
                        ]
                      },
                      {
                        "learn": [
                          0.2128794095
                        ],
                        "iteration": 312,
                        "passed_time": 2.568809793,
                        "remaining_time": 5.638250248,
                        "test": [
                          1.573322392
                        ]
                      },
                      {
                        "learn": [
                          0.2122671543
                        ],
                        "iteration": 313,
                        "passed_time": 2.576530735,
                        "remaining_time": 5.628981161,
                        "test": [
                          1.574616741
                        ]
                      },
                      {
                        "learn": [
                          0.2118192185
                        ],
                        "iteration": 314,
                        "passed_time": 2.583825254,
                        "remaining_time": 5.6187946,
                        "test": [
                          1.575749729
                        ]
                      },
                      {
                        "learn": [
                          0.2108148972
                        ],
                        "iteration": 315,
                        "passed_time": 2.591648025,
                        "remaining_time": 5.609769775,
                        "test": [
                          1.5764478
                        ]
                      },
                      {
                        "learn": [
                          0.2103414201
                        ],
                        "iteration": 316,
                        "passed_time": 2.604194885,
                        "remaining_time": 5.610930936,
                        "test": [
                          1.575888569
                        ]
                      },
                      {
                        "learn": [
                          0.2092931292
                        ],
                        "iteration": 317,
                        "passed_time": 2.616460946,
                        "remaining_time": 5.611403665,
                        "test": [
                          1.577319434
                        ]
                      },
                      {
                        "learn": [
                          0.2086237765
                        ],
                        "iteration": 318,
                        "passed_time": 2.623632799,
                        "remaining_time": 5.60092143,
                        "test": [
                          1.578668218
                        ]
                      },
                      {
                        "learn": [
                          0.2081489264
                        ],
                        "iteration": 319,
                        "passed_time": 2.630881667,
                        "remaining_time": 5.590623543,
                        "test": [
                          1.579188104
                        ]
                      },
                      {
                        "learn": [
                          0.2072561838
                        ],
                        "iteration": 320,
                        "passed_time": 2.638642259,
                        "remaining_time": 5.581427083,
                        "test": [
                          1.5814281
                        ]
                      },
                      {
                        "learn": [
                          0.2064829276
                        ],
                        "iteration": 321,
                        "passed_time": 2.646448394,
                        "remaining_time": 5.572335439,
                        "test": [
                          1.583370923
                        ]
                      },
                      {
                        "learn": [
                          0.2057864012
                        ],
                        "iteration": 322,
                        "passed_time": 2.653899132,
                        "remaining_time": 5.56250685,
                        "test": [
                          1.585763402
                        ]
                      },
                      {
                        "learn": [
                          0.2051705087
                        ],
                        "iteration": 323,
                        "passed_time": 2.661711595,
                        "remaining_time": 5.55344765,
                        "test": [
                          1.587013087
                        ]
                      },
                      {
                        "learn": [
                          0.2039525137
                        ],
                        "iteration": 324,
                        "passed_time": 2.669578805,
                        "remaining_time": 5.544509826,
                        "test": [
                          1.585856335
                        ]
                      },
                      {
                        "learn": [
                          0.2032902274
                        ],
                        "iteration": 325,
                        "passed_time": 2.677220243,
                        "remaining_time": 5.535111791,
                        "test": [
                          1.586942125
                        ]
                      },
                      {
                        "learn": [
                          0.2024725213
                        ],
                        "iteration": 326,
                        "passed_time": 2.684590846,
                        "remaining_time": 5.525167093,
                        "test": [
                          1.587800251
                        ]
                      },
                      {
                        "learn": [
                          0.2014963929
                        ],
                        "iteration": 327,
                        "passed_time": 2.692339565,
                        "remaining_time": 5.516012767,
                        "test": [
                          1.587334793
                        ]
                      },
                      {
                        "learn": [
                          0.2005645664
                        ],
                        "iteration": 328,
                        "passed_time": 2.69972347,
                        "remaining_time": 5.506122944,
                        "test": [
                          1.587604356
                        ]
                      },
                      {
                        "learn": [
                          0.199750505
                        ],
                        "iteration": 329,
                        "passed_time": 2.706960604,
                        "remaining_time": 5.495950317,
                        "test": [
                          1.586638381
                        ]
                      },
                      {
                        "learn": [
                          0.1985621003
                        ],
                        "iteration": 330,
                        "passed_time": 2.714491221,
                        "remaining_time": 5.486388601,
                        "test": [
                          1.586603761
                        ]
                      },
                      {
                        "learn": [
                          0.1976750081
                        ],
                        "iteration": 331,
                        "passed_time": 2.72169147,
                        "remaining_time": 5.476174403,
                        "test": [
                          1.587135668
                        ]
                      },
                      {
                        "learn": [
                          0.1968648578
                        ],
                        "iteration": 332,
                        "passed_time": 2.729425651,
                        "remaining_time": 5.467047775,
                        "test": [
                          1.584821361
                        ]
                      },
                      {
                        "learn": [
                          0.1960497175
                        ],
                        "iteration": 333,
                        "passed_time": 2.741626921,
                        "remaining_time": 5.466836914,
                        "test": [
                          1.585919158
                        ]
                      },
                      {
                        "learn": [
                          0.1956028328
                        ],
                        "iteration": 334,
                        "passed_time": 2.748846532,
                        "remaining_time": 5.456665504,
                        "test": [
                          1.586498292
                        ]
                      },
                      {
                        "learn": [
                          0.1949548321
                        ],
                        "iteration": 335,
                        "passed_time": 2.756562834,
                        "remaining_time": 5.447493219,
                        "test": [
                          1.587451537
                        ]
                      },
                      {
                        "learn": [
                          0.1942435245
                        ],
                        "iteration": 336,
                        "passed_time": 2.764076047,
                        "remaining_time": 5.437930028,
                        "test": [
                          1.587240586
                        ]
                      },
                      {
                        "learn": [
                          0.1934816873
                        ],
                        "iteration": 337,
                        "passed_time": 2.771332124,
                        "remaining_time": 5.427875343,
                        "test": [
                          1.587453578
                        ]
                      },
                      {
                        "learn": [
                          0.1929115872
                        ],
                        "iteration": 338,
                        "passed_time": 2.778788444,
                        "remaining_time": 5.418227615,
                        "test": [
                          1.586612201
                        ]
                      },
                      {
                        "learn": [
                          0.1924941532
                        ],
                        "iteration": 339,
                        "passed_time": 2.786335821,
                        "remaining_time": 5.408769535,
                        "test": [
                          1.586957657
                        ]
                      },
                      {
                        "learn": [
                          0.1917735347
                        ],
                        "iteration": 340,
                        "passed_time": 2.793753658,
                        "remaining_time": 5.399072319,
                        "test": [
                          1.588180287
                        ]
                      },
                      {
                        "learn": [
                          0.1911991441
                        ],
                        "iteration": 341,
                        "passed_time": 2.806087806,
                        "remaining_time": 5.398847299,
                        "test": [
                          1.590611159
                        ]
                      },
                      {
                        "learn": [
                          0.1904231799
                        ],
                        "iteration": 342,
                        "passed_time": 2.814072545,
                        "remaining_time": 5.390220588,
                        "test": [
                          1.592099484
                        ]
                      },
                      {
                        "learn": [
                          0.1896249669
                        ],
                        "iteration": 343,
                        "passed_time": 2.821646816,
                        "remaining_time": 5.380814859,
                        "test": [
                          1.592824383
                        ]
                      },
                      {
                        "learn": [
                          0.1887336568
                        ],
                        "iteration": 344,
                        "passed_time": 2.828986967,
                        "remaining_time": 5.370975255,
                        "test": [
                          1.59317591
                        ]
                      },
                      {
                        "learn": [
                          0.1878798361
                        ],
                        "iteration": 345,
                        "passed_time": 2.836749418,
                        "remaining_time": 5.361948322,
                        "test": [
                          1.596189264
                        ]
                      },
                      {
                        "learn": [
                          0.1870176694
                        ],
                        "iteration": 346,
                        "passed_time": 2.844559555,
                        "remaining_time": 5.353018413,
                        "test": [
                          1.598132138
                        ]
                      },
                      {
                        "learn": [
                          0.1866404635
                        ],
                        "iteration": 347,
                        "passed_time": 2.851910428,
                        "remaining_time": 5.34323448,
                        "test": [
                          1.599921396
                        ]
                      },
                      {
                        "learn": [
                          0.1858787642
                        ],
                        "iteration": 348,
                        "passed_time": 2.859391619,
                        "remaining_time": 5.333707577,
                        "test": [
                          1.598972556
                        ]
                      },
                      {
                        "learn": [
                          0.1850219419
                        ],
                        "iteration": 349,
                        "passed_time": 2.867452973,
                        "remaining_time": 5.325269807,
                        "test": [
                          1.599725149
                        ]
                      },
                      {
                        "learn": [
                          0.184404659
                        ],
                        "iteration": 350,
                        "passed_time": 2.874719419,
                        "remaining_time": 5.315364395,
                        "test": [
                          1.600461816
                        ]
                      },
                      {
                        "learn": [
                          0.183818718
                        ],
                        "iteration": 351,
                        "passed_time": 2.882563878,
                        "remaining_time": 5.306538047,
                        "test": [
                          1.602697582
                        ]
                      },
                      {
                        "learn": [
                          0.1832084932
                        ],
                        "iteration": 352,
                        "passed_time": 2.890217801,
                        "remaining_time": 5.297368037,
                        "test": [
                          1.60179244
                        ]
                      },
                      {
                        "learn": [
                          0.182576789
                        ],
                        "iteration": 353,
                        "passed_time": 2.92187723,
                        "remaining_time": 5.33201325,
                        "test": [
                          1.602998299
                        ]
                      },
                      {
                        "learn": [
                          0.1818444458
                        ],
                        "iteration": 354,
                        "passed_time": 2.937877675,
                        "remaining_time": 5.337834085,
                        "test": [
                          1.605097638
                        ]
                      },
                      {
                        "learn": [
                          0.1810566804
                        ],
                        "iteration": 355,
                        "passed_time": 2.954253495,
                        "remaining_time": 5.344211379,
                        "test": [
                          1.606699208
                        ]
                      },
                      {
                        "learn": [
                          0.1807628994
                        ],
                        "iteration": 356,
                        "passed_time": 2.967943938,
                        "remaining_time": 5.345624515,
                        "test": [
                          1.608015577
                        ]
                      },
                      {
                        "learn": [
                          0.1800524401
                        ],
                        "iteration": 357,
                        "passed_time": 2.975949565,
                        "remaining_time": 5.336758718,
                        "test": [
                          1.607414014
                        ]
                      },
                      {
                        "learn": [
                          0.179573159
                        ],
                        "iteration": 358,
                        "passed_time": 2.983799356,
                        "remaining_time": 5.327619463,
                        "test": [
                          1.605288564
                        ]
                      },
                      {
                        "learn": [
                          0.1789252883
                        ],
                        "iteration": 359,
                        "passed_time": 2.991523094,
                        "remaining_time": 5.318263279,
                        "test": [
                          1.604761273
                        ]
                      },
                      {
                        "learn": [
                          0.1783009571
                        ],
                        "iteration": 360,
                        "passed_time": 2.999137962,
                        "remaining_time": 5.308723428,
                        "test": [
                          1.604363111
                        ]
                      },
                      {
                        "learn": [
                          0.1775767056
                        ],
                        "iteration": 361,
                        "passed_time": 3.012519342,
                        "remaining_time": 5.309357293,
                        "test": [
                          1.60501002
                        ]
                      },
                      {
                        "learn": [
                          0.1771672912
                        ],
                        "iteration": 362,
                        "passed_time": 3.020040248,
                        "remaining_time": 5.299629857,
                        "test": [
                          1.605174751
                        ]
                      },
                      {
                        "learn": [
                          0.1765413269
                        ],
                        "iteration": 363,
                        "passed_time": 3.027918036,
                        "remaining_time": 5.290538107,
                        "test": [
                          1.606907079
                        ]
                      },
                      {
                        "learn": [
                          0.176208712
                        ],
                        "iteration": 364,
                        "passed_time": 3.035633546,
                        "remaining_time": 5.281170689,
                        "test": [
                          1.606383579
                        ]
                      },
                      {
                        "learn": [
                          0.1755680136
                        ],
                        "iteration": 365,
                        "passed_time": 3.043094711,
                        "remaining_time": 5.271371713,
                        "test": [
                          1.606849407
                        ]
                      },
                      {
                        "learn": [
                          0.1750211208
                        ],
                        "iteration": 366,
                        "passed_time": 3.055143986,
                        "remaining_time": 5.269499028,
                        "test": [
                          1.606838732
                        ]
                      },
                      {
                        "learn": [
                          0.1742795548
                        ],
                        "iteration": 367,
                        "passed_time": 3.062919279,
                        "remaining_time": 5.260230936,
                        "test": [
                          1.605933199
                        ]
                      },
                      {
                        "learn": [
                          0.1737531839
                        ],
                        "iteration": 368,
                        "passed_time": 3.070179748,
                        "remaining_time": 5.250090572,
                        "test": [
                          1.606765092
                        ]
                      },
                      {
                        "learn": [
                          0.1730519315
                        ],
                        "iteration": 369,
                        "passed_time": 3.077878349,
                        "remaining_time": 5.240711784,
                        "test": [
                          1.608470671
                        ]
                      },
                      {
                        "learn": [
                          0.1723733356
                        ],
                        "iteration": 370,
                        "passed_time": 3.086529423,
                        "remaining_time": 5.232956893,
                        "test": [
                          1.607560711
                        ]
                      },
                      {
                        "learn": [
                          0.1718024659
                        ],
                        "iteration": 371,
                        "passed_time": 3.094185015,
                        "remaining_time": 5.223516639,
                        "test": [
                          1.607317414
                        ]
                      },
                      {
                        "learn": [
                          0.1715201277
                        ],
                        "iteration": 372,
                        "passed_time": 3.102070739,
                        "remaining_time": 5.214472797,
                        "test": [
                          1.608016452
                        ]
                      },
                      {
                        "learn": [
                          0.1708980808
                        ],
                        "iteration": 373,
                        "passed_time": 3.109710885,
                        "remaining_time": 5.205024101,
                        "test": [
                          1.607697543
                        ]
                      },
                      {
                        "learn": [
                          0.1703260412
                        ],
                        "iteration": 374,
                        "passed_time": 3.117260587,
                        "remaining_time": 5.195434312,
                        "test": [
                          1.606348761
                        ]
                      },
                      {
                        "learn": [
                          0.1696873639
                        ],
                        "iteration": 375,
                        "passed_time": 3.124923969,
                        "remaining_time": 5.186044034,
                        "test": [
                          1.608644618
                        ]
                      },
                      {
                        "learn": [
                          0.1691385027
                        ],
                        "iteration": 376,
                        "passed_time": 3.132876939,
                        "remaining_time": 5.177141467,
                        "test": [
                          1.608693058
                        ]
                      },
                      {
                        "learn": [
                          0.1684893684
                        ],
                        "iteration": 377,
                        "passed_time": 3.140680485,
                        "remaining_time": 5.167998046,
                        "test": [
                          1.608859166
                        ]
                      },
                      {
                        "learn": [
                          0.1677495738
                        ],
                        "iteration": 378,
                        "passed_time": 3.148721952,
                        "remaining_time": 5.159251536,
                        "test": [
                          1.608014261
                        ]
                      },
                      {
                        "learn": [
                          0.1672040848
                        ],
                        "iteration": 379,
                        "passed_time": 3.156147822,
                        "remaining_time": 5.149504341,
                        "test": [
                          1.60834075
                        ]
                      },
                      {
                        "learn": [
                          0.1666667145
                        ],
                        "iteration": 380,
                        "passed_time": 3.16383821,
                        "remaining_time": 5.140199087,
                        "test": [
                          1.608169562
                        ]
                      },
                      {
                        "learn": [
                          0.1662042812
                        ],
                        "iteration": 381,
                        "passed_time": 3.171384773,
                        "remaining_time": 5.130669606,
                        "test": [
                          1.609182553
                        ]
                      },
                      {
                        "learn": [
                          0.1656497015
                        ],
                        "iteration": 382,
                        "passed_time": 3.178788257,
                        "remaining_time": 5.120919985,
                        "test": [
                          1.60953951
                        ]
                      },
                      {
                        "learn": [
                          0.165116158
                        ],
                        "iteration": 383,
                        "passed_time": 3.1865058,
                        "remaining_time": 5.111686387,
                        "test": [
                          1.610529502
                        ]
                      },
                      {
                        "learn": [
                          0.164552874
                        ],
                        "iteration": 384,
                        "passed_time": 3.193840453,
                        "remaining_time": 5.101849036,
                        "test": [
                          1.611181839
                        ]
                      },
                      {
                        "learn": [
                          0.1640373385
                        ],
                        "iteration": 385,
                        "passed_time": 3.201417918,
                        "remaining_time": 5.092410884,
                        "test": [
                          1.611989666
                        ]
                      },
                      {
                        "learn": [
                          0.1635632778
                        ],
                        "iteration": 386,
                        "passed_time": 3.212652014,
                        "remaining_time": 5.088774378,
                        "test": [
                          1.613327929
                        ]
                      },
                      {
                        "learn": [
                          0.1630977121
                        ],
                        "iteration": 387,
                        "passed_time": 3.221204776,
                        "remaining_time": 5.080869389,
                        "test": [
                          1.613502347
                        ]
                      },
                      {
                        "learn": [
                          0.1625340913
                        ],
                        "iteration": 388,
                        "passed_time": 3.228869966,
                        "remaining_time": 5.071566964,
                        "test": [
                          1.612618664
                        ]
                      },
                      {
                        "learn": [
                          0.1620938814
                        ],
                        "iteration": 389,
                        "passed_time": 3.236192418,
                        "remaining_time": 5.061736859,
                        "test": [
                          1.612736632
                        ]
                      },
                      {
                        "learn": [
                          0.1613286585
                        ],
                        "iteration": 390,
                        "passed_time": 3.243816583,
                        "remaining_time": 5.052389512,
                        "test": [
                          1.613209827
                        ]
                      },
                      {
                        "learn": [
                          0.1610320163
                        ],
                        "iteration": 391,
                        "passed_time": 3.251201442,
                        "remaining_time": 5.042679788,
                        "test": [
                          1.614583211
                        ]
                      },
                      {
                        "learn": [
                          0.1603661135
                        ],
                        "iteration": 392,
                        "passed_time": 3.258583696,
                        "remaining_time": 5.032977871,
                        "test": [
                          1.617165039
                        ]
                      },
                      {
                        "learn": [
                          0.1598839734
                        ],
                        "iteration": 393,
                        "passed_time": 3.266048001,
                        "remaining_time": 5.02341393,
                        "test": [
                          1.615407236
                        ]
                      },
                      {
                        "learn": [
                          0.1595142652
                        ],
                        "iteration": 394,
                        "passed_time": 3.27361353,
                        "remaining_time": 5.01401566,
                        "test": [
                          1.616039502
                        ]
                      },
                      {
                        "learn": [
                          0.1589180665
                        ],
                        "iteration": 395,
                        "passed_time": 3.28141667,
                        "remaining_time": 5.004989063,
                        "test": [
                          1.61558937
                        ]
                      },
                      {
                        "learn": [
                          0.1584555662
                        ],
                        "iteration": 396,
                        "passed_time": 3.289304685,
                        "remaining_time": 4.996097545,
                        "test": [
                          1.61659012
                        ]
                      },
                      {
                        "learn": [
                          0.1580535724
                        ],
                        "iteration": 397,
                        "passed_time": 3.296695498,
                        "remaining_time": 4.98645902,
                        "test": [
                          1.616526381
                        ]
                      },
                      {
                        "learn": [
                          0.1574321057
                        ],
                        "iteration": 398,
                        "passed_time": 3.304230858,
                        "remaining_time": 4.977049488,
                        "test": [
                          1.617358346
                        ]
                      },
                      {
                        "learn": [
                          0.1570402237
                        ],
                        "iteration": 399,
                        "passed_time": 3.311875595,
                        "remaining_time": 4.967813392,
                        "test": [
                          1.617661718
                        ]
                      },
                      {
                        "learn": [
                          0.1565084267
                        ],
                        "iteration": 400,
                        "passed_time": 3.321204709,
                        "remaining_time": 4.961101299,
                        "test": [
                          1.617839416
                        ]
                      },
                      {
                        "learn": [
                          0.1560409862
                        ],
                        "iteration": 401,
                        "passed_time": 3.328338494,
                        "remaining_time": 4.951110496,
                        "test": [
                          1.618227401
                        ]
                      },
                      {
                        "learn": [
                          0.1555243605
                        ],
                        "iteration": 402,
                        "passed_time": 3.335359384,
                        "remaining_time": 4.94096663,
                        "test": [
                          1.616976379
                        ]
                      },
                      {
                        "learn": [
                          0.1548273568
                        ],
                        "iteration": 403,
                        "passed_time": 3.342941709,
                        "remaining_time": 4.931666482,
                        "test": [
                          1.617082143
                        ]
                      },
                      {
                        "learn": [
                          0.1541683873
                        ],
                        "iteration": 404,
                        "passed_time": 3.357274685,
                        "remaining_time": 4.932292438,
                        "test": [
                          1.617766998
                        ]
                      },
                      {
                        "learn": [
                          0.1537690079
                        ],
                        "iteration": 405,
                        "passed_time": 3.37510819,
                        "remaining_time": 4.93796617,
                        "test": [
                          1.617376577
                        ]
                      },
                      {
                        "learn": [
                          0.1532661813
                        ],
                        "iteration": 406,
                        "passed_time": 3.384255749,
                        "remaining_time": 4.930868941,
                        "test": [
                          1.618276418
                        ]
                      },
                      {
                        "learn": [
                          0.1526210348
                        ],
                        "iteration": 407,
                        "passed_time": 3.391471937,
                        "remaining_time": 4.920959281,
                        "test": [
                          1.618322011
                        ]
                      },
                      {
                        "learn": [
                          0.1521528639
                        ],
                        "iteration": 408,
                        "passed_time": 3.398627872,
                        "remaining_time": 4.910975727,
                        "test": [
                          1.617979128
                        ]
                      },
                      {
                        "learn": [
                          0.1514979607
                        ],
                        "iteration": 409,
                        "passed_time": 3.40887935,
                        "remaining_time": 4.905460529,
                        "test": [
                          1.618475997
                        ]
                      },
                      {
                        "learn": [
                          0.1509608669
                        ],
                        "iteration": 410,
                        "passed_time": 3.419806277,
                        "remaining_time": 4.900890261,
                        "test": [
                          1.621450572
                        ]
                      },
                      {
                        "learn": [
                          0.150251289
                        ],
                        "iteration": 411,
                        "passed_time": 3.427143619,
                        "remaining_time": 4.891166135,
                        "test": [
                          1.623304899
                        ]
                      },
                      {
                        "learn": [
                          0.1498497919
                        ],
                        "iteration": 412,
                        "passed_time": 3.434459354,
                        "remaining_time": 4.881422859,
                        "test": [
                          1.622232552
                        ]
                      },
                      {
                        "learn": [
                          0.1494357973
                        ],
                        "iteration": 413,
                        "passed_time": 3.441451433,
                        "remaining_time": 4.871233188,
                        "test": [
                          1.622824452
                        ]
                      },
                      {
                        "learn": [
                          0.1489928048
                        ],
                        "iteration": 414,
                        "passed_time": 3.448643051,
                        "remaining_time": 4.861340205,
                        "test": [
                          1.621695582
                        ]
                      },
                      {
                        "learn": [
                          0.1485014907
                        ],
                        "iteration": 415,
                        "passed_time": 3.456229508,
                        "remaining_time": 4.852014502,
                        "test": [
                          1.621398809
                        ]
                      },
                      {
                        "learn": [
                          0.1482613529
                        ],
                        "iteration": 416,
                        "passed_time": 3.463854765,
                        "remaining_time": 4.842751386,
                        "test": [
                          1.621631372
                        ]
                      },
                      {
                        "learn": [
                          0.1477551661
                        ],
                        "iteration": 417,
                        "passed_time": 3.471301584,
                        "remaining_time": 4.83324766,
                        "test": [
                          1.621067178
                        ]
                      },
                      {
                        "learn": [
                          0.1471420449
                        ],
                        "iteration": 418,
                        "passed_time": 3.478903773,
                        "remaining_time": 4.823969193,
                        "test": [
                          1.621586958
                        ]
                      },
                      {
                        "learn": [
                          0.1466555652
                        ],
                        "iteration": 419,
                        "passed_time": 3.486866639,
                        "remaining_time": 4.815196787,
                        "test": [
                          1.622612059
                        ]
                      },
                      {
                        "learn": [
                          0.1463471856
                        ],
                        "iteration": 420,
                        "passed_time": 3.494142066,
                        "remaining_time": 4.805482794,
                        "test": [
                          1.62372114
                        ]
                      },
                      {
                        "learn": [
                          0.1460547096
                        ],
                        "iteration": 421,
                        "passed_time": 3.501286096,
                        "remaining_time": 4.795600387,
                        "test": [
                          1.624459591
                        ]
                      },
                      {
                        "learn": [
                          0.1455002945
                        ],
                        "iteration": 422,
                        "passed_time": 3.509081473,
                        "remaining_time": 4.786619409,
                        "test": [
                          1.625298174
                        ]
                      },
                      {
                        "learn": [
                          0.1450969295
                        ],
                        "iteration": 423,
                        "passed_time": 3.516263128,
                        "remaining_time": 4.776810287,
                        "test": [
                          1.625798613
                        ]
                      },
                      {
                        "learn": [
                          0.1446044857
                        ],
                        "iteration": 424,
                        "passed_time": 3.523749068,
                        "remaining_time": 4.76742521,
                        "test": [
                          1.625263087
                        ]
                      },
                      {
                        "learn": [
                          0.1440252588
                        ],
                        "iteration": 425,
                        "passed_time": 3.531184579,
                        "remaining_time": 4.757981099,
                        "test": [
                          1.625443441
                        ]
                      },
                      {
                        "learn": [
                          0.1435422812
                        ],
                        "iteration": 426,
                        "passed_time": 3.538537046,
                        "remaining_time": 4.748434958,
                        "test": [
                          1.626395671
                        ]
                      },
                      {
                        "learn": [
                          0.1431331232
                        ],
                        "iteration": 427,
                        "passed_time": 3.546037409,
                        "remaining_time": 4.739096724,
                        "test": [
                          1.627138237
                        ]
                      },
                      {
                        "learn": [
                          0.142629651
                        ],
                        "iteration": 428,
                        "passed_time": 3.55346024,
                        "remaining_time": 4.729663862,
                        "test": [
                          1.62774533
                        ]
                      },
                      {
                        "learn": [
                          0.1422182335
                        ],
                        "iteration": 429,
                        "passed_time": 3.56116147,
                        "remaining_time": 4.72060939,
                        "test": [
                          1.628735883
                        ]
                      },
                      {
                        "learn": [
                          0.1417734726
                        ],
                        "iteration": 430,
                        "passed_time": 3.568661336,
                        "remaining_time": 4.711295359,
                        "test": [
                          1.629896716
                        ]
                      },
                      {
                        "learn": [
                          0.1413570599
                        ],
                        "iteration": 431,
                        "passed_time": 3.576361067,
                        "remaining_time": 4.702252514,
                        "test": [
                          1.630361856
                        ]
                      },
                      {
                        "learn": [
                          0.140759594
                        ],
                        "iteration": 432,
                        "passed_time": 3.583624902,
                        "remaining_time": 4.69264508,
                        "test": [
                          1.632462937
                        ]
                      },
                      {
                        "learn": [
                          0.1401674128
                        ],
                        "iteration": 433,
                        "passed_time": 3.590932592,
                        "remaining_time": 4.683105638,
                        "test": [
                          1.631844899
                        ]
                      },
                      {
                        "learn": [
                          0.1398767962
                        ],
                        "iteration": 434,
                        "passed_time": 3.598364684,
                        "remaining_time": 4.673738038,
                        "test": [
                          1.630758387
                        ]
                      },
                      {
                        "learn": [
                          0.1395332164
                        ],
                        "iteration": 435,
                        "passed_time": 3.611301947,
                        "remaining_time": 4.671500683,
                        "test": [
                          1.63139711
                        ]
                      },
                      {
                        "learn": [
                          0.1391178797
                        ],
                        "iteration": 436,
                        "passed_time": 3.619408358,
                        "remaining_time": 4.662990631,
                        "test": [
                          1.631097852
                        ]
                      },
                      {
                        "learn": [
                          0.138725929
                        ],
                        "iteration": 437,
                        "passed_time": 3.627091335,
                        "remaining_time": 4.653939111,
                        "test": [
                          1.630717673
                        ]
                      },
                      {
                        "learn": [
                          0.1383115192
                        ],
                        "iteration": 438,
                        "passed_time": 3.63475915,
                        "remaining_time": 4.644874449,
                        "test": [
                          1.629569927
                        ]
                      },
                      {
                        "learn": [
                          0.1379537623
                        ],
                        "iteration": 439,
                        "passed_time": 3.642452985,
                        "remaining_time": 4.635849253,
                        "test": [
                          1.628652053
                        ]
                      },
                      {
                        "learn": [
                          0.1374931448
                        ],
                        "iteration": 440,
                        "passed_time": 3.650486845,
                        "remaining_time": 4.627261103,
                        "test": [
                          1.629579742
                        ]
                      },
                      {
                        "learn": [
                          0.1370053552
                        ],
                        "iteration": 441,
                        "passed_time": 3.65807386,
                        "remaining_time": 4.618111343,
                        "test": [
                          1.6300235
                        ]
                      },
                      {
                        "learn": [
                          0.1365532283
                        ],
                        "iteration": 442,
                        "passed_time": 3.665735166,
                        "remaining_time": 4.609062048,
                        "test": [
                          1.628652086
                        ]
                      },
                      {
                        "learn": [
                          0.1363463772
                        ],
                        "iteration": 443,
                        "passed_time": 3.673571144,
                        "remaining_time": 4.600237738,
                        "test": [
                          1.629602765
                        ]
                      },
                      {
                        "learn": [
                          0.1359018658
                        ],
                        "iteration": 444,
                        "passed_time": 3.681321772,
                        "remaining_time": 4.591311424,
                        "test": [
                          1.631285084
                        ]
                      },
                      {
                        "learn": [
                          0.1355693097
                        ],
                        "iteration": 445,
                        "passed_time": 3.688749431,
                        "remaining_time": 4.581989204,
                        "test": [
                          1.632506342
                        ]
                      },
                      {
                        "learn": [
                          0.1351640448
                        ],
                        "iteration": 446,
                        "passed_time": 3.696437596,
                        "remaining_time": 4.572997742,
                        "test": [
                          1.633236993
                        ]
                      },
                      {
                        "learn": [
                          0.1344824859
                        ],
                        "iteration": 447,
                        "passed_time": 3.703977918,
                        "remaining_time": 4.563829935,
                        "test": [
                          1.63583261
                        ]
                      },
                      {
                        "learn": [
                          0.1340893719
                        ],
                        "iteration": 448,
                        "passed_time": 3.711594186,
                        "remaining_time": 4.554762576,
                        "test": [
                          1.637104636
                        ]
                      },
                      {
                        "learn": [
                          0.1337715562
                        ],
                        "iteration": 449,
                        "passed_time": 3.719125445,
                        "remaining_time": 4.545597766,
                        "test": [
                          1.638370869
                        ]
                      },
                      {
                        "learn": [
                          0.1335397313
                        ],
                        "iteration": 450,
                        "passed_time": 3.726670691,
                        "remaining_time": 4.536457227,
                        "test": [
                          1.639392914
                        ]
                      },
                      {
                        "learn": [
                          0.1331385794
                        ],
                        "iteration": 451,
                        "passed_time": 3.734063977,
                        "remaining_time": 4.527139512,
                        "test": [
                          1.638968135
                        ]
                      },
                      {
                        "learn": [
                          0.132638595
                        ],
                        "iteration": 452,
                        "passed_time": 3.741769208,
                        "remaining_time": 4.518206969,
                        "test": [
                          1.64042768
                        ]
                      },
                      {
                        "learn": [
                          0.1324707326
                        ],
                        "iteration": 453,
                        "passed_time": 3.749498116,
                        "remaining_time": 4.509308307,
                        "test": [
                          1.640736257
                        ]
                      },
                      {
                        "learn": [
                          0.1322855488
                        ],
                        "iteration": 454,
                        "passed_time": 3.757189871,
                        "remaining_time": 4.500370285,
                        "test": [
                          1.641867343
                        ]
                      },
                      {
                        "learn": [
                          0.1319135712
                        ],
                        "iteration": 455,
                        "passed_time": 3.764837076,
                        "remaining_time": 4.491384582,
                        "test": [
                          1.642504954
                        ]
                      },
                      {
                        "learn": [
                          0.1315741497
                        ],
                        "iteration": 456,
                        "passed_time": 3.772345485,
                        "remaining_time": 4.482239822,
                        "test": [
                          1.64296986
                        ]
                      },
                      {
                        "learn": [
                          0.1312367657
                        ],
                        "iteration": 457,
                        "passed_time": 3.780958652,
                        "remaining_time": 4.474409583,
                        "test": [
                          1.643340177
                        ]
                      },
                      {
                        "learn": [
                          0.1309055619
                        ],
                        "iteration": 458,
                        "passed_time": 3.791651311,
                        "remaining_time": 4.469026927,
                        "test": [
                          1.643790584
                        ]
                      },
                      {
                        "learn": [
                          0.1305203469
                        ],
                        "iteration": 459,
                        "passed_time": 3.799106755,
                        "remaining_time": 4.459820974,
                        "test": [
                          1.644921622
                        ]
                      },
                      {
                        "learn": [
                          0.1301586183
                        ],
                        "iteration": 460,
                        "passed_time": 3.81166793,
                        "remaining_time": 4.456592222,
                        "test": [
                          1.645060062
                        ]
                      },
                      {
                        "learn": [
                          0.1299844412
                        ],
                        "iteration": 461,
                        "passed_time": 3.819426769,
                        "remaining_time": 4.44773074,
                        "test": [
                          1.644973378
                        ]
                      },
                      {
                        "learn": [
                          0.1297304569
                        ],
                        "iteration": 462,
                        "passed_time": 3.826817843,
                        "remaining_time": 4.438447477,
                        "test": [
                          1.644835213
                        ]
                      },
                      {
                        "learn": [
                          0.1293513971
                        ],
                        "iteration": 463,
                        "passed_time": 3.83437084,
                        "remaining_time": 4.429359419,
                        "test": [
                          1.64515864
                        ]
                      },
                      {
                        "learn": [
                          0.1290037461
                        ],
                        "iteration": 464,
                        "passed_time": 3.842344223,
                        "remaining_time": 4.420761632,
                        "test": [
                          1.645286155
                        ]
                      },
                      {
                        "learn": [
                          0.128598186
                        ],
                        "iteration": 465,
                        "passed_time": 3.85010132,
                        "remaining_time": 4.41191868,
                        "test": [
                          1.645605742
                        ]
                      },
                      {
                        "learn": [
                          0.1282344182
                        ],
                        "iteration": 466,
                        "passed_time": 3.857593349,
                        "remaining_time": 4.402777849,
                        "test": [
                          1.645916007
                        ]
                      },
                      {
                        "learn": [
                          0.1278899408
                        ],
                        "iteration": 467,
                        "passed_time": 3.865318951,
                        "remaining_time": 4.393909577,
                        "test": [
                          1.647635813
                        ]
                      },
                      {
                        "learn": [
                          0.12743403
                        ],
                        "iteration": 468,
                        "passed_time": 3.873022336,
                        "remaining_time": 4.385021024,
                        "test": [
                          1.647958078
                        ]
                      },
                      {
                        "learn": [
                          0.1271415656
                        ],
                        "iteration": 469,
                        "passed_time": 3.904940287,
                        "remaining_time": 4.403443302,
                        "test": [
                          1.649110396
                        ]
                      },
                      {
                        "learn": [
                          0.1267478477
                        ],
                        "iteration": 470,
                        "passed_time": 3.921645961,
                        "remaining_time": 4.40456627,
                        "test": [
                          1.64937478
                        ]
                      },
                      {
                        "learn": [
                          0.1264526459
                        ],
                        "iteration": 471,
                        "passed_time": 3.938530225,
                        "remaining_time": 4.405813473,
                        "test": [
                          1.650667665
                        ]
                      },
                      {
                        "learn": [
                          0.1260854936
                        ],
                        "iteration": 472,
                        "passed_time": 3.954687878,
                        "remaining_time": 4.406174443,
                        "test": [
                          1.65016993
                        ]
                      },
                      {
                        "learn": [
                          0.1257831342
                        ],
                        "iteration": 473,
                        "passed_time": 3.969098286,
                        "remaining_time": 4.40452679,
                        "test": [
                          1.648561777
                        ]
                      },
                      {
                        "learn": [
                          0.1254680716
                        ],
                        "iteration": 474,
                        "passed_time": 3.976855331,
                        "remaining_time": 4.395471682,
                        "test": [
                          1.649008651
                        ]
                      },
                      {
                        "learn": [
                          0.1249386804
                        ],
                        "iteration": 475,
                        "passed_time": 3.984359273,
                        "remaining_time": 4.386143401,
                        "test": [
                          1.650489148
                        ]
                      },
                      {
                        "learn": [
                          0.1247511146
                        ],
                        "iteration": 476,
                        "passed_time": 3.991733004,
                        "remaining_time": 4.376680002,
                        "test": [
                          1.650556744
                        ]
                      },
                      {
                        "learn": [
                          0.1243688875
                        ],
                        "iteration": 477,
                        "passed_time": 3.99913605,
                        "remaining_time": 4.36725736,
                        "test": [
                          1.651373607
                        ]
                      },
                      {
                        "learn": [
                          0.123937355
                        ],
                        "iteration": 478,
                        "passed_time": 4.009059535,
                        "remaining_time": 4.360584589,
                        "test": [
                          1.650864136
                        ]
                      },
                      {
                        "learn": [
                          0.1236239747
                        ],
                        "iteration": 479,
                        "passed_time": 4.017989962,
                        "remaining_time": 4.352822459,
                        "test": [
                          1.652152613
                        ]
                      },
                      {
                        "learn": [
                          0.1233103862
                        ],
                        "iteration": 480,
                        "passed_time": 4.025190027,
                        "remaining_time": 4.343188407,
                        "test": [
                          1.651470738
                        ]
                      },
                      {
                        "learn": [
                          0.1228870018
                        ],
                        "iteration": 481,
                        "passed_time": 4.034456334,
                        "remaining_time": 4.335785023,
                        "test": [
                          1.651672568
                        ]
                      },
                      {
                        "learn": [
                          0.1225850546
                        ],
                        "iteration": 482,
                        "passed_time": 4.042726916,
                        "remaining_time": 4.327308107,
                        "test": [
                          1.652809241
                        ]
                      },
                      {
                        "learn": [
                          0.1222932516
                        ],
                        "iteration": 483,
                        "passed_time": 4.050165749,
                        "remaining_time": 4.317945303,
                        "test": [
                          1.652472282
                        ]
                      },
                      {
                        "learn": [
                          0.1220353149
                        ],
                        "iteration": 484,
                        "passed_time": 4.057918539,
                        "remaining_time": 4.30892381,
                        "test": [
                          1.652384061
                        ]
                      },
                      {
                        "learn": [
                          0.1218615706
                        ],
                        "iteration": 485,
                        "passed_time": 4.065665902,
                        "remaining_time": 4.299901797,
                        "test": [
                          1.652453462
                        ]
                      },
                      {
                        "learn": [
                          0.121513429
                        ],
                        "iteration": 486,
                        "passed_time": 4.073422677,
                        "remaining_time": 4.290894935,
                        "test": [
                          1.651904782
                        ]
                      },
                      {
                        "learn": [
                          0.1212406373
                        ],
                        "iteration": 487,
                        "passed_time": 4.08132513,
                        "remaining_time": 4.282046038,
                        "test": [
                          1.653039365
                        ]
                      },
                      {
                        "learn": [
                          0.1208803448
                        ],
                        "iteration": 488,
                        "passed_time": 4.089185338,
                        "remaining_time": 4.273156867,
                        "test": [
                          1.652129502
                        ]
                      },
                      {
                        "learn": [
                          0.1205027124
                        ],
                        "iteration": 489,
                        "passed_time": 4.096641577,
                        "remaining_time": 4.263851438,
                        "test": [
                          1.651521767
                        ]
                      },
                      {
                        "learn": [
                          0.1201439812
                        ],
                        "iteration": 490,
                        "passed_time": 4.104205609,
                        "remaining_time": 4.254665285,
                        "test": [
                          1.651047978
                        ]
                      },
                      {
                        "learn": [
                          0.1198215919
                        ],
                        "iteration": 491,
                        "passed_time": 4.111454364,
                        "remaining_time": 4.245160197,
                        "test": [
                          1.651070765
                        ]
                      },
                      {
                        "learn": [
                          0.1195492551
                        ],
                        "iteration": 492,
                        "passed_time": 4.119114355,
                        "remaining_time": 4.236087177,
                        "test": [
                          1.650720159
                        ]
                      },
                      {
                        "learn": [
                          0.1192041738
                        ],
                        "iteration": 493,
                        "passed_time": 4.126550076,
                        "remaining_time": 4.226790158,
                        "test": [
                          1.651152179
                        ]
                      },
                      {
                        "learn": [
                          0.1188226939
                        ],
                        "iteration": 494,
                        "passed_time": 4.134165375,
                        "remaining_time": 4.217683867,
                        "test": [
                          1.650969462
                        ]
                      },
                      {
                        "learn": [
                          0.1186146603
                        ],
                        "iteration": 495,
                        "passed_time": 4.141583956,
                        "remaining_time": 4.208383697,
                        "test": [
                          1.650161524
                        ]
                      },
                      {
                        "learn": [
                          0.1182563802
                        ],
                        "iteration": 496,
                        "passed_time": 4.14916506,
                        "remaining_time": 4.199255584,
                        "test": [
                          1.653441115
                        ]
                      },
                      {
                        "learn": [
                          0.1178840687
                        ],
                        "iteration": 497,
                        "passed_time": 4.156670674,
                        "remaining_time": 4.190057587,
                        "test": [
                          1.655247549
                        ]
                      },
                      {
                        "learn": [
                          0.1175980797
                        ],
                        "iteration": 498,
                        "passed_time": 4.164017333,
                        "remaining_time": 4.180706781,
                        "test": [
                          1.655826191
                        ]
                      },
                      {
                        "learn": [
                          0.1172543572
                        ],
                        "iteration": 499,
                        "passed_time": 4.171607315,
                        "remaining_time": 4.171607315,
                        "test": [
                          1.656821847
                        ]
                      },
                      {
                        "learn": [
                          0.1169711579
                        ],
                        "iteration": 500,
                        "passed_time": 4.178848832,
                        "remaining_time": 4.1621668,
                        "test": [
                          1.657415477
                        ]
                      },
                      {
                        "learn": [
                          0.1167636658
                        ],
                        "iteration": 501,
                        "passed_time": 4.19156267,
                        "remaining_time": 4.158163764,
                        "test": [
                          1.657623855
                        ]
                      },
                      {
                        "learn": [
                          0.1163795349
                        ],
                        "iteration": 502,
                        "passed_time": 4.209420697,
                        "remaining_time": 4.159208919,
                        "test": [
                          1.657126175
                        ]
                      },
                      {
                        "learn": [
                          0.116069835
                        ],
                        "iteration": 503,
                        "passed_time": 4.225264067,
                        "remaining_time": 4.158196383,
                        "test": [
                          1.656779696
                        ]
                      },
                      {
                        "learn": [
                          0.1157580197
                        ],
                        "iteration": 504,
                        "passed_time": 4.235640907,
                        "remaining_time": 4.151766829,
                        "test": [
                          1.65672177
                        ]
                      },
                      {
                        "learn": [
                          0.1153008158
                        ],
                        "iteration": 505,
                        "passed_time": 4.243366448,
                        "remaining_time": 4.142733252,
                        "test": [
                          1.65817009
                        ]
                      },
                      {
                        "learn": [
                          0.1150184528
                        ],
                        "iteration": 506,
                        "passed_time": 4.250918464,
                        "remaining_time": 4.1335361,
                        "test": [
                          1.658438753
                        ]
                      },
                      {
                        "learn": [
                          0.1147569848
                        ],
                        "iteration": 507,
                        "passed_time": 4.258269273,
                        "remaining_time": 4.124150556,
                        "test": [
                          1.659011752
                        ]
                      },
                      {
                        "learn": [
                          0.1145168618
                        ],
                        "iteration": 508,
                        "passed_time": 4.265490504,
                        "remaining_time": 4.11464801,
                        "test": [
                          1.657376114
                        ]
                      },
                      {
                        "learn": [
                          0.1142278599
                        ],
                        "iteration": 509,
                        "passed_time": 4.273465442,
                        "remaining_time": 4.105878562,
                        "test": [
                          1.658007381
                        ]
                      },
                      {
                        "learn": [
                          0.1140483555
                        ],
                        "iteration": 510,
                        "passed_time": 4.281009894,
                        "remaining_time": 4.09670027,
                        "test": [
                          1.65832314
                        ]
                      },
                      {
                        "learn": [
                          0.1137562201
                        ],
                        "iteration": 511,
                        "passed_time": 4.288531097,
                        "remaining_time": 4.087506202,
                        "test": [
                          1.657630938
                        ]
                      },
                      {
                        "learn": [
                          0.1134626499
                        ],
                        "iteration": 512,
                        "passed_time": 4.296162693,
                        "remaining_time": 4.078423453,
                        "test": [
                          1.65801317
                        ]
                      },
                      {
                        "learn": [
                          0.1131461498
                        ],
                        "iteration": 513,
                        "passed_time": 4.30356772,
                        "remaining_time": 4.069132124,
                        "test": [
                          1.657884155
                        ]
                      },
                      {
                        "learn": [
                          0.1127981313
                        ],
                        "iteration": 514,
                        "passed_time": 4.310901762,
                        "remaining_time": 4.059781271,
                        "test": [
                          1.658243529
                        ]
                      },
                      {
                        "learn": [
                          0.1125136449
                        ],
                        "iteration": 515,
                        "passed_time": 4.318344165,
                        "remaining_time": 4.050539875,
                        "test": [
                          1.658388418
                        ]
                      },
                      {
                        "learn": [
                          0.112220067
                        ],
                        "iteration": 516,
                        "passed_time": 4.325639435,
                        "remaining_time": 4.041167983,
                        "test": [
                          1.658204791
                        ]
                      },
                      {
                        "learn": [
                          0.1119938208
                        ],
                        "iteration": 517,
                        "passed_time": 4.333191806,
                        "remaining_time": 4.032043341,
                        "test": [
                          1.658454868
                        ]
                      },
                      {
                        "learn": [
                          0.1117144336
                        ],
                        "iteration": 518,
                        "passed_time": 4.340464624,
                        "remaining_time": 4.022665673,
                        "test": [
                          1.659011896
                        ]
                      },
                      {
                        "learn": [
                          0.1113968984
                        ],
                        "iteration": 519,
                        "passed_time": 4.348036519,
                        "remaining_time": 4.013572171,
                        "test": [
                          1.660309452
                        ]
                      },
                      {
                        "learn": [
                          0.1111023024
                        ],
                        "iteration": 520,
                        "passed_time": 4.355407822,
                        "remaining_time": 4.004300089,
                        "test": [
                          1.660667218
                        ]
                      },
                      {
                        "learn": [
                          0.1108032753
                        ],
                        "iteration": 521,
                        "passed_time": 4.36295604,
                        "remaining_time": 3.995197294,
                        "test": [
                          1.661002531
                        ]
                      },
                      {
                        "learn": [
                          0.1104993029
                        ],
                        "iteration": 522,
                        "passed_time": 4.370435868,
                        "remaining_time": 3.986038067,
                        "test": [
                          1.6622138
                        ]
                      },
                      {
                        "learn": [
                          0.1101581807
                        ],
                        "iteration": 523,
                        "passed_time": 4.377908073,
                        "remaining_time": 3.976878326,
                        "test": [
                          1.662219545
                        ]
                      },
                      {
                        "learn": [
                          0.1099235198
                        ],
                        "iteration": 524,
                        "passed_time": 4.385416755,
                        "remaining_time": 3.967758016,
                        "test": [
                          1.662432203
                        ]
                      },
                      {
                        "learn": [
                          0.1097516106
                        ],
                        "iteration": 525,
                        "passed_time": 4.397338927,
                        "remaining_time": 3.962621011,
                        "test": [
                          1.662512156
                        ]
                      },
                      {
                        "learn": [
                          0.1094501632
                        ],
                        "iteration": 526,
                        "passed_time": 4.406395512,
                        "remaining_time": 3.954886294,
                        "test": [
                          1.662714571
                        ]
                      },
                      {
                        "learn": [
                          0.1091442265
                        ],
                        "iteration": 527,
                        "passed_time": 4.417979094,
                        "remaining_time": 3.949405553,
                        "test": [
                          1.66365054
                        ]
                      },
                      {
                        "learn": [
                          0.108895957
                        ],
                        "iteration": 528,
                        "passed_time": 4.425258491,
                        "remaining_time": 3.940069469,
                        "test": [
                          1.662636186
                        ]
                      },
                      {
                        "learn": [
                          0.108684666
                        ],
                        "iteration": 529,
                        "passed_time": 4.432726867,
                        "remaining_time": 3.930908731,
                        "test": [
                          1.66226087
                        ]
                      },
                      {
                        "learn": [
                          0.1081970784
                        ],
                        "iteration": 530,
                        "passed_time": 4.440246831,
                        "remaining_time": 3.921799932,
                        "test": [
                          1.662093581
                        ]
                      },
                      {
                        "learn": [
                          0.1078920664
                        ],
                        "iteration": 531,
                        "passed_time": 4.447800106,
                        "remaining_time": 3.912726409,
                        "test": [
                          1.66249926
                        ]
                      },
                      {
                        "learn": [
                          0.1076009919
                        ],
                        "iteration": 532,
                        "passed_time": 4.455428209,
                        "remaining_time": 3.903724153,
                        "test": [
                          1.662561604
                        ]
                      },
                      {
                        "learn": [
                          0.1073565388
                        ],
                        "iteration": 533,
                        "passed_time": 4.463028861,
                        "remaining_time": 3.894703088,
                        "test": [
                          1.663092172
                        ]
                      },
                      {
                        "learn": [
                          0.1071061294
                        ],
                        "iteration": 534,
                        "passed_time": 4.471147094,
                        "remaining_time": 3.886137194,
                        "test": [
                          1.664468204
                        ]
                      },
                      {
                        "learn": [
                          0.1067779817
                        ],
                        "iteration": 535,
                        "passed_time": 4.478855828,
                        "remaining_time": 3.877218478,
                        "test": [
                          1.666426991
                        ]
                      },
                      {
                        "learn": [
                          0.1064930774
                        ],
                        "iteration": 536,
                        "passed_time": 4.48632919,
                        "remaining_time": 3.868101331,
                        "test": [
                          1.6670244
                        ]
                      },
                      {
                        "learn": [
                          0.1062915633
                        ],
                        "iteration": 537,
                        "passed_time": 4.493541235,
                        "remaining_time": 3.858765893,
                        "test": [
                          1.667249436
                        ]
                      },
                      {
                        "learn": [
                          0.1059679101
                        ],
                        "iteration": 538,
                        "passed_time": 4.500988073,
                        "remaining_time": 3.84963915,
                        "test": [
                          1.66693834
                        ]
                      },
                      {
                        "learn": [
                          0.1057568226
                        ],
                        "iteration": 539,
                        "passed_time": 4.508190375,
                        "remaining_time": 3.840310319,
                        "test": [
                          1.667693006
                        ]
                      },
                      {
                        "learn": [
                          0.1056279154
                        ],
                        "iteration": 540,
                        "passed_time": 4.515374914,
                        "remaining_time": 3.83097428,
                        "test": [
                          1.667978838
                        ]
                      },
                      {
                        "learn": [
                          0.1053205141
                        ],
                        "iteration": 541,
                        "passed_time": 4.522798873,
                        "remaining_time": 3.821848494,
                        "test": [
                          1.668550889
                        ]
                      },
                      {
                        "learn": [
                          0.1051233057
                        ],
                        "iteration": 542,
                        "passed_time": 4.530301631,
                        "remaining_time": 3.812795295,
                        "test": [
                          1.669536837
                        ]
                      },
                      {
                        "learn": [
                          0.1048317468
                        ],
                        "iteration": 543,
                        "passed_time": 4.537759721,
                        "remaining_time": 3.803710354,
                        "test": [
                          1.670381434
                        ]
                      },
                      {
                        "learn": [
                          0.1046225722
                        ],
                        "iteration": 544,
                        "passed_time": 4.545236697,
                        "remaining_time": 3.79464715,
                        "test": [
                          1.671032023
                        ]
                      },
                      {
                        "learn": [
                          0.1043400648
                        ],
                        "iteration": 545,
                        "passed_time": 4.553020112,
                        "remaining_time": 3.785844562,
                        "test": [
                          1.67225704
                        ]
                      },
                      {
                        "learn": [
                          0.1042330972
                        ],
                        "iteration": 546,
                        "passed_time": 4.560776978,
                        "remaining_time": 3.777023713,
                        "test": [
                          1.672738119
                        ]
                      },
                      {
                        "learn": [
                          0.1039545994
                        ],
                        "iteration": 547,
                        "passed_time": 4.568204119,
                        "remaining_time": 3.767934784,
                        "test": [
                          1.673441639
                        ]
                      },
                      {
                        "learn": [
                          0.1037516086
                        ],
                        "iteration": 548,
                        "passed_time": 4.575726535,
                        "remaining_time": 3.758930177,
                        "test": [
                          1.674124834
                        ]
                      },
                      {
                        "learn": [
                          0.10343168
                        ],
                        "iteration": 549,
                        "passed_time": 4.582997647,
                        "remaining_time": 3.749725348,
                        "test": [
                          1.675232898
                        ]
                      },
                      {
                        "learn": [
                          0.1032539067
                        ],
                        "iteration": 550,
                        "passed_time": 4.590833323,
                        "remaining_time": 3.74098759,
                        "test": [
                          1.674720389
                        ]
                      },
                      {
                        "learn": [
                          0.1031000641
                        ],
                        "iteration": 551,
                        "passed_time": 4.598105205,
                        "remaining_time": 3.731795528,
                        "test": [
                          1.674081217
                        ]
                      },
                      {
                        "learn": [
                          0.102898644
                        ],
                        "iteration": 552,
                        "passed_time": 4.605457443,
                        "remaining_time": 3.722675365,
                        "test": [
                          1.674087675
                        ]
                      },
                      {
                        "learn": [
                          0.1026292358
                        ],
                        "iteration": 553,
                        "passed_time": 4.617469671,
                        "remaining_time": 3.717313129,
                        "test": [
                          1.674489984
                        ]
                      },
                      {
                        "learn": [
                          0.1024233194
                        ],
                        "iteration": 554,
                        "passed_time": 4.625059953,
                        "remaining_time": 3.708381404,
                        "test": [
                          1.675473351
                        ]
                      },
                      {
                        "learn": [
                          0.1020820269
                        ],
                        "iteration": 555,
                        "passed_time": 4.632911834,
                        "remaining_time": 3.699663407,
                        "test": [
                          1.675517351
                        ]
                      },
                      {
                        "learn": [
                          0.1019029829
                        ],
                        "iteration": 556,
                        "passed_time": 4.640449377,
                        "remaining_time": 3.690698517,
                        "test": [
                          1.674984176
                        ]
                      },
                      {
                        "learn": [
                          0.1016277002
                        ],
                        "iteration": 557,
                        "passed_time": 4.64803736,
                        "remaining_time": 3.681778697,
                        "test": [
                          1.676131719
                        ]
                      },
                      {
                        "learn": [
                          0.1014318351
                        ],
                        "iteration": 558,
                        "passed_time": 4.655452624,
                        "remaining_time": 3.672727383,
                        "test": [
                          1.677126205
                        ]
                      },
                      {
                        "learn": [
                          0.101147055
                        ],
                        "iteration": 559,
                        "passed_time": 4.66306843,
                        "remaining_time": 3.663839481,
                        "test": [
                          1.676453349
                        ]
                      },
                      {
                        "learn": [
                          0.1008952274
                        ],
                        "iteration": 560,
                        "passed_time": 4.670322144,
                        "remaining_time": 3.654672765,
                        "test": [
                          1.678491916
                        ]
                      },
                      {
                        "learn": [
                          0.1006523142
                        ],
                        "iteration": 561,
                        "passed_time": 4.67797378,
                        "remaining_time": 3.645822981,
                        "test": [
                          1.678265943
                        ]
                      },
                      {
                        "learn": [
                          0.100502528
                        ],
                        "iteration": 562,
                        "passed_time": 4.685975299,
                        "remaining_time": 3.637249033,
                        "test": [
                          1.679093793
                        ]
                      },
                      {
                        "learn": [
                          0.1002992378
                        ],
                        "iteration": 563,
                        "passed_time": 4.693658818,
                        "remaining_time": 3.628431285,
                        "test": [
                          1.6802604
                        ]
                      },
                      {
                        "learn": [
                          0.1001368314
                        ],
                        "iteration": 564,
                        "passed_time": 4.701330458,
                        "remaining_time": 3.619608406,
                        "test": [
                          1.679925141
                        ]
                      },
                      {
                        "learn": [
                          0.0999387827
                        ],
                        "iteration": 565,
                        "passed_time": 4.708883321,
                        "remaining_time": 3.610698518,
                        "test": [
                          1.680190614
                        ]
                      },
                      {
                        "learn": [
                          0.09967748563
                        ],
                        "iteration": 566,
                        "passed_time": 4.716580624,
                        "remaining_time": 3.601903722,
                        "test": [
                          1.679984294
                        ]
                      },
                      {
                        "learn": [
                          0.09946987137
                        ],
                        "iteration": 567,
                        "passed_time": 4.72397085,
                        "remaining_time": 3.592879238,
                        "test": [
                          1.679741283
                        ]
                      },
                      {
                        "learn": [
                          0.09925423897
                        ],
                        "iteration": 568,
                        "passed_time": 4.731481547,
                        "remaining_time": 3.583951752,
                        "test": [
                          1.679456068
                        ]
                      },
                      {
                        "learn": [
                          0.09902797432
                        ],
                        "iteration": 569,
                        "passed_time": 4.739142369,
                        "remaining_time": 3.575142489,
                        "test": [
                          1.680984051
                        ]
                      },
                      {
                        "learn": [
                          0.09888109356
                        ],
                        "iteration": 570,
                        "passed_time": 4.746770763,
                        "remaining_time": 3.566312885,
                        "test": [
                          1.680685025
                        ]
                      },
                      {
                        "learn": [
                          0.09867128881
                        ],
                        "iteration": 571,
                        "passed_time": 4.754339093,
                        "remaining_time": 3.557442538,
                        "test": [
                          1.680879293
                        ]
                      },
                      {
                        "learn": [
                          0.09846092372
                        ],
                        "iteration": 572,
                        "passed_time": 4.761837424,
                        "remaining_time": 3.548524573,
                        "test": [
                          1.681875971
                        ]
                      },
                      {
                        "learn": [
                          0.09831493457
                        ],
                        "iteration": 573,
                        "passed_time": 4.771136027,
                        "remaining_time": 3.540947644,
                        "test": [
                          1.681675029
                        ]
                      },
                      {
                        "learn": [
                          0.09799851307
                        ],
                        "iteration": 574,
                        "passed_time": 4.778800194,
                        "remaining_time": 3.532156665,
                        "test": [
                          1.682461089
                        ]
                      },
                      {
                        "learn": [
                          0.09781893044
                        ],
                        "iteration": 575,
                        "passed_time": 4.786335625,
                        "remaining_time": 3.523274835,
                        "test": [
                          1.683484855
                        ]
                      },
                      {
                        "learn": [
                          0.09760989672
                        ],
                        "iteration": 576,
                        "passed_time": 4.793612558,
                        "remaining_time": 3.514208166,
                        "test": [
                          1.683317366
                        ]
                      },
                      {
                        "learn": [
                          0.09730385194
                        ],
                        "iteration": 577,
                        "passed_time": 4.801211051,
                        "remaining_time": 3.505382463,
                        "test": [
                          1.684173838
                        ]
                      },
                      {
                        "learn": [
                          0.09717865365
                        ],
                        "iteration": 578,
                        "passed_time": 4.815038824,
                        "remaining_time": 3.501090406,
                        "test": [
                          1.683872643
                        ]
                      },
                      {
                        "learn": [
                          0.09707682555
                        ],
                        "iteration": 579,
                        "passed_time": 4.822563826,
                        "remaining_time": 3.492201392,
                        "test": [
                          1.684242873
                        ]
                      },
                      {
                        "learn": [
                          0.09684647703
                        ],
                        "iteration": 580,
                        "passed_time": 4.829704858,
                        "remaining_time": 3.483040165,
                        "test": [
                          1.682431111
                        ]
                      },
                      {
                        "learn": [
                          0.09657183695
                        ],
                        "iteration": 581,
                        "passed_time": 4.836683654,
                        "remaining_time": 3.47376936,
                        "test": [
                          1.684275925
                        ]
                      },
                      {
                        "learn": [
                          0.09629500285
                        ],
                        "iteration": 582,
                        "passed_time": 4.843772503,
                        "remaining_time": 3.464585135,
                        "test": [
                          1.685432123
                        ]
                      },
                      {
                        "learn": [
                          0.09606611117
                        ],
                        "iteration": 583,
                        "passed_time": 4.850681295,
                        "remaining_time": 3.455279826,
                        "test": [
                          1.685644575
                        ]
                      },
                      {
                        "learn": [
                          0.09574779255
                        ],
                        "iteration": 584,
                        "passed_time": 4.858524202,
                        "remaining_time": 3.446645374,
                        "test": [
                          1.686898044
                        ]
                      },
                      {
                        "learn": [
                          0.09559244429
                        ],
                        "iteration": 585,
                        "passed_time": 4.896732851,
                        "remaining_time": 3.459466554,
                        "test": [
                          1.687221591
                        ]
                      },
                      {
                        "learn": [
                          0.09538743792
                        ],
                        "iteration": 586,
                        "passed_time": 4.915583302,
                        "remaining_time": 3.458493873,
                        "test": [
                          1.686664574
                        ]
                      },
                      {
                        "learn": [
                          0.09518126023
                        ],
                        "iteration": 587,
                        "passed_time": 4.931513529,
                        "remaining_time": 3.455414241,
                        "test": [
                          1.686808274
                        ]
                      },
                      {
                        "learn": [
                          0.09496186286
                        ],
                        "iteration": 588,
                        "passed_time": 4.947425651,
                        "remaining_time": 3.452278341,
                        "test": [
                          1.687757954
                        ]
                      },
                      {
                        "learn": [
                          0.09479389376
                        ],
                        "iteration": 589,
                        "passed_time": 4.954614041,
                        "remaining_time": 3.443036876,
                        "test": [
                          1.68777555
                        ]
                      },
                      {
                        "learn": [
                          0.09456195532
                        ],
                        "iteration": 590,
                        "passed_time": 4.962841864,
                        "remaining_time": 3.434521696,
                        "test": [
                          1.688353173
                        ]
                      },
                      {
                        "learn": [
                          0.09433652008
                        ],
                        "iteration": 591,
                        "passed_time": 4.970199668,
                        "remaining_time": 3.425407879,
                        "test": [
                          1.690106246
                        ]
                      },
                      {
                        "learn": [
                          0.09417387907
                        ],
                        "iteration": 592,
                        "passed_time": 4.977789711,
                        "remaining_time": 3.41645938,
                        "test": [
                          1.690095645
                        ]
                      },
                      {
                        "learn": [
                          0.09395048076
                        ],
                        "iteration": 593,
                        "passed_time": 4.985110164,
                        "remaining_time": 3.40733119,
                        "test": [
                          1.692037074
                        ]
                      },
                      {
                        "learn": [
                          0.09375181787
                        ],
                        "iteration": 594,
                        "passed_time": 4.994834092,
                        "remaining_time": 3.399845054,
                        "test": [
                          1.691832365
                        ]
                      },
                      {
                        "learn": [
                          0.09355432496
                        ],
                        "iteration": 595,
                        "passed_time": 5.003837193,
                        "remaining_time": 3.391862795,
                        "test": [
                          1.691666505
                        ]
                      },
                      {
                        "learn": [
                          0.09343877223
                        ],
                        "iteration": 596,
                        "passed_time": 5.015826049,
                        "remaining_time": 3.385892626,
                        "test": [
                          1.691645872
                        ]
                      },
                      {
                        "learn": [
                          0.09321772085
                        ],
                        "iteration": 597,
                        "passed_time": 5.023984613,
                        "remaining_time": 3.377327449,
                        "test": [
                          1.69219422
                        ]
                      },
                      {
                        "learn": [
                          0.09304388169
                        ],
                        "iteration": 598,
                        "passed_time": 5.031663578,
                        "remaining_time": 3.368442562,
                        "test": [
                          1.692780894
                        ]
                      },
                      {
                        "learn": [
                          0.0928439232
                        ],
                        "iteration": 599,
                        "passed_time": 5.039055428,
                        "remaining_time": 3.359370285,
                        "test": [
                          1.692683435
                        ]
                      },
                      {
                        "learn": [
                          0.09264471587
                        ],
                        "iteration": 600,
                        "passed_time": 5.046491616,
                        "remaining_time": 3.350333036,
                        "test": [
                          1.692317316
                        ]
                      },
                      {
                        "learn": [
                          0.09247774958
                        ],
                        "iteration": 601,
                        "passed_time": 5.054206642,
                        "remaining_time": 3.341485454,
                        "test": [
                          1.691390436
                        ]
                      },
                      {
                        "learn": [
                          0.09235444314
                        ],
                        "iteration": 602,
                        "passed_time": 5.062076652,
                        "remaining_time": 3.332743666,
                        "test": [
                          1.693310348
                        ]
                      },
                      {
                        "learn": [
                          0.09224501318
                        ],
                        "iteration": 603,
                        "passed_time": 5.069861665,
                        "remaining_time": 3.323949038,
                        "test": [
                          1.69350938
                        ]
                      },
                      {
                        "learn": [
                          0.09206136819
                        ],
                        "iteration": 604,
                        "passed_time": 5.07726962,
                        "remaining_time": 3.31491157,
                        "test": [
                          1.692790986
                        ]
                      },
                      {
                        "learn": [
                          0.0918538446
                        ],
                        "iteration": 605,
                        "passed_time": 5.09080425,
                        "remaining_time": 3.309862829,
                        "test": [
                          1.69375815
                        ]
                      },
                      {
                        "learn": [
                          0.09168009579
                        ],
                        "iteration": 606,
                        "passed_time": 5.098295987,
                        "remaining_time": 3.300873678,
                        "test": [
                          1.694276954
                        ]
                      },
                      {
                        "learn": [
                          0.09146943197
                        ],
                        "iteration": 607,
                        "passed_time": 5.105903735,
                        "remaining_time": 3.29196425,
                        "test": [
                          1.694786741
                        ]
                      },
                      {
                        "learn": [
                          0.09129279409
                        ],
                        "iteration": 608,
                        "passed_time": 5.11316192,
                        "remaining_time": 3.282834665,
                        "test": [
                          1.694699362
                        ]
                      },
                      {
                        "learn": [
                          0.09113043045
                        ],
                        "iteration": 609,
                        "passed_time": 5.121138757,
                        "remaining_time": 3.274170681,
                        "test": [
                          1.695833209
                        ]
                      },
                      {
                        "learn": [
                          0.09094024678
                        ],
                        "iteration": 610,
                        "passed_time": 5.128874777,
                        "remaining_time": 3.265355627,
                        "test": [
                          1.695915095
                        ]
                      },
                      {
                        "learn": [
                          0.09074687022
                        ],
                        "iteration": 611,
                        "passed_time": 5.136662146,
                        "remaining_time": 3.256576655,
                        "test": [
                          1.697256314
                        ]
                      },
                      {
                        "learn": [
                          0.09047743248
                        ],
                        "iteration": 612,
                        "passed_time": 5.144016205,
                        "remaining_time": 3.24752736,
                        "test": [
                          1.697461345
                        ]
                      },
                      {
                        "learn": [
                          0.0903182735
                        ],
                        "iteration": 613,
                        "passed_time": 5.151538481,
                        "remaining_time": 3.238589338,
                        "test": [
                          1.6971894
                        ]
                      },
                      {
                        "learn": [
                          0.09013032365
                        ],
                        "iteration": 614,
                        "passed_time": 5.159019442,
                        "remaining_time": 3.229630057,
                        "test": [
                          1.69794915
                        ]
                      },
                      {
                        "learn": [
                          0.08993583341
                        ],
                        "iteration": 615,
                        "passed_time": 5.166455514,
                        "remaining_time": 3.220647593,
                        "test": [
                          1.698648636
                        ]
                      },
                      {
                        "learn": [
                          0.089762897
                        ],
                        "iteration": 616,
                        "passed_time": 5.174297468,
                        "remaining_time": 3.211922091,
                        "test": [
                          1.700242136
                        ]
                      },
                      {
                        "learn": [
                          0.0895553438
                        ],
                        "iteration": 617,
                        "passed_time": 5.182226125,
                        "remaining_time": 3.203253042,
                        "test": [
                          1.700534932
                        ]
                      },
                      {
                        "learn": [
                          0.0893954617
                        ],
                        "iteration": 618,
                        "passed_time": 5.189862698,
                        "remaining_time": 3.194406604,
                        "test": [
                          1.700932948
                        ]
                      },
                      {
                        "learn": [
                          0.08924487687
                        ],
                        "iteration": 619,
                        "passed_time": 5.197367203,
                        "remaining_time": 3.185483124,
                        "test": [
                          1.701371116
                        ]
                      },
                      {
                        "learn": [
                          0.08906565615
                        ],
                        "iteration": 620,
                        "passed_time": 5.204699325,
                        "remaining_time": 3.176459008,
                        "test": [
                          1.700993954
                        ]
                      },
                      {
                        "learn": [
                          0.08881945087
                        ],
                        "iteration": 621,
                        "passed_time": 5.217427165,
                        "remaining_time": 3.170719403,
                        "test": [
                          1.700725727
                        ]
                      },
                      {
                        "learn": [
                          0.08868513599
                        ],
                        "iteration": 622,
                        "passed_time": 5.225428162,
                        "remaining_time": 3.162096978,
                        "test": [
                          1.701441705
                        ]
                      },
                      {
                        "learn": [
                          0.08846286193
                        ],
                        "iteration": 623,
                        "passed_time": 5.232869054,
                        "remaining_time": 3.153139045,
                        "test": [
                          1.701539589
                        ]
                      },
                      {
                        "learn": [
                          0.08834005745
                        ],
                        "iteration": 624,
                        "passed_time": 5.240096919,
                        "remaining_time": 3.144058151,
                        "test": [
                          1.70202704
                        ]
                      },
                      {
                        "learn": [
                          0.08815491562
                        ],
                        "iteration": 625,
                        "passed_time": 5.247689798,
                        "remaining_time": 3.135201253,
                        "test": [
                          1.702726823
                        ]
                      },
                      {
                        "learn": [
                          0.0880620769
                        ],
                        "iteration": 626,
                        "passed_time": 5.255434574,
                        "remaining_time": 3.12643875,
                        "test": [
                          1.702932138
                        ]
                      },
                      {
                        "learn": [
                          0.08784294252
                        ],
                        "iteration": 627,
                        "passed_time": 5.262877499,
                        "remaining_time": 3.117500684,
                        "test": [
                          1.702858526
                        ]
                      },
                      {
                        "learn": [
                          0.08771252701
                        ],
                        "iteration": 628,
                        "passed_time": 5.270207859,
                        "remaining_time": 3.108500979,
                        "test": [
                          1.702915938
                        ]
                      },
                      {
                        "learn": [
                          0.08751399273
                        ],
                        "iteration": 629,
                        "passed_time": 5.277498443,
                        "remaining_time": 3.099483212,
                        "test": [
                          1.703746863
                        ]
                      },
                      {
                        "learn": [
                          0.08721596997
                        ],
                        "iteration": 630,
                        "passed_time": 5.284913808,
                        "remaining_time": 3.090543891,
                        "test": [
                          1.70493882
                        ]
                      },
                      {
                        "learn": [
                          0.08708647129
                        ],
                        "iteration": 631,
                        "passed_time": 5.292315504,
                        "remaining_time": 3.081601433,
                        "test": [
                          1.706192686
                        ]
                      },
                      {
                        "learn": [
                          0.08692493648
                        ],
                        "iteration": 632,
                        "passed_time": 5.299990087,
                        "remaining_time": 3.072822057,
                        "test": [
                          1.70609949
                        ]
                      },
                      {
                        "learn": [
                          0.08680594368
                        ],
                        "iteration": 633,
                        "passed_time": 5.307243621,
                        "remaining_time": 3.0638031,
                        "test": [
                          1.706722512
                        ]
                      },
                      {
                        "learn": [
                          0.08666666525
                        ],
                        "iteration": 634,
                        "passed_time": 5.314462604,
                        "remaining_time": 3.054769843,
                        "test": [
                          1.707010586
                        ]
                      },
                      {
                        "learn": [
                          0.08648543872
                        ],
                        "iteration": 635,
                        "passed_time": 5.322332256,
                        "remaining_time": 3.046114688,
                        "test": [
                          1.70780115
                        ]
                      },
                      {
                        "learn": [
                          0.08627804236
                        ],
                        "iteration": 636,
                        "passed_time": 5.330231159,
                        "remaining_time": 3.037478667,
                        "test": [
                          1.708202052
                        ]
                      },
                      {
                        "learn": [
                          0.0861064752
                        ],
                        "iteration": 637,
                        "passed_time": 5.337801371,
                        "remaining_time": 3.028658458,
                        "test": [
                          1.708718846
                        ]
                      },
                      {
                        "learn": [
                          0.08591342142
                        ],
                        "iteration": 638,
                        "passed_time": 5.345660867,
                        "remaining_time": 3.020005592,
                        "test": [
                          1.709363027
                        ]
                      },
                      {
                        "learn": [
                          0.08570343095
                        ],
                        "iteration": 639,
                        "passed_time": 5.353109968,
                        "remaining_time": 3.011124357,
                        "test": [
                          1.709492394
                        ]
                      },
                      {
                        "learn": [
                          0.08541614822
                        ],
                        "iteration": 640,
                        "passed_time": 5.36081966,
                        "remaining_time": 3.002393538,
                        "test": [
                          1.709945876
                        ]
                      },
                      {
                        "learn": [
                          0.08526148497
                        ],
                        "iteration": 641,
                        "passed_time": 5.368399653,
                        "remaining_time": 2.993593576,
                        "test": [
                          1.709985325
                        ]
                      },
                      {
                        "learn": [
                          0.08515422989
                        ],
                        "iteration": 642,
                        "passed_time": 5.375953704,
                        "remaining_time": 2.984783005,
                        "test": [
                          1.709312059
                        ]
                      },
                      {
                        "learn": [
                          0.08496999918
                        ],
                        "iteration": 643,
                        "passed_time": 5.383854322,
                        "remaining_time": 2.976167917,
                        "test": [
                          1.709906988
                        ]
                      },
                      {
                        "learn": [
                          0.08489646497
                        ],
                        "iteration": 644,
                        "passed_time": 5.391193272,
                        "remaining_time": 2.967245909,
                        "test": [
                          1.710213328
                        ]
                      },
                      {
                        "learn": [
                          0.0846778299
                        ],
                        "iteration": 645,
                        "passed_time": 5.399029368,
                        "remaining_time": 2.958601233,
                        "test": [
                          1.711437455
                        ]
                      },
                      {
                        "learn": [
                          0.08453704583
                        ],
                        "iteration": 646,
                        "passed_time": 5.40694586,
                        "remaining_time": 2.950002919,
                        "test": [
                          1.711954866
                        ]
                      },
                      {
                        "learn": [
                          0.08441866386
                        ],
                        "iteration": 647,
                        "passed_time": 5.416520337,
                        "remaining_time": 2.942307344,
                        "test": [
                          1.712594002
                        ]
                      },
                      {
                        "learn": [
                          0.08428068075
                        ],
                        "iteration": 648,
                        "passed_time": 5.426721192,
                        "remaining_time": 2.934944743,
                        "test": [
                          1.713025771
                        ]
                      },
                      {
                        "learn": [
                          0.08398153551
                        ],
                        "iteration": 649,
                        "passed_time": 5.434452269,
                        "remaining_time": 2.92624353,
                        "test": [
                          1.714032323
                        ]
                      },
                      {
                        "learn": [
                          0.08391415734
                        ],
                        "iteration": 650,
                        "passed_time": 5.441997756,
                        "remaining_time": 2.917445802,
                        "test": [
                          1.714074624
                        ]
                      },
                      {
                        "learn": [
                          0.08371229207
                        ],
                        "iteration": 651,
                        "passed_time": 5.44991735,
                        "remaining_time": 2.908851591,
                        "test": [
                          1.714903254
                        ]
                      },
                      {
                        "learn": [
                          0.08353609857
                        ],
                        "iteration": 652,
                        "passed_time": 5.457690224,
                        "remaining_time": 2.900181482,
                        "test": [
                          1.71470985
                        ]
                      },
                      {
                        "learn": [
                          0.08345560669
                        ],
                        "iteration": 653,
                        "passed_time": 5.465264173,
                        "remaining_time": 2.891408874,
                        "test": [
                          1.715859826
                        ]
                      },
                      {
                        "learn": [
                          0.08326369695
                        ],
                        "iteration": 654,
                        "passed_time": 5.472695598,
                        "remaining_time": 2.882564857,
                        "test": [
                          1.715614749
                        ]
                      },
                      {
                        "learn": [
                          0.0830424131
                        ],
                        "iteration": 655,
                        "passed_time": 5.480663739,
                        "remaining_time": 2.874006595,
                        "test": [
                          1.714806298
                        ]
                      },
                      {
                        "learn": [
                          0.08283989507
                        ],
                        "iteration": 656,
                        "passed_time": 5.48805091,
                        "remaining_time": 2.865146822,
                        "test": [
                          1.715276407
                        ]
                      },
                      {
                        "learn": [
                          0.08271962213
                        ],
                        "iteration": 657,
                        "passed_time": 5.495711372,
                        "remaining_time": 2.85643357,
                        "test": [
                          1.715882365
                        ]
                      },
                      {
                        "learn": [
                          0.08260219044
                        ],
                        "iteration": 658,
                        "passed_time": 5.503660366,
                        "remaining_time": 2.847872815,
                        "test": [
                          1.717166708
                        ]
                      },
                      {
                        "learn": [
                          0.08245052966
                        ],
                        "iteration": 659,
                        "passed_time": 5.511210216,
                        "remaining_time": 2.839108293,
                        "test": [
                          1.718296271
                        ]
                      },
                      {
                        "learn": [
                          0.08224661109
                        ],
                        "iteration": 660,
                        "passed_time": 5.518805322,
                        "remaining_time": 2.830370657,
                        "test": [
                          1.718951114
                        ]
                      },
                      {
                        "learn": [
                          0.08212886552
                        ],
                        "iteration": 661,
                        "passed_time": 5.526468982,
                        "remaining_time": 2.821671474,
                        "test": [
                          1.719075494
                        ]
                      },
                      {
                        "learn": [
                          0.08197315494
                        ],
                        "iteration": 662,
                        "passed_time": 5.534207116,
                        "remaining_time": 2.81301327,
                        "test": [
                          1.720098087
                        ]
                      },
                      {
                        "learn": [
                          0.0817853174
                        ],
                        "iteration": 663,
                        "passed_time": 5.541796362,
                        "remaining_time": 2.804282496,
                        "test": [
                          1.721034337
                        ]
                      },
                      {
                        "learn": [
                          0.08159844463
                        ],
                        "iteration": 664,
                        "passed_time": 5.549389127,
                        "remaining_time": 2.795556929,
                        "test": [
                          1.720956658
                        ]
                      },
                      {
                        "learn": [
                          0.08145457787
                        ],
                        "iteration": 665,
                        "passed_time": 5.556841811,
                        "remaining_time": 2.786764512,
                        "test": [
                          1.721896494
                        ]
                      },
                      {
                        "learn": [
                          0.08134172975
                        ],
                        "iteration": 666,
                        "passed_time": 5.564420553,
                        "remaining_time": 2.778039046,
                        "test": [
                          1.721461602
                        ]
                      },
                      {
                        "learn": [
                          0.08116160613
                        ],
                        "iteration": 667,
                        "passed_time": 5.57194659,
                        "remaining_time": 2.76929082,
                        "test": [
                          1.721799852
                        ]
                      },
                      {
                        "learn": [
                          0.08106896809
                        ],
                        "iteration": 668,
                        "passed_time": 5.579217325,
                        "remaining_time": 2.760419932,
                        "test": [
                          1.721352896
                        ]
                      },
                      {
                        "learn": [
                          0.0809308653
                        ],
                        "iteration": 669,
                        "passed_time": 5.586845767,
                        "remaining_time": 2.751730004,
                        "test": [
                          1.721583733
                        ]
                      },
                      {
                        "learn": [
                          0.08074306005
                        ],
                        "iteration": 670,
                        "passed_time": 5.594426651,
                        "remaining_time": 2.743019923,
                        "test": [
                          1.722391548
                        ]
                      },
                      {
                        "learn": [
                          0.08055383567
                        ],
                        "iteration": 671,
                        "passed_time": 5.602358704,
                        "remaining_time": 2.734484605,
                        "test": [
                          1.721932457
                        ]
                      },
                      {
                        "learn": [
                          0.08037705502
                        ],
                        "iteration": 672,
                        "passed_time": 5.609649074,
                        "remaining_time": 2.725639298,
                        "test": [
                          1.721978232
                        ]
                      },
                      {
                        "learn": [
                          0.08021977928
                        ],
                        "iteration": 673,
                        "passed_time": 5.625710107,
                        "remaining_time": 2.721040794,
                        "test": [
                          1.723567012
                        ]
                      },
                      {
                        "learn": [
                          0.08002373916
                        ],
                        "iteration": 674,
                        "passed_time": 5.644229249,
                        "remaining_time": 2.717591861,
                        "test": [
                          1.724656449
                        ]
                      },
                      {
                        "learn": [
                          0.07989826733
                        ],
                        "iteration": 675,
                        "passed_time": 5.651856229,
                        "remaining_time": 2.708877838,
                        "test": [
                          1.724742845
                        ]
                      },
                      {
                        "learn": [
                          0.07980192258
                        ],
                        "iteration": 676,
                        "passed_time": 5.658672632,
                        "remaining_time": 2.699780296,
                        "test": [
                          1.725357855
                        ]
                      },
                      {
                        "learn": [
                          0.07962857613
                        ],
                        "iteration": 677,
                        "passed_time": 5.665748845,
                        "remaining_time": 2.690812873,
                        "test": [
                          1.726307278
                        ]
                      },
                      {
                        "learn": [
                          0.07950925371
                        ],
                        "iteration": 678,
                        "passed_time": 5.672882486,
                        "remaining_time": 2.681878171,
                        "test": [
                          1.726421873
                        ]
                      },
                      {
                        "learn": [
                          0.07939275804
                        ],
                        "iteration": 679,
                        "passed_time": 5.68050664,
                        "remaining_time": 2.673179595,
                        "test": [
                          1.726602604
                        ]
                      },
                      {
                        "learn": [
                          0.07923774772
                        ],
                        "iteration": 680,
                        "passed_time": 5.688200439,
                        "remaining_time": 2.664516799,
                        "test": [
                          1.726599357
                        ]
                      },
                      {
                        "learn": [
                          0.07910120998
                        ],
                        "iteration": 681,
                        "passed_time": 5.695470508,
                        "remaining_time": 2.655659269,
                        "test": [
                          1.726661191
                        ]
                      },
                      {
                        "learn": [
                          0.07895515812
                        ],
                        "iteration": 682,
                        "passed_time": 5.702788635,
                        "remaining_time": 2.646828693,
                        "test": [
                          1.726857008
                        ]
                      },
                      {
                        "learn": [
                          0.07877186059
                        ],
                        "iteration": 683,
                        "passed_time": 5.710304595,
                        "remaining_time": 2.638093936,
                        "test": [
                          1.727749307
                        ]
                      },
                      {
                        "learn": [
                          0.0786492159
                        ],
                        "iteration": 684,
                        "passed_time": 5.717737949,
                        "remaining_time": 2.62932475,
                        "test": [
                          1.72842449
                        ]
                      },
                      {
                        "learn": [
                          0.0784749811
                        ],
                        "iteration": 685,
                        "passed_time": 5.725198808,
                        "remaining_time": 2.620572049,
                        "test": [
                          1.728718765
                        ]
                      },
                      {
                        "learn": [
                          0.07828912137
                        ],
                        "iteration": 686,
                        "passed_time": 5.732761295,
                        "remaining_time": 2.611869411,
                        "test": [
                          1.729282352
                        ]
                      },
                      {
                        "learn": [
                          0.07815477226
                        ],
                        "iteration": 687,
                        "passed_time": 5.740411212,
                        "remaining_time": 2.603209736,
                        "test": [
                          1.729947686
                        ]
                      },
                      {
                        "learn": [
                          0.07805202808
                        ],
                        "iteration": 688,
                        "passed_time": 5.748179794,
                        "remaining_time": 2.594606554,
                        "test": [
                          1.729585117
                        ]
                      },
                      {
                        "learn": [
                          0.07791149556
                        ],
                        "iteration": 689,
                        "passed_time": 5.755808116,
                        "remaining_time": 2.585942777,
                        "test": [
                          1.730069612
                        ]
                      },
                      {
                        "learn": [
                          0.07778013498
                        ],
                        "iteration": 690,
                        "passed_time": 5.763573517,
                        "remaining_time": 2.577343295,
                        "test": [
                          1.730301998
                        ]
                      },
                      {
                        "learn": [
                          0.07763412919
                        ],
                        "iteration": 691,
                        "passed_time": 5.77110335,
                        "remaining_time": 2.568641376,
                        "test": [
                          1.729672411
                        ]
                      },
                      {
                        "learn": [
                          0.07741036223
                        ],
                        "iteration": 692,
                        "passed_time": 5.778779984,
                        "remaining_time": 2.560007872,
                        "test": [
                          1.730530701
                        ]
                      },
                      {
                        "learn": [
                          0.07724028
                        ],
                        "iteration": 693,
                        "passed_time": 5.786118235,
                        "remaining_time": 2.551227925,
                        "test": [
                          1.731572716
                        ]
                      },
                      {
                        "learn": [
                          0.07707287409
                        ],
                        "iteration": 694,
                        "passed_time": 5.793886236,
                        "remaining_time": 2.542640722,
                        "test": [
                          1.732110416
                        ]
                      },
                      {
                        "learn": [
                          0.07690271317
                        ],
                        "iteration": 695,
                        "passed_time": 5.80161616,
                        "remaining_time": 2.534039242,
                        "test": [
                          1.731871111
                        ]
                      },
                      {
                        "learn": [
                          0.07674115947
                        ],
                        "iteration": 696,
                        "passed_time": 5.809606778,
                        "remaining_time": 2.525553592,
                        "test": [
                          1.731537648
                        ]
                      },
                      {
                        "learn": [
                          0.07663189722
                        ],
                        "iteration": 697,
                        "passed_time": 5.817024441,
                        "remaining_time": 2.516821463,
                        "test": [
                          1.731762179
                        ]
                      },
                      {
                        "learn": [
                          0.07649976311
                        ],
                        "iteration": 698,
                        "passed_time": 5.831608168,
                        "remaining_time": 2.511178911,
                        "test": [
                          1.731071148
                        ]
                      },
                      {
                        "learn": [
                          0.07635276542
                        ],
                        "iteration": 699,
                        "passed_time": 5.839702831,
                        "remaining_time": 2.502729785,
                        "test": [
                          1.731384432
                        ]
                      },
                      {
                        "learn": [
                          0.07620111217
                        ],
                        "iteration": 700,
                        "passed_time": 5.847296394,
                        "remaining_time": 2.494067934,
                        "test": [
                          1.731425796
                        ]
                      },
                      {
                        "learn": [
                          0.07609310177
                        ],
                        "iteration": 701,
                        "passed_time": 5.885223651,
                        "remaining_time": 2.498285823,
                        "test": [
                          1.731952605
                        ]
                      },
                      {
                        "learn": [
                          0.07599982796
                        ],
                        "iteration": 702,
                        "passed_time": 5.905130387,
                        "remaining_time": 2.49477059,
                        "test": [
                          1.732067025
                        ]
                      },
                      {
                        "learn": [
                          0.07585705426
                        ],
                        "iteration": 703,
                        "passed_time": 5.919365534,
                        "remaining_time": 2.488824145,
                        "test": [
                          1.732340305
                        ]
                      },
                      {
                        "learn": [
                          0.07564401407
                        ],
                        "iteration": 704,
                        "passed_time": 5.932835251,
                        "remaining_time": 2.482533899,
                        "test": [
                          1.733874374
                        ]
                      },
                      {
                        "learn": [
                          0.07553283276
                        ],
                        "iteration": 705,
                        "passed_time": 5.943997677,
                        "remaining_time": 2.475262489,
                        "test": [
                          1.7335342
                        ]
                      },
                      {
                        "learn": [
                          0.07534865868
                        ],
                        "iteration": 706,
                        "passed_time": 5.951520021,
                        "remaining_time": 2.466471522,
                        "test": [
                          1.734201571
                        ]
                      },
                      {
                        "learn": [
                          0.07521992139
                        ],
                        "iteration": 707,
                        "passed_time": 5.961310483,
                        "remaining_time": 2.458619578,
                        "test": [
                          1.73436501
                        ]
                      },
                      {
                        "learn": [
                          0.07510453096
                        ],
                        "iteration": 708,
                        "passed_time": 5.969726588,
                        "remaining_time": 2.450198078,
                        "test": [
                          1.734175665
                        ]
                      },
                      {
                        "learn": [
                          0.07498505553
                        ],
                        "iteration": 709,
                        "passed_time": 5.977168421,
                        "remaining_time": 2.441378651,
                        "test": [
                          1.735034569
                        ]
                      },
                      {
                        "learn": [
                          0.07487032842
                        ],
                        "iteration": 710,
                        "passed_time": 5.985007707,
                        "remaining_time": 2.432724652,
                        "test": [
                          1.735714278
                        ]
                      },
                      {
                        "learn": [
                          0.07475514721
                        ],
                        "iteration": 711,
                        "passed_time": 5.992595531,
                        "remaining_time": 2.423971226,
                        "test": [
                          1.735988394
                        ]
                      },
                      {
                        "learn": [
                          0.07461027571
                        ],
                        "iteration": 712,
                        "passed_time": 6.000093425,
                        "remaining_time": 2.415184871,
                        "test": [
                          1.736097524
                        ]
                      },
                      {
                        "learn": [
                          0.07443776386
                        ],
                        "iteration": 713,
                        "passed_time": 6.013810069,
                        "remaining_time": 2.408893109,
                        "test": [
                          1.736494789
                        ]
                      },
                      {
                        "learn": [
                          0.07430861959
                        ],
                        "iteration": 714,
                        "passed_time": 6.021309516,
                        "remaining_time": 2.400102395,
                        "test": [
                          1.737627889
                        ]
                      },
                      {
                        "learn": [
                          0.07421966987
                        ],
                        "iteration": 715,
                        "passed_time": 6.03459608,
                        "remaining_time": 2.393610736,
                        "test": [
                          1.737570242
                        ]
                      },
                      {
                        "learn": [
                          0.07411171038
                        ],
                        "iteration": 716,
                        "passed_time": 6.041702483,
                        "remaining_time": 2.384660813,
                        "test": [
                          1.737079704
                        ]
                      },
                      {
                        "learn": [
                          0.07403081525
                        ],
                        "iteration": 717,
                        "passed_time": 6.049624957,
                        "remaining_time": 2.376036543,
                        "test": [
                          1.738572808
                        ]
                      },
                      {
                        "learn": [
                          0.07390168806
                        ],
                        "iteration": 718,
                        "passed_time": 6.057259244,
                        "remaining_time": 2.367301596,
                        "test": [
                          1.738439623
                        ]
                      },
                      {
                        "learn": [
                          0.07374430804
                        ],
                        "iteration": 719,
                        "passed_time": 6.065038512,
                        "remaining_time": 2.358626088,
                        "test": [
                          1.738658534
                        ]
                      },
                      {
                        "learn": [
                          0.07363574785
                        ],
                        "iteration": 720,
                        "passed_time": 6.07261205,
                        "remaining_time": 2.349873456,
                        "test": [
                          1.73844369
                        ]
                      },
                      {
                        "learn": [
                          0.07344865962
                        ],
                        "iteration": 721,
                        "passed_time": 6.080409305,
                        "remaining_time": 2.341210231,
                        "test": [
                          1.737424493
                        ]
                      },
                      {
                        "learn": [
                          0.07334778117
                        ],
                        "iteration": 722,
                        "passed_time": 6.087922535,
                        "remaining_time": 2.332440584,
                        "test": [
                          1.738287591
                        ]
                      },
                      {
                        "learn": [
                          0.07319515803
                        ],
                        "iteration": 723,
                        "passed_time": 6.095431296,
                        "remaining_time": 2.323672704,
                        "test": [
                          1.73862055
                        ]
                      },
                      {
                        "learn": [
                          0.07310539994
                        ],
                        "iteration": 724,
                        "passed_time": 6.102632275,
                        "remaining_time": 2.314791552,
                        "test": [
                          1.739081058
                        ]
                      },
                      {
                        "learn": [
                          0.07297308907
                        ],
                        "iteration": 725,
                        "passed_time": 6.110147024,
                        "remaining_time": 2.30603345,
                        "test": [
                          1.739441086
                        ]
                      },
                      {
                        "learn": [
                          0.07280761968
                        ],
                        "iteration": 726,
                        "passed_time": 6.117620335,
                        "remaining_time": 2.297263207,
                        "test": [
                          1.739574494
                        ]
                      },
                      {
                        "learn": [
                          0.07266953574
                        ],
                        "iteration": 727,
                        "passed_time": 6.125179486,
                        "remaining_time": 2.288528599,
                        "test": [
                          1.740030041
                        ]
                      },
                      {
                        "learn": [
                          0.07254558751
                        ],
                        "iteration": 728,
                        "passed_time": 6.132644171,
                        "remaining_time": 2.279762099,
                        "test": [
                          1.740239199
                        ]
                      },
                      {
                        "learn": [
                          0.07248490985
                        ],
                        "iteration": 729,
                        "passed_time": 6.139800424,
                        "remaining_time": 2.270885088,
                        "test": [
                          1.740205173
                        ]
                      },
                      {
                        "learn": [
                          0.07238356245
                        ],
                        "iteration": 730,
                        "passed_time": 6.147023277,
                        "remaining_time": 2.262037293,
                        "test": [
                          1.740670016
                        ]
                      },
                      {
                        "learn": [
                          0.07226814693
                        ],
                        "iteration": 731,
                        "passed_time": 6.15484918,
                        "remaining_time": 2.253414727,
                        "test": [
                          1.740631578
                        ]
                      },
                      {
                        "learn": [
                          0.07213870085
                        ],
                        "iteration": 732,
                        "passed_time": 6.161622057,
                        "remaining_time": 2.244410763,
                        "test": [
                          1.740962049
                        ]
                      },
                      {
                        "learn": [
                          0.0720381035
                        ],
                        "iteration": 733,
                        "passed_time": 6.168905141,
                        "remaining_time": 2.235597776,
                        "test": [
                          1.741110786
                        ]
                      },
                      {
                        "learn": [
                          0.07195770328
                        ],
                        "iteration": 734,
                        "passed_time": 6.176499237,
                        "remaining_time": 2.226901086,
                        "test": [
                          1.741402375
                        ]
                      },
                      {
                        "learn": [
                          0.07179239839
                        ],
                        "iteration": 735,
                        "passed_time": 6.184168411,
                        "remaining_time": 2.218234321,
                        "test": [
                          1.741494834
                        ]
                      },
                      {
                        "learn": [
                          0.07168314119
                        ],
                        "iteration": 736,
                        "passed_time": 6.191716496,
                        "remaining_time": 2.209527054,
                        "test": [
                          1.743293217
                        ]
                      },
                      {
                        "learn": [
                          0.07155245002
                        ],
                        "iteration": 737,
                        "passed_time": 6.199028628,
                        "remaining_time": 2.200739161,
                        "test": [
                          1.743471223
                        ]
                      },
                      {
                        "learn": [
                          0.07145486073
                        ],
                        "iteration": 738,
                        "passed_time": 6.206448926,
                        "remaining_time": 2.191993464,
                        "test": [
                          1.743381183
                        ]
                      },
                      {
                        "learn": [
                          0.07135645
                        ],
                        "iteration": 739,
                        "passed_time": 6.213776478,
                        "remaining_time": 2.183218762,
                        "test": [
                          1.743949072
                        ]
                      },
                      {
                        "learn": [
                          0.07128002463
                        ],
                        "iteration": 740,
                        "passed_time": 6.220891949,
                        "remaining_time": 2.174373839,
                        "test": [
                          1.74419907
                        ]
                      },
                      {
                        "learn": [
                          0.07119237306
                        ],
                        "iteration": 741,
                        "passed_time": 6.229861239,
                        "remaining_time": 2.166178166,
                        "test": [
                          1.744049289
                        ]
                      },
                      {
                        "learn": [
                          0.07109337696
                        ],
                        "iteration": 742,
                        "passed_time": 6.241899418,
                        "remaining_time": 2.159041925,
                        "test": [
                          1.743433691
                        ]
                      },
                      {
                        "learn": [
                          0.07095267397
                        ],
                        "iteration": 743,
                        "passed_time": 6.249463759,
                        "remaining_time": 2.150353121,
                        "test": [
                          1.743045869
                        ]
                      },
                      {
                        "learn": [
                          0.07079146932
                        ],
                        "iteration": 744,
                        "passed_time": 6.257055626,
                        "remaining_time": 2.141676758,
                        "test": [
                          1.742962906
                        ]
                      },
                      {
                        "learn": [
                          0.07067701906
                        ],
                        "iteration": 745,
                        "passed_time": 6.264762059,
                        "remaining_time": 2.13304231,
                        "test": [
                          1.743400814
                        ]
                      },
                      {
                        "learn": [
                          0.07056719634
                        ],
                        "iteration": 746,
                        "passed_time": 6.272237944,
                        "remaining_time": 2.124332262,
                        "test": [
                          1.742757119
                        ]
                      },
                      {
                        "learn": [
                          0.07044639841
                        ],
                        "iteration": 747,
                        "passed_time": 6.279452311,
                        "remaining_time": 2.11553741,
                        "test": [
                          1.742326451
                        ]
                      },
                      {
                        "learn": [
                          0.07027876859
                        ],
                        "iteration": 748,
                        "passed_time": 6.286743031,
                        "remaining_time": 2.106772364,
                        "test": [
                          1.742512457
                        ]
                      },
                      {
                        "learn": [
                          0.07017656429
                        ],
                        "iteration": 749,
                        "passed_time": 6.29444534,
                        "remaining_time": 2.098148447,
                        "test": [
                          1.74296092
                        ]
                      },
                      {
                        "learn": [
                          0.07000931118
                        ],
                        "iteration": 750,
                        "passed_time": 6.302080416,
                        "remaining_time": 2.089504692,
                        "test": [
                          1.742815717
                        ]
                      },
                      {
                        "learn": [
                          0.06990215681
                        ],
                        "iteration": 751,
                        "passed_time": 6.309583037,
                        "remaining_time": 2.080819938,
                        "test": [
                          1.743546717
                        ]
                      },
                      {
                        "learn": [
                          0.06982222794
                        ],
                        "iteration": 752,
                        "passed_time": 6.317021829,
                        "remaining_time": 2.072117386,
                        "test": [
                          1.743158616
                        ]
                      },
                      {
                        "learn": [
                          0.06967457659
                        ],
                        "iteration": 753,
                        "passed_time": 6.324492003,
                        "remaining_time": 2.063428425,
                        "test": [
                          1.74371675
                        ]
                      },
                      {
                        "learn": [
                          0.06960851976
                        ],
                        "iteration": 754,
                        "passed_time": 6.332053955,
                        "remaining_time": 2.054772476,
                        "test": [
                          1.744129332
                        ]
                      },
                      {
                        "learn": [
                          0.06951582974
                        ],
                        "iteration": 755,
                        "passed_time": 6.339666383,
                        "remaining_time": 2.046135711,
                        "test": [
                          1.745000785
                        ]
                      },
                      {
                        "learn": [
                          0.06939451228
                        ],
                        "iteration": 756,
                        "passed_time": 6.347427269,
                        "remaining_time": 2.037549308,
                        "test": [
                          1.74584983
                        ]
                      },
                      {
                        "learn": [
                          0.06931051903
                        ],
                        "iteration": 757,
                        "passed_time": 6.355089851,
                        "remaining_time": 2.028933699,
                        "test": [
                          1.745385559
                        ]
                      },
                      {
                        "learn": [
                          0.06911746349
                        ],
                        "iteration": 758,
                        "passed_time": 6.362475587,
                        "remaining_time": 2.020232696,
                        "test": [
                          1.746227126
                        ]
                      },
                      {
                        "learn": [
                          0.06902135598
                        ],
                        "iteration": 759,
                        "passed_time": 6.370188927,
                        "remaining_time": 2.011638608,
                        "test": [
                          1.745535054
                        ]
                      },
                      {
                        "learn": [
                          0.06891755666
                        ],
                        "iteration": 760,
                        "passed_time": 6.377728325,
                        "remaining_time": 2.002992207,
                        "test": [
                          1.74587641
                        ]
                      },
                      {
                        "learn": [
                          0.06881981712
                        ],
                        "iteration": 761,
                        "passed_time": 6.385077192,
                        "remaining_time": 1.994289202,
                        "test": [
                          1.745298464
                        ]
                      },
                      {
                        "learn": [
                          0.06871610647
                        ],
                        "iteration": 762,
                        "passed_time": 6.392640438,
                        "remaining_time": 1.985656335,
                        "test": [
                          1.745747053
                        ]
                      },
                      {
                        "learn": [
                          0.06865128097
                        ],
                        "iteration": 763,
                        "passed_time": 6.40006545,
                        "remaining_time": 1.976983568,
                        "test": [
                          1.74572077
                        ]
                      },
                      {
                        "learn": [
                          0.06856350576
                        ],
                        "iteration": 764,
                        "passed_time": 6.407636387,
                        "remaining_time": 1.96835889,
                        "test": [
                          1.745813188
                        ]
                      },
                      {
                        "learn": [
                          0.06844923767
                        ],
                        "iteration": 765,
                        "passed_time": 6.414854075,
                        "remaining_time": 1.959629052,
                        "test": [
                          1.746921762
                        ]
                      },
                      {
                        "learn": [
                          0.06836028729
                        ],
                        "iteration": 766,
                        "passed_time": 6.422034321,
                        "remaining_time": 1.950891782,
                        "test": [
                          1.747201282
                        ]
                      },
                      {
                        "learn": [
                          0.06817360038
                        ],
                        "iteration": 767,
                        "passed_time": 6.433088537,
                        "remaining_time": 1.943328829,
                        "test": [
                          1.747622088
                        ]
                      },
                      {
                        "learn": [
                          0.06807456324
                        ],
                        "iteration": 768,
                        "passed_time": 6.441770693,
                        "remaining_time": 1.935044252,
                        "test": [
                          1.747511529
                        ]
                      },
                      {
                        "learn": [
                          0.06795321897
                        ],
                        "iteration": 769,
                        "passed_time": 6.448518081,
                        "remaining_time": 1.926180725,
                        "test": [
                          1.74808878
                        ]
                      },
                      {
                        "learn": [
                          0.06785921011
                        ],
                        "iteration": 770,
                        "passed_time": 6.455797852,
                        "remaining_time": 1.917480815,
                        "test": [
                          1.747880024
                        ]
                      },
                      {
                        "learn": [
                          0.06777350821
                        ],
                        "iteration": 771,
                        "passed_time": 6.463448647,
                        "remaining_time": 1.90889416,
                        "test": [
                          1.748907406
                        ]
                      },
                      {
                        "learn": [
                          0.06769889142
                        ],
                        "iteration": 772,
                        "passed_time": 6.471057794,
                        "remaining_time": 1.900297696,
                        "test": [
                          1.749287785
                        ]
                      },
                      {
                        "learn": [
                          0.06755666785
                        ],
                        "iteration": 773,
                        "passed_time": 6.478773872,
                        "remaining_time": 1.891735007,
                        "test": [
                          1.749121002
                        ]
                      },
                      {
                        "learn": [
                          0.06749496331
                        ],
                        "iteration": 774,
                        "passed_time": 6.486211016,
                        "remaining_time": 1.883093521,
                        "test": [
                          1.749036196
                        ]
                      },
                      {
                        "learn": [
                          0.06741134735
                        ],
                        "iteration": 775,
                        "passed_time": 6.493792919,
                        "remaining_time": 1.874496925,
                        "test": [
                          1.748613144
                        ]
                      },
                      {
                        "learn": [
                          0.06729021844
                        ],
                        "iteration": 776,
                        "passed_time": 6.503979295,
                        "remaining_time": 1.866650428,
                        "test": [
                          1.748413852
                        ]
                      },
                      {
                        "learn": [
                          0.06718645727
                        ],
                        "iteration": 777,
                        "passed_time": 6.511603897,
                        "remaining_time": 1.858066922,
                        "test": [
                          1.748662012
                        ]
                      },
                      {
                        "learn": [
                          0.06710504701
                        ],
                        "iteration": 778,
                        "passed_time": 6.518967321,
                        "remaining_time": 1.849411782,
                        "test": [
                          1.749197127
                        ]
                      },
                      {
                        "learn": [
                          0.06702631611
                        ],
                        "iteration": 779,
                        "passed_time": 6.530430865,
                        "remaining_time": 1.841916398,
                        "test": [
                          1.748549454
                        ]
                      },
                      {
                        "learn": [
                          0.0669489512
                        ],
                        "iteration": 780,
                        "passed_time": 6.538043313,
                        "remaining_time": 1.833330967,
                        "test": [
                          1.748301274
                        ]
                      },
                      {
                        "learn": [
                          0.06685588541
                        ],
                        "iteration": 781,
                        "passed_time": 6.545630274,
                        "remaining_time": 1.82474092,
                        "test": [
                          1.747826989
                        ]
                      },
                      {
                        "learn": [
                          0.06673497055
                        ],
                        "iteration": 782,
                        "passed_time": 6.553047629,
                        "remaining_time": 1.816106431,
                        "test": [
                          1.748243261
                        ]
                      },
                      {
                        "learn": [
                          0.06662661796
                        ],
                        "iteration": 783,
                        "passed_time": 6.560481393,
                        "remaining_time": 1.807479567,
                        "test": [
                          1.748314315
                        ]
                      },
                      {
                        "learn": [
                          0.06650293007
                        ],
                        "iteration": 784,
                        "passed_time": 6.568062813,
                        "remaining_time": 1.798896184,
                        "test": [
                          1.748658737
                        ]
                      },
                      {
                        "learn": [
                          0.0663979679
                        ],
                        "iteration": 785,
                        "passed_time": 6.575458387,
                        "remaining_time": 1.790264752,
                        "test": [
                          1.748798247
                        ]
                      },
                      {
                        "learn": [
                          0.06628947343
                        ],
                        "iteration": 786,
                        "passed_time": 6.583028774,
                        "remaining_time": 1.781683772,
                        "test": [
                          1.749891805
                        ]
                      },
                      {
                        "learn": [
                          0.06616437965
                        ],
                        "iteration": 787,
                        "passed_time": 6.590476162,
                        "remaining_time": 1.773072267,
                        "test": [
                          1.750389639
                        ]
                      },
                      {
                        "learn": [
                          0.06602032882
                        ],
                        "iteration": 788,
                        "passed_time": 6.597886291,
                        "remaining_time": 1.764453748,
                        "test": [
                          1.750909245
                        ]
                      },
                      {
                        "learn": [
                          0.06588597412
                        ],
                        "iteration": 789,
                        "passed_time": 6.60524025,
                        "remaining_time": 1.755823358,
                        "test": [
                          1.752697022
                        ]
                      },
                      {
                        "learn": [
                          0.06577965413
                        ],
                        "iteration": 790,
                        "passed_time": 6.612814599,
                        "remaining_time": 1.747254426,
                        "test": [
                          1.753834022
                        ]
                      },
                      {
                        "learn": [
                          0.06565251832
                        ],
                        "iteration": 791,
                        "passed_time": 6.620321693,
                        "remaining_time": 1.738670344,
                        "test": [
                          1.755680301
                        ]
                      },
                      {
                        "learn": [
                          0.06552700651
                        ],
                        "iteration": 792,
                        "passed_time": 6.632490503,
                        "remaining_time": 1.731305844,
                        "test": [
                          1.755630998
                        ]
                      },
                      {
                        "learn": [
                          0.06544601774
                        ],
                        "iteration": 793,
                        "passed_time": 6.643394295,
                        "remaining_time": 1.723601039,
                        "test": [
                          1.755831078
                        ]
                      },
                      {
                        "learn": [
                          0.06533359465
                        ],
                        "iteration": 794,
                        "passed_time": 6.650936459,
                        "remaining_time": 1.715021351,
                        "test": [
                          1.75645439
                        ]
                      },
                      {
                        "learn": [
                          0.06524401007
                        ],
                        "iteration": 795,
                        "passed_time": 6.658264112,
                        "remaining_time": 1.706389295,
                        "test": [
                          1.757004553
                        ]
                      },
                      {
                        "learn": [
                          0.06513906494
                        ],
                        "iteration": 796,
                        "passed_time": 6.665830176,
                        "remaining_time": 1.697821237,
                        "test": [
                          1.757607538
                        ]
                      },
                      {
                        "learn": [
                          0.06503082143
                        ],
                        "iteration": 797,
                        "passed_time": 6.673033547,
                        "remaining_time": 1.68916388,
                        "test": [
                          1.758172786
                        ]
                      },
                      {
                        "learn": [
                          0.06494125669
                        ],
                        "iteration": 798,
                        "passed_time": 6.6805699,
                        "remaining_time": 1.68059393,
                        "test": [
                          1.758484048
                        ]
                      },
                      {
                        "learn": [
                          0.06483115731
                        ],
                        "iteration": 799,
                        "passed_time": 6.688044838,
                        "remaining_time": 1.672011209,
                        "test": [
                          1.758930883
                        ]
                      },
                      {
                        "learn": [
                          0.06469651837
                        ],
                        "iteration": 800,
                        "passed_time": 6.695586044,
                        "remaining_time": 1.663447719,
                        "test": [
                          1.759316931
                        ]
                      },
                      {
                        "learn": [
                          0.06461671223
                        ],
                        "iteration": 801,
                        "passed_time": 6.702866077,
                        "remaining_time": 1.654822298,
                        "test": [
                          1.759282266
                        ]
                      },
                      {
                        "learn": [
                          0.06452627403
                        ],
                        "iteration": 802,
                        "passed_time": 6.710322857,
                        "remaining_time": 1.64624359,
                        "test": [
                          1.759581556
                        ]
                      },
                      {
                        "learn": [
                          0.06446153389
                        ],
                        "iteration": 803,
                        "passed_time": 6.717728445,
                        "remaining_time": 1.637655193,
                        "test": [
                          1.759780957
                        ]
                      },
                      {
                        "learn": [
                          0.06437244516
                        ],
                        "iteration": 804,
                        "passed_time": 6.725353844,
                        "remaining_time": 1.629122981,
                        "test": [
                          1.759460837
                        ]
                      },
                      {
                        "learn": [
                          0.06425262763
                        ],
                        "iteration": 805,
                        "passed_time": 6.733008685,
                        "remaining_time": 1.620600105,
                        "test": [
                          1.760324333
                        ]
                      },
                      {
                        "learn": [
                          0.06416346446
                        ],
                        "iteration": 806,
                        "passed_time": 6.740332343,
                        "remaining_time": 1.612000176,
                        "test": [
                          1.760470199
                        ]
                      },
                      {
                        "learn": [
                          0.0640873073
                        ],
                        "iteration": 807,
                        "passed_time": 6.747695107,
                        "remaining_time": 1.603412699,
                        "test": [
                          1.760245296
                        ]
                      },
                      {
                        "learn": [
                          0.06400395423
                        ],
                        "iteration": 808,
                        "passed_time": 6.755162243,
                        "remaining_time": 1.594852891,
                        "test": [
                          1.760425032
                        ]
                      },
                      {
                        "learn": [
                          0.06393418313
                        ],
                        "iteration": 809,
                        "passed_time": 6.762404943,
                        "remaining_time": 1.586243135,
                        "test": [
                          1.760215548
                        ]
                      },
                      {
                        "learn": [
                          0.06386498926
                        ],
                        "iteration": 810,
                        "passed_time": 6.769799064,
                        "remaining_time": 1.577672038,
                        "test": [
                          1.760150471
                        ]
                      },
                      {
                        "learn": [
                          0.0638157834
                        ],
                        "iteration": 811,
                        "passed_time": 6.777592658,
                        "remaining_time": 1.56919633,
                        "test": [
                          1.760258686
                        ]
                      },
                      {
                        "learn": [
                          0.06370997721
                        ],
                        "iteration": 812,
                        "passed_time": 6.785604427,
                        "remaining_time": 1.560772482,
                        "test": [
                          1.760424603
                        ]
                      },
                      {
                        "learn": [
                          0.06358826364
                        ],
                        "iteration": 813,
                        "passed_time": 6.793736333,
                        "remaining_time": 1.552377098,
                        "test": [
                          1.76069552
                        ]
                      },
                      {
                        "learn": [
                          0.06353899554
                        ],
                        "iteration": 814,
                        "passed_time": 6.801358189,
                        "remaining_time": 1.543866583,
                        "test": [
                          1.760813468
                        ]
                      },
                      {
                        "learn": [
                          0.06345062608
                        ],
                        "iteration": 815,
                        "passed_time": 6.808893947,
                        "remaining_time": 1.535338831,
                        "test": [
                          1.761574909
                        ]
                      },
                      {
                        "learn": [
                          0.06331818975
                        ],
                        "iteration": 816,
                        "passed_time": 6.816757189,
                        "remaining_time": 1.526886861,
                        "test": [
                          1.760793623
                        ]
                      },
                      {
                        "learn": [
                          0.06319357953
                        ],
                        "iteration": 817,
                        "passed_time": 6.824196196,
                        "remaining_time": 1.518341941,
                        "test": [
                          1.760993992
                        ]
                      },
                      {
                        "learn": [
                          0.06311298823
                        ],
                        "iteration": 818,
                        "passed_time": 6.834985535,
                        "remaining_time": 1.510540149,
                        "test": [
                          1.761225635
                        ]
                      },
                      {
                        "learn": [
                          0.06304801885
                        ],
                        "iteration": 819,
                        "passed_time": 6.844462684,
                        "remaining_time": 1.502443028,
                        "test": [
                          1.76114936
                        ]
                      },
                      {
                        "learn": [
                          0.06296518857
                        ],
                        "iteration": 820,
                        "passed_time": 6.892637632,
                        "remaining_time": 1.502779703,
                        "test": [
                          1.761662741
                        ]
                      },
                      {
                        "learn": [
                          0.06288988068
                        ],
                        "iteration": 821,
                        "passed_time": 6.908049508,
                        "remaining_time": 1.495903665,
                        "test": [
                          1.761355748
                        ]
                      },
                      {
                        "learn": [
                          0.06278142363
                        ],
                        "iteration": 822,
                        "passed_time": 6.92513431,
                        "remaining_time": 1.489366674,
                        "test": [
                          1.761980113
                        ]
                      },
                      {
                        "learn": [
                          0.06267427618
                        ],
                        "iteration": 823,
                        "passed_time": 6.94143863,
                        "remaining_time": 1.482637377,
                        "test": [
                          1.761770921
                        ]
                      },
                      {
                        "learn": [
                          0.06257920646
                        ],
                        "iteration": 824,
                        "passed_time": 6.949178792,
                        "remaining_time": 1.474068229,
                        "test": [
                          1.762282785
                        ]
                      },
                      {
                        "learn": [
                          0.06252067901
                        ],
                        "iteration": 825,
                        "passed_time": 6.955908033,
                        "remaining_time": 1.465288133,
                        "test": [
                          1.761355977
                        ]
                      },
                      {
                        "learn": [
                          0.06244294884
                        ],
                        "iteration": 826,
                        "passed_time": 6.963234222,
                        "remaining_time": 1.456637872,
                        "test": [
                          1.761277362
                        ]
                      },
                      {
                        "learn": [
                          0.06236665874
                        ],
                        "iteration": 827,
                        "passed_time": 6.970488667,
                        "remaining_time": 1.447975907,
                        "test": [
                          1.761277744
                        ]
                      },
                      {
                        "learn": [
                          0.06223965257
                        ],
                        "iteration": 828,
                        "passed_time": 6.977684655,
                        "remaining_time": 1.439305279,
                        "test": [
                          1.761195667
                        ]
                      },
                      {
                        "learn": [
                          0.0621462625
                        ],
                        "iteration": 829,
                        "passed_time": 6.984748607,
                        "remaining_time": 1.43061116,
                        "test": [
                          1.761825907
                        ]
                      },
                      {
                        "learn": [
                          0.0620660343
                        ],
                        "iteration": 830,
                        "passed_time": 6.992230854,
                        "remaining_time": 1.422006034,
                        "test": [
                          1.76125138
                        ]
                      },
                      {
                        "learn": [
                          0.06195866861
                        ],
                        "iteration": 831,
                        "passed_time": 6.999935302,
                        "remaining_time": 1.413448474,
                        "test": [
                          1.762268876
                        ]
                      },
                      {
                        "learn": [
                          0.06183220503
                        ],
                        "iteration": 832,
                        "passed_time": 7.007540024,
                        "remaining_time": 1.40487297,
                        "test": [
                          1.763077559
                        ]
                      },
                      {
                        "learn": [
                          0.06172216278
                        ],
                        "iteration": 833,
                        "passed_time": 7.015065167,
                        "remaining_time": 1.396283954,
                        "test": [
                          1.764405151
                        ]
                      },
                      {
                        "learn": [
                          0.06163730492
                        ],
                        "iteration": 834,
                        "passed_time": 7.022502924,
                        "remaining_time": 1.387680219,
                        "test": [
                          1.764507939
                        ]
                      },
                      {
                        "learn": [
                          0.0615658214
                        ],
                        "iteration": 835,
                        "passed_time": 7.034982927,
                        "remaining_time": 1.380068421,
                        "test": [
                          1.765235731
                        ]
                      },
                      {
                        "learn": [
                          0.06146432631
                        ],
                        "iteration": 836,
                        "passed_time": 7.042143398,
                        "remaining_time": 1.371409049,
                        "test": [
                          1.765776024
                        ]
                      },
                      {
                        "learn": [
                          0.06139185222
                        ],
                        "iteration": 837,
                        "passed_time": 7.049364518,
                        "remaining_time": 1.362764978,
                        "test": [
                          1.766064159
                        ]
                      },
                      {
                        "learn": [
                          0.06127372706
                        ],
                        "iteration": 838,
                        "passed_time": 7.056718507,
                        "remaining_time": 1.354149797,
                        "test": [
                          1.765529859
                        ]
                      },
                      {
                        "learn": [
                          0.06113306491
                        ],
                        "iteration": 839,
                        "passed_time": 7.064233581,
                        "remaining_time": 1.345568301,
                        "test": [
                          1.765692127
                        ]
                      },
                      {
                        "learn": [
                          0.06102148942
                        ],
                        "iteration": 840,
                        "passed_time": 7.071939443,
                        "remaining_time": 1.337025412,
                        "test": [
                          1.765388817
                        ]
                      },
                      {
                        "learn": [
                          0.0608808678
                        ],
                        "iteration": 841,
                        "passed_time": 7.079800517,
                        "remaining_time": 1.328513636,
                        "test": [
                          1.765973053
                        ]
                      },
                      {
                        "learn": [
                          0.06076007363
                        ],
                        "iteration": 842,
                        "passed_time": 7.087366519,
                        "remaining_time": 1.31994845,
                        "test": [
                          1.765929346
                        ]
                      },
                      {
                        "learn": [
                          0.06062641248
                        ],
                        "iteration": 843,
                        "passed_time": 7.094611706,
                        "remaining_time": 1.311326334,
                        "test": [
                          1.76501363
                        ]
                      },
                      {
                        "learn": [
                          0.06055654515
                        ],
                        "iteration": 844,
                        "passed_time": 7.102223514,
                        "remaining_time": 1.302774727,
                        "test": [
                          1.765043792
                        ]
                      },
                      {
                        "learn": [
                          0.06045635048
                        ],
                        "iteration": 845,
                        "passed_time": 7.109924048,
                        "remaining_time": 1.294241493,
                        "test": [
                          1.765651871
                        ]
                      },
                      {
                        "learn": [
                          0.06029033938
                        ],
                        "iteration": 846,
                        "passed_time": 7.119803721,
                        "remaining_time": 1.28610386,
                        "test": [
                          1.766058284
                        ]
                      },
                      {
                        "learn": [
                          0.06017577309
                        ],
                        "iteration": 847,
                        "passed_time": 7.12998965,
                        "remaining_time": 1.278017013,
                        "test": [
                          1.766403978
                        ]
                      },
                      {
                        "learn": [
                          0.06009135071
                        ],
                        "iteration": 848,
                        "passed_time": 7.137796629,
                        "remaining_time": 1.26950211,
                        "test": [
                          1.766809239
                        ]
                      },
                      {
                        "learn": [
                          0.06001616783
                        ],
                        "iteration": 849,
                        "passed_time": 7.145386684,
                        "remaining_time": 1.260950591,
                        "test": [
                          1.767299453
                        ]
                      },
                      {
                        "learn": [
                          0.05994567506
                        ],
                        "iteration": 850,
                        "passed_time": 7.153064768,
                        "remaining_time": 1.252416745,
                        "test": [
                          1.767473347
                        ]
                      },
                      {
                        "learn": [
                          0.05986845669
                        ],
                        "iteration": 851,
                        "passed_time": 7.160846108,
                        "remaining_time": 1.243902845,
                        "test": [
                          1.76800818
                        ]
                      },
                      {
                        "learn": [
                          0.05978590864
                        ],
                        "iteration": 852,
                        "passed_time": 7.168444547,
                        "remaining_time": 1.235359142,
                        "test": [
                          1.768933262
                        ]
                      },
                      {
                        "learn": [
                          0.05970639912
                        ],
                        "iteration": 853,
                        "passed_time": 7.176041391,
                        "remaining_time": 1.226817381,
                        "test": [
                          1.769541019
                        ]
                      },
                      {
                        "learn": [
                          0.0596242164
                        ],
                        "iteration": 854,
                        "passed_time": 7.183883409,
                        "remaining_time": 1.218319409,
                        "test": [
                          1.770497659
                        ]
                      },
                      {
                        "learn": [
                          0.05955109638
                        ],
                        "iteration": 855,
                        "passed_time": 7.191162565,
                        "remaining_time": 1.209728282,
                        "test": [
                          1.771134902
                        ]
                      },
                      {
                        "learn": [
                          0.05944715848
                        ],
                        "iteration": 856,
                        "passed_time": 7.198738935,
                        "remaining_time": 1.201189811,
                        "test": [
                          1.770883122
                        ]
                      },
                      {
                        "learn": [
                          0.05935177872
                        ],
                        "iteration": 857,
                        "passed_time": 7.206313666,
                        "remaining_time": 1.192653311,
                        "test": [
                          1.772074543
                        ]
                      },
                      {
                        "learn": [
                          0.05924227791
                        ],
                        "iteration": 858,
                        "passed_time": 7.213730742,
                        "remaining_time": 1.184093172,
                        "test": [
                          1.77255398
                        ]
                      },
                      {
                        "learn": [
                          0.05916160574
                        ],
                        "iteration": 859,
                        "passed_time": 7.221443457,
                        "remaining_time": 1.175583819,
                        "test": [
                          1.772586852
                        ]
                      },
                      {
                        "learn": [
                          0.05907252296
                        ],
                        "iteration": 860,
                        "passed_time": 7.232847341,
                        "remaining_time": 1.167672219,
                        "test": [
                          1.772641839
                        ]
                      },
                      {
                        "learn": [
                          0.05893424432
                        ],
                        "iteration": 861,
                        "passed_time": 7.24112438,
                        "remaining_time": 1.159251931,
                        "test": [
                          1.77258776
                        ]
                      },
                      {
                        "learn": [
                          0.05883439187
                        ],
                        "iteration": 862,
                        "passed_time": 7.248581014,
                        "remaining_time": 1.150701737,
                        "test": [
                          1.771752523
                        ]
                      },
                      {
                        "learn": [
                          0.05878114555
                        ],
                        "iteration": 863,
                        "passed_time": 7.255580064,
                        "remaining_time": 1.142082047,
                        "test": [
                          1.771610989
                        ]
                      },
                      {
                        "learn": [
                          0.05871236582
                        ],
                        "iteration": 864,
                        "passed_time": 7.263223931,
                        "remaining_time": 1.133566741,
                        "test": [
                          1.771748367
                        ]
                      },
                      {
                        "learn": [
                          0.05860173149
                        ],
                        "iteration": 865,
                        "passed_time": 7.271305797,
                        "remaining_time": 1.12512122,
                        "test": [
                          1.771527436
                        ]
                      },
                      {
                        "learn": [
                          0.05852368528
                        ],
                        "iteration": 866,
                        "passed_time": 7.278850522,
                        "remaining_time": 1.11659414,
                        "test": [
                          1.771651238
                        ]
                      },
                      {
                        "learn": [
                          0.05845660581
                        ],
                        "iteration": 867,
                        "passed_time": 7.28629384,
                        "remaining_time": 1.108053902,
                        "test": [
                          1.771915819
                        ]
                      },
                      {
                        "learn": [
                          0.0583900485
                        ],
                        "iteration": 868,
                        "passed_time": 7.293917492,
                        "remaining_time": 1.099543373,
                        "test": [
                          1.772171896
                        ]
                      },
                      {
                        "learn": [
                          0.0582981042
                        ],
                        "iteration": 869,
                        "passed_time": 7.30466764,
                        "remaining_time": 1.091502061,
                        "test": [
                          1.772612685
                        ]
                      },
                      {
                        "learn": [
                          0.05821928901
                        ],
                        "iteration": 870,
                        "passed_time": 7.316888559,
                        "remaining_time": 1.083672358,
                        "test": [
                          1.772806511
                        ]
                      },
                      {
                        "learn": [
                          0.05813895979
                        ],
                        "iteration": 871,
                        "passed_time": 7.324214346,
                        "remaining_time": 1.075114032,
                        "test": [
                          1.773237577
                        ]
                      },
                      {
                        "learn": [
                          0.05805267411
                        ],
                        "iteration": 872,
                        "passed_time": 7.331542134,
                        "remaining_time": 1.066558821,
                        "test": [
                          1.773093486
                        ]
                      },
                      {
                        "learn": [
                          0.05798771253
                        ],
                        "iteration": 873,
                        "passed_time": 7.338810908,
                        "remaining_time": 1.057997911,
                        "test": [
                          1.77372106
                        ]
                      },
                      {
                        "learn": [
                          0.05793035653
                        ],
                        "iteration": 874,
                        "passed_time": 7.3463921,
                        "remaining_time": 1.049484586,
                        "test": [
                          1.773957417
                        ]
                      },
                      {
                        "learn": [
                          0.05782274669
                        ],
                        "iteration": 875,
                        "passed_time": 7.354034874,
                        "remaining_time": 1.040982105,
                        "test": [
                          1.774961124
                        ]
                      },
                      {
                        "learn": [
                          0.05777639631
                        ],
                        "iteration": 876,
                        "passed_time": 7.361261361,
                        "remaining_time": 1.032423201,
                        "test": [
                          1.775436943
                        ]
                      },
                      {
                        "learn": [
                          0.05768583229
                        ],
                        "iteration": 877,
                        "passed_time": 7.369034916,
                        "remaining_time": 1.023943348,
                        "test": [
                          1.775248827
                        ]
                      },
                      {
                        "learn": [
                          0.05758958248
                        ],
                        "iteration": 878,
                        "passed_time": 7.376669862,
                        "remaining_time": 1.015446022,
                        "test": [
                          1.775578411
                        ]
                      },
                      {
                        "learn": [
                          0.05748920405
                        ],
                        "iteration": 879,
                        "passed_time": 7.384209577,
                        "remaining_time": 1.00693767,
                        "test": [
                          1.776316519
                        ]
                      },
                      {
                        "learn": [
                          0.05743177632
                        ],
                        "iteration": 880,
                        "passed_time": 7.391731785,
                        "remaining_time": 0.9984291514,
                        "test": [
                          1.776354844
                        ]
                      },
                      {
                        "learn": [
                          0.05735234514
                        ],
                        "iteration": 881,
                        "passed_time": 7.399473928,
                        "remaining_time": 0.9899522942,
                        "test": [
                          1.776643887
                        ]
                      },
                      {
                        "learn": [
                          0.05726063857
                        ],
                        "iteration": 882,
                        "passed_time": 7.407029766,
                        "remaining_time": 0.9814524153,
                        "test": [
                          1.777237602
                        ]
                      },
                      {
                        "learn": [
                          0.05716941869
                        ],
                        "iteration": 883,
                        "passed_time": 7.414465839,
                        "remaining_time": 0.9729389563,
                        "test": [
                          1.778748587
                        ]
                      },
                      {
                        "learn": [
                          0.05708748417
                        ],
                        "iteration": 884,
                        "passed_time": 7.422041697,
                        "remaining_time": 0.9644460963,
                        "test": [
                          1.779171858
                        ]
                      },
                      {
                        "learn": [
                          0.05700223316
                        ],
                        "iteration": 885,
                        "passed_time": 7.434287489,
                        "remaining_time": 0.9565561781,
                        "test": [
                          1.779232127
                        ]
                      },
                      {
                        "learn": [
                          0.05693416303
                        ],
                        "iteration": 886,
                        "passed_time": 7.442160067,
                        "remaining_time": 0.9480993095,
                        "test": [
                          1.779319533
                        ]
                      },
                      {
                        "learn": [
                          0.05687631448
                        ],
                        "iteration": 887,
                        "passed_time": 7.449272567,
                        "remaining_time": 0.9395478914,
                        "test": [
                          1.779348161
                        ]
                      },
                      {
                        "learn": [
                          0.05682301976
                        ],
                        "iteration": 888,
                        "passed_time": 7.456575126,
                        "remaining_time": 0.9310234409,
                        "test": [
                          1.778321758
                        ]
                      },
                      {
                        "learn": [
                          0.05674831857
                        ],
                        "iteration": 889,
                        "passed_time": 7.464116617,
                        "remaining_time": 0.9225312673,
                        "test": [
                          1.779009422
                        ]
                      },
                      {
                        "learn": [
                          0.05669309381
                        ],
                        "iteration": 890,
                        "passed_time": 7.471929364,
                        "remaining_time": 0.9140744115,
                        "test": [
                          1.779165162
                        ]
                      },
                      {
                        "learn": [
                          0.05664787618
                        ],
                        "iteration": 891,
                        "passed_time": 7.479323464,
                        "remaining_time": 0.9055683118,
                        "test": [
                          1.778725212
                        ]
                      },
                      {
                        "learn": [
                          0.05658719065
                        ],
                        "iteration": 892,
                        "passed_time": 7.486776409,
                        "remaining_time": 0.8970717534,
                        "test": [
                          1.779281497
                        ]
                      },
                      {
                        "learn": [
                          0.05651178492
                        ],
                        "iteration": 893,
                        "passed_time": 7.494090396,
                        "remaining_time": 0.8885610537,
                        "test": [
                          1.780212188
                        ]
                      },
                      {
                        "learn": [
                          0.05642874239
                        ],
                        "iteration": 894,
                        "passed_time": 7.501327354,
                        "remaining_time": 0.8800439913,
                        "test": [
                          1.780073339
                        ]
                      },
                      {
                        "learn": [
                          0.05635330174
                        ],
                        "iteration": 895,
                        "passed_time": 7.508682327,
                        "remaining_time": 0.8715434843,
                        "test": [
                          1.780670285
                        ]
                      },
                      {
                        "learn": [
                          0.05625214317
                        ],
                        "iteration": 896,
                        "passed_time": 7.516044648,
                        "remaining_time": 0.8630463754,
                        "test": [
                          1.780852662
                        ]
                      },
                      {
                        "learn": [
                          0.05615094657
                        ],
                        "iteration": 897,
                        "passed_time": 7.523542812,
                        "remaining_time": 0.8545672237,
                        "test": [
                          1.781350876
                        ]
                      },
                      {
                        "learn": [
                          0.05605035829
                        ],
                        "iteration": 898,
                        "passed_time": 7.530751794,
                        "remaining_time": 0.8460577655,
                        "test": [
                          1.781622971
                        ]
                      },
                      {
                        "learn": [
                          0.05595931442
                        ],
                        "iteration": 899,
                        "passed_time": 7.538336248,
                        "remaining_time": 0.8375929164,
                        "test": [
                          1.782662119
                        ]
                      },
                      {
                        "learn": [
                          0.05589128747
                        ],
                        "iteration": 900,
                        "passed_time": 7.545963061,
                        "remaining_time": 0.829134676,
                        "test": [
                          1.78313202
                        ]
                      },
                      {
                        "learn": [
                          0.05581566064
                        ],
                        "iteration": 901,
                        "passed_time": 7.553320597,
                        "remaining_time": 0.8206490228,
                        "test": [
                          1.783496772
                        ]
                      },
                      {
                        "learn": [
                          0.05573773094
                        ],
                        "iteration": 902,
                        "passed_time": 7.560995326,
                        "remaining_time": 0.8121999409,
                        "test": [
                          1.78372405
                        ]
                      },
                      {
                        "learn": [
                          0.05567006277
                        ],
                        "iteration": 903,
                        "passed_time": 7.568203234,
                        "remaining_time": 0.8037029983,
                        "test": [
                          1.78441023
                        ]
                      },
                      {
                        "learn": [
                          0.05561628586
                        ],
                        "iteration": 904,
                        "passed_time": 7.57593457,
                        "remaining_time": 0.7952638499,
                        "test": [
                          1.784510778
                        ]
                      },
                      {
                        "learn": [
                          0.05554888251
                        ],
                        "iteration": 905,
                        "passed_time": 7.583207089,
                        "remaining_time": 0.7867786605,
                        "test": [
                          1.784754931
                        ]
                      },
                      {
                        "learn": [
                          0.05547804719
                        ],
                        "iteration": 906,
                        "passed_time": 7.594644199,
                        "remaining_time": 0.7787231648,
                        "test": [
                          1.784557912
                        ]
                      },
                      {
                        "learn": [
                          0.05534492942
                        ],
                        "iteration": 907,
                        "passed_time": 7.601991568,
                        "remaining_time": 0.7702458417,
                        "test": [
                          1.785633905
                        ]
                      },
                      {
                        "learn": [
                          0.0552497454
                        ],
                        "iteration": 908,
                        "passed_time": 7.609411508,
                        "remaining_time": 0.7617782698,
                        "test": [
                          1.785708085
                        ]
                      },
                      {
                        "learn": [
                          0.05514244702
                        ],
                        "iteration": 909,
                        "passed_time": 7.617031605,
                        "remaining_time": 0.7533327961,
                        "test": [
                          1.786060015
                        ]
                      },
                      {
                        "learn": [
                          0.05507566876
                        ],
                        "iteration": 910,
                        "passed_time": 7.624245006,
                        "remaining_time": 0.7448494023,
                        "test": [
                          1.786647943
                        ]
                      },
                      {
                        "learn": [
                          0.05501537044
                        ],
                        "iteration": 911,
                        "passed_time": 7.634346147,
                        "remaining_time": 0.7366474353,
                        "test": [
                          1.786668769
                        ]
                      },
                      {
                        "learn": [
                          0.05494915884
                        ],
                        "iteration": 912,
                        "passed_time": 7.644334322,
                        "remaining_time": 0.7284305433,
                        "test": [
                          1.787085499
                        ]
                      },
                      {
                        "learn": [
                          0.054867128
                        ],
                        "iteration": 913,
                        "passed_time": 7.652252856,
                        "remaining_time": 0.720015039,
                        "test": [
                          1.786789184
                        ]
                      },
                      {
                        "learn": [
                          0.0548126876
                        ],
                        "iteration": 914,
                        "passed_time": 7.661199036,
                        "remaining_time": 0.7116960853,
                        "test": [
                          1.786250703
                        ]
                      },
                      {
                        "learn": [
                          0.05474502462
                        ],
                        "iteration": 915,
                        "passed_time": 7.668837924,
                        "remaining_time": 0.7032558795,
                        "test": [
                          1.786433962
                        ]
                      },
                      {
                        "learn": [
                          0.05466569681
                        ],
                        "iteration": 916,
                        "passed_time": 7.676462396,
                        "remaining_time": 0.6948161166,
                        "test": [
                          1.786565153
                        ]
                      },
                      {
                        "learn": [
                          0.05460308243
                        ],
                        "iteration": 917,
                        "passed_time": 7.683964353,
                        "remaining_time": 0.6863671862,
                        "test": [
                          1.787057579
                        ]
                      },
                      {
                        "learn": [
                          0.05451412233
                        ],
                        "iteration": 918,
                        "passed_time": 7.691537404,
                        "remaining_time": 0.6779265829,
                        "test": [
                          1.787251057
                        ]
                      },
                      {
                        "learn": [
                          0.0544335784
                        ],
                        "iteration": 919,
                        "passed_time": 7.700653196,
                        "remaining_time": 0.669622017,
                        "test": [
                          1.787074359
                        ]
                      },
                      {
                        "learn": [
                          0.05438316147
                        ],
                        "iteration": 920,
                        "passed_time": 7.707852615,
                        "remaining_time": 0.66115131,
                        "test": [
                          1.787456949
                        ]
                      },
                      {
                        "learn": [
                          0.0542941712
                        ],
                        "iteration": 921,
                        "passed_time": 7.715043062,
                        "remaining_time": 0.6526826018,
                        "test": [
                          1.78742297
                        ]
                      },
                      {
                        "learn": [
                          0.05422155719
                        ],
                        "iteration": 922,
                        "passed_time": 7.72224321,
                        "remaining_time": 0.6442174725,
                        "test": [
                          1.787307959
                        ]
                      },
                      {
                        "learn": [
                          0.05412579736
                        ],
                        "iteration": 923,
                        "passed_time": 7.730069409,
                        "remaining_time": 0.6358065748,
                        "test": [
                          1.787669595
                        ]
                      },
                      {
                        "learn": [
                          0.054026839
                        ],
                        "iteration": 924,
                        "passed_time": 7.737815715,
                        "remaining_time": 0.6273904634,
                        "test": [
                          1.787418979
                        ]
                      },
                      {
                        "learn": [
                          0.05398054277
                        ],
                        "iteration": 925,
                        "passed_time": 7.746107547,
                        "remaining_time": 0.6190193936,
                        "test": [
                          1.787536017
                        ]
                      },
                      {
                        "learn": [
                          0.0538992084
                        ],
                        "iteration": 926,
                        "passed_time": 7.754165134,
                        "remaining_time": 0.6106300483,
                        "test": [
                          1.787573654
                        ]
                      },
                      {
                        "learn": [
                          0.05381464256
                        ],
                        "iteration": 927,
                        "passed_time": 7.762022757,
                        "remaining_time": 0.6022259036,
                        "test": [
                          1.787738934
                        ]
                      },
                      {
                        "learn": [
                          0.05372458338
                        ],
                        "iteration": 928,
                        "passed_time": 7.769794809,
                        "remaining_time": 0.5938163955,
                        "test": [
                          1.787791068
                        ]
                      },
                      {
                        "learn": [
                          0.05366667493
                        ],
                        "iteration": 929,
                        "passed_time": 7.777623261,
                        "remaining_time": 0.5854125036,
                        "test": [
                          1.787901966
                        ]
                      },
                      {
                        "learn": [
                          0.05361316188
                        ],
                        "iteration": 930,
                        "passed_time": 7.785318627,
                        "remaining_time": 0.5769999841,
                        "test": [
                          1.788020467
                        ]
                      },
                      {
                        "learn": [
                          0.05351095218
                        ],
                        "iteration": 931,
                        "passed_time": 7.793211349,
                        "remaining_time": 0.5686034032,
                        "test": [
                          1.788872614
                        ]
                      },
                      {
                        "learn": [
                          0.05341966904
                        ],
                        "iteration": 932,
                        "passed_time": 7.800907337,
                        "remaining_time": 0.5601937745,
                        "test": [
                          1.78969709
                        ]
                      },
                      {
                        "learn": [
                          0.05332672569
                        ],
                        "iteration": 933,
                        "passed_time": 7.80855193,
                        "remaining_time": 0.5517820422,
                        "test": [
                          1.78960344
                        ]
                      },
                      {
                        "learn": [
                          0.05323074619
                        ],
                        "iteration": 934,
                        "passed_time": 7.816294841,
                        "remaining_time": 0.5433787858,
                        "test": [
                          1.789460336
                        ]
                      },
                      {
                        "learn": [
                          0.05313465983
                        ],
                        "iteration": 935,
                        "passed_time": 7.823831563,
                        "remaining_time": 0.5349628419,
                        "test": [
                          1.789754333
                        ]
                      },
                      {
                        "learn": [
                          0.05306050181
                        ],
                        "iteration": 936,
                        "passed_time": 7.833001663,
                        "remaining_time": 0.5266585964,
                        "test": [
                          1.790451486
                        ]
                      },
                      {
                        "learn": [
                          0.05301525588
                        ],
                        "iteration": 937,
                        "passed_time": 7.845934045,
                        "remaining_time": 0.5186011842,
                        "test": [
                          1.790117847
                        ]
                      },
                      {
                        "learn": [
                          0.05292392533
                        ],
                        "iteration": 938,
                        "passed_time": 7.883138871,
                        "remaining_time": 0.5121101929,
                        "test": [
                          1.789652099
                        ]
                      },
                      {
                        "learn": [
                          0.05283989049
                        ],
                        "iteration": 939,
                        "passed_time": 7.902827125,
                        "remaining_time": 0.504435774,
                        "test": [
                          1.789052765
                        ]
                      },
                      {
                        "learn": [
                          0.05278227568
                        ],
                        "iteration": 940,
                        "passed_time": 7.921896175,
                        "remaining_time": 0.4966969971,
                        "test": [
                          1.789668192
                        ]
                      },
                      {
                        "learn": [
                          0.05272193475
                        ],
                        "iteration": 941,
                        "passed_time": 7.932187161,
                        "remaining_time": 0.4883936893,
                        "test": [
                          1.789969106
                        ]
                      },
                      {
                        "learn": [
                          0.0526498536
                        ],
                        "iteration": 942,
                        "passed_time": 7.947073708,
                        "remaining_time": 0.4803639463,
                        "test": [
                          1.790372126
                        ]
                      },
                      {
                        "learn": [
                          0.05260901655
                        ],
                        "iteration": 943,
                        "passed_time": 7.954686447,
                        "remaining_time": 0.4718881791,
                        "test": [
                          1.790362185
                        ]
                      },
                      {
                        "learn": [
                          0.05255912391
                        ],
                        "iteration": 944,
                        "passed_time": 7.962159998,
                        "remaining_time": 0.4634061374,
                        "test": [
                          1.790276199
                        ]
                      },
                      {
                        "learn": [
                          0.0525020012
                        ],
                        "iteration": 945,
                        "passed_time": 7.969971687,
                        "remaining_time": 0.4549455297,
                        "test": [
                          1.789814478
                        ]
                      },
                      {
                        "learn": [
                          0.05240042541
                        ],
                        "iteration": 946,
                        "passed_time": 7.977848846,
                        "remaining_time": 0.4464899565,
                        "test": [
                          1.79019853
                        ]
                      },
                      {
                        "learn": [
                          0.05232671117
                        ],
                        "iteration": 947,
                        "passed_time": 7.985648609,
                        "remaining_time": 0.4380313583,
                        "test": [
                          1.789437948
                        ]
                      },
                      {
                        "learn": [
                          0.0522622663
                        ],
                        "iteration": 948,
                        "passed_time": 7.993385631,
                        "remaining_time": 0.4295707768,
                        "test": [
                          1.789690073
                        ]
                      },
                      {
                        "learn": [
                          0.05217267831
                        ],
                        "iteration": 949,
                        "passed_time": 8.001156103,
                        "remaining_time": 0.4211134791,
                        "test": [
                          1.790472246
                        ]
                      },
                      {
                        "learn": [
                          0.05213365768
                        ],
                        "iteration": 950,
                        "passed_time": 8.008920826,
                        "remaining_time": 0.4126573296,
                        "test": [
                          1.790548979
                        ]
                      },
                      {
                        "learn": [
                          0.05205406796
                        ],
                        "iteration": 951,
                        "passed_time": 8.016359803,
                        "remaining_time": 0.4041862086,
                        "test": [
                          1.791090647
                        ]
                      },
                      {
                        "learn": [
                          0.05197131116
                        ],
                        "iteration": 952,
                        "passed_time": 8.026517892,
                        "remaining_time": 0.3958513546,
                        "test": [
                          1.791479456
                        ]
                      },
                      {
                        "learn": [
                          0.05191897579
                        ],
                        "iteration": 953,
                        "passed_time": 8.03511317,
                        "remaining_time": 0.3874373226,
                        "test": [
                          1.791415348
                        ]
                      },
                      {
                        "learn": [
                          0.05183841091
                        ],
                        "iteration": 954,
                        "passed_time": 8.042262709,
                        "remaining_time": 0.3789547873,
                        "test": [
                          1.791879455
                        ]
                      },
                      {
                        "learn": [
                          0.05176694269
                        ],
                        "iteration": 955,
                        "passed_time": 8.049760998,
                        "remaining_time": 0.370491092,
                        "test": [
                          1.791762908
                        ]
                      },
                      {
                        "learn": [
                          0.05168060202
                        ],
                        "iteration": 956,
                        "passed_time": 8.057348764,
                        "remaining_time": 0.3620334346,
                        "test": [
                          1.792079059
                        ]
                      },
                      {
                        "learn": [
                          0.05160619592
                        ],
                        "iteration": 957,
                        "passed_time": 8.064825042,
                        "remaining_time": 0.3535727054,
                        "test": [
                          1.791862225
                        ]
                      },
                      {
                        "learn": [
                          0.05154519261
                        ],
                        "iteration": 958,
                        "passed_time": 8.072454601,
                        "remaining_time": 0.3451205825,
                        "test": [
                          1.792286778
                        ]
                      },
                      {
                        "learn": [
                          0.05145516191
                        ],
                        "iteration": 959,
                        "passed_time": 8.080111966,
                        "remaining_time": 0.3366713319,
                        "test": [
                          1.792145071
                        ]
                      },
                      {
                        "learn": [
                          0.0514074624
                        ],
                        "iteration": 960,
                        "passed_time": 8.087837912,
                        "remaining_time": 0.3282265126,
                        "test": [
                          1.792160666
                        ]
                      },
                      {
                        "learn": [
                          0.05133168622
                        ],
                        "iteration": 961,
                        "passed_time": 8.095561275,
                        "remaining_time": 0.3197830857,
                        "test": [
                          1.792526884
                        ]
                      },
                      {
                        "learn": [
                          0.05128693155
                        ],
                        "iteration": 962,
                        "passed_time": 8.102918968,
                        "remaining_time": 0.3113271047,
                        "test": [
                          1.792970446
                        ]
                      },
                      {
                        "learn": [
                          0.05121129448
                        ],
                        "iteration": 963,
                        "passed_time": 8.110507677,
                        "remaining_time": 0.3028820294,
                        "test": [
                          1.793243978
                        ]
                      },
                      {
                        "learn": [
                          0.05116901077
                        ],
                        "iteration": 964,
                        "passed_time": 8.120381396,
                        "remaining_time": 0.294521605,
                        "test": [
                          1.792994763
                        ]
                      },
                      {
                        "learn": [
                          0.05113571058
                        ],
                        "iteration": 965,
                        "passed_time": 8.1335025,
                        "remaining_time": 0.2862723447,
                        "test": [
                          1.79288121
                        ]
                      },
                      {
                        "learn": [
                          0.05107156339
                        ],
                        "iteration": 966,
                        "passed_time": 8.141292642,
                        "remaining_time": 0.2778310829,
                        "test": [
                          1.792755628
                        ]
                      },
                      {
                        "learn": [
                          0.05099290147
                        ],
                        "iteration": 967,
                        "passed_time": 8.14879182,
                        "remaining_time": 0.2693815478,
                        "test": [
                          1.793215295
                        ]
                      },
                      {
                        "learn": [
                          0.05093903162
                        ],
                        "iteration": 968,
                        "passed_time": 8.156454936,
                        "remaining_time": 0.2609392188,
                        "test": [
                          1.793756646
                        ]
                      },
                      {
                        "learn": [
                          0.05090612853
                        ],
                        "iteration": 969,
                        "passed_time": 8.163757909,
                        "remaining_time": 0.252487358,
                        "test": [
                          1.794064997
                        ]
                      },
                      {
                        "learn": [
                          0.05081378415
                        ],
                        "iteration": 970,
                        "passed_time": 8.171148128,
                        "remaining_time": 0.2440404693,
                        "test": [
                          1.794723941
                        ]
                      },
                      {
                        "learn": [
                          0.0507257768
                        ],
                        "iteration": 971,
                        "passed_time": 8.178864288,
                        "remaining_time": 0.2356051441,
                        "test": [
                          1.795186414
                        ]
                      },
                      {
                        "learn": [
                          0.05065296875
                        ],
                        "iteration": 972,
                        "passed_time": 8.186480605,
                        "remaining_time": 0.2271685266,
                        "test": [
                          1.795261202
                        ]
                      },
                      {
                        "learn": [
                          0.05059633798
                        ],
                        "iteration": 973,
                        "passed_time": 8.194137101,
                        "remaining_time": 0.2187346659,
                        "test": [
                          1.794883167
                        ]
                      },
                      {
                        "learn": [
                          0.05052695624
                        ],
                        "iteration": 974,
                        "passed_time": 8.201370215,
                        "remaining_time": 0.210291544,
                        "test": [
                          1.795126958
                        ]
                      },
                      {
                        "learn": [
                          0.0504670262
                        ],
                        "iteration": 975,
                        "passed_time": 8.208897963,
                        "remaining_time": 0.2018581466,
                        "test": [
                          1.795168217
                        ]
                      },
                      {
                        "learn": [
                          0.05040608656
                        ],
                        "iteration": 976,
                        "passed_time": 8.216589767,
                        "remaining_time": 0.1934304653,
                        "test": [
                          1.795895231
                        ]
                      },
                      {
                        "learn": [
                          0.05033910013
                        ],
                        "iteration": 977,
                        "passed_time": 8.228647178,
                        "remaining_time": 0.1851024927,
                        "test": [
                          1.795923796
                        ]
                      },
                      {
                        "learn": [
                          0.05026490536
                        ],
                        "iteration": 978,
                        "passed_time": 8.23664072,
                        "remaining_time": 0.1766797294,
                        "test": [
                          1.795775195
                        ]
                      },
                      {
                        "learn": [
                          0.05019951456
                        ],
                        "iteration": 979,
                        "passed_time": 8.243977311,
                        "remaining_time": 0.1682444349,
                        "test": [
                          1.795836605
                        ]
                      },
                      {
                        "learn": [
                          0.05013456349
                        ],
                        "iteration": 980,
                        "passed_time": 8.251420219,
                        "remaining_time": 0.1598134395,
                        "test": [
                          1.797291299
                        ]
                      },
                      {
                        "learn": [
                          0.05005875063
                        ],
                        "iteration": 981,
                        "passed_time": 8.259179767,
                        "remaining_time": 0.1513902605,
                        "test": [
                          1.797099464
                        ]
                      },
                      {
                        "learn": [
                          0.05000349296
                        ],
                        "iteration": 982,
                        "passed_time": 8.266823531,
                        "remaining_time": 0.1429664293,
                        "test": [
                          1.797457216
                        ]
                      },
                      {
                        "learn": [
                          0.04994300901
                        ],
                        "iteration": 983,
                        "passed_time": 8.274162186,
                        "remaining_time": 0.1345392225,
                        "test": [
                          1.797972855
                        ]
                      },
                      {
                        "learn": [
                          0.04988010014
                        ],
                        "iteration": 984,
                        "passed_time": 8.289759649,
                        "remaining_time": 0.1262399947,
                        "test": [
                          1.799262989
                        ]
                      },
                      {
                        "learn": [
                          0.04983360887
                        ],
                        "iteration": 985,
                        "passed_time": 8.297099012,
                        "remaining_time": 0.1178087081,
                        "test": [
                          1.799403775
                        ]
                      },
                      {
                        "learn": [
                          0.0497369885
                        ],
                        "iteration": 986,
                        "passed_time": 8.304594117,
                        "remaining_time": 0.1093816854,
                        "test": [
                          1.799372906
                        ]
                      },
                      {
                        "learn": [
                          0.04965299062
                        ],
                        "iteration": 987,
                        "passed_time": 8.311950986,
                        "remaining_time": 0.1009548703,
                        "test": [
                          1.799502552
                        ]
                      },
                      {
                        "learn": [
                          0.04957283848
                        ],
                        "iteration": 988,
                        "passed_time": 8.319260413,
                        "remaining_time": 0.09252969115,
                        "test": [
                          1.800085649
                        ]
                      },
                      {
                        "learn": [
                          0.04952734364
                        ],
                        "iteration": 989,
                        "passed_time": 8.326448513,
                        "remaining_time": 0.08410554053,
                        "test": [
                          1.800079581
                        ]
                      },
                      {
                        "learn": [
                          0.04947303201
                        ],
                        "iteration": 990,
                        "passed_time": 8.33414938,
                        "remaining_time": 0.07568854129,
                        "test": [
                          1.800348086
                        ]
                      },
                      {
                        "learn": [
                          0.04941758345
                        ],
                        "iteration": 991,
                        "passed_time": 8.341610436,
                        "remaining_time": 0.0672710519,
                        "test": [
                          1.800457167
                        ]
                      },
                      {
                        "learn": [
                          0.0493457424
                        ],
                        "iteration": 992,
                        "passed_time": 8.348891113,
                        "remaining_time": 0.05885421731,
                        "test": [
                          1.800627193
                        ]
                      },
                      {
                        "learn": [
                          0.04928353008
                        ],
                        "iteration": 993,
                        "passed_time": 8.356548783,
                        "remaining_time": 0.05044194436,
                        "test": [
                          1.800828888
                        ]
                      },
                      {
                        "learn": [
                          0.04920836213
                        ],
                        "iteration": 994,
                        "passed_time": 8.364702129,
                        "remaining_time": 0.04203367904,
                        "test": [
                          1.800850912
                        ]
                      },
                      {
                        "learn": [
                          0.04913022169
                        ],
                        "iteration": 995,
                        "passed_time": 8.372103833,
                        "remaining_time": 0.03362290696,
                        "test": [
                          1.800369069
                        ]
                      },
                      {
                        "learn": [
                          0.04905592516
                        ],
                        "iteration": 996,
                        "passed_time": 8.379601845,
                        "remaining_time": 0.02521444888,
                        "test": [
                          1.800741419
                        ]
                      },
                      {
                        "learn": [
                          0.04900499414
                        ],
                        "iteration": 997,
                        "passed_time": 8.386909746,
                        "remaining_time": 0.01680743436,
                        "test": [
                          1.800539956
                        ]
                      },
                      {
                        "learn": [
                          0.0489157412
                        ],
                        "iteration": 998,
                        "passed_time": 8.394422268,
                        "remaining_time": 0.008402825094,
                        "test": [
                          1.801337865
                        ]
                      },
                      {
                        "learn": [
                          0.04885349682
                        ],
                        "iteration": 999,
                        "passed_time": 8.401909959,
                        "remaining_time": 0,
                        "test": [
                          1.801467847
                        ]
                      }
                    ],
                    "meta": {
                      "test_sets": [
                        "test"
                      ],
                      "test_metrics": [
                        {
                          "best_value": "Min",
                          "name": "MultiClass"
                        }
                      ],
                      "learn_metrics": [
                        {
                          "best_value": "Min",
                          "name": "MultiClass"
                        }
                      ],
                      "launch_mode": "Train",
                      "parameters": "",
                      "iteration_count": 1000,
                      "learn_sets": [
                        "learn"
                      ],
                      "name": "experiment"
                    }
                  }
                }
              }
            },
            "layout": "IPY_MODEL_181f65b0d33a4cf2981dc98ca69c94bc"
          }
        }
      }
    }
  },
  "cells": [
    {
      "cell_type": "code",
      "execution_count": 1,
      "metadata": {
        "colab": {
          "base_uri": "https://localhost:8080/"
        },
        "id": "f4oIFnlpJVf3",
        "outputId": "b7d1916f-8372-4a6e-95c0-5b701dec7757"
      },
      "outputs": [
        {
          "output_type": "stream",
          "name": "stdout",
          "text": [
            "Looking in indexes: https://pypi.org/simple, https://us-python.pkg.dev/colab-wheels/public/simple/\n",
            "Collecting catboost\n",
            "  Downloading catboost-1.0.6-cp37-none-manylinux1_x86_64.whl (76.6 MB)\n",
            "\u001b[K     |████████████████████████████████| 76.6 MB 1.2 MB/s \n",
            "\u001b[?25hRequirement already satisfied: six in /usr/local/lib/python3.7/dist-packages (from catboost) (1.15.0)\n",
            "Requirement already satisfied: numpy>=1.16.0 in /usr/local/lib/python3.7/dist-packages (from catboost) (1.21.6)\n",
            "Requirement already satisfied: graphviz in /usr/local/lib/python3.7/dist-packages (from catboost) (0.10.1)\n",
            "Requirement already satisfied: matplotlib in /usr/local/lib/python3.7/dist-packages (from catboost) (3.2.2)\n",
            "Requirement already satisfied: pandas>=0.24.0 in /usr/local/lib/python3.7/dist-packages (from catboost) (1.3.5)\n",
            "Requirement already satisfied: plotly in /usr/local/lib/python3.7/dist-packages (from catboost) (5.5.0)\n",
            "Requirement already satisfied: scipy in /usr/local/lib/python3.7/dist-packages (from catboost) (1.7.3)\n",
            "Requirement already satisfied: python-dateutil>=2.7.3 in /usr/local/lib/python3.7/dist-packages (from pandas>=0.24.0->catboost) (2.8.2)\n",
            "Requirement already satisfied: pytz>=2017.3 in /usr/local/lib/python3.7/dist-packages (from pandas>=0.24.0->catboost) (2022.2.1)\n",
            "Requirement already satisfied: kiwisolver>=1.0.1 in /usr/local/lib/python3.7/dist-packages (from matplotlib->catboost) (1.4.4)\n",
            "Requirement already satisfied: pyparsing!=2.0.4,!=2.1.2,!=2.1.6,>=2.0.1 in /usr/local/lib/python3.7/dist-packages (from matplotlib->catboost) (3.0.9)\n",
            "Requirement already satisfied: cycler>=0.10 in /usr/local/lib/python3.7/dist-packages (from matplotlib->catboost) (0.11.0)\n",
            "Requirement already satisfied: typing-extensions in /usr/local/lib/python3.7/dist-packages (from kiwisolver>=1.0.1->matplotlib->catboost) (4.1.1)\n",
            "Requirement already satisfied: tenacity>=6.2.0 in /usr/local/lib/python3.7/dist-packages (from plotly->catboost) (8.0.1)\n",
            "Installing collected packages: catboost\n",
            "Successfully installed catboost-1.0.6\n"
          ]
        }
      ],
      "source": [
        "!pip install catboost"
      ]
    },
    {
      "cell_type": "code",
      "source": [
        "!pip install ipywidgets"
      ],
      "metadata": {
        "colab": {
          "base_uri": "https://localhost:8080/"
        },
        "id": "Z0PiZjJgJgoR",
        "outputId": "2c14ddcc-c7b6-4009-894e-fa448b986fc8"
      },
      "execution_count": 2,
      "outputs": [
        {
          "output_type": "stream",
          "name": "stdout",
          "text": [
            "Looking in indexes: https://pypi.org/simple, https://us-python.pkg.dev/colab-wheels/public/simple/\n",
            "Requirement already satisfied: ipywidgets in /usr/local/lib/python3.7/dist-packages (7.7.1)\n",
            "Requirement already satisfied: jupyterlab-widgets>=1.0.0 in /usr/local/lib/python3.7/dist-packages (from ipywidgets) (3.0.3)\n",
            "Requirement already satisfied: ipython-genutils~=0.2.0 in /usr/local/lib/python3.7/dist-packages (from ipywidgets) (0.2.0)\n",
            "Requirement already satisfied: traitlets>=4.3.1 in /usr/local/lib/python3.7/dist-packages (from ipywidgets) (5.1.1)\n",
            "Requirement already satisfied: ipykernel>=4.5.1 in /usr/local/lib/python3.7/dist-packages (from ipywidgets) (5.3.4)\n",
            "Requirement already satisfied: widgetsnbextension~=3.6.0 in /usr/local/lib/python3.7/dist-packages (from ipywidgets) (3.6.1)\n",
            "Requirement already satisfied: ipython>=4.0.0 in /usr/local/lib/python3.7/dist-packages (from ipywidgets) (7.9.0)\n",
            "Requirement already satisfied: tornado>=4.2 in /usr/local/lib/python3.7/dist-packages (from ipykernel>=4.5.1->ipywidgets) (5.1.1)\n",
            "Requirement already satisfied: jupyter-client in /usr/local/lib/python3.7/dist-packages (from ipykernel>=4.5.1->ipywidgets) (6.1.12)\n",
            "Requirement already satisfied: pexpect in /usr/local/lib/python3.7/dist-packages (from ipython>=4.0.0->ipywidgets) (4.8.0)\n",
            "Requirement already satisfied: prompt-toolkit<2.1.0,>=2.0.0 in /usr/local/lib/python3.7/dist-packages (from ipython>=4.0.0->ipywidgets) (2.0.10)\n",
            "Requirement already satisfied: decorator in /usr/local/lib/python3.7/dist-packages (from ipython>=4.0.0->ipywidgets) (4.4.2)\n",
            "Collecting jedi>=0.10\n",
            "  Downloading jedi-0.18.1-py2.py3-none-any.whl (1.6 MB)\n",
            "\u001b[K     |████████████████████████████████| 1.6 MB 7.6 MB/s \n",
            "\u001b[?25hRequirement already satisfied: pickleshare in /usr/local/lib/python3.7/dist-packages (from ipython>=4.0.0->ipywidgets) (0.7.5)\n",
            "Requirement already satisfied: setuptools>=18.5 in /usr/local/lib/python3.7/dist-packages (from ipython>=4.0.0->ipywidgets) (57.4.0)\n",
            "Requirement already satisfied: pygments in /usr/local/lib/python3.7/dist-packages (from ipython>=4.0.0->ipywidgets) (2.6.1)\n",
            "Requirement already satisfied: backcall in /usr/local/lib/python3.7/dist-packages (from ipython>=4.0.0->ipywidgets) (0.2.0)\n",
            "Requirement already satisfied: parso<0.9.0,>=0.8.0 in /usr/local/lib/python3.7/dist-packages (from jedi>=0.10->ipython>=4.0.0->ipywidgets) (0.8.3)\n",
            "Requirement already satisfied: wcwidth in /usr/local/lib/python3.7/dist-packages (from prompt-toolkit<2.1.0,>=2.0.0->ipython>=4.0.0->ipywidgets) (0.2.5)\n",
            "Requirement already satisfied: six>=1.9.0 in /usr/local/lib/python3.7/dist-packages (from prompt-toolkit<2.1.0,>=2.0.0->ipython>=4.0.0->ipywidgets) (1.15.0)\n",
            "Requirement already satisfied: notebook>=4.4.1 in /usr/local/lib/python3.7/dist-packages (from widgetsnbextension~=3.6.0->ipywidgets) (5.3.1)\n",
            "Requirement already satisfied: jupyter-core>=4.4.0 in /usr/local/lib/python3.7/dist-packages (from notebook>=4.4.1->widgetsnbextension~=3.6.0->ipywidgets) (4.11.1)\n",
            "Requirement already satisfied: jinja2 in /usr/local/lib/python3.7/dist-packages (from notebook>=4.4.1->widgetsnbextension~=3.6.0->ipywidgets) (2.11.3)\n",
            "Requirement already satisfied: nbconvert in /usr/local/lib/python3.7/dist-packages (from notebook>=4.4.1->widgetsnbextension~=3.6.0->ipywidgets) (5.6.1)\n",
            "Requirement already satisfied: Send2Trash in /usr/local/lib/python3.7/dist-packages (from notebook>=4.4.1->widgetsnbextension~=3.6.0->ipywidgets) (1.8.0)\n",
            "Requirement already satisfied: nbformat in /usr/local/lib/python3.7/dist-packages (from notebook>=4.4.1->widgetsnbextension~=3.6.0->ipywidgets) (5.4.0)\n",
            "Requirement already satisfied: terminado>=0.8.1 in /usr/local/lib/python3.7/dist-packages (from notebook>=4.4.1->widgetsnbextension~=3.6.0->ipywidgets) (0.13.3)\n",
            "Requirement already satisfied: python-dateutil>=2.1 in /usr/local/lib/python3.7/dist-packages (from jupyter-client->ipykernel>=4.5.1->ipywidgets) (2.8.2)\n",
            "Requirement already satisfied: pyzmq>=13 in /usr/local/lib/python3.7/dist-packages (from jupyter-client->ipykernel>=4.5.1->ipywidgets) (23.2.1)\n",
            "Requirement already satisfied: ptyprocess in /usr/local/lib/python3.7/dist-packages (from terminado>=0.8.1->notebook>=4.4.1->widgetsnbextension~=3.6.0->ipywidgets) (0.7.0)\n",
            "Requirement already satisfied: MarkupSafe>=0.23 in /usr/local/lib/python3.7/dist-packages (from jinja2->notebook>=4.4.1->widgetsnbextension~=3.6.0->ipywidgets) (2.0.1)\n",
            "Requirement already satisfied: entrypoints>=0.2.2 in /usr/local/lib/python3.7/dist-packages (from nbconvert->notebook>=4.4.1->widgetsnbextension~=3.6.0->ipywidgets) (0.4)\n",
            "Requirement already satisfied: testpath in /usr/local/lib/python3.7/dist-packages (from nbconvert->notebook>=4.4.1->widgetsnbextension~=3.6.0->ipywidgets) (0.6.0)\n",
            "Requirement already satisfied: pandocfilters>=1.4.1 in /usr/local/lib/python3.7/dist-packages (from nbconvert->notebook>=4.4.1->widgetsnbextension~=3.6.0->ipywidgets) (1.5.0)\n",
            "Requirement already satisfied: mistune<2,>=0.8.1 in /usr/local/lib/python3.7/dist-packages (from nbconvert->notebook>=4.4.1->widgetsnbextension~=3.6.0->ipywidgets) (0.8.4)\n",
            "Requirement already satisfied: bleach in /usr/local/lib/python3.7/dist-packages (from nbconvert->notebook>=4.4.1->widgetsnbextension~=3.6.0->ipywidgets) (5.0.1)\n",
            "Requirement already satisfied: defusedxml in /usr/local/lib/python3.7/dist-packages (from nbconvert->notebook>=4.4.1->widgetsnbextension~=3.6.0->ipywidgets) (0.7.1)\n",
            "Requirement already satisfied: jsonschema>=2.6 in /usr/local/lib/python3.7/dist-packages (from nbformat->notebook>=4.4.1->widgetsnbextension~=3.6.0->ipywidgets) (4.3.3)\n",
            "Requirement already satisfied: fastjsonschema in /usr/local/lib/python3.7/dist-packages (from nbformat->notebook>=4.4.1->widgetsnbextension~=3.6.0->ipywidgets) (2.16.1)\n",
            "Requirement already satisfied: typing-extensions in /usr/local/lib/python3.7/dist-packages (from jsonschema>=2.6->nbformat->notebook>=4.4.1->widgetsnbextension~=3.6.0->ipywidgets) (4.1.1)\n",
            "Requirement already satisfied: importlib-resources>=1.4.0 in /usr/local/lib/python3.7/dist-packages (from jsonschema>=2.6->nbformat->notebook>=4.4.1->widgetsnbextension~=3.6.0->ipywidgets) (5.9.0)\n",
            "Requirement already satisfied: pyrsistent!=0.17.0,!=0.17.1,!=0.17.2,>=0.14.0 in /usr/local/lib/python3.7/dist-packages (from jsonschema>=2.6->nbformat->notebook>=4.4.1->widgetsnbextension~=3.6.0->ipywidgets) (0.18.1)\n",
            "Requirement already satisfied: attrs>=17.4.0 in /usr/local/lib/python3.7/dist-packages (from jsonschema>=2.6->nbformat->notebook>=4.4.1->widgetsnbextension~=3.6.0->ipywidgets) (22.1.0)\n",
            "Requirement already satisfied: importlib-metadata in /usr/local/lib/python3.7/dist-packages (from jsonschema>=2.6->nbformat->notebook>=4.4.1->widgetsnbextension~=3.6.0->ipywidgets) (4.12.0)\n",
            "Requirement already satisfied: zipp>=3.1.0 in /usr/local/lib/python3.7/dist-packages (from importlib-resources>=1.4.0->jsonschema>=2.6->nbformat->notebook>=4.4.1->widgetsnbextension~=3.6.0->ipywidgets) (3.8.1)\n",
            "Requirement already satisfied: webencodings in /usr/local/lib/python3.7/dist-packages (from bleach->nbconvert->notebook>=4.4.1->widgetsnbextension~=3.6.0->ipywidgets) (0.5.1)\n",
            "Installing collected packages: jedi\n",
            "Successfully installed jedi-0.18.1\n"
          ]
        }
      ]
    },
    {
      "cell_type": "code",
      "source": [
        "import numpy as np\n",
        "import pandas as pd\n",
        "import matplotlib.pyplot as plt\n",
        "import seaborn as sns\n",
        "from sklearn.model_selection import  train_test_split\n",
        "from sklearn.metrics import mean_squared_error, r2_score\n",
        "from catboost import CatBoostRegressor\n",
        "import math"
      ],
      "metadata": {
        "id": "hEdMZYM0Jp8W"
      },
      "execution_count": 3,
      "outputs": []
    },
    {
      "cell_type": "code",
      "source": [
        "df = pd.read_csv(\"/content/country_wise_latest.csv\")"
      ],
      "metadata": {
        "id": "mO8MqKjRJqCq"
      },
      "execution_count": 4,
      "outputs": []
    },
    {
      "cell_type": "code",
      "source": [
        "df.info()"
      ],
      "metadata": {
        "colab": {
          "base_uri": "https://localhost:8080/"
        },
        "id": "bFPTff8XNGI8",
        "outputId": "abe2ae7c-c7f2-42f7-eafc-22e06eaeed1b"
      },
      "execution_count": 5,
      "outputs": [
        {
          "output_type": "stream",
          "name": "stdout",
          "text": [
            "<class 'pandas.core.frame.DataFrame'>\n",
            "RangeIndex: 187 entries, 0 to 186\n",
            "Data columns (total 15 columns):\n",
            " #   Column                  Non-Null Count  Dtype  \n",
            "---  ------                  --------------  -----  \n",
            " 0   Country/Region          187 non-null    object \n",
            " 1   Confirmed               187 non-null    int64  \n",
            " 2   Deaths                  187 non-null    int64  \n",
            " 3   Recovered               187 non-null    int64  \n",
            " 4   Active                  187 non-null    int64  \n",
            " 5   New cases               187 non-null    int64  \n",
            " 6   New deaths              187 non-null    int64  \n",
            " 7   New recovered           187 non-null    int64  \n",
            " 8   Deaths / 100 Cases      187 non-null    float64\n",
            " 9   Recovered / 100 Cases   187 non-null    float64\n",
            " 10  Deaths / 100 Recovered  187 non-null    float64\n",
            " 11  Confirmed last week     187 non-null    int64  \n",
            " 12  1 week change           187 non-null    int64  \n",
            " 13  1 week % increase       187 non-null    float64\n",
            " 14  WHO Region              187 non-null    object \n",
            "dtypes: float64(4), int64(9), object(2)\n",
            "memory usage: 22.0+ KB\n"
          ]
        }
      ]
    },
    {
      "cell_type": "code",
      "source": [
        "df.isnull().mean()*100"
      ],
      "metadata": {
        "colab": {
          "base_uri": "https://localhost:8080/"
        },
        "id": "TXPAU1klJ86M",
        "outputId": "256df92b-4ef9-4803-fd01-54c58639386b"
      },
      "execution_count": 6,
      "outputs": [
        {
          "output_type": "execute_result",
          "data": {
            "text/plain": [
              "Country/Region            0.0\n",
              "Confirmed                 0.0\n",
              "Deaths                    0.0\n",
              "Recovered                 0.0\n",
              "Active                    0.0\n",
              "New cases                 0.0\n",
              "New deaths                0.0\n",
              "New recovered             0.0\n",
              "Deaths / 100 Cases        0.0\n",
              "Recovered / 100 Cases     0.0\n",
              "Deaths / 100 Recovered    0.0\n",
              "Confirmed last week       0.0\n",
              "1 week change             0.0\n",
              "1 week % increase         0.0\n",
              "WHO Region                0.0\n",
              "dtype: float64"
            ]
          },
          "metadata": {},
          "execution_count": 6
        }
      ]
    },
    {
      "cell_type": "code",
      "source": [
        "y1= df.pop(\"Country/Region\")\n",
        "y= df.pop(\"WHO Region\")\n",
        "X= df"
      ],
      "metadata": {
        "id": "mqTfEyrzL2nQ"
      },
      "execution_count": 7,
      "outputs": []
    },
    {
      "cell_type": "code",
      "source": [
        "from sklearn.preprocessing import LabelEncoder\n",
        "le = LabelEncoder()\n",
        "y = le.fit_transform(y)"
      ],
      "metadata": {
        "id": "JxdLesGzb1Qf"
      },
      "execution_count": 8,
      "outputs": []
    },
    {
      "cell_type": "code",
      "source": [
        "print(y)"
      ],
      "metadata": {
        "colab": {
          "base_uri": "https://localhost:8080/"
        },
        "id": "flSxn6DNcxId",
        "outputId": "64565b0f-47b1-4835-f1ab-026b288d2217"
      },
      "execution_count": 19,
      "outputs": [
        {
          "output_type": "stream",
          "name": "stdout",
          "text": [
            "[2 3 0 3 0 1 1 3 5 3 3 1 2 4 1 3 3 1 0 4 1 3 0 1 5 3 0 4 0 0 5 0 1 0 0 1 5\n",
            " 1 0 0 0 1 0 3 1 3 3 3 2 1 1 1 2 1 0 0 3 0 0 5 3 3 0 0 3 3 0 3 3 1 1 0 0 1\n",
            " 1 3 1 3 3 4 4 2 2 3 3 3 1 5 2 3 0 3 2 3 5 3 2 0 0 2 3 3 3 0 0 5 4 0 3 0 0\n",
            " 1 3 3 5 3 2 0 0 4 3 5 1 0 0 3 3 2 2 1 5 1 1 5 3 3 2 3 3 0 1 1 1 3 0 2 0 3\n",
            " 0 0 5 3 3 2 0 5 0 3 4 2 1 3 3 2 5 3 0 4 4 0 1 2 3 1 0 3 2 3 1 3 1 5 2 0 2\n",
            " 0 0]\n"
          ]
        }
      ]
    },
    {
      "cell_type": "code",
      "source": [
        "X_train,X_test,y_train,y_test = train_test_split(X,y,train_size=0.8,random_state= 42)"
      ],
      "metadata": {
        "id": "kUsQsdoEMU2B"
      },
      "execution_count": 9,
      "outputs": []
    },
    {
      "cell_type": "code",
      "source": [
        "categoricalcolumns = X.select_dtypes(include=[\"object\"]).columns.tolist()"
      ],
      "metadata": {
        "id": "7H-oWj3LMYMJ"
      },
      "execution_count": 10,
      "outputs": []
    },
    {
      "cell_type": "code",
      "source": [
        "cat_features = [X.columns.get_loc(col) for col in categoricalcolumns]\n",
        "print(\"Location of categorical columns : \",cat_features)"
      ],
      "metadata": {
        "colab": {
          "base_uri": "https://localhost:8080/"
        },
        "id": "fXg8UPNxMetx",
        "outputId": "c25b183b-4e0a-4da7-9a22-c470e49ff078"
      },
      "execution_count": 12,
      "outputs": [
        {
          "output_type": "stream",
          "name": "stdout",
          "text": [
            "Location of categorical columns :  []\n"
          ]
        }
      ]
    },
    {
      "cell_type": "code",
      "source": [
        "# importing Pool\n",
        "from catboost import Pool\n",
        "#Creating pool object for train dataset. we give information of categorical fetures to parameter cat_fetaures\n",
        "train_data = Pool(data=X_train,\n",
        "                  label=y_train,\n",
        "                  cat_features=cat_features\n",
        "                 )\n",
        "#Creating pool object for test dataset\n",
        "test_data = Pool(data=X_test,\n",
        "                  label=y_test,\n",
        "                  cat_features=cat_features\n",
        "                 )"
      ],
      "metadata": {
        "id": "Zzr1rdx6Mh-H"
      },
      "execution_count": 13,
      "outputs": []
    },
    {
      "cell_type": "code",
      "source": [
        "from catboost import CatBoostClassifier\n",
        "\n",
        "clf = CatBoostClassifier()"
      ],
      "metadata": {
        "id": "NHchN18WcZT1"
      },
      "execution_count": 20,
      "outputs": []
    },
    {
      "cell_type": "code",
      "source": [
        "#build model\n",
        "#cat_model = CatBoost()\n",
        "# Fit model \n",
        "clf.fit( X_train, y_train,\n",
        "               eval_set=(X_test, y_test),\n",
        "               plot=True\n",
        "              )\n"
      ],
      "metadata": {
        "colab": {
          "base_uri": "https://localhost:8080/",
          "height": 1000,
          "referenced_widgets": [
            "a32ce191f4754d3c802298bbb92be19a"
          ]
        },
        "id": "kPyR1zivMkzA",
        "outputId": "04b4b8df-7cfc-4652-e54b-596c79f81c86"
      },
      "execution_count": 21,
      "outputs": [
        {
          "output_type": "display_data",
          "data": {
            "text/plain": [
              "MetricVisualizer(layout=Layout(align_self='stretch', height='500px'))"
            ],
            "application/vnd.jupyter.widget-view+json": {
              "version_major": 2,
              "version_minor": 0,
              "model_id": "a32ce191f4754d3c802298bbb92be19a"
            }
          },
          "metadata": {}
        },
        {
          "output_type": "stream",
          "name": "stdout",
          "text": [
            "Learning rate set to 0.103942\n",
            "0:\tlearn: 1.7476568\ttest: 1.7601078\tbest: 1.7601078 (0)\ttotal: 56.7ms\tremaining: 56.7s\n",
            "1:\tlearn: 1.7177913\ttest: 1.7381363\tbest: 1.7381363 (1)\ttotal: 65.3ms\tremaining: 32.6s\n",
            "2:\tlearn: 1.6846062\ttest: 1.7189085\tbest: 1.7189085 (2)\ttotal: 72.9ms\tremaining: 24.2s\n",
            "3:\tlearn: 1.6544265\ttest: 1.7028642\tbest: 1.7028642 (3)\ttotal: 80.2ms\tremaining: 20s\n",
            "4:\tlearn: 1.6256759\ttest: 1.6776005\tbest: 1.6776005 (4)\ttotal: 88ms\tremaining: 17.5s\n",
            "5:\tlearn: 1.5984701\ttest: 1.6673925\tbest: 1.6673925 (5)\ttotal: 95.5ms\tremaining: 15.8s\n",
            "6:\tlearn: 1.5710995\ttest: 1.6560654\tbest: 1.6560654 (6)\ttotal: 103ms\tremaining: 14.7s\n",
            "7:\tlearn: 1.5455858\ttest: 1.6343996\tbest: 1.6343996 (7)\ttotal: 111ms\tremaining: 13.8s\n",
            "8:\tlearn: 1.5243481\ttest: 1.6100335\tbest: 1.6100335 (8)\ttotal: 119ms\tremaining: 13.1s\n",
            "9:\tlearn: 1.5000511\ttest: 1.5971806\tbest: 1.5971806 (9)\ttotal: 126ms\tremaining: 12.5s\n",
            "10:\tlearn: 1.4822236\ttest: 1.5874813\tbest: 1.5874813 (10)\ttotal: 134ms\tremaining: 12s\n",
            "11:\tlearn: 1.4579891\ttest: 1.5707628\tbest: 1.5707628 (11)\ttotal: 142ms\tremaining: 11.7s\n",
            "12:\tlearn: 1.4406759\ttest: 1.5564198\tbest: 1.5564198 (12)\ttotal: 149ms\tremaining: 11.3s\n",
            "13:\tlearn: 1.4222815\ttest: 1.5457947\tbest: 1.5457947 (13)\ttotal: 156ms\tremaining: 11s\n",
            "14:\tlearn: 1.4071271\ttest: 1.5367044\tbest: 1.5367044 (14)\ttotal: 164ms\tremaining: 10.7s\n",
            "15:\tlearn: 1.3882542\ttest: 1.5255675\tbest: 1.5255675 (15)\ttotal: 171ms\tremaining: 10.5s\n",
            "16:\tlearn: 1.3696608\ttest: 1.5132558\tbest: 1.5132558 (16)\ttotal: 179ms\tremaining: 10.3s\n",
            "17:\tlearn: 1.3495929\ttest: 1.5032137\tbest: 1.5032137 (17)\ttotal: 186ms\tremaining: 10.2s\n",
            "18:\tlearn: 1.3326598\ttest: 1.4998966\tbest: 1.4998966 (18)\ttotal: 195ms\tremaining: 10.1s\n",
            "19:\tlearn: 1.3178226\ttest: 1.4949533\tbest: 1.4949533 (19)\ttotal: 211ms\tremaining: 10.3s\n",
            "20:\tlearn: 1.3006930\ttest: 1.4862110\tbest: 1.4862110 (20)\ttotal: 219ms\tremaining: 10.2s\n",
            "21:\tlearn: 1.2897395\ttest: 1.4816575\tbest: 1.4816575 (21)\ttotal: 226ms\tremaining: 10.1s\n",
            "22:\tlearn: 1.2811248\ttest: 1.4789878\tbest: 1.4789878 (22)\ttotal: 234ms\tremaining: 9.95s\n",
            "23:\tlearn: 1.2691913\ttest: 1.4739727\tbest: 1.4739727 (23)\ttotal: 242ms\tremaining: 9.83s\n",
            "24:\tlearn: 1.2534689\ttest: 1.4734492\tbest: 1.4734492 (24)\ttotal: 249ms\tremaining: 9.72s\n",
            "25:\tlearn: 1.2435112\ttest: 1.4641892\tbest: 1.4641892 (25)\ttotal: 257ms\tremaining: 9.62s\n",
            "26:\tlearn: 1.2339030\ttest: 1.4636007\tbest: 1.4636007 (26)\ttotal: 264ms\tremaining: 9.52s\n",
            "27:\tlearn: 1.2211178\ttest: 1.4607006\tbest: 1.4607006 (27)\ttotal: 272ms\tremaining: 9.45s\n",
            "28:\tlearn: 1.2087203\ttest: 1.4623051\tbest: 1.4607006 (27)\ttotal: 280ms\tremaining: 9.37s\n",
            "29:\tlearn: 1.1981942\ttest: 1.4533034\tbest: 1.4533034 (29)\ttotal: 287ms\tremaining: 9.29s\n",
            "30:\tlearn: 1.1889868\ttest: 1.4490928\tbest: 1.4490928 (30)\ttotal: 295ms\tremaining: 9.21s\n",
            "31:\tlearn: 1.1820383\ttest: 1.4468713\tbest: 1.4468713 (31)\ttotal: 302ms\tremaining: 9.14s\n",
            "32:\tlearn: 1.1707887\ttest: 1.4409515\tbest: 1.4409515 (32)\ttotal: 310ms\tremaining: 9.08s\n",
            "33:\tlearn: 1.1605282\ttest: 1.4406276\tbest: 1.4406276 (33)\ttotal: 317ms\tremaining: 9.02s\n",
            "34:\tlearn: 1.1506255\ttest: 1.4392132\tbest: 1.4392132 (34)\ttotal: 325ms\tremaining: 8.97s\n",
            "35:\tlearn: 1.1393118\ttest: 1.4353193\tbest: 1.4353193 (35)\ttotal: 333ms\tremaining: 8.92s\n",
            "36:\tlearn: 1.1249729\ttest: 1.4341704\tbest: 1.4341704 (36)\ttotal: 341ms\tremaining: 8.87s\n",
            "37:\tlearn: 1.1151794\ttest: 1.4292560\tbest: 1.4292560 (37)\ttotal: 348ms\tremaining: 8.81s\n",
            "38:\tlearn: 1.1034992\ttest: 1.4221340\tbest: 1.4221340 (38)\ttotal: 356ms\tremaining: 8.76s\n",
            "39:\tlearn: 1.0920269\ttest: 1.4253993\tbest: 1.4221340 (38)\ttotal: 363ms\tremaining: 8.71s\n",
            "40:\tlearn: 1.0805908\ttest: 1.4231741\tbest: 1.4221340 (38)\ttotal: 371ms\tremaining: 8.67s\n",
            "41:\tlearn: 1.0705645\ttest: 1.4256396\tbest: 1.4221340 (38)\ttotal: 378ms\tremaining: 8.62s\n",
            "42:\tlearn: 1.0602501\ttest: 1.4280135\tbest: 1.4221340 (38)\ttotal: 386ms\tremaining: 8.58s\n",
            "43:\tlearn: 1.0487424\ttest: 1.4265642\tbest: 1.4221340 (38)\ttotal: 396ms\tremaining: 8.61s\n",
            "44:\tlearn: 1.0370092\ttest: 1.4282242\tbest: 1.4221340 (38)\ttotal: 403ms\tremaining: 8.56s\n",
            "45:\tlearn: 1.0293967\ttest: 1.4245286\tbest: 1.4221340 (38)\ttotal: 411ms\tremaining: 8.52s\n",
            "46:\tlearn: 1.0217349\ttest: 1.4225130\tbest: 1.4221340 (38)\ttotal: 418ms\tremaining: 8.47s\n",
            "47:\tlearn: 1.0110024\ttest: 1.4257381\tbest: 1.4221340 (38)\ttotal: 425ms\tremaining: 8.44s\n",
            "48:\tlearn: 1.0022657\ttest: 1.4209530\tbest: 1.4209530 (48)\ttotal: 433ms\tremaining: 8.4s\n",
            "49:\tlearn: 0.9954810\ttest: 1.4173390\tbest: 1.4173390 (49)\ttotal: 442ms\tremaining: 8.4s\n",
            "50:\tlearn: 0.9883058\ttest: 1.4179559\tbest: 1.4173390 (49)\ttotal: 453ms\tremaining: 8.43s\n",
            "51:\tlearn: 0.9798392\ttest: 1.4187157\tbest: 1.4173390 (49)\ttotal: 461ms\tremaining: 8.39s\n",
            "52:\tlearn: 0.9748872\ttest: 1.4187896\tbest: 1.4173390 (49)\ttotal: 468ms\tremaining: 8.36s\n",
            "53:\tlearn: 0.9652674\ttest: 1.4215816\tbest: 1.4173390 (49)\ttotal: 475ms\tremaining: 8.32s\n",
            "54:\tlearn: 0.9589167\ttest: 1.4253533\tbest: 1.4173390 (49)\ttotal: 483ms\tremaining: 8.29s\n",
            "55:\tlearn: 0.9504647\ttest: 1.4308046\tbest: 1.4173390 (49)\ttotal: 490ms\tremaining: 8.26s\n",
            "56:\tlearn: 0.9444811\ttest: 1.4276112\tbest: 1.4173390 (49)\ttotal: 497ms\tremaining: 8.23s\n",
            "57:\tlearn: 0.9394190\ttest: 1.4255414\tbest: 1.4173390 (49)\ttotal: 505ms\tremaining: 8.19s\n",
            "58:\tlearn: 0.9317589\ttest: 1.4299568\tbest: 1.4173390 (49)\ttotal: 512ms\tremaining: 8.17s\n",
            "59:\tlearn: 0.9255470\ttest: 1.4316425\tbest: 1.4173390 (49)\ttotal: 520ms\tremaining: 8.14s\n",
            "60:\tlearn: 0.9201181\ttest: 1.4319971\tbest: 1.4173390 (49)\ttotal: 527ms\tremaining: 8.12s\n",
            "61:\tlearn: 0.9138671\ttest: 1.4311661\tbest: 1.4173390 (49)\ttotal: 535ms\tremaining: 8.09s\n",
            "62:\tlearn: 0.9076965\ttest: 1.4309879\tbest: 1.4173390 (49)\ttotal: 542ms\tremaining: 8.06s\n",
            "63:\tlearn: 0.9001986\ttest: 1.4273634\tbest: 1.4173390 (49)\ttotal: 555ms\tremaining: 8.12s\n",
            "64:\tlearn: 0.8907660\ttest: 1.4270081\tbest: 1.4173390 (49)\ttotal: 563ms\tremaining: 8.1s\n",
            "65:\tlearn: 0.8830682\ttest: 1.4313443\tbest: 1.4173390 (49)\ttotal: 571ms\tremaining: 8.07s\n",
            "66:\tlearn: 0.8744404\ttest: 1.4346162\tbest: 1.4173390 (49)\ttotal: 578ms\tremaining: 8.05s\n",
            "67:\tlearn: 0.8664371\ttest: 1.4362974\tbest: 1.4173390 (49)\ttotal: 586ms\tremaining: 8.03s\n",
            "68:\tlearn: 0.8602397\ttest: 1.4342663\tbest: 1.4173390 (49)\ttotal: 597ms\tremaining: 8.06s\n",
            "69:\tlearn: 0.8556351\ttest: 1.4379110\tbest: 1.4173390 (49)\ttotal: 605ms\tremaining: 8.04s\n",
            "70:\tlearn: 0.8501919\ttest: 1.4387249\tbest: 1.4173390 (49)\ttotal: 613ms\tremaining: 8.02s\n",
            "71:\tlearn: 0.8411017\ttest: 1.4347626\tbest: 1.4173390 (49)\ttotal: 620ms\tremaining: 8s\n",
            "72:\tlearn: 0.8345765\ttest: 1.4350091\tbest: 1.4173390 (49)\ttotal: 628ms\tremaining: 7.97s\n",
            "73:\tlearn: 0.8294509\ttest: 1.4348639\tbest: 1.4173390 (49)\ttotal: 636ms\tremaining: 7.95s\n",
            "74:\tlearn: 0.8227928\ttest: 1.4351658\tbest: 1.4173390 (49)\ttotal: 643ms\tremaining: 7.93s\n",
            "75:\tlearn: 0.8137577\ttest: 1.4302857\tbest: 1.4173390 (49)\ttotal: 650ms\tremaining: 7.91s\n",
            "76:\tlearn: 0.8073161\ttest: 1.4304034\tbest: 1.4173390 (49)\ttotal: 658ms\tremaining: 7.88s\n",
            "77:\tlearn: 0.8023610\ttest: 1.4311525\tbest: 1.4173390 (49)\ttotal: 665ms\tremaining: 7.86s\n",
            "78:\tlearn: 0.7947003\ttest: 1.4340760\tbest: 1.4173390 (49)\ttotal: 673ms\tremaining: 7.84s\n",
            "79:\tlearn: 0.7877900\ttest: 1.4304374\tbest: 1.4173390 (49)\ttotal: 680ms\tremaining: 7.82s\n",
            "80:\tlearn: 0.7808537\ttest: 1.4325145\tbest: 1.4173390 (49)\ttotal: 688ms\tremaining: 7.8s\n",
            "81:\tlearn: 0.7754044\ttest: 1.4318761\tbest: 1.4173390 (49)\ttotal: 695ms\tremaining: 7.78s\n",
            "82:\tlearn: 0.7703663\ttest: 1.4343128\tbest: 1.4173390 (49)\ttotal: 702ms\tremaining: 7.76s\n",
            "83:\tlearn: 0.7655696\ttest: 1.4346939\tbest: 1.4173390 (49)\ttotal: 709ms\tremaining: 7.74s\n",
            "84:\tlearn: 0.7583746\ttest: 1.4387855\tbest: 1.4173390 (49)\ttotal: 721ms\tremaining: 7.76s\n",
            "85:\tlearn: 0.7530382\ttest: 1.4410562\tbest: 1.4173390 (49)\ttotal: 728ms\tremaining: 7.74s\n",
            "86:\tlearn: 0.7478281\ttest: 1.4398941\tbest: 1.4173390 (49)\ttotal: 735ms\tremaining: 7.72s\n",
            "87:\tlearn: 0.7407490\ttest: 1.4384669\tbest: 1.4173390 (49)\ttotal: 743ms\tremaining: 7.7s\n",
            "88:\tlearn: 0.7339012\ttest: 1.4387939\tbest: 1.4173390 (49)\ttotal: 750ms\tremaining: 7.68s\n",
            "89:\tlearn: 0.7277278\ttest: 1.4404678\tbest: 1.4173390 (49)\ttotal: 759ms\tremaining: 7.68s\n",
            "90:\tlearn: 0.7219706\ttest: 1.4458404\tbest: 1.4173390 (49)\ttotal: 767ms\tremaining: 7.66s\n",
            "91:\tlearn: 0.7178872\ttest: 1.4468351\tbest: 1.4173390 (49)\ttotal: 774ms\tremaining: 7.64s\n",
            "92:\tlearn: 0.7115693\ttest: 1.4466055\tbest: 1.4173390 (49)\ttotal: 782ms\tremaining: 7.62s\n",
            "93:\tlearn: 0.7058663\ttest: 1.4487530\tbest: 1.4173390 (49)\ttotal: 789ms\tremaining: 7.6s\n",
            "94:\tlearn: 0.7021856\ttest: 1.4495849\tbest: 1.4173390 (49)\ttotal: 800ms\tremaining: 7.62s\n",
            "95:\tlearn: 0.6971192\ttest: 1.4504373\tbest: 1.4173390 (49)\ttotal: 808ms\tremaining: 7.61s\n",
            "96:\tlearn: 0.6908064\ttest: 1.4515912\tbest: 1.4173390 (49)\ttotal: 815ms\tremaining: 7.59s\n",
            "97:\tlearn: 0.6851240\ttest: 1.4527261\tbest: 1.4173390 (49)\ttotal: 823ms\tremaining: 7.57s\n",
            "98:\tlearn: 0.6807612\ttest: 1.4534091\tbest: 1.4173390 (49)\ttotal: 830ms\tremaining: 7.55s\n",
            "99:\tlearn: 0.6732829\ttest: 1.4515981\tbest: 1.4173390 (49)\ttotal: 837ms\tremaining: 7.54s\n",
            "100:\tlearn: 0.6681776\ttest: 1.4532268\tbest: 1.4173390 (49)\ttotal: 845ms\tremaining: 7.52s\n",
            "101:\tlearn: 0.6621915\ttest: 1.4526640\tbest: 1.4173390 (49)\ttotal: 853ms\tremaining: 7.5s\n",
            "102:\tlearn: 0.6575081\ttest: 1.4538464\tbest: 1.4173390 (49)\ttotal: 860ms\tremaining: 7.49s\n",
            "103:\tlearn: 0.6517022\ttest: 1.4522333\tbest: 1.4173390 (49)\ttotal: 870ms\tremaining: 7.49s\n",
            "104:\tlearn: 0.6456935\ttest: 1.4504969\tbest: 1.4173390 (49)\ttotal: 878ms\tremaining: 7.49s\n",
            "105:\tlearn: 0.6404960\ttest: 1.4464934\tbest: 1.4173390 (49)\ttotal: 886ms\tremaining: 7.47s\n",
            "106:\tlearn: 0.6348332\ttest: 1.4483563\tbest: 1.4173390 (49)\ttotal: 893ms\tremaining: 7.45s\n",
            "107:\tlearn: 0.6306756\ttest: 1.4521428\tbest: 1.4173390 (49)\ttotal: 901ms\tremaining: 7.44s\n",
            "108:\tlearn: 0.6250282\ttest: 1.4527391\tbest: 1.4173390 (49)\ttotal: 908ms\tremaining: 7.42s\n",
            "109:\tlearn: 0.6202093\ttest: 1.4540273\tbest: 1.4173390 (49)\ttotal: 916ms\tremaining: 7.41s\n",
            "110:\tlearn: 0.6156107\ttest: 1.4519405\tbest: 1.4173390 (49)\ttotal: 923ms\tremaining: 7.39s\n",
            "111:\tlearn: 0.6116050\ttest: 1.4510192\tbest: 1.4173390 (49)\ttotal: 930ms\tremaining: 7.37s\n",
            "112:\tlearn: 0.6060034\ttest: 1.4508369\tbest: 1.4173390 (49)\ttotal: 938ms\tremaining: 7.36s\n",
            "113:\tlearn: 0.6017654\ttest: 1.4524766\tbest: 1.4173390 (49)\ttotal: 945ms\tremaining: 7.34s\n",
            "114:\tlearn: 0.5982574\ttest: 1.4508019\tbest: 1.4173390 (49)\ttotal: 953ms\tremaining: 7.33s\n",
            "115:\tlearn: 0.5936255\ttest: 1.4519951\tbest: 1.4173390 (49)\ttotal: 960ms\tremaining: 7.32s\n",
            "116:\tlearn: 0.5910872\ttest: 1.4538702\tbest: 1.4173390 (49)\ttotal: 984ms\tremaining: 7.43s\n",
            "117:\tlearn: 0.5883615\ttest: 1.4549296\tbest: 1.4173390 (49)\ttotal: 1s\tremaining: 7.49s\n",
            "118:\tlearn: 0.5848920\ttest: 1.4547457\tbest: 1.4173390 (49)\ttotal: 1.01s\tremaining: 7.5s\n",
            "119:\tlearn: 0.5802530\ttest: 1.4524136\tbest: 1.4173390 (49)\ttotal: 1.02s\tremaining: 7.48s\n",
            "120:\tlearn: 0.5769236\ttest: 1.4529968\tbest: 1.4173390 (49)\ttotal: 1.03s\tremaining: 7.47s\n",
            "121:\tlearn: 0.5721810\ttest: 1.4567607\tbest: 1.4173390 (49)\ttotal: 1.03s\tremaining: 7.46s\n",
            "122:\tlearn: 0.5691114\ttest: 1.4573315\tbest: 1.4173390 (49)\ttotal: 1.04s\tremaining: 7.44s\n",
            "123:\tlearn: 0.5639113\ttest: 1.4576761\tbest: 1.4173390 (49)\ttotal: 1.05s\tremaining: 7.42s\n",
            "124:\tlearn: 0.5589441\ttest: 1.4560479\tbest: 1.4173390 (49)\ttotal: 1.06s\tremaining: 7.41s\n",
            "125:\tlearn: 0.5528625\ttest: 1.4573031\tbest: 1.4173390 (49)\ttotal: 1.07s\tremaining: 7.39s\n",
            "126:\tlearn: 0.5487679\ttest: 1.4536514\tbest: 1.4173390 (49)\ttotal: 1.07s\tremaining: 7.38s\n",
            "127:\tlearn: 0.5443885\ttest: 1.4556976\tbest: 1.4173390 (49)\ttotal: 1.08s\tremaining: 7.39s\n",
            "128:\tlearn: 0.5412149\ttest: 1.4565022\tbest: 1.4173390 (49)\ttotal: 1.09s\tremaining: 7.38s\n",
            "129:\tlearn: 0.5372510\ttest: 1.4541172\tbest: 1.4173390 (49)\ttotal: 1.1s\tremaining: 7.36s\n",
            "130:\tlearn: 0.5335541\ttest: 1.4548971\tbest: 1.4173390 (49)\ttotal: 1.11s\tremaining: 7.35s\n",
            "131:\tlearn: 0.5290621\ttest: 1.4583843\tbest: 1.4173390 (49)\ttotal: 1.11s\tremaining: 7.33s\n",
            "132:\tlearn: 0.5276116\ttest: 1.4592464\tbest: 1.4173390 (49)\ttotal: 1.12s\tremaining: 7.32s\n",
            "133:\tlearn: 0.5233481\ttest: 1.4602423\tbest: 1.4173390 (49)\ttotal: 1.13s\tremaining: 7.3s\n",
            "134:\tlearn: 0.5192617\ttest: 1.4671866\tbest: 1.4173390 (49)\ttotal: 1.14s\tremaining: 7.29s\n",
            "135:\tlearn: 0.5153546\ttest: 1.4682575\tbest: 1.4173390 (49)\ttotal: 1.15s\tremaining: 7.28s\n",
            "136:\tlearn: 0.5114988\ttest: 1.4679718\tbest: 1.4173390 (49)\ttotal: 1.15s\tremaining: 7.27s\n",
            "137:\tlearn: 0.5076652\ttest: 1.4693982\tbest: 1.4173390 (49)\ttotal: 1.16s\tremaining: 7.25s\n",
            "138:\tlearn: 0.5037435\ttest: 1.4696245\tbest: 1.4173390 (49)\ttotal: 1.17s\tremaining: 7.25s\n",
            "139:\tlearn: 0.5006513\ttest: 1.4701690\tbest: 1.4173390 (49)\ttotal: 1.18s\tremaining: 7.23s\n",
            "140:\tlearn: 0.4968129\ttest: 1.4736381\tbest: 1.4173390 (49)\ttotal: 1.18s\tremaining: 7.22s\n",
            "141:\tlearn: 0.4954311\ttest: 1.4749349\tbest: 1.4173390 (49)\ttotal: 1.19s\tremaining: 7.21s\n",
            "142:\tlearn: 0.4919742\ttest: 1.4757569\tbest: 1.4173390 (49)\ttotal: 1.21s\tremaining: 7.23s\n",
            "143:\tlearn: 0.4889601\ttest: 1.4744329\tbest: 1.4173390 (49)\ttotal: 1.21s\tremaining: 7.21s\n",
            "144:\tlearn: 0.4843257\ttest: 1.4772977\tbest: 1.4173390 (49)\ttotal: 1.22s\tremaining: 7.2s\n",
            "145:\tlearn: 0.4811649\ttest: 1.4775870\tbest: 1.4173390 (49)\ttotal: 1.23s\tremaining: 7.19s\n",
            "146:\tlearn: 0.4788352\ttest: 1.4796647\tbest: 1.4173390 (49)\ttotal: 1.24s\tremaining: 7.17s\n",
            "147:\tlearn: 0.4744851\ttest: 1.4840458\tbest: 1.4173390 (49)\ttotal: 1.24s\tremaining: 7.16s\n",
            "148:\tlearn: 0.4705210\ttest: 1.4848652\tbest: 1.4173390 (49)\ttotal: 1.25s\tremaining: 7.15s\n",
            "149:\tlearn: 0.4669052\ttest: 1.4877328\tbest: 1.4173390 (49)\ttotal: 1.26s\tremaining: 7.13s\n",
            "150:\tlearn: 0.4643658\ttest: 1.4877868\tbest: 1.4173390 (49)\ttotal: 1.27s\tremaining: 7.12s\n",
            "151:\tlearn: 0.4612220\ttest: 1.4864976\tbest: 1.4173390 (49)\ttotal: 1.27s\tremaining: 7.11s\n",
            "152:\tlearn: 0.4582020\ttest: 1.4866177\tbest: 1.4173390 (49)\ttotal: 1.28s\tremaining: 7.09s\n",
            "153:\tlearn: 0.4569585\ttest: 1.4864908\tbest: 1.4173390 (49)\ttotal: 1.29s\tremaining: 7.08s\n",
            "154:\tlearn: 0.4541962\ttest: 1.4858945\tbest: 1.4173390 (49)\ttotal: 1.3s\tremaining: 7.07s\n",
            "155:\tlearn: 0.4524521\ttest: 1.4866182\tbest: 1.4173390 (49)\ttotal: 1.31s\tremaining: 7.07s\n",
            "156:\tlearn: 0.4490270\ttest: 1.4851758\tbest: 1.4173390 (49)\ttotal: 1.32s\tremaining: 7.07s\n",
            "157:\tlearn: 0.4467037\ttest: 1.4882416\tbest: 1.4173390 (49)\ttotal: 1.32s\tremaining: 7.07s\n",
            "158:\tlearn: 0.4437393\ttest: 1.4890094\tbest: 1.4173390 (49)\ttotal: 1.33s\tremaining: 7.05s\n",
            "159:\tlearn: 0.4415429\ttest: 1.4906121\tbest: 1.4173390 (49)\ttotal: 1.34s\tremaining: 7.05s\n",
            "160:\tlearn: 0.4392545\ttest: 1.4897842\tbest: 1.4173390 (49)\ttotal: 1.35s\tremaining: 7.03s\n",
            "161:\tlearn: 0.4358643\ttest: 1.4909091\tbest: 1.4173390 (49)\ttotal: 1.36s\tremaining: 7.02s\n",
            "162:\tlearn: 0.4330230\ttest: 1.4970184\tbest: 1.4173390 (49)\ttotal: 1.36s\tremaining: 7.01s\n",
            "163:\tlearn: 0.4307946\ttest: 1.4999765\tbest: 1.4173390 (49)\ttotal: 1.37s\tremaining: 6.99s\n",
            "164:\tlearn: 0.4276302\ttest: 1.4980199\tbest: 1.4173390 (49)\ttotal: 1.38s\tremaining: 6.98s\n",
            "165:\tlearn: 0.4246654\ttest: 1.4986958\tbest: 1.4173390 (49)\ttotal: 1.39s\tremaining: 6.97s\n",
            "166:\tlearn: 0.4229892\ttest: 1.5007453\tbest: 1.4173390 (49)\ttotal: 1.39s\tremaining: 6.96s\n",
            "167:\tlearn: 0.4203022\ttest: 1.5018769\tbest: 1.4173390 (49)\ttotal: 1.41s\tremaining: 6.96s\n",
            "168:\tlearn: 0.4174890\ttest: 1.5057245\tbest: 1.4173390 (49)\ttotal: 1.41s\tremaining: 6.96s\n",
            "169:\tlearn: 0.4153376\ttest: 1.5058689\tbest: 1.4173390 (49)\ttotal: 1.42s\tremaining: 6.95s\n",
            "170:\tlearn: 0.4127438\ttest: 1.5072578\tbest: 1.4173390 (49)\ttotal: 1.43s\tremaining: 6.93s\n",
            "171:\tlearn: 0.4110759\ttest: 1.5076616\tbest: 1.4173390 (49)\ttotal: 1.44s\tremaining: 6.92s\n",
            "172:\tlearn: 0.4097089\ttest: 1.5085333\tbest: 1.4173390 (49)\ttotal: 1.45s\tremaining: 6.91s\n",
            "173:\tlearn: 0.4073484\ttest: 1.5089117\tbest: 1.4173390 (49)\ttotal: 1.45s\tremaining: 6.89s\n",
            "174:\tlearn: 0.4043837\ttest: 1.5098843\tbest: 1.4173390 (49)\ttotal: 1.46s\tremaining: 6.88s\n",
            "175:\tlearn: 0.4021830\ttest: 1.5115416\tbest: 1.4173390 (49)\ttotal: 1.47s\tremaining: 6.87s\n",
            "176:\tlearn: 0.4007467\ttest: 1.5123195\tbest: 1.4173390 (49)\ttotal: 1.47s\tremaining: 6.86s\n",
            "177:\tlearn: 0.3987538\ttest: 1.5120720\tbest: 1.4173390 (49)\ttotal: 1.48s\tremaining: 6.84s\n",
            "178:\tlearn: 0.3972398\ttest: 1.5146149\tbest: 1.4173390 (49)\ttotal: 1.49s\tremaining: 6.83s\n",
            "179:\tlearn: 0.3947250\ttest: 1.5137760\tbest: 1.4173390 (49)\ttotal: 1.5s\tremaining: 6.82s\n",
            "180:\tlearn: 0.3923259\ttest: 1.5153320\tbest: 1.4173390 (49)\ttotal: 1.5s\tremaining: 6.81s\n",
            "181:\tlearn: 0.3902126\ttest: 1.5133918\tbest: 1.4173390 (49)\ttotal: 1.52s\tremaining: 6.82s\n",
            "182:\tlearn: 0.3885104\ttest: 1.5120133\tbest: 1.4173390 (49)\ttotal: 1.52s\tremaining: 6.81s\n",
            "183:\tlearn: 0.3855215\ttest: 1.5115602\tbest: 1.4173390 (49)\ttotal: 1.53s\tremaining: 6.8s\n",
            "184:\tlearn: 0.3838880\ttest: 1.5101705\tbest: 1.4173390 (49)\ttotal: 1.54s\tremaining: 6.78s\n",
            "185:\tlearn: 0.3815345\ttest: 1.5137971\tbest: 1.4173390 (49)\ttotal: 1.55s\tremaining: 6.77s\n",
            "186:\tlearn: 0.3801688\ttest: 1.5143005\tbest: 1.4173390 (49)\ttotal: 1.55s\tremaining: 6.76s\n",
            "187:\tlearn: 0.3774415\ttest: 1.5163450\tbest: 1.4173390 (49)\ttotal: 1.56s\tremaining: 6.75s\n",
            "188:\tlearn: 0.3749374\ttest: 1.5187393\tbest: 1.4173390 (49)\ttotal: 1.57s\tremaining: 6.74s\n",
            "189:\tlearn: 0.3734649\ttest: 1.5178237\tbest: 1.4173390 (49)\ttotal: 1.58s\tremaining: 6.73s\n",
            "190:\tlearn: 0.3707274\ttest: 1.5200207\tbest: 1.4173390 (49)\ttotal: 1.59s\tremaining: 6.72s\n",
            "191:\tlearn: 0.3688591\ttest: 1.5203397\tbest: 1.4173390 (49)\ttotal: 1.59s\tremaining: 6.71s\n",
            "192:\tlearn: 0.3672233\ttest: 1.5191945\tbest: 1.4173390 (49)\ttotal: 1.6s\tremaining: 6.71s\n",
            "193:\tlearn: 0.3650833\ttest: 1.5222377\tbest: 1.4173390 (49)\ttotal: 1.61s\tremaining: 6.7s\n",
            "194:\tlearn: 0.3624705\ttest: 1.5220603\tbest: 1.4173390 (49)\ttotal: 1.62s\tremaining: 6.69s\n",
            "195:\tlearn: 0.3604429\ttest: 1.5260720\tbest: 1.4173390 (49)\ttotal: 1.63s\tremaining: 6.68s\n",
            "196:\tlearn: 0.3592187\ttest: 1.5264542\tbest: 1.4173390 (49)\ttotal: 1.64s\tremaining: 6.67s\n",
            "197:\tlearn: 0.3575984\ttest: 1.5257881\tbest: 1.4173390 (49)\ttotal: 1.64s\tremaining: 6.66s\n",
            "198:\tlearn: 0.3557719\ttest: 1.5265358\tbest: 1.4173390 (49)\ttotal: 1.65s\tremaining: 6.64s\n",
            "199:\tlearn: 0.3544238\ttest: 1.5270382\tbest: 1.4173390 (49)\ttotal: 1.66s\tremaining: 6.63s\n",
            "200:\tlearn: 0.3515783\ttest: 1.5263081\tbest: 1.4173390 (49)\ttotal: 1.67s\tremaining: 6.62s\n",
            "201:\tlearn: 0.3495193\ttest: 1.5257125\tbest: 1.4173390 (49)\ttotal: 1.67s\tremaining: 6.61s\n",
            "202:\tlearn: 0.3477003\ttest: 1.5257001\tbest: 1.4173390 (49)\ttotal: 1.68s\tremaining: 6.6s\n",
            "203:\tlearn: 0.3453270\ttest: 1.5274339\tbest: 1.4173390 (49)\ttotal: 1.69s\tremaining: 6.59s\n",
            "204:\tlearn: 0.3429669\ttest: 1.5303114\tbest: 1.4173390 (49)\ttotal: 1.7s\tremaining: 6.58s\n",
            "205:\tlearn: 0.3409199\ttest: 1.5279495\tbest: 1.4173390 (49)\ttotal: 1.7s\tremaining: 6.57s\n",
            "206:\tlearn: 0.3384030\ttest: 1.5316871\tbest: 1.4173390 (49)\ttotal: 1.71s\tremaining: 6.56s\n",
            "207:\tlearn: 0.3371350\ttest: 1.5312290\tbest: 1.4173390 (49)\ttotal: 1.72s\tremaining: 6.55s\n",
            "208:\tlearn: 0.3363096\ttest: 1.5308929\tbest: 1.4173390 (49)\ttotal: 1.73s\tremaining: 6.54s\n",
            "209:\tlearn: 0.3338289\ttest: 1.5313967\tbest: 1.4173390 (49)\ttotal: 1.74s\tremaining: 6.53s\n",
            "210:\tlearn: 0.3316556\ttest: 1.5325836\tbest: 1.4173390 (49)\ttotal: 1.75s\tremaining: 6.54s\n",
            "211:\tlearn: 0.3304850\ttest: 1.5334276\tbest: 1.4173390 (49)\ttotal: 1.76s\tremaining: 6.53s\n",
            "212:\tlearn: 0.3288063\ttest: 1.5336560\tbest: 1.4173390 (49)\ttotal: 1.76s\tremaining: 6.52s\n",
            "213:\tlearn: 0.3274423\ttest: 1.5332996\tbest: 1.4173390 (49)\ttotal: 1.77s\tremaining: 6.5s\n",
            "214:\tlearn: 0.3256725\ttest: 1.5328116\tbest: 1.4173390 (49)\ttotal: 1.78s\tremaining: 6.5s\n",
            "215:\tlearn: 0.3236581\ttest: 1.5325239\tbest: 1.4173390 (49)\ttotal: 1.79s\tremaining: 6.49s\n",
            "216:\tlearn: 0.3217556\ttest: 1.5344029\tbest: 1.4173390 (49)\ttotal: 1.79s\tremaining: 6.47s\n",
            "217:\tlearn: 0.3198295\ttest: 1.5361580\tbest: 1.4173390 (49)\ttotal: 1.8s\tremaining: 6.48s\n",
            "218:\tlearn: 0.3186302\ttest: 1.5356622\tbest: 1.4173390 (49)\ttotal: 1.81s\tremaining: 6.47s\n",
            "219:\tlearn: 0.3178460\ttest: 1.5365122\tbest: 1.4173390 (49)\ttotal: 1.82s\tremaining: 6.46s\n",
            "220:\tlearn: 0.3156786\ttest: 1.5368280\tbest: 1.4173390 (49)\ttotal: 1.83s\tremaining: 6.45s\n",
            "221:\tlearn: 0.3142810\ttest: 1.5365872\tbest: 1.4173390 (49)\ttotal: 1.84s\tremaining: 6.44s\n",
            "222:\tlearn: 0.3131725\ttest: 1.5378374\tbest: 1.4173390 (49)\ttotal: 1.84s\tremaining: 6.43s\n",
            "223:\tlearn: 0.3115745\ttest: 1.5381182\tbest: 1.4173390 (49)\ttotal: 1.85s\tremaining: 6.42s\n",
            "224:\tlearn: 0.3102385\ttest: 1.5379435\tbest: 1.4173390 (49)\ttotal: 1.86s\tremaining: 6.41s\n",
            "225:\tlearn: 0.3085769\ttest: 1.5424573\tbest: 1.4173390 (49)\ttotal: 1.87s\tremaining: 6.4s\n",
            "226:\tlearn: 0.3068154\ttest: 1.5419556\tbest: 1.4173390 (49)\ttotal: 1.88s\tremaining: 6.39s\n",
            "227:\tlearn: 0.3056968\ttest: 1.5412047\tbest: 1.4173390 (49)\ttotal: 1.88s\tremaining: 6.38s\n",
            "228:\tlearn: 0.3040089\ttest: 1.5415385\tbest: 1.4173390 (49)\ttotal: 1.89s\tremaining: 6.37s\n",
            "229:\tlearn: 0.3031978\ttest: 1.5419008\tbest: 1.4173390 (49)\ttotal: 1.9s\tremaining: 6.36s\n",
            "230:\tlearn: 0.3020476\ttest: 1.5408456\tbest: 1.4173390 (49)\ttotal: 1.91s\tremaining: 6.35s\n",
            "231:\tlearn: 0.3003295\ttest: 1.5410382\tbest: 1.4173390 (49)\ttotal: 1.91s\tremaining: 6.34s\n",
            "232:\tlearn: 0.2990488\ttest: 1.5397526\tbest: 1.4173390 (49)\ttotal: 1.92s\tremaining: 6.33s\n",
            "233:\tlearn: 0.2973046\ttest: 1.5411171\tbest: 1.4173390 (49)\ttotal: 1.93s\tremaining: 6.32s\n",
            "234:\tlearn: 0.2957041\ttest: 1.5424497\tbest: 1.4173390 (49)\ttotal: 1.95s\tremaining: 6.34s\n",
            "235:\tlearn: 0.2947149\ttest: 1.5421060\tbest: 1.4173390 (49)\ttotal: 1.96s\tremaining: 6.33s\n",
            "236:\tlearn: 0.2934829\ttest: 1.5415413\tbest: 1.4173390 (49)\ttotal: 1.97s\tremaining: 6.34s\n",
            "237:\tlearn: 0.2924448\ttest: 1.5423069\tbest: 1.4173390 (49)\ttotal: 1.99s\tremaining: 6.36s\n",
            "238:\tlearn: 0.2905248\ttest: 1.5453261\tbest: 1.4173390 (49)\ttotal: 2s\tremaining: 6.37s\n",
            "239:\tlearn: 0.2888924\ttest: 1.5461789\tbest: 1.4173390 (49)\ttotal: 2.01s\tremaining: 6.36s\n",
            "240:\tlearn: 0.2877328\ttest: 1.5472314\tbest: 1.4173390 (49)\ttotal: 2.01s\tremaining: 6.34s\n",
            "241:\tlearn: 0.2858354\ttest: 1.5473265\tbest: 1.4173390 (49)\ttotal: 2.02s\tremaining: 6.33s\n",
            "242:\tlearn: 0.2843845\ttest: 1.5469331\tbest: 1.4173390 (49)\ttotal: 2.03s\tremaining: 6.32s\n",
            "243:\tlearn: 0.2833043\ttest: 1.5472991\tbest: 1.4173390 (49)\ttotal: 2.04s\tremaining: 6.31s\n",
            "244:\tlearn: 0.2818543\ttest: 1.5484236\tbest: 1.4173390 (49)\ttotal: 2.04s\tremaining: 6.3s\n",
            "245:\tlearn: 0.2813441\ttest: 1.5473407\tbest: 1.4173390 (49)\ttotal: 2.05s\tremaining: 6.29s\n",
            "246:\tlearn: 0.2797827\ttest: 1.5475823\tbest: 1.4173390 (49)\ttotal: 2.06s\tremaining: 6.28s\n",
            "247:\tlearn: 0.2790821\ttest: 1.5489961\tbest: 1.4173390 (49)\ttotal: 2.07s\tremaining: 6.27s\n",
            "248:\tlearn: 0.2777266\ttest: 1.5500185\tbest: 1.4173390 (49)\ttotal: 2.07s\tremaining: 6.26s\n",
            "249:\tlearn: 0.2766605\ttest: 1.5478457\tbest: 1.4173390 (49)\ttotal: 2.08s\tremaining: 6.25s\n",
            "250:\tlearn: 0.2753136\ttest: 1.5484486\tbest: 1.4173390 (49)\ttotal: 2.09s\tremaining: 6.23s\n",
            "251:\tlearn: 0.2740880\ttest: 1.5468116\tbest: 1.4173390 (49)\ttotal: 2.1s\tremaining: 6.22s\n",
            "252:\tlearn: 0.2726462\ttest: 1.5489898\tbest: 1.4173390 (49)\ttotal: 2.1s\tremaining: 6.21s\n",
            "253:\tlearn: 0.2708689\ttest: 1.5499873\tbest: 1.4173390 (49)\ttotal: 2.11s\tremaining: 6.21s\n",
            "254:\tlearn: 0.2691424\ttest: 1.5484969\tbest: 1.4173390 (49)\ttotal: 2.12s\tremaining: 6.2s\n",
            "255:\tlearn: 0.2683210\ttest: 1.5498648\tbest: 1.4173390 (49)\ttotal: 2.13s\tremaining: 6.18s\n",
            "256:\tlearn: 0.2676814\ttest: 1.5501226\tbest: 1.4173390 (49)\ttotal: 2.13s\tremaining: 6.17s\n",
            "257:\tlearn: 0.2669500\ttest: 1.5502606\tbest: 1.4173390 (49)\ttotal: 2.14s\tremaining: 6.16s\n",
            "258:\tlearn: 0.2656794\ttest: 1.5528686\tbest: 1.4173390 (49)\ttotal: 2.15s\tremaining: 6.15s\n",
            "259:\tlearn: 0.2642761\ttest: 1.5526032\tbest: 1.4173390 (49)\ttotal: 2.16s\tremaining: 6.15s\n",
            "260:\tlearn: 0.2630082\ttest: 1.5537157\tbest: 1.4173390 (49)\ttotal: 2.17s\tremaining: 6.14s\n",
            "261:\tlearn: 0.2619489\ttest: 1.5518276\tbest: 1.4173390 (49)\ttotal: 2.18s\tremaining: 6.13s\n",
            "262:\tlearn: 0.2608734\ttest: 1.5514634\tbest: 1.4173390 (49)\ttotal: 2.18s\tremaining: 6.12s\n",
            "263:\tlearn: 0.2597857\ttest: 1.5508900\tbest: 1.4173390 (49)\ttotal: 2.19s\tremaining: 6.11s\n",
            "264:\tlearn: 0.2584469\ttest: 1.5517946\tbest: 1.4173390 (49)\ttotal: 2.2s\tremaining: 6.11s\n",
            "265:\tlearn: 0.2574696\ttest: 1.5511539\tbest: 1.4173390 (49)\ttotal: 2.21s\tremaining: 6.1s\n",
            "266:\tlearn: 0.2567698\ttest: 1.5523868\tbest: 1.4173390 (49)\ttotal: 2.22s\tremaining: 6.09s\n",
            "267:\tlearn: 0.2555169\ttest: 1.5528992\tbest: 1.4173390 (49)\ttotal: 2.23s\tremaining: 6.08s\n",
            "268:\tlearn: 0.2543047\ttest: 1.5547148\tbest: 1.4173390 (49)\ttotal: 2.23s\tremaining: 6.07s\n",
            "269:\tlearn: 0.2532863\ttest: 1.5557815\tbest: 1.4173390 (49)\ttotal: 2.24s\tremaining: 6.06s\n",
            "270:\tlearn: 0.2522357\ttest: 1.5561339\tbest: 1.4173390 (49)\ttotal: 2.25s\tremaining: 6.05s\n",
            "271:\tlearn: 0.2511714\ttest: 1.5551870\tbest: 1.4173390 (49)\ttotal: 2.26s\tremaining: 6.04s\n",
            "272:\tlearn: 0.2500556\ttest: 1.5554213\tbest: 1.4173390 (49)\ttotal: 2.27s\tremaining: 6.03s\n",
            "273:\tlearn: 0.2493685\ttest: 1.5566649\tbest: 1.4173390 (49)\ttotal: 2.27s\tremaining: 6.02s\n",
            "274:\tlearn: 0.2486683\ttest: 1.5555201\tbest: 1.4173390 (49)\ttotal: 2.28s\tremaining: 6.01s\n",
            "275:\tlearn: 0.2474577\ttest: 1.5550318\tbest: 1.4173390 (49)\ttotal: 2.29s\tremaining: 6s\n",
            "276:\tlearn: 0.2464818\ttest: 1.5555060\tbest: 1.4173390 (49)\ttotal: 2.3s\tremaining: 5.99s\n",
            "277:\tlearn: 0.2452391\ttest: 1.5561861\tbest: 1.4173390 (49)\ttotal: 2.3s\tremaining: 5.98s\n",
            "278:\tlearn: 0.2444076\ttest: 1.5576536\tbest: 1.4173390 (49)\ttotal: 2.31s\tremaining: 5.97s\n",
            "279:\tlearn: 0.2436354\ttest: 1.5582824\tbest: 1.4173390 (49)\ttotal: 2.32s\tremaining: 5.96s\n",
            "280:\tlearn: 0.2422864\ttest: 1.5584378\tbest: 1.4173390 (49)\ttotal: 2.33s\tremaining: 5.95s\n",
            "281:\tlearn: 0.2416992\ttest: 1.5584021\tbest: 1.4173390 (49)\ttotal: 2.33s\tremaining: 5.94s\n",
            "282:\tlearn: 0.2405512\ttest: 1.5598415\tbest: 1.4173390 (49)\ttotal: 2.34s\tremaining: 5.93s\n",
            "283:\tlearn: 0.2394506\ttest: 1.5601994\tbest: 1.4173390 (49)\ttotal: 2.35s\tremaining: 5.92s\n",
            "284:\tlearn: 0.2384156\ttest: 1.5592617\tbest: 1.4173390 (49)\ttotal: 2.35s\tremaining: 5.91s\n",
            "285:\tlearn: 0.2373668\ttest: 1.5597424\tbest: 1.4173390 (49)\ttotal: 2.36s\tremaining: 5.9s\n",
            "286:\tlearn: 0.2362901\ttest: 1.5600325\tbest: 1.4173390 (49)\ttotal: 2.37s\tremaining: 5.89s\n",
            "287:\tlearn: 0.2352130\ttest: 1.5599878\tbest: 1.4173390 (49)\ttotal: 2.38s\tremaining: 5.88s\n",
            "288:\tlearn: 0.2338735\ttest: 1.5612798\tbest: 1.4173390 (49)\ttotal: 2.38s\tremaining: 5.87s\n",
            "289:\tlearn: 0.2328186\ttest: 1.5591218\tbest: 1.4173390 (49)\ttotal: 2.39s\tremaining: 5.86s\n",
            "290:\tlearn: 0.2321357\ttest: 1.5598602\tbest: 1.4173390 (49)\ttotal: 2.4s\tremaining: 5.85s\n",
            "291:\tlearn: 0.2309973\ttest: 1.5600423\tbest: 1.4173390 (49)\ttotal: 2.41s\tremaining: 5.84s\n",
            "292:\tlearn: 0.2297724\ttest: 1.5595133\tbest: 1.4173390 (49)\ttotal: 2.42s\tremaining: 5.83s\n",
            "293:\tlearn: 0.2290015\ttest: 1.5598242\tbest: 1.4173390 (49)\ttotal: 2.42s\tremaining: 5.82s\n",
            "294:\tlearn: 0.2284381\ttest: 1.5601800\tbest: 1.4173390 (49)\ttotal: 2.43s\tremaining: 5.81s\n",
            "295:\tlearn: 0.2276698\ttest: 1.5592377\tbest: 1.4173390 (49)\ttotal: 2.44s\tremaining: 5.8s\n",
            "296:\tlearn: 0.2265621\ttest: 1.5599607\tbest: 1.4173390 (49)\ttotal: 2.45s\tremaining: 5.79s\n",
            "297:\tlearn: 0.2258896\ttest: 1.5595270\tbest: 1.4173390 (49)\ttotal: 2.45s\tremaining: 5.78s\n",
            "298:\tlearn: 0.2253150\ttest: 1.5621591\tbest: 1.4173390 (49)\ttotal: 2.46s\tremaining: 5.77s\n",
            "299:\tlearn: 0.2243039\ttest: 1.5599289\tbest: 1.4173390 (49)\ttotal: 2.47s\tremaining: 5.76s\n",
            "300:\tlearn: 0.2234576\ttest: 1.5586922\tbest: 1.4173390 (49)\ttotal: 2.48s\tremaining: 5.75s\n",
            "301:\tlearn: 0.2225448\ttest: 1.5591901\tbest: 1.4173390 (49)\ttotal: 2.48s\tremaining: 5.74s\n",
            "302:\tlearn: 0.2216933\ttest: 1.5627244\tbest: 1.4173390 (49)\ttotal: 2.49s\tremaining: 5.73s\n",
            "303:\tlearn: 0.2206606\ttest: 1.5633923\tbest: 1.4173390 (49)\ttotal: 2.5s\tremaining: 5.72s\n",
            "304:\tlearn: 0.2195897\ttest: 1.5647448\tbest: 1.4173390 (49)\ttotal: 2.51s\tremaining: 5.71s\n",
            "305:\tlearn: 0.2184613\ttest: 1.5654127\tbest: 1.4173390 (49)\ttotal: 2.52s\tremaining: 5.7s\n",
            "306:\tlearn: 0.2175112\ttest: 1.5661436\tbest: 1.4173390 (49)\ttotal: 2.52s\tremaining: 5.7s\n",
            "307:\tlearn: 0.2168118\ttest: 1.5660384\tbest: 1.4173390 (49)\ttotal: 2.53s\tremaining: 5.68s\n",
            "308:\tlearn: 0.2158099\ttest: 1.5700841\tbest: 1.4173390 (49)\ttotal: 2.54s\tremaining: 5.67s\n",
            "309:\tlearn: 0.2150415\ttest: 1.5704738\tbest: 1.4173390 (49)\ttotal: 2.54s\tremaining: 5.67s\n",
            "310:\tlearn: 0.2144874\ttest: 1.5711237\tbest: 1.4173390 (49)\ttotal: 2.55s\tremaining: 5.66s\n",
            "311:\tlearn: 0.2137962\ttest: 1.5720797\tbest: 1.4173390 (49)\ttotal: 2.56s\tremaining: 5.65s\n",
            "312:\tlearn: 0.2128794\ttest: 1.5733224\tbest: 1.4173390 (49)\ttotal: 2.57s\tremaining: 5.64s\n",
            "313:\tlearn: 0.2122672\ttest: 1.5746167\tbest: 1.4173390 (49)\ttotal: 2.58s\tremaining: 5.63s\n",
            "314:\tlearn: 0.2118192\ttest: 1.5757497\tbest: 1.4173390 (49)\ttotal: 2.58s\tremaining: 5.62s\n",
            "315:\tlearn: 0.2108149\ttest: 1.5764478\tbest: 1.4173390 (49)\ttotal: 2.59s\tremaining: 5.61s\n",
            "316:\tlearn: 0.2103414\ttest: 1.5758886\tbest: 1.4173390 (49)\ttotal: 2.6s\tremaining: 5.61s\n",
            "317:\tlearn: 0.2092931\ttest: 1.5773194\tbest: 1.4173390 (49)\ttotal: 2.62s\tremaining: 5.61s\n",
            "318:\tlearn: 0.2086238\ttest: 1.5786682\tbest: 1.4173390 (49)\ttotal: 2.62s\tremaining: 5.6s\n",
            "319:\tlearn: 0.2081489\ttest: 1.5791881\tbest: 1.4173390 (49)\ttotal: 2.63s\tremaining: 5.59s\n",
            "320:\tlearn: 0.2072562\ttest: 1.5814281\tbest: 1.4173390 (49)\ttotal: 2.64s\tremaining: 5.58s\n",
            "321:\tlearn: 0.2064829\ttest: 1.5833709\tbest: 1.4173390 (49)\ttotal: 2.65s\tremaining: 5.57s\n",
            "322:\tlearn: 0.2057864\ttest: 1.5857634\tbest: 1.4173390 (49)\ttotal: 2.65s\tremaining: 5.56s\n",
            "323:\tlearn: 0.2051705\ttest: 1.5870131\tbest: 1.4173390 (49)\ttotal: 2.66s\tremaining: 5.55s\n",
            "324:\tlearn: 0.2039525\ttest: 1.5858563\tbest: 1.4173390 (49)\ttotal: 2.67s\tremaining: 5.54s\n",
            "325:\tlearn: 0.2032902\ttest: 1.5869421\tbest: 1.4173390 (49)\ttotal: 2.68s\tremaining: 5.54s\n",
            "326:\tlearn: 0.2024725\ttest: 1.5878003\tbest: 1.4173390 (49)\ttotal: 2.68s\tremaining: 5.53s\n",
            "327:\tlearn: 0.2014964\ttest: 1.5873348\tbest: 1.4173390 (49)\ttotal: 2.69s\tremaining: 5.52s\n",
            "328:\tlearn: 0.2005646\ttest: 1.5876044\tbest: 1.4173390 (49)\ttotal: 2.7s\tremaining: 5.51s\n",
            "329:\tlearn: 0.1997505\ttest: 1.5866384\tbest: 1.4173390 (49)\ttotal: 2.71s\tremaining: 5.5s\n",
            "330:\tlearn: 0.1985621\ttest: 1.5866038\tbest: 1.4173390 (49)\ttotal: 2.71s\tremaining: 5.49s\n",
            "331:\tlearn: 0.1976750\ttest: 1.5871357\tbest: 1.4173390 (49)\ttotal: 2.72s\tremaining: 5.48s\n",
            "332:\tlearn: 0.1968649\ttest: 1.5848214\tbest: 1.4173390 (49)\ttotal: 2.73s\tremaining: 5.47s\n",
            "333:\tlearn: 0.1960497\ttest: 1.5859192\tbest: 1.4173390 (49)\ttotal: 2.74s\tremaining: 5.47s\n",
            "334:\tlearn: 0.1956028\ttest: 1.5864983\tbest: 1.4173390 (49)\ttotal: 2.75s\tremaining: 5.46s\n",
            "335:\tlearn: 0.1949548\ttest: 1.5874515\tbest: 1.4173390 (49)\ttotal: 2.76s\tremaining: 5.45s\n",
            "336:\tlearn: 0.1942435\ttest: 1.5872406\tbest: 1.4173390 (49)\ttotal: 2.76s\tremaining: 5.44s\n",
            "337:\tlearn: 0.1934817\ttest: 1.5874536\tbest: 1.4173390 (49)\ttotal: 2.77s\tremaining: 5.43s\n",
            "338:\tlearn: 0.1929116\ttest: 1.5866122\tbest: 1.4173390 (49)\ttotal: 2.78s\tremaining: 5.42s\n",
            "339:\tlearn: 0.1924942\ttest: 1.5869577\tbest: 1.4173390 (49)\ttotal: 2.79s\tremaining: 5.41s\n",
            "340:\tlearn: 0.1917735\ttest: 1.5881803\tbest: 1.4173390 (49)\ttotal: 2.79s\tremaining: 5.4s\n",
            "341:\tlearn: 0.1911991\ttest: 1.5906112\tbest: 1.4173390 (49)\ttotal: 2.81s\tremaining: 5.4s\n",
            "342:\tlearn: 0.1904232\ttest: 1.5920995\tbest: 1.4173390 (49)\ttotal: 2.81s\tremaining: 5.39s\n",
            "343:\tlearn: 0.1896250\ttest: 1.5928244\tbest: 1.4173390 (49)\ttotal: 2.82s\tremaining: 5.38s\n",
            "344:\tlearn: 0.1887337\ttest: 1.5931759\tbest: 1.4173390 (49)\ttotal: 2.83s\tremaining: 5.37s\n",
            "345:\tlearn: 0.1878798\ttest: 1.5961893\tbest: 1.4173390 (49)\ttotal: 2.84s\tremaining: 5.36s\n",
            "346:\tlearn: 0.1870177\ttest: 1.5981321\tbest: 1.4173390 (49)\ttotal: 2.84s\tremaining: 5.35s\n",
            "347:\tlearn: 0.1866405\ttest: 1.5999214\tbest: 1.4173390 (49)\ttotal: 2.85s\tremaining: 5.34s\n",
            "348:\tlearn: 0.1858788\ttest: 1.5989726\tbest: 1.4173390 (49)\ttotal: 2.86s\tremaining: 5.33s\n",
            "349:\tlearn: 0.1850219\ttest: 1.5997251\tbest: 1.4173390 (49)\ttotal: 2.87s\tremaining: 5.33s\n",
            "350:\tlearn: 0.1844047\ttest: 1.6004618\tbest: 1.4173390 (49)\ttotal: 2.87s\tremaining: 5.32s\n",
            "351:\tlearn: 0.1838187\ttest: 1.6026976\tbest: 1.4173390 (49)\ttotal: 2.88s\tremaining: 5.31s\n",
            "352:\tlearn: 0.1832085\ttest: 1.6017924\tbest: 1.4173390 (49)\ttotal: 2.89s\tremaining: 5.3s\n",
            "353:\tlearn: 0.1825768\ttest: 1.6029983\tbest: 1.4173390 (49)\ttotal: 2.92s\tremaining: 5.33s\n",
            "354:\tlearn: 0.1818444\ttest: 1.6050976\tbest: 1.4173390 (49)\ttotal: 2.94s\tremaining: 5.34s\n",
            "355:\tlearn: 0.1810567\ttest: 1.6066992\tbest: 1.4173390 (49)\ttotal: 2.95s\tremaining: 5.34s\n",
            "356:\tlearn: 0.1807629\ttest: 1.6080156\tbest: 1.4173390 (49)\ttotal: 2.97s\tremaining: 5.34s\n",
            "357:\tlearn: 0.1800524\ttest: 1.6074140\tbest: 1.4173390 (49)\ttotal: 2.98s\tremaining: 5.34s\n",
            "358:\tlearn: 0.1795732\ttest: 1.6052886\tbest: 1.4173390 (49)\ttotal: 2.98s\tremaining: 5.33s\n",
            "359:\tlearn: 0.1789253\ttest: 1.6047613\tbest: 1.4173390 (49)\ttotal: 2.99s\tremaining: 5.32s\n",
            "360:\tlearn: 0.1783010\ttest: 1.6043631\tbest: 1.4173390 (49)\ttotal: 3s\tremaining: 5.31s\n",
            "361:\tlearn: 0.1775767\ttest: 1.6050100\tbest: 1.4173390 (49)\ttotal: 3.01s\tremaining: 5.31s\n",
            "362:\tlearn: 0.1771673\ttest: 1.6051748\tbest: 1.4173390 (49)\ttotal: 3.02s\tremaining: 5.3s\n",
            "363:\tlearn: 0.1765413\ttest: 1.6069071\tbest: 1.4173390 (49)\ttotal: 3.03s\tremaining: 5.29s\n",
            "364:\tlearn: 0.1762087\ttest: 1.6063836\tbest: 1.4173390 (49)\ttotal: 3.04s\tremaining: 5.28s\n",
            "365:\tlearn: 0.1755680\ttest: 1.6068494\tbest: 1.4173390 (49)\ttotal: 3.04s\tremaining: 5.27s\n",
            "366:\tlearn: 0.1750211\ttest: 1.6068387\tbest: 1.4173390 (49)\ttotal: 3.06s\tremaining: 5.27s\n",
            "367:\tlearn: 0.1742796\ttest: 1.6059332\tbest: 1.4173390 (49)\ttotal: 3.06s\tremaining: 5.26s\n",
            "368:\tlearn: 0.1737532\ttest: 1.6067651\tbest: 1.4173390 (49)\ttotal: 3.07s\tremaining: 5.25s\n",
            "369:\tlearn: 0.1730519\ttest: 1.6084707\tbest: 1.4173390 (49)\ttotal: 3.08s\tremaining: 5.24s\n",
            "370:\tlearn: 0.1723733\ttest: 1.6075607\tbest: 1.4173390 (49)\ttotal: 3.09s\tremaining: 5.23s\n",
            "371:\tlearn: 0.1718025\ttest: 1.6073174\tbest: 1.4173390 (49)\ttotal: 3.09s\tremaining: 5.22s\n",
            "372:\tlearn: 0.1715201\ttest: 1.6080165\tbest: 1.4173390 (49)\ttotal: 3.1s\tremaining: 5.21s\n",
            "373:\tlearn: 0.1708981\ttest: 1.6076975\tbest: 1.4173390 (49)\ttotal: 3.11s\tremaining: 5.21s\n",
            "374:\tlearn: 0.1703260\ttest: 1.6063488\tbest: 1.4173390 (49)\ttotal: 3.12s\tremaining: 5.2s\n",
            "375:\tlearn: 0.1696874\ttest: 1.6086446\tbest: 1.4173390 (49)\ttotal: 3.12s\tremaining: 5.19s\n",
            "376:\tlearn: 0.1691385\ttest: 1.6086931\tbest: 1.4173390 (49)\ttotal: 3.13s\tremaining: 5.18s\n",
            "377:\tlearn: 0.1684894\ttest: 1.6088592\tbest: 1.4173390 (49)\ttotal: 3.14s\tremaining: 5.17s\n",
            "378:\tlearn: 0.1677496\ttest: 1.6080143\tbest: 1.4173390 (49)\ttotal: 3.15s\tremaining: 5.16s\n",
            "379:\tlearn: 0.1672041\ttest: 1.6083407\tbest: 1.4173390 (49)\ttotal: 3.16s\tremaining: 5.15s\n",
            "380:\tlearn: 0.1666667\ttest: 1.6081696\tbest: 1.4173390 (49)\ttotal: 3.16s\tremaining: 5.14s\n",
            "381:\tlearn: 0.1662043\ttest: 1.6091826\tbest: 1.4173390 (49)\ttotal: 3.17s\tremaining: 5.13s\n",
            "382:\tlearn: 0.1656497\ttest: 1.6095395\tbest: 1.4173390 (49)\ttotal: 3.18s\tremaining: 5.12s\n",
            "383:\tlearn: 0.1651162\ttest: 1.6105295\tbest: 1.4173390 (49)\ttotal: 3.19s\tremaining: 5.11s\n",
            "384:\tlearn: 0.1645529\ttest: 1.6111818\tbest: 1.4173390 (49)\ttotal: 3.19s\tremaining: 5.1s\n",
            "385:\tlearn: 0.1640373\ttest: 1.6119897\tbest: 1.4173390 (49)\ttotal: 3.2s\tremaining: 5.09s\n",
            "386:\tlearn: 0.1635633\ttest: 1.6133279\tbest: 1.4173390 (49)\ttotal: 3.21s\tremaining: 5.09s\n",
            "387:\tlearn: 0.1630977\ttest: 1.6135023\tbest: 1.4173390 (49)\ttotal: 3.22s\tremaining: 5.08s\n",
            "388:\tlearn: 0.1625341\ttest: 1.6126187\tbest: 1.4173390 (49)\ttotal: 3.23s\tremaining: 5.07s\n",
            "389:\tlearn: 0.1620939\ttest: 1.6127366\tbest: 1.4173390 (49)\ttotal: 3.24s\tremaining: 5.06s\n",
            "390:\tlearn: 0.1613287\ttest: 1.6132098\tbest: 1.4173390 (49)\ttotal: 3.24s\tremaining: 5.05s\n",
            "391:\tlearn: 0.1610320\ttest: 1.6145832\tbest: 1.4173390 (49)\ttotal: 3.25s\tremaining: 5.04s\n",
            "392:\tlearn: 0.1603661\ttest: 1.6171650\tbest: 1.4173390 (49)\ttotal: 3.26s\tremaining: 5.03s\n",
            "393:\tlearn: 0.1598840\ttest: 1.6154072\tbest: 1.4173390 (49)\ttotal: 3.27s\tremaining: 5.02s\n",
            "394:\tlearn: 0.1595143\ttest: 1.6160395\tbest: 1.4173390 (49)\ttotal: 3.27s\tremaining: 5.01s\n",
            "395:\tlearn: 0.1589181\ttest: 1.6155894\tbest: 1.4173390 (49)\ttotal: 3.28s\tremaining: 5s\n",
            "396:\tlearn: 0.1584556\ttest: 1.6165901\tbest: 1.4173390 (49)\ttotal: 3.29s\tremaining: 5s\n",
            "397:\tlearn: 0.1580536\ttest: 1.6165264\tbest: 1.4173390 (49)\ttotal: 3.3s\tremaining: 4.99s\n",
            "398:\tlearn: 0.1574321\ttest: 1.6173583\tbest: 1.4173390 (49)\ttotal: 3.3s\tremaining: 4.98s\n",
            "399:\tlearn: 0.1570402\ttest: 1.6176617\tbest: 1.4173390 (49)\ttotal: 3.31s\tremaining: 4.97s\n",
            "400:\tlearn: 0.1565084\ttest: 1.6178394\tbest: 1.4173390 (49)\ttotal: 3.32s\tremaining: 4.96s\n",
            "401:\tlearn: 0.1560410\ttest: 1.6182274\tbest: 1.4173390 (49)\ttotal: 3.33s\tremaining: 4.95s\n",
            "402:\tlearn: 0.1555244\ttest: 1.6169764\tbest: 1.4173390 (49)\ttotal: 3.33s\tremaining: 4.94s\n",
            "403:\tlearn: 0.1548274\ttest: 1.6170821\tbest: 1.4173390 (49)\ttotal: 3.34s\tremaining: 4.93s\n",
            "404:\tlearn: 0.1541684\ttest: 1.6177670\tbest: 1.4173390 (49)\ttotal: 3.36s\tremaining: 4.93s\n",
            "405:\tlearn: 0.1537690\ttest: 1.6173766\tbest: 1.4173390 (49)\ttotal: 3.38s\tremaining: 4.94s\n",
            "406:\tlearn: 0.1532662\ttest: 1.6182764\tbest: 1.4173390 (49)\ttotal: 3.38s\tremaining: 4.93s\n",
            "407:\tlearn: 0.1526210\ttest: 1.6183220\tbest: 1.4173390 (49)\ttotal: 3.39s\tremaining: 4.92s\n",
            "408:\tlearn: 0.1521529\ttest: 1.6179791\tbest: 1.4173390 (49)\ttotal: 3.4s\tremaining: 4.91s\n",
            "409:\tlearn: 0.1514980\ttest: 1.6184760\tbest: 1.4173390 (49)\ttotal: 3.41s\tremaining: 4.91s\n",
            "410:\tlearn: 0.1509609\ttest: 1.6214506\tbest: 1.4173390 (49)\ttotal: 3.42s\tremaining: 4.9s\n",
            "411:\tlearn: 0.1502513\ttest: 1.6233049\tbest: 1.4173390 (49)\ttotal: 3.43s\tremaining: 4.89s\n",
            "412:\tlearn: 0.1498498\ttest: 1.6222326\tbest: 1.4173390 (49)\ttotal: 3.43s\tremaining: 4.88s\n",
            "413:\tlearn: 0.1494358\ttest: 1.6228245\tbest: 1.4173390 (49)\ttotal: 3.44s\tremaining: 4.87s\n",
            "414:\tlearn: 0.1489928\ttest: 1.6216956\tbest: 1.4173390 (49)\ttotal: 3.45s\tremaining: 4.86s\n",
            "415:\tlearn: 0.1485015\ttest: 1.6213988\tbest: 1.4173390 (49)\ttotal: 3.46s\tremaining: 4.85s\n",
            "416:\tlearn: 0.1482614\ttest: 1.6216314\tbest: 1.4173390 (49)\ttotal: 3.46s\tremaining: 4.84s\n",
            "417:\tlearn: 0.1477552\ttest: 1.6210672\tbest: 1.4173390 (49)\ttotal: 3.47s\tremaining: 4.83s\n",
            "418:\tlearn: 0.1471420\ttest: 1.6215870\tbest: 1.4173390 (49)\ttotal: 3.48s\tremaining: 4.82s\n",
            "419:\tlearn: 0.1466556\ttest: 1.6226121\tbest: 1.4173390 (49)\ttotal: 3.49s\tremaining: 4.82s\n",
            "420:\tlearn: 0.1463472\ttest: 1.6237211\tbest: 1.4173390 (49)\ttotal: 3.49s\tremaining: 4.8s\n",
            "421:\tlearn: 0.1460547\ttest: 1.6244596\tbest: 1.4173390 (49)\ttotal: 3.5s\tremaining: 4.79s\n",
            "422:\tlearn: 0.1455003\ttest: 1.6252982\tbest: 1.4173390 (49)\ttotal: 3.51s\tremaining: 4.79s\n",
            "423:\tlearn: 0.1450969\ttest: 1.6257986\tbest: 1.4173390 (49)\ttotal: 3.52s\tremaining: 4.78s\n",
            "424:\tlearn: 0.1446045\ttest: 1.6252631\tbest: 1.4173390 (49)\ttotal: 3.52s\tremaining: 4.77s\n",
            "425:\tlearn: 0.1440253\ttest: 1.6254434\tbest: 1.4173390 (49)\ttotal: 3.53s\tremaining: 4.76s\n",
            "426:\tlearn: 0.1435423\ttest: 1.6263957\tbest: 1.4173390 (49)\ttotal: 3.54s\tremaining: 4.75s\n",
            "427:\tlearn: 0.1431331\ttest: 1.6271382\tbest: 1.4173390 (49)\ttotal: 3.55s\tremaining: 4.74s\n",
            "428:\tlearn: 0.1426297\ttest: 1.6277453\tbest: 1.4173390 (49)\ttotal: 3.55s\tremaining: 4.73s\n",
            "429:\tlearn: 0.1422182\ttest: 1.6287359\tbest: 1.4173390 (49)\ttotal: 3.56s\tremaining: 4.72s\n",
            "430:\tlearn: 0.1417735\ttest: 1.6298967\tbest: 1.4173390 (49)\ttotal: 3.57s\tremaining: 4.71s\n",
            "431:\tlearn: 0.1413571\ttest: 1.6303619\tbest: 1.4173390 (49)\ttotal: 3.58s\tremaining: 4.7s\n",
            "432:\tlearn: 0.1407596\ttest: 1.6324629\tbest: 1.4173390 (49)\ttotal: 3.58s\tremaining: 4.69s\n",
            "433:\tlearn: 0.1401674\ttest: 1.6318449\tbest: 1.4173390 (49)\ttotal: 3.59s\tremaining: 4.68s\n",
            "434:\tlearn: 0.1398768\ttest: 1.6307584\tbest: 1.4173390 (49)\ttotal: 3.6s\tremaining: 4.67s\n",
            "435:\tlearn: 0.1395332\ttest: 1.6313971\tbest: 1.4173390 (49)\ttotal: 3.61s\tremaining: 4.67s\n",
            "436:\tlearn: 0.1391179\ttest: 1.6310979\tbest: 1.4173390 (49)\ttotal: 3.62s\tremaining: 4.66s\n",
            "437:\tlearn: 0.1387259\ttest: 1.6307177\tbest: 1.4173390 (49)\ttotal: 3.63s\tremaining: 4.65s\n",
            "438:\tlearn: 0.1383115\ttest: 1.6295699\tbest: 1.4173390 (49)\ttotal: 3.63s\tremaining: 4.64s\n",
            "439:\tlearn: 0.1379538\ttest: 1.6286521\tbest: 1.4173390 (49)\ttotal: 3.64s\tremaining: 4.63s\n",
            "440:\tlearn: 0.1374931\ttest: 1.6295797\tbest: 1.4173390 (49)\ttotal: 3.65s\tremaining: 4.63s\n",
            "441:\tlearn: 0.1370054\ttest: 1.6300235\tbest: 1.4173390 (49)\ttotal: 3.66s\tremaining: 4.62s\n",
            "442:\tlearn: 0.1365532\ttest: 1.6286521\tbest: 1.4173390 (49)\ttotal: 3.67s\tremaining: 4.61s\n",
            "443:\tlearn: 0.1363464\ttest: 1.6296028\tbest: 1.4173390 (49)\ttotal: 3.67s\tremaining: 4.6s\n",
            "444:\tlearn: 0.1359019\ttest: 1.6312851\tbest: 1.4173390 (49)\ttotal: 3.68s\tremaining: 4.59s\n",
            "445:\tlearn: 0.1355693\ttest: 1.6325063\tbest: 1.4173390 (49)\ttotal: 3.69s\tremaining: 4.58s\n",
            "446:\tlearn: 0.1351640\ttest: 1.6332370\tbest: 1.4173390 (49)\ttotal: 3.7s\tremaining: 4.57s\n",
            "447:\tlearn: 0.1344825\ttest: 1.6358326\tbest: 1.4173390 (49)\ttotal: 3.7s\tremaining: 4.56s\n",
            "448:\tlearn: 0.1340894\ttest: 1.6371046\tbest: 1.4173390 (49)\ttotal: 3.71s\tremaining: 4.55s\n",
            "449:\tlearn: 0.1337716\ttest: 1.6383709\tbest: 1.4173390 (49)\ttotal: 3.72s\tremaining: 4.54s\n",
            "450:\tlearn: 0.1335397\ttest: 1.6393929\tbest: 1.4173390 (49)\ttotal: 3.73s\tremaining: 4.54s\n",
            "451:\tlearn: 0.1331386\ttest: 1.6389681\tbest: 1.4173390 (49)\ttotal: 3.73s\tremaining: 4.53s\n",
            "452:\tlearn: 0.1326386\ttest: 1.6404277\tbest: 1.4173390 (49)\ttotal: 3.74s\tremaining: 4.52s\n",
            "453:\tlearn: 0.1324707\ttest: 1.6407363\tbest: 1.4173390 (49)\ttotal: 3.75s\tremaining: 4.51s\n",
            "454:\tlearn: 0.1322855\ttest: 1.6418673\tbest: 1.4173390 (49)\ttotal: 3.76s\tremaining: 4.5s\n",
            "455:\tlearn: 0.1319136\ttest: 1.6425050\tbest: 1.4173390 (49)\ttotal: 3.76s\tremaining: 4.49s\n",
            "456:\tlearn: 0.1315741\ttest: 1.6429699\tbest: 1.4173390 (49)\ttotal: 3.77s\tremaining: 4.48s\n",
            "457:\tlearn: 0.1312368\ttest: 1.6433402\tbest: 1.4173390 (49)\ttotal: 3.78s\tremaining: 4.47s\n",
            "458:\tlearn: 0.1309056\ttest: 1.6437906\tbest: 1.4173390 (49)\ttotal: 3.79s\tremaining: 4.47s\n",
            "459:\tlearn: 0.1305203\ttest: 1.6449216\tbest: 1.4173390 (49)\ttotal: 3.8s\tremaining: 4.46s\n",
            "460:\tlearn: 0.1301586\ttest: 1.6450601\tbest: 1.4173390 (49)\ttotal: 3.81s\tremaining: 4.46s\n",
            "461:\tlearn: 0.1299844\ttest: 1.6449734\tbest: 1.4173390 (49)\ttotal: 3.82s\tremaining: 4.45s\n",
            "462:\tlearn: 0.1297305\ttest: 1.6448352\tbest: 1.4173390 (49)\ttotal: 3.83s\tremaining: 4.44s\n",
            "463:\tlearn: 0.1293514\ttest: 1.6451586\tbest: 1.4173390 (49)\ttotal: 3.83s\tremaining: 4.43s\n",
            "464:\tlearn: 0.1290037\ttest: 1.6452862\tbest: 1.4173390 (49)\ttotal: 3.84s\tremaining: 4.42s\n",
            "465:\tlearn: 0.1285982\ttest: 1.6456057\tbest: 1.4173390 (49)\ttotal: 3.85s\tremaining: 4.41s\n",
            "466:\tlearn: 0.1282344\ttest: 1.6459160\tbest: 1.4173390 (49)\ttotal: 3.86s\tremaining: 4.4s\n",
            "467:\tlearn: 0.1278899\ttest: 1.6476358\tbest: 1.4173390 (49)\ttotal: 3.87s\tremaining: 4.39s\n",
            "468:\tlearn: 0.1274340\ttest: 1.6479581\tbest: 1.4173390 (49)\ttotal: 3.87s\tremaining: 4.38s\n",
            "469:\tlearn: 0.1271416\ttest: 1.6491104\tbest: 1.4173390 (49)\ttotal: 3.9s\tremaining: 4.4s\n",
            "470:\tlearn: 0.1267478\ttest: 1.6493748\tbest: 1.4173390 (49)\ttotal: 3.92s\tremaining: 4.4s\n",
            "471:\tlearn: 0.1264526\ttest: 1.6506677\tbest: 1.4173390 (49)\ttotal: 3.94s\tremaining: 4.41s\n",
            "472:\tlearn: 0.1260855\ttest: 1.6501699\tbest: 1.4173390 (49)\ttotal: 3.95s\tremaining: 4.41s\n",
            "473:\tlearn: 0.1257831\ttest: 1.6485618\tbest: 1.4173390 (49)\ttotal: 3.97s\tremaining: 4.4s\n",
            "474:\tlearn: 0.1254681\ttest: 1.6490087\tbest: 1.4173390 (49)\ttotal: 3.98s\tremaining: 4.39s\n",
            "475:\tlearn: 0.1249387\ttest: 1.6504891\tbest: 1.4173390 (49)\ttotal: 3.98s\tremaining: 4.39s\n",
            "476:\tlearn: 0.1247511\ttest: 1.6505567\tbest: 1.4173390 (49)\ttotal: 3.99s\tremaining: 4.38s\n",
            "477:\tlearn: 0.1243689\ttest: 1.6513736\tbest: 1.4173390 (49)\ttotal: 4s\tremaining: 4.37s\n",
            "478:\tlearn: 0.1239374\ttest: 1.6508641\tbest: 1.4173390 (49)\ttotal: 4.01s\tremaining: 4.36s\n",
            "479:\tlearn: 0.1236240\ttest: 1.6521526\tbest: 1.4173390 (49)\ttotal: 4.02s\tremaining: 4.35s\n",
            "480:\tlearn: 0.1233104\ttest: 1.6514707\tbest: 1.4173390 (49)\ttotal: 4.03s\tremaining: 4.34s\n",
            "481:\tlearn: 0.1228870\ttest: 1.6516726\tbest: 1.4173390 (49)\ttotal: 4.03s\tremaining: 4.33s\n",
            "482:\tlearn: 0.1225851\ttest: 1.6528092\tbest: 1.4173390 (49)\ttotal: 4.04s\tremaining: 4.33s\n",
            "483:\tlearn: 0.1222933\ttest: 1.6524723\tbest: 1.4173390 (49)\ttotal: 4.05s\tremaining: 4.32s\n",
            "484:\tlearn: 0.1220353\ttest: 1.6523841\tbest: 1.4173390 (49)\ttotal: 4.06s\tremaining: 4.31s\n",
            "485:\tlearn: 0.1218616\ttest: 1.6524535\tbest: 1.4173390 (49)\ttotal: 4.07s\tremaining: 4.3s\n",
            "486:\tlearn: 0.1215134\ttest: 1.6519048\tbest: 1.4173390 (49)\ttotal: 4.07s\tremaining: 4.29s\n",
            "487:\tlearn: 0.1212406\ttest: 1.6530394\tbest: 1.4173390 (49)\ttotal: 4.08s\tremaining: 4.28s\n",
            "488:\tlearn: 0.1208803\ttest: 1.6521295\tbest: 1.4173390 (49)\ttotal: 4.09s\tremaining: 4.27s\n",
            "489:\tlearn: 0.1205027\ttest: 1.6515218\tbest: 1.4173390 (49)\ttotal: 4.1s\tremaining: 4.26s\n",
            "490:\tlearn: 0.1201440\ttest: 1.6510480\tbest: 1.4173390 (49)\ttotal: 4.1s\tremaining: 4.25s\n",
            "491:\tlearn: 0.1198216\ttest: 1.6510708\tbest: 1.4173390 (49)\ttotal: 4.11s\tremaining: 4.25s\n",
            "492:\tlearn: 0.1195493\ttest: 1.6507202\tbest: 1.4173390 (49)\ttotal: 4.12s\tremaining: 4.24s\n",
            "493:\tlearn: 0.1192042\ttest: 1.6511522\tbest: 1.4173390 (49)\ttotal: 4.13s\tremaining: 4.23s\n",
            "494:\tlearn: 0.1188227\ttest: 1.6509695\tbest: 1.4173390 (49)\ttotal: 4.13s\tremaining: 4.22s\n",
            "495:\tlearn: 0.1186147\ttest: 1.6501615\tbest: 1.4173390 (49)\ttotal: 4.14s\tremaining: 4.21s\n",
            "496:\tlearn: 0.1182564\ttest: 1.6534411\tbest: 1.4173390 (49)\ttotal: 4.15s\tremaining: 4.2s\n",
            "497:\tlearn: 0.1178841\ttest: 1.6552475\tbest: 1.4173390 (49)\ttotal: 4.16s\tremaining: 4.19s\n",
            "498:\tlearn: 0.1175981\ttest: 1.6558262\tbest: 1.4173390 (49)\ttotal: 4.16s\tremaining: 4.18s\n",
            "499:\tlearn: 0.1172544\ttest: 1.6568218\tbest: 1.4173390 (49)\ttotal: 4.17s\tremaining: 4.17s\n",
            "500:\tlearn: 0.1169712\ttest: 1.6574155\tbest: 1.4173390 (49)\ttotal: 4.18s\tremaining: 4.16s\n",
            "501:\tlearn: 0.1167637\ttest: 1.6576239\tbest: 1.4173390 (49)\ttotal: 4.19s\tremaining: 4.16s\n",
            "502:\tlearn: 0.1163795\ttest: 1.6571262\tbest: 1.4173390 (49)\ttotal: 4.21s\tremaining: 4.16s\n",
            "503:\tlearn: 0.1160698\ttest: 1.6567797\tbest: 1.4173390 (49)\ttotal: 4.22s\tremaining: 4.16s\n",
            "504:\tlearn: 0.1157580\ttest: 1.6567218\tbest: 1.4173390 (49)\ttotal: 4.24s\tremaining: 4.15s\n",
            "505:\tlearn: 0.1153008\ttest: 1.6581701\tbest: 1.4173390 (49)\ttotal: 4.24s\tremaining: 4.14s\n",
            "506:\tlearn: 0.1150185\ttest: 1.6584388\tbest: 1.4173390 (49)\ttotal: 4.25s\tremaining: 4.13s\n",
            "507:\tlearn: 0.1147570\ttest: 1.6590118\tbest: 1.4173390 (49)\ttotal: 4.26s\tremaining: 4.12s\n",
            "508:\tlearn: 0.1145169\ttest: 1.6573761\tbest: 1.4173390 (49)\ttotal: 4.26s\tremaining: 4.11s\n",
            "509:\tlearn: 0.1142279\ttest: 1.6580074\tbest: 1.4173390 (49)\ttotal: 4.27s\tremaining: 4.11s\n",
            "510:\tlearn: 0.1140484\ttest: 1.6583231\tbest: 1.4173390 (49)\ttotal: 4.28s\tremaining: 4.1s\n",
            "511:\tlearn: 0.1137562\ttest: 1.6576309\tbest: 1.4173390 (49)\ttotal: 4.29s\tremaining: 4.09s\n",
            "512:\tlearn: 0.1134626\ttest: 1.6580132\tbest: 1.4173390 (49)\ttotal: 4.3s\tremaining: 4.08s\n",
            "513:\tlearn: 0.1131461\ttest: 1.6578842\tbest: 1.4173390 (49)\ttotal: 4.3s\tremaining: 4.07s\n",
            "514:\tlearn: 0.1127981\ttest: 1.6582435\tbest: 1.4173390 (49)\ttotal: 4.31s\tremaining: 4.06s\n",
            "515:\tlearn: 0.1125136\ttest: 1.6583884\tbest: 1.4173390 (49)\ttotal: 4.32s\tremaining: 4.05s\n",
            "516:\tlearn: 0.1122201\ttest: 1.6582048\tbest: 1.4173390 (49)\ttotal: 4.33s\tremaining: 4.04s\n",
            "517:\tlearn: 0.1119938\ttest: 1.6584549\tbest: 1.4173390 (49)\ttotal: 4.33s\tremaining: 4.03s\n",
            "518:\tlearn: 0.1117144\ttest: 1.6590119\tbest: 1.4173390 (49)\ttotal: 4.34s\tremaining: 4.02s\n",
            "519:\tlearn: 0.1113969\ttest: 1.6603095\tbest: 1.4173390 (49)\ttotal: 4.35s\tremaining: 4.01s\n",
            "520:\tlearn: 0.1111023\ttest: 1.6606672\tbest: 1.4173390 (49)\ttotal: 4.36s\tremaining: 4s\n",
            "521:\tlearn: 0.1108033\ttest: 1.6610025\tbest: 1.4173390 (49)\ttotal: 4.36s\tremaining: 4s\n",
            "522:\tlearn: 0.1104993\ttest: 1.6622138\tbest: 1.4173390 (49)\ttotal: 4.37s\tremaining: 3.99s\n",
            "523:\tlearn: 0.1101582\ttest: 1.6622195\tbest: 1.4173390 (49)\ttotal: 4.38s\tremaining: 3.98s\n",
            "524:\tlearn: 0.1099235\ttest: 1.6624322\tbest: 1.4173390 (49)\ttotal: 4.38s\tremaining: 3.97s\n",
            "525:\tlearn: 0.1097516\ttest: 1.6625122\tbest: 1.4173390 (49)\ttotal: 4.4s\tremaining: 3.96s\n",
            "526:\tlearn: 0.1094502\ttest: 1.6627146\tbest: 1.4173390 (49)\ttotal: 4.41s\tremaining: 3.95s\n",
            "527:\tlearn: 0.1091442\ttest: 1.6636505\tbest: 1.4173390 (49)\ttotal: 4.42s\tremaining: 3.95s\n",
            "528:\tlearn: 0.1088960\ttest: 1.6626362\tbest: 1.4173390 (49)\ttotal: 4.42s\tremaining: 3.94s\n",
            "529:\tlearn: 0.1086847\ttest: 1.6622609\tbest: 1.4173390 (49)\ttotal: 4.43s\tremaining: 3.93s\n",
            "530:\tlearn: 0.1081971\ttest: 1.6620936\tbest: 1.4173390 (49)\ttotal: 4.44s\tremaining: 3.92s\n",
            "531:\tlearn: 0.1078921\ttest: 1.6624993\tbest: 1.4173390 (49)\ttotal: 4.45s\tremaining: 3.91s\n",
            "532:\tlearn: 0.1076010\ttest: 1.6625616\tbest: 1.4173390 (49)\ttotal: 4.46s\tremaining: 3.9s\n",
            "533:\tlearn: 0.1073565\ttest: 1.6630922\tbest: 1.4173390 (49)\ttotal: 4.46s\tremaining: 3.89s\n",
            "534:\tlearn: 0.1071061\ttest: 1.6644682\tbest: 1.4173390 (49)\ttotal: 4.47s\tremaining: 3.89s\n",
            "535:\tlearn: 0.1067780\ttest: 1.6664270\tbest: 1.4173390 (49)\ttotal: 4.48s\tremaining: 3.88s\n",
            "536:\tlearn: 0.1064931\ttest: 1.6670244\tbest: 1.4173390 (49)\ttotal: 4.49s\tremaining: 3.87s\n",
            "537:\tlearn: 0.1062916\ttest: 1.6672494\tbest: 1.4173390 (49)\ttotal: 4.49s\tremaining: 3.86s\n",
            "538:\tlearn: 0.1059679\ttest: 1.6669383\tbest: 1.4173390 (49)\ttotal: 4.5s\tremaining: 3.85s\n",
            "539:\tlearn: 0.1057568\ttest: 1.6676930\tbest: 1.4173390 (49)\ttotal: 4.51s\tremaining: 3.84s\n",
            "540:\tlearn: 0.1056279\ttest: 1.6679788\tbest: 1.4173390 (49)\ttotal: 4.51s\tremaining: 3.83s\n",
            "541:\tlearn: 0.1053205\ttest: 1.6685509\tbest: 1.4173390 (49)\ttotal: 4.52s\tremaining: 3.82s\n",
            "542:\tlearn: 0.1051233\ttest: 1.6695368\tbest: 1.4173390 (49)\ttotal: 4.53s\tremaining: 3.81s\n",
            "543:\tlearn: 0.1048317\ttest: 1.6703814\tbest: 1.4173390 (49)\ttotal: 4.54s\tremaining: 3.8s\n",
            "544:\tlearn: 0.1046226\ttest: 1.6710320\tbest: 1.4173390 (49)\ttotal: 4.54s\tremaining: 3.79s\n",
            "545:\tlearn: 0.1043401\ttest: 1.6722570\tbest: 1.4173390 (49)\ttotal: 4.55s\tremaining: 3.79s\n",
            "546:\tlearn: 0.1042331\ttest: 1.6727381\tbest: 1.4173390 (49)\ttotal: 4.56s\tremaining: 3.78s\n",
            "547:\tlearn: 0.1039546\ttest: 1.6734416\tbest: 1.4173390 (49)\ttotal: 4.57s\tremaining: 3.77s\n",
            "548:\tlearn: 0.1037516\ttest: 1.6741248\tbest: 1.4173390 (49)\ttotal: 4.58s\tremaining: 3.76s\n",
            "549:\tlearn: 0.1034317\ttest: 1.6752329\tbest: 1.4173390 (49)\ttotal: 4.58s\tremaining: 3.75s\n",
            "550:\tlearn: 0.1032539\ttest: 1.6747204\tbest: 1.4173390 (49)\ttotal: 4.59s\tremaining: 3.74s\n",
            "551:\tlearn: 0.1031001\ttest: 1.6740812\tbest: 1.4173390 (49)\ttotal: 4.6s\tremaining: 3.73s\n",
            "552:\tlearn: 0.1028986\ttest: 1.6740877\tbest: 1.4173390 (49)\ttotal: 4.61s\tremaining: 3.72s\n",
            "553:\tlearn: 0.1026292\ttest: 1.6744900\tbest: 1.4173390 (49)\ttotal: 4.62s\tremaining: 3.72s\n",
            "554:\tlearn: 0.1024233\ttest: 1.6754734\tbest: 1.4173390 (49)\ttotal: 4.63s\tremaining: 3.71s\n",
            "555:\tlearn: 0.1020820\ttest: 1.6755174\tbest: 1.4173390 (49)\ttotal: 4.63s\tremaining: 3.7s\n",
            "556:\tlearn: 0.1019030\ttest: 1.6749842\tbest: 1.4173390 (49)\ttotal: 4.64s\tremaining: 3.69s\n",
            "557:\tlearn: 0.1016277\ttest: 1.6761317\tbest: 1.4173390 (49)\ttotal: 4.65s\tremaining: 3.68s\n",
            "558:\tlearn: 0.1014318\ttest: 1.6771262\tbest: 1.4173390 (49)\ttotal: 4.66s\tremaining: 3.67s\n",
            "559:\tlearn: 0.1011471\ttest: 1.6764533\tbest: 1.4173390 (49)\ttotal: 4.66s\tremaining: 3.66s\n",
            "560:\tlearn: 0.1008952\ttest: 1.6784919\tbest: 1.4173390 (49)\ttotal: 4.67s\tremaining: 3.65s\n",
            "561:\tlearn: 0.1006523\ttest: 1.6782659\tbest: 1.4173390 (49)\ttotal: 4.68s\tremaining: 3.65s\n",
            "562:\tlearn: 0.1005025\ttest: 1.6790938\tbest: 1.4173390 (49)\ttotal: 4.68s\tremaining: 3.64s\n",
            "563:\tlearn: 0.1002992\ttest: 1.6802604\tbest: 1.4173390 (49)\ttotal: 4.69s\tremaining: 3.63s\n",
            "564:\tlearn: 0.1001368\ttest: 1.6799251\tbest: 1.4173390 (49)\ttotal: 4.7s\tremaining: 3.62s\n",
            "565:\tlearn: 0.0999388\ttest: 1.6801906\tbest: 1.4173390 (49)\ttotal: 4.71s\tremaining: 3.61s\n",
            "566:\tlearn: 0.0996775\ttest: 1.6799843\tbest: 1.4173390 (49)\ttotal: 4.72s\tremaining: 3.6s\n",
            "567:\tlearn: 0.0994699\ttest: 1.6797413\tbest: 1.4173390 (49)\ttotal: 4.72s\tremaining: 3.59s\n",
            "568:\tlearn: 0.0992542\ttest: 1.6794561\tbest: 1.4173390 (49)\ttotal: 4.73s\tremaining: 3.58s\n",
            "569:\tlearn: 0.0990280\ttest: 1.6809841\tbest: 1.4173390 (49)\ttotal: 4.74s\tremaining: 3.58s\n",
            "570:\tlearn: 0.0988811\ttest: 1.6806850\tbest: 1.4173390 (49)\ttotal: 4.75s\tremaining: 3.57s\n",
            "571:\tlearn: 0.0986713\ttest: 1.6808793\tbest: 1.4173390 (49)\ttotal: 4.75s\tremaining: 3.56s\n",
            "572:\tlearn: 0.0984609\ttest: 1.6818760\tbest: 1.4173390 (49)\ttotal: 4.76s\tremaining: 3.55s\n",
            "573:\tlearn: 0.0983149\ttest: 1.6816750\tbest: 1.4173390 (49)\ttotal: 4.77s\tremaining: 3.54s\n",
            "574:\tlearn: 0.0979985\ttest: 1.6824611\tbest: 1.4173390 (49)\ttotal: 4.78s\tremaining: 3.53s\n",
            "575:\tlearn: 0.0978189\ttest: 1.6834849\tbest: 1.4173390 (49)\ttotal: 4.79s\tremaining: 3.52s\n",
            "576:\tlearn: 0.0976099\ttest: 1.6833174\tbest: 1.4173390 (49)\ttotal: 4.79s\tremaining: 3.51s\n",
            "577:\tlearn: 0.0973039\ttest: 1.6841738\tbest: 1.4173390 (49)\ttotal: 4.8s\tremaining: 3.5s\n",
            "578:\tlearn: 0.0971787\ttest: 1.6838726\tbest: 1.4173390 (49)\ttotal: 4.82s\tremaining: 3.5s\n",
            "579:\tlearn: 0.0970768\ttest: 1.6842429\tbest: 1.4173390 (49)\ttotal: 4.82s\tremaining: 3.49s\n",
            "580:\tlearn: 0.0968465\ttest: 1.6824311\tbest: 1.4173390 (49)\ttotal: 4.83s\tremaining: 3.48s\n",
            "581:\tlearn: 0.0965718\ttest: 1.6842759\tbest: 1.4173390 (49)\ttotal: 4.84s\tremaining: 3.47s\n",
            "582:\tlearn: 0.0962950\ttest: 1.6854321\tbest: 1.4173390 (49)\ttotal: 4.84s\tremaining: 3.46s\n",
            "583:\tlearn: 0.0960661\ttest: 1.6856446\tbest: 1.4173390 (49)\ttotal: 4.85s\tremaining: 3.46s\n",
            "584:\tlearn: 0.0957478\ttest: 1.6868980\tbest: 1.4173390 (49)\ttotal: 4.86s\tremaining: 3.45s\n",
            "585:\tlearn: 0.0955924\ttest: 1.6872216\tbest: 1.4173390 (49)\ttotal: 4.9s\tremaining: 3.46s\n",
            "586:\tlearn: 0.0953874\ttest: 1.6866646\tbest: 1.4173390 (49)\ttotal: 4.92s\tremaining: 3.46s\n",
            "587:\tlearn: 0.0951813\ttest: 1.6868083\tbest: 1.4173390 (49)\ttotal: 4.93s\tremaining: 3.46s\n",
            "588:\tlearn: 0.0949619\ttest: 1.6877580\tbest: 1.4173390 (49)\ttotal: 4.95s\tremaining: 3.45s\n",
            "589:\tlearn: 0.0947939\ttest: 1.6877755\tbest: 1.4173390 (49)\ttotal: 4.95s\tremaining: 3.44s\n",
            "590:\tlearn: 0.0945620\ttest: 1.6883532\tbest: 1.4173390 (49)\ttotal: 4.96s\tremaining: 3.43s\n",
            "591:\tlearn: 0.0943365\ttest: 1.6901062\tbest: 1.4173390 (49)\ttotal: 4.97s\tremaining: 3.42s\n",
            "592:\tlearn: 0.0941739\ttest: 1.6900956\tbest: 1.4173390 (49)\ttotal: 4.98s\tremaining: 3.42s\n",
            "593:\tlearn: 0.0939505\ttest: 1.6920371\tbest: 1.4173390 (49)\ttotal: 4.99s\tremaining: 3.41s\n",
            "594:\tlearn: 0.0937518\ttest: 1.6918324\tbest: 1.4173390 (49)\ttotal: 4.99s\tremaining: 3.4s\n",
            "595:\tlearn: 0.0935543\ttest: 1.6916665\tbest: 1.4173390 (49)\ttotal: 5s\tremaining: 3.39s\n",
            "596:\tlearn: 0.0934388\ttest: 1.6916459\tbest: 1.4173390 (49)\ttotal: 5.01s\tremaining: 3.38s\n",
            "597:\tlearn: 0.0932177\ttest: 1.6921942\tbest: 1.4173390 (49)\ttotal: 5.02s\tremaining: 3.38s\n",
            "598:\tlearn: 0.0930439\ttest: 1.6927809\tbest: 1.4173390 (49)\ttotal: 5.03s\tremaining: 3.37s\n",
            "599:\tlearn: 0.0928439\ttest: 1.6926834\tbest: 1.4173390 (49)\ttotal: 5.04s\tremaining: 3.36s\n",
            "600:\tlearn: 0.0926447\ttest: 1.6923173\tbest: 1.4173390 (49)\ttotal: 5.05s\tremaining: 3.35s\n",
            "601:\tlearn: 0.0924777\ttest: 1.6913904\tbest: 1.4173390 (49)\ttotal: 5.05s\tremaining: 3.34s\n",
            "602:\tlearn: 0.0923544\ttest: 1.6933103\tbest: 1.4173390 (49)\ttotal: 5.06s\tremaining: 3.33s\n",
            "603:\tlearn: 0.0922450\ttest: 1.6935094\tbest: 1.4173390 (49)\ttotal: 5.07s\tremaining: 3.32s\n",
            "604:\tlearn: 0.0920614\ttest: 1.6927910\tbest: 1.4173390 (49)\ttotal: 5.08s\tremaining: 3.31s\n",
            "605:\tlearn: 0.0918538\ttest: 1.6937582\tbest: 1.4173390 (49)\ttotal: 5.09s\tremaining: 3.31s\n",
            "606:\tlearn: 0.0916801\ttest: 1.6942770\tbest: 1.4173390 (49)\ttotal: 5.1s\tremaining: 3.3s\n",
            "607:\tlearn: 0.0914694\ttest: 1.6947867\tbest: 1.4173390 (49)\ttotal: 5.11s\tremaining: 3.29s\n",
            "608:\tlearn: 0.0912928\ttest: 1.6946994\tbest: 1.4173390 (49)\ttotal: 5.11s\tremaining: 3.28s\n",
            "609:\tlearn: 0.0911304\ttest: 1.6958332\tbest: 1.4173390 (49)\ttotal: 5.12s\tremaining: 3.27s\n",
            "610:\tlearn: 0.0909402\ttest: 1.6959151\tbest: 1.4173390 (49)\ttotal: 5.13s\tremaining: 3.27s\n",
            "611:\tlearn: 0.0907469\ttest: 1.6972563\tbest: 1.4173390 (49)\ttotal: 5.14s\tremaining: 3.26s\n",
            "612:\tlearn: 0.0904774\ttest: 1.6974613\tbest: 1.4173390 (49)\ttotal: 5.14s\tremaining: 3.25s\n",
            "613:\tlearn: 0.0903183\ttest: 1.6971894\tbest: 1.4173390 (49)\ttotal: 5.15s\tremaining: 3.24s\n",
            "614:\tlearn: 0.0901303\ttest: 1.6979491\tbest: 1.4173390 (49)\ttotal: 5.16s\tremaining: 3.23s\n",
            "615:\tlearn: 0.0899358\ttest: 1.6986486\tbest: 1.4173390 (49)\ttotal: 5.17s\tremaining: 3.22s\n",
            "616:\tlearn: 0.0897629\ttest: 1.7002421\tbest: 1.4173390 (49)\ttotal: 5.17s\tremaining: 3.21s\n",
            "617:\tlearn: 0.0895553\ttest: 1.7005349\tbest: 1.4173390 (49)\ttotal: 5.18s\tremaining: 3.2s\n",
            "618:\tlearn: 0.0893955\ttest: 1.7009329\tbest: 1.4173390 (49)\ttotal: 5.19s\tremaining: 3.19s\n",
            "619:\tlearn: 0.0892449\ttest: 1.7013711\tbest: 1.4173390 (49)\ttotal: 5.2s\tremaining: 3.19s\n",
            "620:\tlearn: 0.0890657\ttest: 1.7009940\tbest: 1.4173390 (49)\ttotal: 5.2s\tremaining: 3.18s\n",
            "621:\tlearn: 0.0888195\ttest: 1.7007257\tbest: 1.4173390 (49)\ttotal: 5.22s\tremaining: 3.17s\n",
            "622:\tlearn: 0.0886851\ttest: 1.7014417\tbest: 1.4173390 (49)\ttotal: 5.22s\tremaining: 3.16s\n",
            "623:\tlearn: 0.0884629\ttest: 1.7015396\tbest: 1.4173390 (49)\ttotal: 5.23s\tremaining: 3.15s\n",
            "624:\tlearn: 0.0883401\ttest: 1.7020270\tbest: 1.4173390 (49)\ttotal: 5.24s\tremaining: 3.14s\n",
            "625:\tlearn: 0.0881549\ttest: 1.7027268\tbest: 1.4173390 (49)\ttotal: 5.25s\tremaining: 3.13s\n",
            "626:\tlearn: 0.0880621\ttest: 1.7029321\tbest: 1.4173390 (49)\ttotal: 5.25s\tremaining: 3.13s\n",
            "627:\tlearn: 0.0878429\ttest: 1.7028585\tbest: 1.4173390 (49)\ttotal: 5.26s\tremaining: 3.12s\n",
            "628:\tlearn: 0.0877125\ttest: 1.7029159\tbest: 1.4173390 (49)\ttotal: 5.27s\tremaining: 3.11s\n",
            "629:\tlearn: 0.0875140\ttest: 1.7037469\tbest: 1.4173390 (49)\ttotal: 5.28s\tremaining: 3.1s\n",
            "630:\tlearn: 0.0872160\ttest: 1.7049388\tbest: 1.4173390 (49)\ttotal: 5.28s\tremaining: 3.09s\n",
            "631:\tlearn: 0.0870865\ttest: 1.7061927\tbest: 1.4173390 (49)\ttotal: 5.29s\tremaining: 3.08s\n",
            "632:\tlearn: 0.0869249\ttest: 1.7060995\tbest: 1.4173390 (49)\ttotal: 5.3s\tremaining: 3.07s\n",
            "633:\tlearn: 0.0868059\ttest: 1.7067225\tbest: 1.4173390 (49)\ttotal: 5.31s\tremaining: 3.06s\n",
            "634:\tlearn: 0.0866667\ttest: 1.7070106\tbest: 1.4173390 (49)\ttotal: 5.31s\tremaining: 3.05s\n",
            "635:\tlearn: 0.0864854\ttest: 1.7078011\tbest: 1.4173390 (49)\ttotal: 5.32s\tremaining: 3.05s\n",
            "636:\tlearn: 0.0862780\ttest: 1.7082021\tbest: 1.4173390 (49)\ttotal: 5.33s\tremaining: 3.04s\n",
            "637:\tlearn: 0.0861065\ttest: 1.7087188\tbest: 1.4173390 (49)\ttotal: 5.34s\tremaining: 3.03s\n",
            "638:\tlearn: 0.0859134\ttest: 1.7093630\tbest: 1.4173390 (49)\ttotal: 5.34s\tremaining: 3.02s\n",
            "639:\tlearn: 0.0857034\ttest: 1.7094924\tbest: 1.4173390 (49)\ttotal: 5.35s\tremaining: 3.01s\n",
            "640:\tlearn: 0.0854161\ttest: 1.7099459\tbest: 1.4173390 (49)\ttotal: 5.36s\tremaining: 3s\n",
            "641:\tlearn: 0.0852615\ttest: 1.7099853\tbest: 1.4173390 (49)\ttotal: 5.37s\tremaining: 2.99s\n",
            "642:\tlearn: 0.0851542\ttest: 1.7093121\tbest: 1.4173390 (49)\ttotal: 5.38s\tremaining: 2.98s\n",
            "643:\tlearn: 0.0849700\ttest: 1.7099070\tbest: 1.4173390 (49)\ttotal: 5.38s\tremaining: 2.98s\n",
            "644:\tlearn: 0.0848965\ttest: 1.7102133\tbest: 1.4173390 (49)\ttotal: 5.39s\tremaining: 2.97s\n",
            "645:\tlearn: 0.0846778\ttest: 1.7114375\tbest: 1.4173390 (49)\ttotal: 5.4s\tremaining: 2.96s\n",
            "646:\tlearn: 0.0845370\ttest: 1.7119549\tbest: 1.4173390 (49)\ttotal: 5.41s\tremaining: 2.95s\n",
            "647:\tlearn: 0.0844187\ttest: 1.7125940\tbest: 1.4173390 (49)\ttotal: 5.42s\tremaining: 2.94s\n",
            "648:\tlearn: 0.0842807\ttest: 1.7130258\tbest: 1.4173390 (49)\ttotal: 5.43s\tremaining: 2.93s\n",
            "649:\tlearn: 0.0839815\ttest: 1.7140323\tbest: 1.4173390 (49)\ttotal: 5.43s\tremaining: 2.93s\n",
            "650:\tlearn: 0.0839142\ttest: 1.7140746\tbest: 1.4173390 (49)\ttotal: 5.44s\tremaining: 2.92s\n",
            "651:\tlearn: 0.0837123\ttest: 1.7149033\tbest: 1.4173390 (49)\ttotal: 5.45s\tremaining: 2.91s\n",
            "652:\tlearn: 0.0835361\ttest: 1.7147099\tbest: 1.4173390 (49)\ttotal: 5.46s\tremaining: 2.9s\n",
            "653:\tlearn: 0.0834556\ttest: 1.7158598\tbest: 1.4173390 (49)\ttotal: 5.46s\tremaining: 2.89s\n",
            "654:\tlearn: 0.0832637\ttest: 1.7156147\tbest: 1.4173390 (49)\ttotal: 5.47s\tremaining: 2.88s\n",
            "655:\tlearn: 0.0830424\ttest: 1.7148063\tbest: 1.4173390 (49)\ttotal: 5.48s\tremaining: 2.87s\n",
            "656:\tlearn: 0.0828399\ttest: 1.7152764\tbest: 1.4173390 (49)\ttotal: 5.49s\tremaining: 2.87s\n",
            "657:\tlearn: 0.0827196\ttest: 1.7158824\tbest: 1.4173390 (49)\ttotal: 5.5s\tremaining: 2.86s\n",
            "658:\tlearn: 0.0826022\ttest: 1.7171667\tbest: 1.4173390 (49)\ttotal: 5.5s\tremaining: 2.85s\n",
            "659:\tlearn: 0.0824505\ttest: 1.7182963\tbest: 1.4173390 (49)\ttotal: 5.51s\tremaining: 2.84s\n",
            "660:\tlearn: 0.0822466\ttest: 1.7189511\tbest: 1.4173390 (49)\ttotal: 5.52s\tremaining: 2.83s\n",
            "661:\tlearn: 0.0821289\ttest: 1.7190755\tbest: 1.4173390 (49)\ttotal: 5.53s\tremaining: 2.82s\n",
            "662:\tlearn: 0.0819732\ttest: 1.7200981\tbest: 1.4173390 (49)\ttotal: 5.53s\tremaining: 2.81s\n",
            "663:\tlearn: 0.0817853\ttest: 1.7210343\tbest: 1.4173390 (49)\ttotal: 5.54s\tremaining: 2.8s\n",
            "664:\tlearn: 0.0815984\ttest: 1.7209567\tbest: 1.4173390 (49)\ttotal: 5.55s\tremaining: 2.79s\n",
            "665:\tlearn: 0.0814546\ttest: 1.7218965\tbest: 1.4173390 (49)\ttotal: 5.56s\tremaining: 2.79s\n",
            "666:\tlearn: 0.0813417\ttest: 1.7214616\tbest: 1.4173390 (49)\ttotal: 5.56s\tremaining: 2.78s\n",
            "667:\tlearn: 0.0811616\ttest: 1.7217999\tbest: 1.4173390 (49)\ttotal: 5.57s\tremaining: 2.77s\n",
            "668:\tlearn: 0.0810690\ttest: 1.7213529\tbest: 1.4173390 (49)\ttotal: 5.58s\tremaining: 2.76s\n",
            "669:\tlearn: 0.0809309\ttest: 1.7215837\tbest: 1.4173390 (49)\ttotal: 5.59s\tremaining: 2.75s\n",
            "670:\tlearn: 0.0807431\ttest: 1.7223915\tbest: 1.4173390 (49)\ttotal: 5.59s\tremaining: 2.74s\n",
            "671:\tlearn: 0.0805538\ttest: 1.7219325\tbest: 1.4173390 (49)\ttotal: 5.6s\tremaining: 2.73s\n",
            "672:\tlearn: 0.0803771\ttest: 1.7219782\tbest: 1.4173390 (49)\ttotal: 5.61s\tremaining: 2.73s\n",
            "673:\tlearn: 0.0802198\ttest: 1.7235670\tbest: 1.4173390 (49)\ttotal: 5.63s\tremaining: 2.72s\n",
            "674:\tlearn: 0.0800237\ttest: 1.7246564\tbest: 1.4173390 (49)\ttotal: 5.64s\tremaining: 2.72s\n",
            "675:\tlearn: 0.0798983\ttest: 1.7247428\tbest: 1.4173390 (49)\ttotal: 5.65s\tremaining: 2.71s\n",
            "676:\tlearn: 0.0798019\ttest: 1.7253579\tbest: 1.4173390 (49)\ttotal: 5.66s\tremaining: 2.7s\n",
            "677:\tlearn: 0.0796286\ttest: 1.7263073\tbest: 1.4173390 (49)\ttotal: 5.67s\tremaining: 2.69s\n",
            "678:\tlearn: 0.0795093\ttest: 1.7264219\tbest: 1.4173390 (49)\ttotal: 5.67s\tremaining: 2.68s\n",
            "679:\tlearn: 0.0793928\ttest: 1.7266026\tbest: 1.4173390 (49)\ttotal: 5.68s\tremaining: 2.67s\n",
            "680:\tlearn: 0.0792377\ttest: 1.7265994\tbest: 1.4173390 (49)\ttotal: 5.69s\tremaining: 2.66s\n",
            "681:\tlearn: 0.0791012\ttest: 1.7266612\tbest: 1.4173390 (49)\ttotal: 5.7s\tremaining: 2.65s\n",
            "682:\tlearn: 0.0789552\ttest: 1.7268570\tbest: 1.4173390 (49)\ttotal: 5.7s\tremaining: 2.65s\n",
            "683:\tlearn: 0.0787719\ttest: 1.7277493\tbest: 1.4173390 (49)\ttotal: 5.71s\tremaining: 2.64s\n",
            "684:\tlearn: 0.0786492\ttest: 1.7284245\tbest: 1.4173390 (49)\ttotal: 5.72s\tremaining: 2.63s\n",
            "685:\tlearn: 0.0784750\ttest: 1.7287188\tbest: 1.4173390 (49)\ttotal: 5.72s\tremaining: 2.62s\n",
            "686:\tlearn: 0.0782891\ttest: 1.7292824\tbest: 1.4173390 (49)\ttotal: 5.73s\tremaining: 2.61s\n",
            "687:\tlearn: 0.0781548\ttest: 1.7299477\tbest: 1.4173390 (49)\ttotal: 5.74s\tremaining: 2.6s\n",
            "688:\tlearn: 0.0780520\ttest: 1.7295851\tbest: 1.4173390 (49)\ttotal: 5.75s\tremaining: 2.59s\n",
            "689:\tlearn: 0.0779115\ttest: 1.7300696\tbest: 1.4173390 (49)\ttotal: 5.75s\tremaining: 2.58s\n",
            "690:\tlearn: 0.0777801\ttest: 1.7303020\tbest: 1.4173390 (49)\ttotal: 5.76s\tremaining: 2.58s\n",
            "691:\tlearn: 0.0776341\ttest: 1.7296724\tbest: 1.4173390 (49)\ttotal: 5.77s\tremaining: 2.57s\n",
            "692:\tlearn: 0.0774104\ttest: 1.7305307\tbest: 1.4173390 (49)\ttotal: 5.78s\tremaining: 2.56s\n",
            "693:\tlearn: 0.0772403\ttest: 1.7315727\tbest: 1.4173390 (49)\ttotal: 5.79s\tremaining: 2.55s\n",
            "694:\tlearn: 0.0770729\ttest: 1.7321104\tbest: 1.4173390 (49)\ttotal: 5.79s\tremaining: 2.54s\n",
            "695:\tlearn: 0.0769027\ttest: 1.7318711\tbest: 1.4173390 (49)\ttotal: 5.8s\tremaining: 2.53s\n",
            "696:\tlearn: 0.0767412\ttest: 1.7315376\tbest: 1.4173390 (49)\ttotal: 5.81s\tremaining: 2.52s\n",
            "697:\tlearn: 0.0766319\ttest: 1.7317622\tbest: 1.4173390 (49)\ttotal: 5.82s\tremaining: 2.52s\n",
            "698:\tlearn: 0.0764998\ttest: 1.7310711\tbest: 1.4173390 (49)\ttotal: 5.83s\tremaining: 2.51s\n",
            "699:\tlearn: 0.0763528\ttest: 1.7313844\tbest: 1.4173390 (49)\ttotal: 5.84s\tremaining: 2.5s\n",
            "700:\tlearn: 0.0762011\ttest: 1.7314258\tbest: 1.4173390 (49)\ttotal: 5.85s\tremaining: 2.49s\n",
            "701:\tlearn: 0.0760931\ttest: 1.7319526\tbest: 1.4173390 (49)\ttotal: 5.88s\tremaining: 2.5s\n",
            "702:\tlearn: 0.0759998\ttest: 1.7320670\tbest: 1.4173390 (49)\ttotal: 5.91s\tremaining: 2.49s\n",
            "703:\tlearn: 0.0758571\ttest: 1.7323403\tbest: 1.4173390 (49)\ttotal: 5.92s\tremaining: 2.49s\n",
            "704:\tlearn: 0.0756440\ttest: 1.7338744\tbest: 1.4173390 (49)\ttotal: 5.93s\tremaining: 2.48s\n",
            "705:\tlearn: 0.0755328\ttest: 1.7335342\tbest: 1.4173390 (49)\ttotal: 5.94s\tremaining: 2.48s\n",
            "706:\tlearn: 0.0753487\ttest: 1.7342016\tbest: 1.4173390 (49)\ttotal: 5.95s\tremaining: 2.47s\n",
            "707:\tlearn: 0.0752199\ttest: 1.7343650\tbest: 1.4173390 (49)\ttotal: 5.96s\tremaining: 2.46s\n",
            "708:\tlearn: 0.0751045\ttest: 1.7341757\tbest: 1.4173390 (49)\ttotal: 5.97s\tremaining: 2.45s\n",
            "709:\tlearn: 0.0749851\ttest: 1.7350346\tbest: 1.4173390 (49)\ttotal: 5.98s\tremaining: 2.44s\n",
            "710:\tlearn: 0.0748703\ttest: 1.7357143\tbest: 1.4173390 (49)\ttotal: 5.99s\tremaining: 2.43s\n",
            "711:\tlearn: 0.0747551\ttest: 1.7359884\tbest: 1.4173390 (49)\ttotal: 5.99s\tremaining: 2.42s\n",
            "712:\tlearn: 0.0746103\ttest: 1.7360975\tbest: 1.4173390 (49)\ttotal: 6s\tremaining: 2.42s\n",
            "713:\tlearn: 0.0744378\ttest: 1.7364948\tbest: 1.4173390 (49)\ttotal: 6.01s\tremaining: 2.41s\n",
            "714:\tlearn: 0.0743086\ttest: 1.7376279\tbest: 1.4173390 (49)\ttotal: 6.02s\tremaining: 2.4s\n",
            "715:\tlearn: 0.0742197\ttest: 1.7375702\tbest: 1.4173390 (49)\ttotal: 6.03s\tremaining: 2.39s\n",
            "716:\tlearn: 0.0741117\ttest: 1.7370797\tbest: 1.4173390 (49)\ttotal: 6.04s\tremaining: 2.38s\n",
            "717:\tlearn: 0.0740308\ttest: 1.7385728\tbest: 1.4173390 (49)\ttotal: 6.05s\tremaining: 2.38s\n",
            "718:\tlearn: 0.0739017\ttest: 1.7384396\tbest: 1.4173390 (49)\ttotal: 6.06s\tremaining: 2.37s\n",
            "719:\tlearn: 0.0737443\ttest: 1.7386585\tbest: 1.4173390 (49)\ttotal: 6.07s\tremaining: 2.36s\n",
            "720:\tlearn: 0.0736357\ttest: 1.7384437\tbest: 1.4173390 (49)\ttotal: 6.07s\tremaining: 2.35s\n",
            "721:\tlearn: 0.0734487\ttest: 1.7374245\tbest: 1.4173390 (49)\ttotal: 6.08s\tremaining: 2.34s\n",
            "722:\tlearn: 0.0733478\ttest: 1.7382876\tbest: 1.4173390 (49)\ttotal: 6.09s\tremaining: 2.33s\n",
            "723:\tlearn: 0.0731952\ttest: 1.7386205\tbest: 1.4173390 (49)\ttotal: 6.09s\tremaining: 2.32s\n",
            "724:\tlearn: 0.0731054\ttest: 1.7390811\tbest: 1.4173390 (49)\ttotal: 6.1s\tremaining: 2.31s\n",
            "725:\tlearn: 0.0729731\ttest: 1.7394411\tbest: 1.4173390 (49)\ttotal: 6.11s\tremaining: 2.31s\n",
            "726:\tlearn: 0.0728076\ttest: 1.7395745\tbest: 1.4173390 (49)\ttotal: 6.12s\tremaining: 2.3s\n",
            "727:\tlearn: 0.0726695\ttest: 1.7400300\tbest: 1.4173390 (49)\ttotal: 6.13s\tremaining: 2.29s\n",
            "728:\tlearn: 0.0725456\ttest: 1.7402392\tbest: 1.4173390 (49)\ttotal: 6.13s\tremaining: 2.28s\n",
            "729:\tlearn: 0.0724849\ttest: 1.7402052\tbest: 1.4173390 (49)\ttotal: 6.14s\tremaining: 2.27s\n",
            "730:\tlearn: 0.0723836\ttest: 1.7406700\tbest: 1.4173390 (49)\ttotal: 6.15s\tremaining: 2.26s\n",
            "731:\tlearn: 0.0722681\ttest: 1.7406316\tbest: 1.4173390 (49)\ttotal: 6.15s\tremaining: 2.25s\n",
            "732:\tlearn: 0.0721387\ttest: 1.7409620\tbest: 1.4173390 (49)\ttotal: 6.16s\tremaining: 2.24s\n",
            "733:\tlearn: 0.0720381\ttest: 1.7411108\tbest: 1.4173390 (49)\ttotal: 6.17s\tremaining: 2.23s\n",
            "734:\tlearn: 0.0719577\ttest: 1.7414024\tbest: 1.4173390 (49)\ttotal: 6.18s\tremaining: 2.23s\n",
            "735:\tlearn: 0.0717924\ttest: 1.7414948\tbest: 1.4173390 (49)\ttotal: 6.18s\tremaining: 2.22s\n",
            "736:\tlearn: 0.0716831\ttest: 1.7432932\tbest: 1.4173390 (49)\ttotal: 6.19s\tremaining: 2.21s\n",
            "737:\tlearn: 0.0715525\ttest: 1.7434712\tbest: 1.4173390 (49)\ttotal: 6.2s\tremaining: 2.2s\n",
            "738:\tlearn: 0.0714549\ttest: 1.7433812\tbest: 1.4173390 (49)\ttotal: 6.21s\tremaining: 2.19s\n",
            "739:\tlearn: 0.0713564\ttest: 1.7439491\tbest: 1.4173390 (49)\ttotal: 6.21s\tremaining: 2.18s\n",
            "740:\tlearn: 0.0712800\ttest: 1.7441991\tbest: 1.4173390 (49)\ttotal: 6.22s\tremaining: 2.17s\n",
            "741:\tlearn: 0.0711924\ttest: 1.7440493\tbest: 1.4173390 (49)\ttotal: 6.23s\tremaining: 2.17s\n",
            "742:\tlearn: 0.0710934\ttest: 1.7434337\tbest: 1.4173390 (49)\ttotal: 6.24s\tremaining: 2.16s\n",
            "743:\tlearn: 0.0709527\ttest: 1.7430459\tbest: 1.4173390 (49)\ttotal: 6.25s\tremaining: 2.15s\n",
            "744:\tlearn: 0.0707915\ttest: 1.7429629\tbest: 1.4173390 (49)\ttotal: 6.26s\tremaining: 2.14s\n",
            "745:\tlearn: 0.0706770\ttest: 1.7434008\tbest: 1.4173390 (49)\ttotal: 6.26s\tremaining: 2.13s\n",
            "746:\tlearn: 0.0705672\ttest: 1.7427571\tbest: 1.4173390 (49)\ttotal: 6.27s\tremaining: 2.12s\n",
            "747:\tlearn: 0.0704464\ttest: 1.7423265\tbest: 1.4173390 (49)\ttotal: 6.28s\tremaining: 2.12s\n",
            "748:\tlearn: 0.0702788\ttest: 1.7425125\tbest: 1.4173390 (49)\ttotal: 6.29s\tremaining: 2.11s\n",
            "749:\tlearn: 0.0701766\ttest: 1.7429609\tbest: 1.4173390 (49)\ttotal: 6.29s\tremaining: 2.1s\n",
            "750:\tlearn: 0.0700093\ttest: 1.7428157\tbest: 1.4173390 (49)\ttotal: 6.3s\tremaining: 2.09s\n",
            "751:\tlearn: 0.0699022\ttest: 1.7435467\tbest: 1.4173390 (49)\ttotal: 6.31s\tremaining: 2.08s\n",
            "752:\tlearn: 0.0698222\ttest: 1.7431586\tbest: 1.4173390 (49)\ttotal: 6.32s\tremaining: 2.07s\n",
            "753:\tlearn: 0.0696746\ttest: 1.7437168\tbest: 1.4173390 (49)\ttotal: 6.32s\tremaining: 2.06s\n",
            "754:\tlearn: 0.0696085\ttest: 1.7441293\tbest: 1.4173390 (49)\ttotal: 6.33s\tremaining: 2.05s\n",
            "755:\tlearn: 0.0695158\ttest: 1.7450008\tbest: 1.4173390 (49)\ttotal: 6.34s\tremaining: 2.05s\n",
            "756:\tlearn: 0.0693945\ttest: 1.7458498\tbest: 1.4173390 (49)\ttotal: 6.35s\tremaining: 2.04s\n",
            "757:\tlearn: 0.0693105\ttest: 1.7453856\tbest: 1.4173390 (49)\ttotal: 6.36s\tremaining: 2.03s\n",
            "758:\tlearn: 0.0691175\ttest: 1.7462271\tbest: 1.4173390 (49)\ttotal: 6.36s\tremaining: 2.02s\n",
            "759:\tlearn: 0.0690214\ttest: 1.7455351\tbest: 1.4173390 (49)\ttotal: 6.37s\tremaining: 2.01s\n",
            "760:\tlearn: 0.0689176\ttest: 1.7458764\tbest: 1.4173390 (49)\ttotal: 6.38s\tremaining: 2s\n",
            "761:\tlearn: 0.0688198\ttest: 1.7452985\tbest: 1.4173390 (49)\ttotal: 6.38s\tremaining: 1.99s\n",
            "762:\tlearn: 0.0687161\ttest: 1.7457471\tbest: 1.4173390 (49)\ttotal: 6.39s\tremaining: 1.99s\n",
            "763:\tlearn: 0.0686513\ttest: 1.7457208\tbest: 1.4173390 (49)\ttotal: 6.4s\tremaining: 1.98s\n",
            "764:\tlearn: 0.0685635\ttest: 1.7458132\tbest: 1.4173390 (49)\ttotal: 6.41s\tremaining: 1.97s\n",
            "765:\tlearn: 0.0684492\ttest: 1.7469218\tbest: 1.4173390 (49)\ttotal: 6.41s\tremaining: 1.96s\n",
            "766:\tlearn: 0.0683603\ttest: 1.7472013\tbest: 1.4173390 (49)\ttotal: 6.42s\tremaining: 1.95s\n",
            "767:\tlearn: 0.0681736\ttest: 1.7476221\tbest: 1.4173390 (49)\ttotal: 6.43s\tremaining: 1.94s\n",
            "768:\tlearn: 0.0680746\ttest: 1.7475115\tbest: 1.4173390 (49)\ttotal: 6.44s\tremaining: 1.94s\n",
            "769:\tlearn: 0.0679532\ttest: 1.7480888\tbest: 1.4173390 (49)\ttotal: 6.45s\tremaining: 1.93s\n",
            "770:\tlearn: 0.0678592\ttest: 1.7478800\tbest: 1.4173390 (49)\ttotal: 6.46s\tremaining: 1.92s\n",
            "771:\tlearn: 0.0677735\ttest: 1.7489074\tbest: 1.4173390 (49)\ttotal: 6.46s\tremaining: 1.91s\n",
            "772:\tlearn: 0.0676989\ttest: 1.7492878\tbest: 1.4173390 (49)\ttotal: 6.47s\tremaining: 1.9s\n",
            "773:\tlearn: 0.0675567\ttest: 1.7491210\tbest: 1.4173390 (49)\ttotal: 6.48s\tremaining: 1.89s\n",
            "774:\tlearn: 0.0674950\ttest: 1.7490362\tbest: 1.4173390 (49)\ttotal: 6.49s\tremaining: 1.88s\n",
            "775:\tlearn: 0.0674113\ttest: 1.7486131\tbest: 1.4173390 (49)\ttotal: 6.49s\tremaining: 1.87s\n",
            "776:\tlearn: 0.0672902\ttest: 1.7484139\tbest: 1.4173390 (49)\ttotal: 6.5s\tremaining: 1.87s\n",
            "777:\tlearn: 0.0671865\ttest: 1.7486620\tbest: 1.4173390 (49)\ttotal: 6.51s\tremaining: 1.86s\n",
            "778:\tlearn: 0.0671050\ttest: 1.7491971\tbest: 1.4173390 (49)\ttotal: 6.52s\tremaining: 1.85s\n",
            "779:\tlearn: 0.0670263\ttest: 1.7485495\tbest: 1.4173390 (49)\ttotal: 6.53s\tremaining: 1.84s\n",
            "780:\tlearn: 0.0669490\ttest: 1.7483013\tbest: 1.4173390 (49)\ttotal: 6.54s\tremaining: 1.83s\n",
            "781:\tlearn: 0.0668559\ttest: 1.7478270\tbest: 1.4173390 (49)\ttotal: 6.54s\tremaining: 1.82s\n",
            "782:\tlearn: 0.0667350\ttest: 1.7482433\tbest: 1.4173390 (49)\ttotal: 6.55s\tremaining: 1.82s\n",
            "783:\tlearn: 0.0666266\ttest: 1.7483143\tbest: 1.4173390 (49)\ttotal: 6.56s\tremaining: 1.81s\n",
            "784:\tlearn: 0.0665029\ttest: 1.7486587\tbest: 1.4173390 (49)\ttotal: 6.57s\tremaining: 1.8s\n",
            "785:\tlearn: 0.0663980\ttest: 1.7487982\tbest: 1.4173390 (49)\ttotal: 6.58s\tremaining: 1.79s\n",
            "786:\tlearn: 0.0662895\ttest: 1.7498918\tbest: 1.4173390 (49)\ttotal: 6.58s\tremaining: 1.78s\n",
            "787:\tlearn: 0.0661644\ttest: 1.7503896\tbest: 1.4173390 (49)\ttotal: 6.59s\tremaining: 1.77s\n",
            "788:\tlearn: 0.0660203\ttest: 1.7509092\tbest: 1.4173390 (49)\ttotal: 6.6s\tremaining: 1.76s\n",
            "789:\tlearn: 0.0658860\ttest: 1.7526970\tbest: 1.4173390 (49)\ttotal: 6.61s\tremaining: 1.75s\n",
            "790:\tlearn: 0.0657797\ttest: 1.7538340\tbest: 1.4173390 (49)\ttotal: 6.61s\tremaining: 1.75s\n",
            "791:\tlearn: 0.0656525\ttest: 1.7556803\tbest: 1.4173390 (49)\ttotal: 6.62s\tremaining: 1.74s\n",
            "792:\tlearn: 0.0655270\ttest: 1.7556310\tbest: 1.4173390 (49)\ttotal: 6.63s\tremaining: 1.73s\n",
            "793:\tlearn: 0.0654460\ttest: 1.7558311\tbest: 1.4173390 (49)\ttotal: 6.64s\tremaining: 1.72s\n",
            "794:\tlearn: 0.0653336\ttest: 1.7564544\tbest: 1.4173390 (49)\ttotal: 6.65s\tremaining: 1.72s\n",
            "795:\tlearn: 0.0652440\ttest: 1.7570046\tbest: 1.4173390 (49)\ttotal: 6.66s\tremaining: 1.71s\n",
            "796:\tlearn: 0.0651391\ttest: 1.7576075\tbest: 1.4173390 (49)\ttotal: 6.67s\tremaining: 1.7s\n",
            "797:\tlearn: 0.0650308\ttest: 1.7581728\tbest: 1.4173390 (49)\ttotal: 6.67s\tremaining: 1.69s\n",
            "798:\tlearn: 0.0649413\ttest: 1.7584840\tbest: 1.4173390 (49)\ttotal: 6.68s\tremaining: 1.68s\n",
            "799:\tlearn: 0.0648312\ttest: 1.7589309\tbest: 1.4173390 (49)\ttotal: 6.69s\tremaining: 1.67s\n",
            "800:\tlearn: 0.0646965\ttest: 1.7593169\tbest: 1.4173390 (49)\ttotal: 6.7s\tremaining: 1.66s\n",
            "801:\tlearn: 0.0646167\ttest: 1.7592823\tbest: 1.4173390 (49)\ttotal: 6.7s\tremaining: 1.65s\n",
            "802:\tlearn: 0.0645263\ttest: 1.7595816\tbest: 1.4173390 (49)\ttotal: 6.71s\tremaining: 1.65s\n",
            "803:\tlearn: 0.0644615\ttest: 1.7597810\tbest: 1.4173390 (49)\ttotal: 6.72s\tremaining: 1.64s\n",
            "804:\tlearn: 0.0643724\ttest: 1.7594608\tbest: 1.4173390 (49)\ttotal: 6.72s\tremaining: 1.63s\n",
            "805:\tlearn: 0.0642526\ttest: 1.7603243\tbest: 1.4173390 (49)\ttotal: 6.73s\tremaining: 1.62s\n",
            "806:\tlearn: 0.0641635\ttest: 1.7604702\tbest: 1.4173390 (49)\ttotal: 6.74s\tremaining: 1.61s\n",
            "807:\tlearn: 0.0640873\ttest: 1.7602453\tbest: 1.4173390 (49)\ttotal: 6.75s\tremaining: 1.6s\n",
            "808:\tlearn: 0.0640040\ttest: 1.7604250\tbest: 1.4173390 (49)\ttotal: 6.75s\tremaining: 1.59s\n",
            "809:\tlearn: 0.0639342\ttest: 1.7602155\tbest: 1.4173390 (49)\ttotal: 6.76s\tremaining: 1.59s\n",
            "810:\tlearn: 0.0638650\ttest: 1.7601505\tbest: 1.4173390 (49)\ttotal: 6.77s\tremaining: 1.58s\n",
            "811:\tlearn: 0.0638158\ttest: 1.7602587\tbest: 1.4173390 (49)\ttotal: 6.78s\tremaining: 1.57s\n",
            "812:\tlearn: 0.0637100\ttest: 1.7604246\tbest: 1.4173390 (49)\ttotal: 6.79s\tremaining: 1.56s\n",
            "813:\tlearn: 0.0635883\ttest: 1.7606955\tbest: 1.4173390 (49)\ttotal: 6.79s\tremaining: 1.55s\n",
            "814:\tlearn: 0.0635390\ttest: 1.7608135\tbest: 1.4173390 (49)\ttotal: 6.8s\tremaining: 1.54s\n",
            "815:\tlearn: 0.0634506\ttest: 1.7615749\tbest: 1.4173390 (49)\ttotal: 6.81s\tremaining: 1.53s\n",
            "816:\tlearn: 0.0633182\ttest: 1.7607936\tbest: 1.4173390 (49)\ttotal: 6.82s\tremaining: 1.53s\n",
            "817:\tlearn: 0.0631936\ttest: 1.7609940\tbest: 1.4173390 (49)\ttotal: 6.82s\tremaining: 1.52s\n",
            "818:\tlearn: 0.0631130\ttest: 1.7612256\tbest: 1.4173390 (49)\ttotal: 6.83s\tremaining: 1.51s\n",
            "819:\tlearn: 0.0630480\ttest: 1.7611494\tbest: 1.4173390 (49)\ttotal: 6.84s\tremaining: 1.5s\n",
            "820:\tlearn: 0.0629652\ttest: 1.7616627\tbest: 1.4173390 (49)\ttotal: 6.89s\tremaining: 1.5s\n",
            "821:\tlearn: 0.0628899\ttest: 1.7613557\tbest: 1.4173390 (49)\ttotal: 6.91s\tremaining: 1.5s\n",
            "822:\tlearn: 0.0627814\ttest: 1.7619801\tbest: 1.4173390 (49)\ttotal: 6.92s\tremaining: 1.49s\n",
            "823:\tlearn: 0.0626743\ttest: 1.7617709\tbest: 1.4173390 (49)\ttotal: 6.94s\tremaining: 1.48s\n",
            "824:\tlearn: 0.0625792\ttest: 1.7622828\tbest: 1.4173390 (49)\ttotal: 6.95s\tremaining: 1.47s\n",
            "825:\tlearn: 0.0625207\ttest: 1.7613560\tbest: 1.4173390 (49)\ttotal: 6.96s\tremaining: 1.47s\n",
            "826:\tlearn: 0.0624429\ttest: 1.7612774\tbest: 1.4173390 (49)\ttotal: 6.96s\tremaining: 1.46s\n",
            "827:\tlearn: 0.0623667\ttest: 1.7612777\tbest: 1.4173390 (49)\ttotal: 6.97s\tremaining: 1.45s\n",
            "828:\tlearn: 0.0622397\ttest: 1.7611957\tbest: 1.4173390 (49)\ttotal: 6.98s\tremaining: 1.44s\n",
            "829:\tlearn: 0.0621463\ttest: 1.7618259\tbest: 1.4173390 (49)\ttotal: 6.98s\tremaining: 1.43s\n",
            "830:\tlearn: 0.0620660\ttest: 1.7612514\tbest: 1.4173390 (49)\ttotal: 6.99s\tremaining: 1.42s\n",
            "831:\tlearn: 0.0619587\ttest: 1.7622689\tbest: 1.4173390 (49)\ttotal: 7s\tremaining: 1.41s\n",
            "832:\tlearn: 0.0618322\ttest: 1.7630776\tbest: 1.4173390 (49)\ttotal: 7.01s\tremaining: 1.4s\n",
            "833:\tlearn: 0.0617222\ttest: 1.7644052\tbest: 1.4173390 (49)\ttotal: 7.01s\tremaining: 1.4s\n",
            "834:\tlearn: 0.0616373\ttest: 1.7645079\tbest: 1.4173390 (49)\ttotal: 7.02s\tremaining: 1.39s\n",
            "835:\tlearn: 0.0615658\ttest: 1.7652357\tbest: 1.4173390 (49)\ttotal: 7.03s\tremaining: 1.38s\n",
            "836:\tlearn: 0.0614643\ttest: 1.7657760\tbest: 1.4173390 (49)\ttotal: 7.04s\tremaining: 1.37s\n",
            "837:\tlearn: 0.0613919\ttest: 1.7660642\tbest: 1.4173390 (49)\ttotal: 7.05s\tremaining: 1.36s\n",
            "838:\tlearn: 0.0612737\ttest: 1.7655299\tbest: 1.4173390 (49)\ttotal: 7.06s\tremaining: 1.35s\n",
            "839:\tlearn: 0.0611331\ttest: 1.7656921\tbest: 1.4173390 (49)\ttotal: 7.06s\tremaining: 1.34s\n",
            "840:\tlearn: 0.0610215\ttest: 1.7653888\tbest: 1.4173390 (49)\ttotal: 7.07s\tremaining: 1.34s\n",
            "841:\tlearn: 0.0608809\ttest: 1.7659731\tbest: 1.4173390 (49)\ttotal: 7.08s\tremaining: 1.33s\n",
            "842:\tlearn: 0.0607601\ttest: 1.7659293\tbest: 1.4173390 (49)\ttotal: 7.09s\tremaining: 1.32s\n",
            "843:\tlearn: 0.0606264\ttest: 1.7650136\tbest: 1.4173390 (49)\ttotal: 7.09s\tremaining: 1.31s\n",
            "844:\tlearn: 0.0605565\ttest: 1.7650438\tbest: 1.4173390 (49)\ttotal: 7.1s\tremaining: 1.3s\n",
            "845:\tlearn: 0.0604564\ttest: 1.7656519\tbest: 1.4173390 (49)\ttotal: 7.11s\tremaining: 1.29s\n",
            "846:\tlearn: 0.0602903\ttest: 1.7660583\tbest: 1.4173390 (49)\ttotal: 7.12s\tremaining: 1.29s\n",
            "847:\tlearn: 0.0601758\ttest: 1.7664040\tbest: 1.4173390 (49)\ttotal: 7.13s\tremaining: 1.28s\n",
            "848:\tlearn: 0.0600914\ttest: 1.7668092\tbest: 1.4173390 (49)\ttotal: 7.14s\tremaining: 1.27s\n",
            "849:\tlearn: 0.0600162\ttest: 1.7672995\tbest: 1.4173390 (49)\ttotal: 7.14s\tremaining: 1.26s\n",
            "850:\tlearn: 0.0599457\ttest: 1.7674733\tbest: 1.4173390 (49)\ttotal: 7.15s\tremaining: 1.25s\n",
            "851:\tlearn: 0.0598685\ttest: 1.7680082\tbest: 1.4173390 (49)\ttotal: 7.16s\tremaining: 1.24s\n",
            "852:\tlearn: 0.0597859\ttest: 1.7689333\tbest: 1.4173390 (49)\ttotal: 7.17s\tremaining: 1.24s\n",
            "853:\tlearn: 0.0597064\ttest: 1.7695410\tbest: 1.4173390 (49)\ttotal: 7.18s\tremaining: 1.23s\n",
            "854:\tlearn: 0.0596242\ttest: 1.7704977\tbest: 1.4173390 (49)\ttotal: 7.18s\tremaining: 1.22s\n",
            "855:\tlearn: 0.0595511\ttest: 1.7711349\tbest: 1.4173390 (49)\ttotal: 7.19s\tremaining: 1.21s\n",
            "856:\tlearn: 0.0594472\ttest: 1.7708831\tbest: 1.4173390 (49)\ttotal: 7.2s\tremaining: 1.2s\n",
            "857:\tlearn: 0.0593518\ttest: 1.7720745\tbest: 1.4173390 (49)\ttotal: 7.21s\tremaining: 1.19s\n",
            "858:\tlearn: 0.0592423\ttest: 1.7725540\tbest: 1.4173390 (49)\ttotal: 7.21s\tremaining: 1.18s\n",
            "859:\tlearn: 0.0591616\ttest: 1.7725869\tbest: 1.4173390 (49)\ttotal: 7.22s\tremaining: 1.18s\n",
            "860:\tlearn: 0.0590725\ttest: 1.7726418\tbest: 1.4173390 (49)\ttotal: 7.23s\tremaining: 1.17s\n",
            "861:\tlearn: 0.0589342\ttest: 1.7725878\tbest: 1.4173390 (49)\ttotal: 7.24s\tremaining: 1.16s\n",
            "862:\tlearn: 0.0588344\ttest: 1.7717525\tbest: 1.4173390 (49)\ttotal: 7.25s\tremaining: 1.15s\n",
            "863:\tlearn: 0.0587811\ttest: 1.7716110\tbest: 1.4173390 (49)\ttotal: 7.25s\tremaining: 1.14s\n",
            "864:\tlearn: 0.0587124\ttest: 1.7717484\tbest: 1.4173390 (49)\ttotal: 7.26s\tremaining: 1.13s\n",
            "865:\tlearn: 0.0586017\ttest: 1.7715274\tbest: 1.4173390 (49)\ttotal: 7.27s\tremaining: 1.13s\n",
            "866:\tlearn: 0.0585237\ttest: 1.7716512\tbest: 1.4173390 (49)\ttotal: 7.28s\tremaining: 1.12s\n",
            "867:\tlearn: 0.0584566\ttest: 1.7719158\tbest: 1.4173390 (49)\ttotal: 7.29s\tremaining: 1.11s\n",
            "868:\tlearn: 0.0583900\ttest: 1.7721719\tbest: 1.4173390 (49)\ttotal: 7.29s\tremaining: 1.1s\n",
            "869:\tlearn: 0.0582981\ttest: 1.7726127\tbest: 1.4173390 (49)\ttotal: 7.3s\tremaining: 1.09s\n",
            "870:\tlearn: 0.0582193\ttest: 1.7728065\tbest: 1.4173390 (49)\ttotal: 7.32s\tremaining: 1.08s\n",
            "871:\tlearn: 0.0581390\ttest: 1.7732376\tbest: 1.4173390 (49)\ttotal: 7.32s\tremaining: 1.07s\n",
            "872:\tlearn: 0.0580527\ttest: 1.7730935\tbest: 1.4173390 (49)\ttotal: 7.33s\tremaining: 1.07s\n",
            "873:\tlearn: 0.0579877\ttest: 1.7737211\tbest: 1.4173390 (49)\ttotal: 7.34s\tremaining: 1.06s\n",
            "874:\tlearn: 0.0579304\ttest: 1.7739574\tbest: 1.4173390 (49)\ttotal: 7.35s\tremaining: 1.05s\n",
            "875:\tlearn: 0.0578227\ttest: 1.7749611\tbest: 1.4173390 (49)\ttotal: 7.35s\tremaining: 1.04s\n",
            "876:\tlearn: 0.0577764\ttest: 1.7754369\tbest: 1.4173390 (49)\ttotal: 7.36s\tremaining: 1.03s\n",
            "877:\tlearn: 0.0576858\ttest: 1.7752488\tbest: 1.4173390 (49)\ttotal: 7.37s\tremaining: 1.02s\n",
            "878:\tlearn: 0.0575896\ttest: 1.7755784\tbest: 1.4173390 (49)\ttotal: 7.38s\tremaining: 1.01s\n",
            "879:\tlearn: 0.0574892\ttest: 1.7763165\tbest: 1.4173390 (49)\ttotal: 7.38s\tremaining: 1.01s\n",
            "880:\tlearn: 0.0574318\ttest: 1.7763548\tbest: 1.4173390 (49)\ttotal: 7.39s\tremaining: 998ms\n",
            "881:\tlearn: 0.0573523\ttest: 1.7766439\tbest: 1.4173390 (49)\ttotal: 7.4s\tremaining: 990ms\n",
            "882:\tlearn: 0.0572606\ttest: 1.7772376\tbest: 1.4173390 (49)\ttotal: 7.41s\tremaining: 981ms\n",
            "883:\tlearn: 0.0571694\ttest: 1.7787486\tbest: 1.4173390 (49)\ttotal: 7.41s\tremaining: 973ms\n",
            "884:\tlearn: 0.0570875\ttest: 1.7791719\tbest: 1.4173390 (49)\ttotal: 7.42s\tremaining: 964ms\n",
            "885:\tlearn: 0.0570022\ttest: 1.7792321\tbest: 1.4173390 (49)\ttotal: 7.43s\tremaining: 957ms\n",
            "886:\tlearn: 0.0569342\ttest: 1.7793195\tbest: 1.4173390 (49)\ttotal: 7.44s\tremaining: 948ms\n",
            "887:\tlearn: 0.0568763\ttest: 1.7793482\tbest: 1.4173390 (49)\ttotal: 7.45s\tremaining: 940ms\n",
            "888:\tlearn: 0.0568230\ttest: 1.7783218\tbest: 1.4173390 (49)\ttotal: 7.46s\tremaining: 931ms\n",
            "889:\tlearn: 0.0567483\ttest: 1.7790094\tbest: 1.4173390 (49)\ttotal: 7.46s\tremaining: 923ms\n",
            "890:\tlearn: 0.0566931\ttest: 1.7791652\tbest: 1.4173390 (49)\ttotal: 7.47s\tremaining: 914ms\n",
            "891:\tlearn: 0.0566479\ttest: 1.7787252\tbest: 1.4173390 (49)\ttotal: 7.48s\tremaining: 906ms\n",
            "892:\tlearn: 0.0565872\ttest: 1.7792815\tbest: 1.4173390 (49)\ttotal: 7.49s\tremaining: 897ms\n",
            "893:\tlearn: 0.0565118\ttest: 1.7802122\tbest: 1.4173390 (49)\ttotal: 7.49s\tremaining: 889ms\n",
            "894:\tlearn: 0.0564287\ttest: 1.7800733\tbest: 1.4173390 (49)\ttotal: 7.5s\tremaining: 880ms\n",
            "895:\tlearn: 0.0563533\ttest: 1.7806703\tbest: 1.4173390 (49)\ttotal: 7.51s\tremaining: 872ms\n",
            "896:\tlearn: 0.0562521\ttest: 1.7808527\tbest: 1.4173390 (49)\ttotal: 7.52s\tremaining: 863ms\n",
            "897:\tlearn: 0.0561509\ttest: 1.7813509\tbest: 1.4173390 (49)\ttotal: 7.52s\tremaining: 855ms\n",
            "898:\tlearn: 0.0560504\ttest: 1.7816230\tbest: 1.4173390 (49)\ttotal: 7.53s\tremaining: 846ms\n",
            "899:\tlearn: 0.0559593\ttest: 1.7826621\tbest: 1.4173390 (49)\ttotal: 7.54s\tremaining: 838ms\n",
            "900:\tlearn: 0.0558913\ttest: 1.7831320\tbest: 1.4173390 (49)\ttotal: 7.54s\tremaining: 829ms\n",
            "901:\tlearn: 0.0558157\ttest: 1.7834968\tbest: 1.4173390 (49)\ttotal: 7.55s\tremaining: 821ms\n",
            "902:\tlearn: 0.0557377\ttest: 1.7837240\tbest: 1.4173390 (49)\ttotal: 7.56s\tremaining: 812ms\n",
            "903:\tlearn: 0.0556701\ttest: 1.7844102\tbest: 1.4173390 (49)\ttotal: 7.57s\tremaining: 804ms\n",
            "904:\tlearn: 0.0556163\ttest: 1.7845108\tbest: 1.4173390 (49)\ttotal: 7.58s\tremaining: 795ms\n",
            "905:\tlearn: 0.0555489\ttest: 1.7847549\tbest: 1.4173390 (49)\ttotal: 7.58s\tremaining: 787ms\n",
            "906:\tlearn: 0.0554780\ttest: 1.7845579\tbest: 1.4173390 (49)\ttotal: 7.59s\tremaining: 779ms\n",
            "907:\tlearn: 0.0553449\ttest: 1.7856339\tbest: 1.4173390 (49)\ttotal: 7.6s\tremaining: 770ms\n",
            "908:\tlearn: 0.0552497\ttest: 1.7857081\tbest: 1.4173390 (49)\ttotal: 7.61s\tremaining: 762ms\n",
            "909:\tlearn: 0.0551424\ttest: 1.7860600\tbest: 1.4173390 (49)\ttotal: 7.62s\tremaining: 753ms\n",
            "910:\tlearn: 0.0550757\ttest: 1.7866479\tbest: 1.4173390 (49)\ttotal: 7.62s\tremaining: 745ms\n",
            "911:\tlearn: 0.0550154\ttest: 1.7866688\tbest: 1.4173390 (49)\ttotal: 7.63s\tremaining: 737ms\n",
            "912:\tlearn: 0.0549492\ttest: 1.7870855\tbest: 1.4173390 (49)\ttotal: 7.64s\tremaining: 728ms\n",
            "913:\tlearn: 0.0548671\ttest: 1.7867892\tbest: 1.4173390 (49)\ttotal: 7.65s\tremaining: 720ms\n",
            "914:\tlearn: 0.0548127\ttest: 1.7862507\tbest: 1.4173390 (49)\ttotal: 7.66s\tremaining: 712ms\n",
            "915:\tlearn: 0.0547450\ttest: 1.7864340\tbest: 1.4173390 (49)\ttotal: 7.67s\tremaining: 703ms\n",
            "916:\tlearn: 0.0546657\ttest: 1.7865652\tbest: 1.4173390 (49)\ttotal: 7.68s\tremaining: 695ms\n",
            "917:\tlearn: 0.0546031\ttest: 1.7870576\tbest: 1.4173390 (49)\ttotal: 7.68s\tremaining: 686ms\n",
            "918:\tlearn: 0.0545141\ttest: 1.7872511\tbest: 1.4173390 (49)\ttotal: 7.69s\tremaining: 678ms\n",
            "919:\tlearn: 0.0544336\ttest: 1.7870744\tbest: 1.4173390 (49)\ttotal: 7.7s\tremaining: 670ms\n",
            "920:\tlearn: 0.0543832\ttest: 1.7874569\tbest: 1.4173390 (49)\ttotal: 7.71s\tremaining: 661ms\n",
            "921:\tlearn: 0.0542942\ttest: 1.7874230\tbest: 1.4173390 (49)\ttotal: 7.71s\tremaining: 653ms\n",
            "922:\tlearn: 0.0542216\ttest: 1.7873080\tbest: 1.4173390 (49)\ttotal: 7.72s\tremaining: 644ms\n",
            "923:\tlearn: 0.0541258\ttest: 1.7876696\tbest: 1.4173390 (49)\ttotal: 7.73s\tremaining: 636ms\n",
            "924:\tlearn: 0.0540268\ttest: 1.7874190\tbest: 1.4173390 (49)\ttotal: 7.74s\tremaining: 627ms\n",
            "925:\tlearn: 0.0539805\ttest: 1.7875360\tbest: 1.4173390 (49)\ttotal: 7.75s\tremaining: 619ms\n",
            "926:\tlearn: 0.0538992\ttest: 1.7875737\tbest: 1.4173390 (49)\ttotal: 7.75s\tremaining: 611ms\n",
            "927:\tlearn: 0.0538146\ttest: 1.7877389\tbest: 1.4173390 (49)\ttotal: 7.76s\tremaining: 602ms\n",
            "928:\tlearn: 0.0537246\ttest: 1.7877911\tbest: 1.4173390 (49)\ttotal: 7.77s\tremaining: 594ms\n",
            "929:\tlearn: 0.0536667\ttest: 1.7879020\tbest: 1.4173390 (49)\ttotal: 7.78s\tremaining: 585ms\n",
            "930:\tlearn: 0.0536132\ttest: 1.7880205\tbest: 1.4173390 (49)\ttotal: 7.79s\tremaining: 577ms\n",
            "931:\tlearn: 0.0535110\ttest: 1.7888726\tbest: 1.4173390 (49)\ttotal: 7.79s\tremaining: 569ms\n",
            "932:\tlearn: 0.0534197\ttest: 1.7896971\tbest: 1.4173390 (49)\ttotal: 7.8s\tremaining: 560ms\n",
            "933:\tlearn: 0.0533267\ttest: 1.7896034\tbest: 1.4173390 (49)\ttotal: 7.81s\tremaining: 552ms\n",
            "934:\tlearn: 0.0532307\ttest: 1.7894603\tbest: 1.4173390 (49)\ttotal: 7.82s\tremaining: 543ms\n",
            "935:\tlearn: 0.0531347\ttest: 1.7897543\tbest: 1.4173390 (49)\ttotal: 7.82s\tremaining: 535ms\n",
            "936:\tlearn: 0.0530605\ttest: 1.7904515\tbest: 1.4173390 (49)\ttotal: 7.83s\tremaining: 527ms\n",
            "937:\tlearn: 0.0530153\ttest: 1.7901178\tbest: 1.4173390 (49)\ttotal: 7.84s\tremaining: 519ms\n",
            "938:\tlearn: 0.0529239\ttest: 1.7896521\tbest: 1.4173390 (49)\ttotal: 7.88s\tremaining: 512ms\n",
            "939:\tlearn: 0.0528399\ttest: 1.7890528\tbest: 1.4173390 (49)\ttotal: 7.9s\tremaining: 504ms\n",
            "940:\tlearn: 0.0527823\ttest: 1.7896682\tbest: 1.4173390 (49)\ttotal: 7.92s\tremaining: 497ms\n",
            "941:\tlearn: 0.0527219\ttest: 1.7899691\tbest: 1.4173390 (49)\ttotal: 7.93s\tremaining: 488ms\n",
            "942:\tlearn: 0.0526499\ttest: 1.7903721\tbest: 1.4173390 (49)\ttotal: 7.95s\tremaining: 480ms\n",
            "943:\tlearn: 0.0526090\ttest: 1.7903622\tbest: 1.4173390 (49)\ttotal: 7.95s\tremaining: 472ms\n",
            "944:\tlearn: 0.0525591\ttest: 1.7902762\tbest: 1.4173390 (49)\ttotal: 7.96s\tremaining: 463ms\n",
            "945:\tlearn: 0.0525020\ttest: 1.7898145\tbest: 1.4173390 (49)\ttotal: 7.97s\tremaining: 455ms\n",
            "946:\tlearn: 0.0524004\ttest: 1.7901985\tbest: 1.4173390 (49)\ttotal: 7.98s\tremaining: 446ms\n",
            "947:\tlearn: 0.0523267\ttest: 1.7894379\tbest: 1.4173390 (49)\ttotal: 7.99s\tremaining: 438ms\n",
            "948:\tlearn: 0.0522623\ttest: 1.7896901\tbest: 1.4173390 (49)\ttotal: 7.99s\tremaining: 430ms\n",
            "949:\tlearn: 0.0521727\ttest: 1.7904722\tbest: 1.4173390 (49)\ttotal: 8s\tremaining: 421ms\n",
            "950:\tlearn: 0.0521337\ttest: 1.7905490\tbest: 1.4173390 (49)\ttotal: 8.01s\tremaining: 413ms\n",
            "951:\tlearn: 0.0520541\ttest: 1.7910906\tbest: 1.4173390 (49)\ttotal: 8.02s\tremaining: 404ms\n",
            "952:\tlearn: 0.0519713\ttest: 1.7914795\tbest: 1.4173390 (49)\ttotal: 8.03s\tremaining: 396ms\n",
            "953:\tlearn: 0.0519190\ttest: 1.7914153\tbest: 1.4173390 (49)\ttotal: 8.04s\tremaining: 387ms\n",
            "954:\tlearn: 0.0518384\ttest: 1.7918795\tbest: 1.4173390 (49)\ttotal: 8.04s\tremaining: 379ms\n",
            "955:\tlearn: 0.0517669\ttest: 1.7917629\tbest: 1.4173390 (49)\ttotal: 8.05s\tremaining: 370ms\n",
            "956:\tlearn: 0.0516806\ttest: 1.7920791\tbest: 1.4173390 (49)\ttotal: 8.06s\tremaining: 362ms\n",
            "957:\tlearn: 0.0516062\ttest: 1.7918622\tbest: 1.4173390 (49)\ttotal: 8.06s\tremaining: 354ms\n",
            "958:\tlearn: 0.0515452\ttest: 1.7922868\tbest: 1.4173390 (49)\ttotal: 8.07s\tremaining: 345ms\n",
            "959:\tlearn: 0.0514552\ttest: 1.7921451\tbest: 1.4173390 (49)\ttotal: 8.08s\tremaining: 337ms\n",
            "960:\tlearn: 0.0514075\ttest: 1.7921607\tbest: 1.4173390 (49)\ttotal: 8.09s\tremaining: 328ms\n",
            "961:\tlearn: 0.0513317\ttest: 1.7925269\tbest: 1.4173390 (49)\ttotal: 8.1s\tremaining: 320ms\n",
            "962:\tlearn: 0.0512869\ttest: 1.7929704\tbest: 1.4173390 (49)\ttotal: 8.1s\tremaining: 311ms\n",
            "963:\tlearn: 0.0512113\ttest: 1.7932440\tbest: 1.4173390 (49)\ttotal: 8.11s\tremaining: 303ms\n",
            "964:\tlearn: 0.0511690\ttest: 1.7929948\tbest: 1.4173390 (49)\ttotal: 8.12s\tremaining: 295ms\n",
            "965:\tlearn: 0.0511357\ttest: 1.7928812\tbest: 1.4173390 (49)\ttotal: 8.13s\tremaining: 286ms\n",
            "966:\tlearn: 0.0510716\ttest: 1.7927556\tbest: 1.4173390 (49)\ttotal: 8.14s\tremaining: 278ms\n",
            "967:\tlearn: 0.0509929\ttest: 1.7932153\tbest: 1.4173390 (49)\ttotal: 8.15s\tremaining: 269ms\n",
            "968:\tlearn: 0.0509390\ttest: 1.7937566\tbest: 1.4173390 (49)\ttotal: 8.16s\tremaining: 261ms\n",
            "969:\tlearn: 0.0509061\ttest: 1.7940650\tbest: 1.4173390 (49)\ttotal: 8.16s\tremaining: 252ms\n",
            "970:\tlearn: 0.0508138\ttest: 1.7947239\tbest: 1.4173390 (49)\ttotal: 8.17s\tremaining: 244ms\n",
            "971:\tlearn: 0.0507258\ttest: 1.7951864\tbest: 1.4173390 (49)\ttotal: 8.18s\tremaining: 236ms\n",
            "972:\tlearn: 0.0506530\ttest: 1.7952612\tbest: 1.4173390 (49)\ttotal: 8.19s\tremaining: 227ms\n",
            "973:\tlearn: 0.0505963\ttest: 1.7948832\tbest: 1.4173390 (49)\ttotal: 8.19s\tremaining: 219ms\n",
            "974:\tlearn: 0.0505270\ttest: 1.7951270\tbest: 1.4173390 (49)\ttotal: 8.2s\tremaining: 210ms\n",
            "975:\tlearn: 0.0504670\ttest: 1.7951682\tbest: 1.4173390 (49)\ttotal: 8.21s\tremaining: 202ms\n",
            "976:\tlearn: 0.0504061\ttest: 1.7958952\tbest: 1.4173390 (49)\ttotal: 8.22s\tremaining: 193ms\n",
            "977:\tlearn: 0.0503391\ttest: 1.7959238\tbest: 1.4173390 (49)\ttotal: 8.23s\tremaining: 185ms\n",
            "978:\tlearn: 0.0502649\ttest: 1.7957752\tbest: 1.4173390 (49)\ttotal: 8.24s\tremaining: 177ms\n",
            "979:\tlearn: 0.0501995\ttest: 1.7958366\tbest: 1.4173390 (49)\ttotal: 8.24s\tremaining: 168ms\n",
            "980:\tlearn: 0.0501346\ttest: 1.7972913\tbest: 1.4173390 (49)\ttotal: 8.25s\tremaining: 160ms\n",
            "981:\tlearn: 0.0500588\ttest: 1.7970995\tbest: 1.4173390 (49)\ttotal: 8.26s\tremaining: 151ms\n",
            "982:\tlearn: 0.0500035\ttest: 1.7974572\tbest: 1.4173390 (49)\ttotal: 8.27s\tremaining: 143ms\n",
            "983:\tlearn: 0.0499430\ttest: 1.7979729\tbest: 1.4173390 (49)\ttotal: 8.27s\tremaining: 135ms\n",
            "984:\tlearn: 0.0498801\ttest: 1.7992630\tbest: 1.4173390 (49)\ttotal: 8.29s\tremaining: 126ms\n",
            "985:\tlearn: 0.0498336\ttest: 1.7994038\tbest: 1.4173390 (49)\ttotal: 8.3s\tremaining: 118ms\n",
            "986:\tlearn: 0.0497370\ttest: 1.7993729\tbest: 1.4173390 (49)\ttotal: 8.3s\tremaining: 109ms\n",
            "987:\tlearn: 0.0496530\ttest: 1.7995026\tbest: 1.4173390 (49)\ttotal: 8.31s\tremaining: 101ms\n",
            "988:\tlearn: 0.0495728\ttest: 1.8000856\tbest: 1.4173390 (49)\ttotal: 8.32s\tremaining: 92.5ms\n",
            "989:\tlearn: 0.0495273\ttest: 1.8000796\tbest: 1.4173390 (49)\ttotal: 8.33s\tremaining: 84.1ms\n",
            "990:\tlearn: 0.0494730\ttest: 1.8003481\tbest: 1.4173390 (49)\ttotal: 8.33s\tremaining: 75.7ms\n",
            "991:\tlearn: 0.0494176\ttest: 1.8004572\tbest: 1.4173390 (49)\ttotal: 8.34s\tremaining: 67.3ms\n",
            "992:\tlearn: 0.0493457\ttest: 1.8006272\tbest: 1.4173390 (49)\ttotal: 8.35s\tremaining: 58.9ms\n",
            "993:\tlearn: 0.0492835\ttest: 1.8008289\tbest: 1.4173390 (49)\ttotal: 8.36s\tremaining: 50.4ms\n",
            "994:\tlearn: 0.0492084\ttest: 1.8008509\tbest: 1.4173390 (49)\ttotal: 8.36s\tremaining: 42ms\n",
            "995:\tlearn: 0.0491302\ttest: 1.8003691\tbest: 1.4173390 (49)\ttotal: 8.37s\tremaining: 33.6ms\n",
            "996:\tlearn: 0.0490559\ttest: 1.8007414\tbest: 1.4173390 (49)\ttotal: 8.38s\tremaining: 25.2ms\n",
            "997:\tlearn: 0.0490050\ttest: 1.8005400\tbest: 1.4173390 (49)\ttotal: 8.39s\tremaining: 16.8ms\n",
            "998:\tlearn: 0.0489157\ttest: 1.8013379\tbest: 1.4173390 (49)\ttotal: 8.39s\tremaining: 8.4ms\n",
            "999:\tlearn: 0.0488535\ttest: 1.8014678\tbest: 1.4173390 (49)\ttotal: 8.4s\tremaining: 0us\n",
            "\n",
            "bestTest = 1.417339007\n",
            "bestIteration = 49\n",
            "\n",
            "Shrink model to first 50 iterations.\n"
          ]
        },
        {
          "output_type": "execute_result",
          "data": {
            "text/plain": [
              "<catboost.core.CatBoostClassifier at 0x7fd3adbb79d0>"
            ]
          },
          "metadata": {},
          "execution_count": 21
        }
      ]
    },
    {
      "cell_type": "code",
      "source": [],
      "metadata": {
        "id": "X1IeKAJ8NVsH"
      },
      "execution_count": null,
      "outputs": []
    },
    {
      "cell_type": "code",
      "source": [
        "df_feature_importance = pd.DataFrame(clf.get_feature_importance(prettified=True))\n",
        "#plotting feature importance\n",
        "plt.figure(figsize=(12, 6));\n",
        "feature_plot= sns.barplot(x=\"Importances\", y=\"Feature Id\", data=df_feature_importance,palette=\"cool\");\n",
        "plt.title('features importance')"
      ],
      "metadata": {
        "colab": {
          "base_uri": "https://localhost:8080/",
          "height": 421
        },
        "id": "2UU4rWJWNJzI",
        "outputId": "51d5e38e-594a-42a0-9e43-3d46bae4cc5c"
      },
      "execution_count": 22,
      "outputs": [
        {
          "output_type": "execute_result",
          "data": {
            "text/plain": [
              "Text(0.5, 1.0, 'features importance')"
            ]
          },
          "metadata": {},
          "execution_count": 22
        },
        {
          "output_type": "display_data",
          "data": {
            "text/plain": [
              "<Figure size 864x432 with 1 Axes>"
            ],
            "image/png": "[encoded data removed]"
          },
          "metadata": {
            "needs_background": "light"
          }
        }
      ]
    }
  ]
}